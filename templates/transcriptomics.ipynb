{
 "cells": [
  {
   "cell_type": "markdown",
   "id": "6b6ba3b3-6e8d-4910-8702-1d849ab44f13",
   "metadata": {},
   "source": [
    "# Export the configuration"
   ]
  },
  {
   "cell_type": "markdown",
   "id": "f936e359-d4cf-4771-8856-b847a247e5b6",
   "metadata": {},
   "source": [
    "This notebook demonstrates how to save both the Vitessce configuration and the local data it points to in a new folder. For instance, the folder exported via this method can be used when uploading a Vitessce configuration intended for a publication page on the HuBMAP Portal."
   ]
  },
  {
   "cell_type": "code",
   "execution_count": 1,
   "id": "89b4c5b8-bce9-4dfb-b9c4-f227fa0ae231",
   "metadata": {},
   "outputs": [],
   "source": [
    "from vitessce import (\n",
    "    VitessceConfig,\n",
    "    ViewType as vt,\n",
    "    CoordinationType as ct,\n",
    "    FileType as ft,\n",
    "    AnnDataWrapper,\n",
    ")\n",
    "from os.path import join\n",
    "import json"
   ]
  },
  {
   "cell_type": "code",
   "execution_count": 2,
   "id": "b3d1baeb-de12-4cc3-92d1-d5009fa9e79c",
   "metadata": {},
   "outputs": [],
   "source": [
    "vc = VitessceConfig(schema_version=\"1.0.15\", name='Habib et al', description='COVID-19 Healthy Donor Brain')\n",
    "\n",
    "# Add data\n",
    "dataset = vc.add_dataset(name='Brain').add_object(AnnDataWrapper(\n",
    "        adata_path=join(\"processed_data\", \"habib17.zarr\"),\n",
    "        obs_embedding_paths=[\"obsm/X_umap\"],\n",
    "        obs_embedding_names=[\"UMAP\"],\n",
    "        obs_set_paths=[\"obs/CellType\"],\n",
    "        obs_set_names=[\"Cell Type\"],\n",
    "        obs_feature_matrix_path=\"X\"\n",
    "    )\n",
    ")\n",
    "\n",
    "# Add views\n",
    "scatterplot = vc.add_view(vt.SCATTERPLOT, dataset=dataset, mapping=\"UMAP\")\n",
    "cell_sets = vc.add_view(vt.OBS_SETS, dataset=dataset)\n",
    "genes = vc.add_view(vt.FEATURE_LIST, dataset=dataset)\n",
    "heatmap = vc.add_view(vt.HEATMAP, dataset=dataset)\n",
    "cell_set_sizes = vc.add_view(vt.OBS_SET_SIZES, dataset=dataset)\n",
    "\n",
    "# Arrange views\n",
    "vc.layout((scatterplot | cell_sets) / (heatmap | (genes | cell_set_sizes)));"
   ]
  },
  {
   "cell_type": "markdown",
   "id": "e8e859ed-0360-42f6-a3d7-ed82a7b309a7",
   "metadata": {},
   "source": [
    "## Define the output folder\n",
    "\n",
    "We can construct a local path to a folder where the exported configuration and data will be saved."
   ]
  },
  {
   "cell_type": "code",
   "execution_count": 3,
   "id": "700063b0-36a6-4bb5-ac1d-49e187bb2397",
   "metadata": {},
   "outputs": [],
   "source": [
    "OUT_DIR = join(\".\", \"exported_data\")"
   ]
  },
  {
   "cell_type": "markdown",
   "id": "f9349276-eb1f-409a-8870-38f4ee902138",
   "metadata": {},
   "source": [
    "## Export the data\n",
    "\n",
    "The [export](https://vitessce.github.io/vitessce-python/api_config.html#vitessce.config.VitessceConfig.export) function can be used to save all local data associated with the configuration. When the parameter `to=\"files\"` is used, the data will be saved to a local folder (specified by `out_dir`).\n",
    "\n",
    "The `base_url` parameter is also required. It is used to specify the server where the data will ultimately be hosted. For HuBMAP publication pages, this URL is unknown ahead of time, but will ultimately point to something like `http://assets.hubmapconsortium.org/MY_DATASET_ID/`.\n",
    "\n",
    "For now, please use the `BASE_URL_PLACEHOLDER` variable exported by the `vitessce` package:"
   ]
  },
  {
   "cell_type": "code",
   "execution_count": 4,
   "id": "0d841a1d-4cb2-427a-abf3-0f4f50cd205d",
   "metadata": {},
   "outputs": [],
   "source": [
    "from vitessce import BASE_URL_PLACEHOLDER"
   ]
  },
  {
   "cell_type": "markdown",
   "id": "4321fbec-cb4e-4481-9b31-b57d4a09e3fa",
   "metadata": {},
   "source": [
    "The `export` function will also return its `VitessceConfig` object as a Python `dict` which can be saved to a JSON file."
   ]
  },
  {
   "cell_type": "code",
   "execution_count": 5,
   "id": "13e129c7-a117-4e6c-877c-7e729df21161",
   "metadata": {},
   "outputs": [],
   "source": [
    "config_dict = vc.export(to=\"files\", base_url=BASE_URL_PLACEHOLDER, out_dir=OUT_DIR)"
   ]
  },
  {
   "cell_type": "markdown",
   "id": "fd2d94b6-78e1-4028-b60c-a7417a9afb5b",
   "metadata": {},
   "source": [
    "## Save the configuration to a JSON file"
   ]
  },
  {
   "cell_type": "markdown",
   "id": "fee8e221-6512-4da5-b350-4eb87ae087fe",
   "metadata": {},
   "source": [
    "To save the `config_dict` variable returned above to a JSON file, we can use the [json.dump](https://docs.python.org/3.8/library/json.html#json.dump) function that comes with Python, along with the [open](https://docs.python.org/3.8/tutorial/inputoutput.html#reading-and-writing-files) context manager:"
   ]
  },
  {
   "cell_type": "code",
   "execution_count": 9,
   "id": "9267eb3b-a26a-47ec-ae16-0a708971f2e8",
   "metadata": {},
   "outputs": [],
   "source": [
    "# Use `open` to create a new empty file at ./exported_data/vitessce.json\n",
    "with open(join(OUT_DIR, \"vitessce.json\"), \"w\") as f:\n",
    "    json.dump(config_dict, f)"
   ]
  },
  {
   "cell_type": "markdown",
   "id": "c7d3b38d-a52b-4306-b017-629a5084f91d",
   "metadata": {},
   "source": [
    "Check out the contents of the new `./exported_data` folder if you are interested."
   ]
  },
  {
   "cell_type": "code",
   "execution_count": null,
   "id": "9536b1cb-a9f4-4be6-94e6-fe34ab5c8dc3",
   "metadata": {},
   "outputs": [],
   "source": []
  }
 ],
 "metadata": {
  "kernelspec": {
   "display_name": "Python 3 (ipykernel)",
   "language": "python",
   "name": "python3"
  },
  "language_info": {
   "codemirror_mode": {
    "name": "ipython",
    "version": 3
   },
   "file_extension": ".py",
   "mimetype": "text/x-python",
   "name": "python",
   "nbconvert_exporter": "python",
   "pygments_lexer": "ipython3",
   "version": "3.8.0"
  }
 },
 "nbformat": 4,
 "nbformat_minor": 5
}
