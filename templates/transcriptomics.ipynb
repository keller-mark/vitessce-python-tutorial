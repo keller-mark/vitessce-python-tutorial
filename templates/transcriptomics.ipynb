{
 "cells": [
  {
   "cell_type": "markdown",
   "id": "6b6ba3b3-6e8d-4910-8702-1d849ab44f13",
   "metadata": {},
   "source": [
    "# Template: visualize single-cell transcriptomics data with Vitessce"
   ]
  },
  {
   "cell_type": "markdown",
   "id": "f936e359-d4cf-4771-8856-b847a247e5b6",
   "metadata": {},
   "source": [
    "## Code to change\n",
    "\n",
    "Places where you will need to edit the code are marked by `# TODO(template)` comments."
   ]
  },
  {
   "cell_type": "code",
   "execution_count": 1,
   "id": "89b4c5b8-bce9-4dfb-b9c4-f227fa0ae231",
   "metadata": {},
   "outputs": [],
   "source": [
    "import os\n",
    "import json\n",
    "from os.path import join\n",
    "from vitessce import (\n",
    "    VitessceConfig,\n",
    "    ViewType as vt,\n",
    "    CoordinationType as ct,\n",
    "    FileType as ft,\n",
    "    AnnDataWrapper,\n",
    "    BASE_URL_PLACEHOLDER,\n",
    ")\n",
    "from vitessce.data_utils import (\n",
    "    optimize_adata,\n",
    "    VAR_CHUNK_SIZE,\n",
    ")\n",
    "from anndata import read_h5ad\n",
    "import pandas as pd\n",
    "import numpy as np"
   ]
  },
  {
   "cell_type": "markdown",
   "id": "56eb46e0-17ba-417f-abdd-0d7dd7c14c14",
   "metadata": {},
   "source": [
    "## Variables to fill in"
   ]
  },
  {
   "cell_type": "code",
   "execution_count": 2,
   "id": "298f729c-6404-4bd1-9cdc-9bf38cc811f5",
   "metadata": {},
   "outputs": [],
   "source": [
    "# TODO(template)\n",
    "PATH_TO_INPUT_ANNDATA_H5AD = join('..', 'tutorials', 'transcriptomics', 'raw_data', 'habib17.processed.h5ad')\n",
    "\n",
    "# TODO(template)\n",
    "PATH_TO_OUTPUT_ANNDATA_ZARR = join('.', 'processed_data', 'transcriptomics', 'output.anndata.zarr')\n",
    "\n",
    "# TODO(template): specify a local folder to store the publication dataset.\n",
    "PATH_TO_PUBLICATION_DATASET_DIRECTORY = join('.', 'my_publication_dataset')\n",
    "\n",
    "# TODO(template): Provide a name for the publication dataset and this particular vignette.\n",
    "PUBLICATION_DATASET_NAME = 'My nature paper'\n",
    "PUBLICATION_DATASET_ID = 'my-nature-paper'\n",
    "VIGNETTE_NAME = 'Non-spatial transcriptomics'\n",
    "VIGNETTE_ID = 'vignette_scrnaseq'\n",
    "\n",
    "# TODO(template): provide names and descriptions\n",
    "CONFIG_NAME = 'My config'\n",
    "CONFIG_DESCRIPTION = 'This dataset reveals...'\n",
    "DATASET_NAME = 'My dataset'"
   ]
  },
  {
   "cell_type": "markdown",
   "id": "f91c211a-dd5f-4df1-8765-49ea087494b3",
   "metadata": {},
   "source": [
    "## Validation"
   ]
  },
  {
   "cell_type": "code",
   "execution_count": 3,
   "id": "f8c51bbf-388e-4f9e-8fa6-d3cf346ba158",
   "metadata": {
    "tags": []
   },
   "outputs": [],
   "source": [
    "DATA_DIR = join(PATH_TO_PUBLICATION_DATASET_DIRECTORY, 'data', VIGNETTE_ID)\n",
    "VIGNETTES_DIR = join(PATH_TO_PUBLICATION_DATASET_DIRECTORY, 'vignettes', VIGNETTE_ID)\n",
    "\n",
    "if not os.path.isdir(DATA_DIR):\n",
    "    os.makedirs(DATA_DIR, exist_ok=False)\n",
    "if not os.path.isdir(VIGNETTES_DIR):\n",
    "    os.makedirs(VIGNETTES_DIR, exist_ok=False)"
   ]
  },
  {
   "cell_type": "markdown",
   "id": "06651ee2-a788-4560-9888-63d9abdf57fc",
   "metadata": {},
   "source": [
    "## 1. Convert H5AD to AnnData-Zarr"
   ]
  },
  {
   "cell_type": "code",
   "execution_count": 4,
   "id": "5081bfb5-cad5-43d2-b90d-297d81bfd0ae",
   "metadata": {},
   "outputs": [
    {
     "name": "stderr",
     "output_type": "stream",
     "text": [
      "/Users/mkeller/anaconda3/envs/vitessce-tutorial-env/lib/python3.8/site-packages/anndata/compat/__init__.py:232: FutureWarning: Moving element from .uns['neighbors']['distances'] to .obsp['distances'].\n",
      "\n",
      "This is where adjacency matrices should go now.\n",
      "  warn(\n",
      "/Users/mkeller/anaconda3/envs/vitessce-tutorial-env/lib/python3.8/site-packages/anndata/compat/__init__.py:232: FutureWarning: Moving element from .uns['neighbors']['connectivities'] to .obsp['connectivities'].\n",
      "\n",
      "This is where adjacency matrices should go now.\n",
      "  warn(\n"
     ]
    }
   ],
   "source": [
    "# This template assumes your data is already saved as a .h5ad file.\n",
    "adata = read_h5ad(PATH_TO_INPUT_ANNDATA_H5AD)"
   ]
  },
  {
   "cell_type": "code",
   "execution_count": 5,
   "id": "663f9066-acda-4bdc-b17b-413633341e52",
   "metadata": {},
   "outputs": [],
   "source": [
    "# TODO(template): you may or may not want to add a smaller expression matrix\n",
    "# that is filtered to include a subset of genes (in this case, only those flagged as \"highly_variable\").\n",
    "adata.obsm[\"X_hvg\"] = adata[:, adata.var[\"highly_variable\"]].X.todense()"
   ]
  },
  {
   "cell_type": "code",
   "execution_count": 6,
   "id": "60816bfe-37e6-4feb-a855-1b6241189bbc",
   "metadata": {},
   "outputs": [
    {
     "data": {
      "text/plain": [
       "AnnData object with n_obs × n_vars = 13067 × 25587\n",
       "    obs: 'CellType', 'n_counts', 'log1p_n_counts', 'n_genes', 'log1p_n_genes', 'percent_mito', 'percent_ribo', 'percent_hb', 'percent_top50'\n",
       "    var: 'gene_ids', 'mito', 'ribo', 'hb', 'n_counts', 'n_cells', 'n_genes', 'highly_variable', 'means', 'dispersions', 'dispersions_norm'\n",
       "    uns: 'leiden', 'neighbors', 'pca'\n",
       "    obsm: 'X_umap', 'X_hvg'\n",
       "    varm: 'PCs'\n",
       "    obsp: 'distances', 'connectivities'"
      ]
     },
     "execution_count": 6,
     "metadata": {},
     "output_type": "execute_result"
    }
   ],
   "source": [
    "adata"
   ]
  },
  {
   "cell_type": "code",
   "execution_count": 7,
   "id": "4b089190-38f0-4b36-8af6-655f72158958",
   "metadata": {},
   "outputs": [
    {
     "data": {
      "text/plain": [
       "AnnData object with n_obs × n_vars = 13067 × 25587\n",
       "    obs: 'CellType'\n",
       "    var: 'gene_ids', 'highly_variable'\n",
       "    obsm: 'X_umap', 'X_hvg'"
      ]
     },
     "execution_count": 7,
     "metadata": {},
     "output_type": "execute_result"
    }
   ],
   "source": [
    "adata = optimize_adata(\n",
    "    adata,\n",
    "    # TODO(template): You will want to modify the below lists of columns and keys\n",
    "    # to include all of those that will be used in the visualization\n",
    "    # (i.e., parameters of the AnnDataWrapper constructor below).\n",
    "    obs_cols=[\"CellType\"],\n",
    "    var_cols=[\"gene_ids\", \"highly_variable\"],\n",
    "    obsm_keys=[\"X_umap\", \"X_hvg\"],\n",
    "    varm_keys=[],\n",
    ")\n",
    "adata"
   ]
  },
  {
   "cell_type": "code",
   "execution_count": 8,
   "id": "404a3fc2-730f-4d3b-9ed5-2f0e883d8d77",
   "metadata": {},
   "outputs": [
    {
     "name": "stderr",
     "output_type": "stream",
     "text": [
      "/Users/mkeller/anaconda3/envs/vitessce-tutorial-env/lib/python3.8/site-packages/zarr/creation.py:242: UserWarning: ignoring keyword argument 'maxshape'\n",
      "  warn('ignoring keyword argument %r' % k)\n"
     ]
    }
   ],
   "source": [
    "adata.write_zarr(PATH_TO_OUTPUT_ANNDATA_ZARR, chunks=(adata.shape[0], VAR_CHUNK_SIZE))"
   ]
  },
  {
   "cell_type": "markdown",
   "id": "dda201ee-6729-4626-8b4a-1ac9676b777a",
   "metadata": {},
   "source": [
    "## 2. Configure the visualization"
   ]
  },
  {
   "cell_type": "code",
   "execution_count": 9,
   "id": "b3d1baeb-de12-4cc3-92d1-d5009fa9e79c",
   "metadata": {},
   "outputs": [],
   "source": [
    "vc = VitessceConfig(schema_version=\"1.0.15\", name=CONFIG_NAME, description=CONFIG_DESCRIPTION)\n",
    "\n",
    "# Add data\n",
    "dataset = vc.add_dataset(name=DATASET_NAME).add_object(AnnDataWrapper(\n",
    "        adata_path=PATH_TO_OUTPUT_ANNDATA_ZARR,\n",
    "        obs_embedding_paths=[\"obsm/X_umap\"],\n",
    "        obs_embedding_names=[\"UMAP\"],\n",
    "        obs_set_paths=[\"obs/CellType\"],\n",
    "        obs_set_names=[\"Cell Type\"],\n",
    "        obs_feature_matrix_path=\"obsm/X_hvg\",\n",
    "        feature_filter_path=\"var/highly_variable\"\n",
    "    )\n",
    ")\n",
    "\n",
    "# Add views\n",
    "scatterplot = vc.add_view(vt.SCATTERPLOT, dataset=dataset, mapping=\"UMAP\")\n",
    "cell_sets = vc.add_view(vt.OBS_SETS, dataset=dataset)\n",
    "genes = vc.add_view(vt.FEATURE_LIST, dataset=dataset)\n",
    "heatmap = vc.add_view(vt.HEATMAP, dataset=dataset)\n",
    "cell_set_sizes = vc.add_view(vt.OBS_SET_SIZES, dataset=dataset)\n",
    "\n",
    "# Arrange views\n",
    "vc.layout((scatterplot | cell_sets) / (heatmap | (genes | cell_set_sizes)));"
   ]
  },
  {
   "cell_type": "markdown",
   "id": "b42c5df1-0d4c-4798-a53f-fae7fb931b62",
   "metadata": {},
   "source": [
    "### Render the widget"
   ]
  },
  {
   "cell_type": "code",
   "execution_count": 10,
   "id": "c01929ec-166c-404f-bc00-a50ef6cd4a7d",
   "metadata": {},
   "outputs": [
    {
     "data": {
      "application/vnd.jupyter.widget-view+json": {
       "model_id": "e84d6c7d3403427296c636a71f1bca2d",
       "version_major": 2,
       "version_minor": 0
      },
      "text/plain": [
       "VitessceWidget(config={'version': '1.0.15', 'name': 'My config', 'description': 'This dataset reveals...', 'da…"
      ]
     },
     "execution_count": 10,
     "metadata": {},
     "output_type": "execute_result"
    }
   ],
   "source": [
    "vc.widget()"
   ]
  },
  {
   "cell_type": "markdown",
   "id": "dc342f38-ee31-49f3-a90d-54650e255397",
   "metadata": {},
   "source": [
    "## 3. Export the configuration and data"
   ]
  },
  {
   "cell_type": "code",
   "execution_count": 11,
   "id": "700063b0-36a6-4bb5-ac1d-49e187bb2397",
   "metadata": {},
   "outputs": [],
   "source": [
    "config_dict = vc.export(to=\"files\", base_url=f'{BASE_URL_PLACEHOLDER}/data/{VIGNETTE_ID}', out_dir=DATA_DIR)\n",
    "\n",
    "# Use `open` to create a new empty file at ./exported_data/vitessce.json\n",
    "with open(join(VIGNETTES_DIR, \"vitessce.json\"), \"w\") as f:\n",
    "    json.dump(config_dict, f)"
   ]
  },
  {
   "cell_type": "code",
   "execution_count": null,
   "id": "5083bacf-0d24-45d4-84e6-c34e6a9e0d72",
   "metadata": {},
   "outputs": [],
   "source": []
  },
  {
   "cell_type": "code",
   "execution_count": null,
   "id": "01e859b2-1b69-46ec-b735-8f04a557863c",
   "metadata": {},
   "outputs": [],
   "source": []
  }
 ],
 "metadata": {
  "kernelspec": {
   "display_name": "Python 3 (ipykernel)",
   "language": "python",
   "name": "python3"
  },
  "language_info": {
   "codemirror_mode": {
    "name": "ipython",
    "version": 3
   },
   "file_extension": ".py",
   "mimetype": "text/x-python",
   "name": "python",
   "nbconvert_exporter": "python",
   "pygments_lexer": "ipython3",
   "version": "3.8.0"
  }
 },
 "nbformat": 4,
 "nbformat_minor": 5
}
