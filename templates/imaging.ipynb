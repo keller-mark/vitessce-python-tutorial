{
 "cells": [
  {
   "cell_type": "markdown",
   "id": "67903ef4-6dd9-40d8-a771-3b843822ec29",
   "metadata": {},
   "source": [
    "# Convert TIFF to OME-TIFF"
   ]
  },
  {
   "cell_type": "markdown",
   "id": "964e1423-f071-4238-933b-b82b22f9b104",
   "metadata": {
    "tags": []
   },
   "source": [
    "## Motivation\n",
    "\n",
    "Vitessce can load imaging data from OME-TIFF or OME-NGFF format. \n",
    "\n",
    "[OME-TIFF](https://docs.openmicroscopy.org/ome-model/5.6.3/ome-tiff/) is a file format that combines a TIFF image with metadata defined in XML format. The metadata must conform to the OME-XML specification. OME stands for Open Microscopy Environment, and OME-XML defines standard metadata fields for bioimaging and microscopy data. For instance, channels can be named according to the protein marker targeted."
   ]
  },
  {
   "cell_type": "code",
   "execution_count": 9,
   "id": "47c36ee0-0819-4964-8a09-a2dd3cabe4b6",
   "metadata": {},
   "outputs": [],
   "source": [
    "from tifffile import imread\n",
    "from os.path import join\n",
    "from vitessce.data_utils import rgb_img_to_ome_tiff"
   ]
  },
  {
   "cell_type": "markdown",
   "id": "1d62d030-f2bb-4e48-9bcf-d24dc306488b",
   "metadata": {
    "tags": []
   },
   "source": [
    "## Load the original TIFF\n",
    "\n",
    "The `imread` function from the `tifffile` package can be used to read the data in the original (non-OME) TIFF into a multidimensional NumPy array.\n",
    "\n",
    "In this case, the array is 3-dimensional because the image has an X-axis, a Y-axis, and a channel (color) axis."
   ]
  },
  {
   "cell_type": "code",
   "execution_count": 10,
   "id": "642d5044-7bcc-45c2-a221-3bdcf2579471",
   "metadata": {},
   "outputs": [
    {
     "data": {
      "text/plain": [
       "(500, 750, 4)"
      ]
     },
     "execution_count": 10,
     "metadata": {},
     "output_type": "execute_result"
    }
   ],
   "source": [
    "img_arr = imread(join('raw_data', 'dog.tiff'))\n",
    "img_arr.shape"
   ]
  },
  {
   "cell_type": "markdown",
   "id": "10f35328-37e8-472e-ac71-b992e3f82b9a",
   "metadata": {},
   "source": [
    "## Transpose and select channels of interest"
   ]
  },
  {
   "cell_type": "markdown",
   "id": "ba64486a-5ac0-4401-8b60-9e7430acaad9",
   "metadata": {},
   "source": [
    "We want to transpose the array so that the channel axis is first:"
   ]
  },
  {
   "cell_type": "code",
   "execution_count": 11,
   "id": "fbb48f55-1d21-4409-9aec-3a1f8e2ae6e1",
   "metadata": {},
   "outputs": [
    {
     "data": {
      "text/plain": [
       "(4, 500, 750)"
      ]
     },
     "execution_count": 11,
     "metadata": {},
     "output_type": "execute_result"
    }
   ],
   "source": [
    "img_arr = img_arr.transpose((2, 0, 1))\n",
    "img_arr.shape"
   ]
  },
  {
   "cell_type": "markdown",
   "id": "5ab2cad8-8e23-4f48-a8c8-d4d6c3e4e381",
   "metadata": {},
   "source": [
    "This image has four color channels (R, G, B, A). We can discard the A (alpha) channel:"
   ]
  },
  {
   "cell_type": "code",
   "execution_count": 12,
   "id": "408fb0fa-38d4-4fc8-9a60-ae17e88ed544",
   "metadata": {},
   "outputs": [
    {
     "data": {
      "text/plain": [
       "(3, 500, 750)"
      ]
     },
     "execution_count": 12,
     "metadata": {},
     "output_type": "execute_result"
    }
   ],
   "source": [
    "img_arr = img_arr[0:3, :, :]\n",
    "img_arr.shape"
   ]
  },
  {
   "cell_type": "markdown",
   "id": "2d211aaa-6b75-4507-94f9-004d491c2566",
   "metadata": {},
   "source": [
    "## Save as an OME-TIFF"
   ]
  },
  {
   "cell_type": "markdown",
   "id": "dedaaeec-83c5-4c7f-b97b-1a6c98f53c3f",
   "metadata": {},
   "source": [
    "In this case, the image is RGB so we use `rgb_img_to_ome_tiff`. For multiplexed images, see [multiplex_img_to_ome_tiff](https://vitessce.github.io/vitessce-python/api_data.html#vitessce.data_utils.ome.multiplex_img_to_ome_tiff)."
   ]
  },
  {
   "cell_type": "code",
   "execution_count": 13,
   "id": "72ae6b3f-671c-49df-9cd8-f7931ccfe603",
   "metadata": {},
   "outputs": [],
   "source": [
    "rgb_img_to_ome_tiff(\n",
    "    img_arr,\n",
    "    output_path=join('processed_data', 'dog.ome.tif'),\n",
    "    img_name='Dog',\n",
    "    axes=\"CYX\",\n",
    ")"
   ]
  },
  {
   "cell_type": "markdown",
   "id": "796a0b98-71de-4944-8235-2b9c428bd3d0",
   "metadata": {},
   "source": [
    "## Convert to a pyramidal OME-TIFF using bfconvert"
   ]
  },
  {
   "cell_type": "code",
   "execution_count": 14,
   "id": "9e5ac27c-8a57-42bd-af2d-4f3b848add8d",
   "metadata": {},
   "outputs": [
    {
     "name": "stdout",
     "output_type": "stream",
     "text": [
      "./processed_data/dog.ome.tif\n",
      "OMETiffReader initializing ./processed_data/dog.ome.tif\n",
      "Reading IFDs\n",
      "Populating metadata\n",
      "[OME-TIFF] -> ./processed_data/dog.pyramid.ome.tif [OME-TIFF]\n",
      "Tile size = 128 x 128\n",
      "\tConverted 3/3 planes (100%)\n",
      "Tile size = 128 x 128\n",
      "\tConverted 3/3 planes (100%)\n",
      "[done]\n",
      "1.487s elapsed (2.3333333+122.666664ms per plane, 701ms overhead)\n"
     ]
    }
   ],
   "source": [
    "!~/software/bftools/bfconvert -overwrite -tilex 128 -tiley 128 -pyramid-resolutions 2 -pyramid-scale 2 -compression LZW ./processed_data/dog.ome.tif ./processed_data/dog.pyramid.ome.tif\n",
    "# For larger images:\n",
    "# !~/software/bftools/bfconvert -tilex 512 -tiley 512 -pyramid-resolutions 6 -pyramid-scale 2 -compression LZW ./processed_data/dog.ome.tif ./processed_data/dog.pyramid.ome.tif"
   ]
  },
  {
   "cell_type": "code",
   "execution_count": null,
   "id": "fffa713e-b299-44f6-933e-330dc7aa72f6",
   "metadata": {},
   "outputs": [],
   "source": []
  }
 ],
 "metadata": {
  "kernelspec": {
   "display_name": "Python 3 (ipykernel)",
   "language": "python",
   "name": "python3"
  },
  "language_info": {
   "codemirror_mode": {
    "name": "ipython",
    "version": 3
   },
   "file_extension": ".py",
   "mimetype": "text/x-python",
   "name": "python",
   "nbconvert_exporter": "python",
   "pygments_lexer": "ipython3",
   "version": "3.8.0"
  }
 },
 "nbformat": 4,
 "nbformat_minor": 5
}
