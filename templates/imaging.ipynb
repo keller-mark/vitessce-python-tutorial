{
 "cells": [
  {
   "cell_type": "markdown",
   "id": "67903ef4-6dd9-40d8-a771-3b843822ec29",
   "metadata": {},
   "source": [
    "# Template: visualize imaging data with Vitessce"
   ]
  },
  {
   "cell_type": "markdown",
   "id": "964e1423-f071-4238-933b-b82b22f9b104",
   "metadata": {
    "tags": []
   },
   "source": [
    "## Code to change\n",
    "\n",
    "Places where you will need to edit the code are marked by `# TODO(template)` comments."
   ]
  },
  {
   "cell_type": "code",
   "execution_count": 25,
   "id": "7e8a5d1d-9bfd-4c50-8181-24b295c365f8",
   "metadata": {},
   "outputs": [],
   "source": [
    "import os\n",
    "import json\n",
    "from os.path import join\n",
    "from tifffile import imread\n",
    "from vitessce import (\n",
    "    VitessceConfig,\n",
    "    ViewType as vt,\n",
    "    CoordinationType as ct,\n",
    "    FileType as ft,\n",
    "    OmeTiffWrapper,\n",
    "    BASE_URL_PLACEHOLDER,\n",
    ")\n",
    "from vitessce.data_utils import (\n",
    "    rgb_img_to_ome_tiff,\n",
    "    multiplex_img_to_ome_tiff,\n",
    ")"
   ]
  },
  {
   "cell_type": "markdown",
   "id": "cab60605-e3f2-441a-b283-83cbe8d67703",
   "metadata": {},
   "source": [
    "## Variables to fill in"
   ]
  },
  {
   "cell_type": "code",
   "execution_count": 26,
   "id": "461329c6-f91c-41eb-bd34-ea84ce599a56",
   "metadata": {},
   "outputs": [],
   "source": [
    "# TODO(template): specify the file path for the input TIFF image\n",
    "PATH_TO_INPUT_TIFF = join('..', 'tutorials', 'imaging', 'raw_data', 'dog.tiff')\n",
    "\n",
    "# TODO(template): specify some file paths for the converted OME-TIFF files\n",
    "PATH_TO_OUTPUT_OME_TIFF = join('.', 'processed_data', 'imaging', 'output.ome.tif')\n",
    "PATH_TO_OUTPUT_PYRAMIDAL_OME_TIFF = join('.', 'processed_data', 'imaging' 'output.pyramid.ome.tif')\n",
    "\n",
    "# TODO(template): specify a local folder to store the publication dataset.\n",
    "PATH_TO_PUBLICATION_DATASET_DIRECTORY = join('.', 'my_publication_dataset')\n",
    "\n",
    "# TODO(template): Provide a name for the publication dataset and this particular vignette.\n",
    "PUBLICATION_DATASET_NAME = 'My nature paper'\n",
    "PUBLICATION_DATASET_ID = 'my-nature-paper'\n",
    "VIGNETTE_NAME = 'Figure 1'\n",
    "VIGNETTE_ID = 'figure-1'\n",
    "\n",
    "# TODO(template): provide names and descriptions\n",
    "CONFIG_NAME = 'My config'\n",
    "CONFIG_DESCRIPTION = 'This dataset reveals...'\n",
    "DATASET_NAME = 'My dataset'\n",
    "IMG_NAME = 'My image'"
   ]
  },
  {
   "cell_type": "markdown",
   "id": "373ed3bd-1e33-4bd9-a590-9cb66080eeae",
   "metadata": {},
   "source": [
    "## Validation"
   ]
  },
  {
   "cell_type": "code",
   "execution_count": 27,
   "id": "57680f6c-d4a7-45ad-92f1-5de70c60fe47",
   "metadata": {
    "tags": []
   },
   "outputs": [],
   "source": [
    "DATA_DIR = join(PATH_TO_PUBLICATION_DATASET_DIRECTORY, 'data', VIGNETTE_ID)\n",
    "VIGNETTES_DIR = join(PATH_TO_PUBLICATION_DATASET_DIRECTORY, 'vignettes', VIGNETTE_ID)\n",
    "\n",
    "if not os.path.isdir(DATA_DIR):\n",
    "    os.makedirs(DATA_DIR, exist_ok=False)\n",
    "if not os.path.isdir(VIGNETTES_DIR):\n",
    "    os.makedirs(VIGNETTES_DIR, exist_ok=False)"
   ]
  },
  {
   "cell_type": "markdown",
   "id": "1d62d030-f2bb-4e48-9bcf-d24dc306488b",
   "metadata": {
    "tags": []
   },
   "source": [
    "## 1. Convert TIFF to OME-TIFF"
   ]
  },
  {
   "cell_type": "code",
   "execution_count": 28,
   "id": "642d5044-7bcc-45c2-a221-3bdcf2579471",
   "metadata": {},
   "outputs": [
    {
     "data": {
      "text/plain": [
       "(500, 750, 4)"
      ]
     },
     "execution_count": 28,
     "metadata": {},
     "output_type": "execute_result"
    }
   ],
   "source": [
    "img_arr = imread(PATH_TO_INPUT_TIFF)\n",
    "img_arr.shape"
   ]
  },
  {
   "cell_type": "markdown",
   "id": "10f35328-37e8-472e-ac71-b992e3f82b9a",
   "metadata": {},
   "source": [
    "### Transpose and select channels of interest"
   ]
  },
  {
   "cell_type": "markdown",
   "id": "ba64486a-5ac0-4401-8b60-9e7430acaad9",
   "metadata": {},
   "source": [
    "We want to transpose the array so that the channel axis is first:"
   ]
  },
  {
   "cell_type": "code",
   "execution_count": 29,
   "id": "fbb48f55-1d21-4409-9aec-3a1f8e2ae6e1",
   "metadata": {},
   "outputs": [
    {
     "data": {
      "text/plain": [
       "(4, 500, 750)"
      ]
     },
     "execution_count": 29,
     "metadata": {},
     "output_type": "execute_result"
    }
   ],
   "source": [
    "# TODO(template): You may or may not need to do this depending on the initial ordering of the axes of your image.\n",
    "# The transpose parameter may need to be changed depending on the number of dimensions.\n",
    "img_arr = img_arr.transpose((2, 0, 1))\n",
    "img_arr.shape"
   ]
  },
  {
   "cell_type": "code",
   "execution_count": 30,
   "id": "408fb0fa-38d4-4fc8-9a60-ae17e88ed544",
   "metadata": {},
   "outputs": [
    {
     "data": {
      "text/plain": [
       "(3, 500, 750)"
      ]
     },
     "execution_count": 30,
     "metadata": {},
     "output_type": "execute_result"
    }
   ],
   "source": [
    "# TODO(template): You may want to select different channels of interest if your image is multiplexed.\n",
    "# You will not need to do this if there are no extraneous channels in your image.\n",
    "img_arr = img_arr[0:3, :, :]\n",
    "img_arr.shape"
   ]
  },
  {
   "cell_type": "markdown",
   "id": "2d211aaa-6b75-4507-94f9-004d491c2566",
   "metadata": {},
   "source": [
    "### Save as an OME-TIFF"
   ]
  },
  {
   "cell_type": "markdown",
   "id": "dedaaeec-83c5-4c7f-b97b-1a6c98f53c3f",
   "metadata": {},
   "source": [
    "In this case, the image is RGB so we use `rgb_img_to_ome_tiff`. For multiplexed images, see [multiplex_img_to_ome_tiff](https://vitessce.github.io/vitessce-python/api_data.html#vitessce.data_utils.ome.multiplex_img_to_ome_tiff)."
   ]
  },
  {
   "cell_type": "code",
   "execution_count": 31,
   "id": "72ae6b3f-671c-49df-9cd8-f7931ccfe603",
   "metadata": {},
   "outputs": [],
   "source": [
    "# Create an empty folder for the output file.\n",
    "os.makedirs(os.path.dirname(PATH_TO_OUTPUT_OME_TIFF), exist_ok=True)\n",
    "os.makedirs(os.path.dirname(PATH_TO_OUTPUT_PYRAMIDAL_OME_TIFF), exist_ok=True)\n",
    "\n",
    "rgb_img_to_ome_tiff(\n",
    "    img_arr,\n",
    "    output_path=PATH_TO_OUTPUT_OME_TIFF,\n",
    "    img_name=IMG_NAME,\n",
    "    axes=\"CYX\",\n",
    ")"
   ]
  },
  {
   "cell_type": "markdown",
   "id": "796a0b98-71de-4944-8235-2b9c428bd3d0",
   "metadata": {},
   "source": [
    "### Convert to a pyramidal OME-TIFF using bfconvert"
   ]
  },
  {
   "cell_type": "code",
   "execution_count": 32,
   "id": "9e5ac27c-8a57-42bd-af2d-4f3b848add8d",
   "metadata": {},
   "outputs": [
    {
     "name": "stdout",
     "output_type": "stream",
     "text": [
      "./processed_data/imaging/output.ome.tif\n",
      "OMETiffReader initializing ./processed_data/imaging/output.ome.tif\n",
      "Reading IFDs\n",
      "Populating metadata\n",
      "[OME-TIFF] -> ./processed_data/imagingoutput.pyramid.ome.tif [OME-TIFF]\n",
      "Tile size = 128 x 128\n",
      "\tConverted 3/3 planes (100%)\n",
      "Tile size = 128 x 128\n",
      "\tConverted 3/3 planes (100%)\n",
      "[done]\n",
      "1.679s elapsed (1.5+153.0ms per plane, 720ms overhead)\n"
     ]
    }
   ],
   "source": [
    "!~/software/bftools/bfconvert -overwrite -tilex 128 -tiley 128 -pyramid-resolutions 2 -pyramid-scale 2 -compression LZW {PATH_TO_OUTPUT_OME_TIFF} {PATH_TO_OUTPUT_PYRAMIDAL_OME_TIFF}\n",
    "# TODO(template): For larger images, you will want to comment out the above line and un-comment the line below,\n",
    "# to increase the tile size (128 -> 512) and the number of pyramid resolutions (2 -> 6).\n",
    "# !~/software/bftools/bfconvert -tilex 512 -tiley 512 -pyramid-resolutions 6 -pyramid-scale 2 -compression LZW {PATH_TO_OUTPUT_OME_TIFF} {PATH_TO_OUTPUT_PYRAMIDAL_OME_TIFF}"
   ]
  },
  {
   "cell_type": "markdown",
   "id": "9f54d282-9643-41dd-9899-493d48bfaf68",
   "metadata": {},
   "source": [
    "## 2. Configure the visualization"
   ]
  },
  {
   "cell_type": "code",
   "execution_count": 33,
   "id": "4a478c2a-84dc-489b-b29f-265dbed832e7",
   "metadata": {},
   "outputs": [],
   "source": [
    "vc = VitessceConfig(schema_version=\"1.0.15\", name=CONFIG_NAME, description=CONFIG_DESCRIPTION)"
   ]
  },
  {
   "cell_type": "code",
   "execution_count": 34,
   "id": "b1eda3c8-7d2f-47fe-9ff7-8fc9402bb281",
   "metadata": {},
   "outputs": [],
   "source": [
    "dataset = vc.add_dataset(name=DATASET_NAME).add_object(\n",
    "    OmeTiffWrapper(img_path=PATH_TO_OUTPUT_PYRAMIDAL_OME_TIFF, name=IMG_NAME)\n",
    ")"
   ]
  },
  {
   "cell_type": "code",
   "execution_count": 35,
   "id": "b54442c2-8ff4-4832-8cfd-b3c9003495be",
   "metadata": {},
   "outputs": [],
   "source": [
    "spatial = vc.add_view(vt.SPATIAL, dataset=dataset)\n",
    "lc = vc.add_view(vt.LAYER_CONTROLLER, dataset=dataset).set_props(disableChannelsIfRgbDetected=True)\n",
    "description = vc.add_view(vt.DESCRIPTION, dataset=dataset)"
   ]
  },
  {
   "cell_type": "code",
   "execution_count": 36,
   "id": "25e780c4-8415-46e6-a09e-6c839ad54cf5",
   "metadata": {},
   "outputs": [],
   "source": [
    "vc.layout(spatial | (lc / description));"
   ]
  },
  {
   "cell_type": "markdown",
   "id": "fe919657-4f2e-4576-9b34-516a1de68f2d",
   "metadata": {},
   "source": [
    "### Render the widget"
   ]
  },
  {
   "cell_type": "code",
   "execution_count": 37,
   "id": "74f4ecd9-ab78-4c6c-8a70-298c6d376520",
   "metadata": {},
   "outputs": [
    {
     "data": {
      "application/vnd.jupyter.widget-view+json": {
       "model_id": "c171f24811fd448b9f5d389d4a78822f",
       "version_major": 2,
       "version_minor": 0
      },
      "text/plain": [
       "VitessceWidget(config={'version': '1.0.15', 'name': 'My config', 'description': 'This dataset reveals...', 'da…"
      ]
     },
     "execution_count": 37,
     "metadata": {},
     "output_type": "execute_result"
    }
   ],
   "source": [
    "vc.widget()"
   ]
  },
  {
   "cell_type": "markdown",
   "id": "d6dc5298-1495-4bca-9461-71dea06d4c98",
   "metadata": {},
   "source": [
    "## 3. Export the configuration and data"
   ]
  },
  {
   "cell_type": "code",
   "execution_count": 38,
   "id": "496542d7-67b0-46e4-a035-d7951587efa4",
   "metadata": {},
   "outputs": [],
   "source": [
    "config_dict = vc.export(to=\"files\", base_url=f'{BASE_URL_PLACEHOLDER}/data/{VIGNETTE_ID}', out_dir=DATA_DIR)\n",
    "\n",
    "# Use `open` to create a new empty file at ./exported_data/vitessce.json\n",
    "with open(join(VIGNETTES_DIR, \"vitessce.json\"), \"w\") as f:\n",
    "    json.dump(config_dict, f)"
   ]
  },
  {
   "cell_type": "code",
   "execution_count": null,
   "id": "12de7867-0931-4e76-830d-13c3b39fdafd",
   "metadata": {},
   "outputs": [],
   "source": []
  },
  {
   "cell_type": "code",
   "execution_count": null,
   "id": "41851644-2f8a-4d8e-bca7-f1ae6fa2170b",
   "metadata": {},
   "outputs": [],
   "source": []
  }
 ],
 "metadata": {
  "kernelspec": {
   "display_name": "Python 3 (ipykernel)",
   "language": "python",
   "name": "python3"
  },
  "language_info": {
   "codemirror_mode": {
    "name": "ipython",
    "version": 3
   },
   "file_extension": ".py",
   "mimetype": "text/x-python",
   "name": "python",
   "nbconvert_exporter": "python",
   "pygments_lexer": "ipython3",
   "version": "3.8.0"
  }
 },
 "nbformat": 4,
 "nbformat_minor": 5
}
