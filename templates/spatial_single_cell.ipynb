{
 "cells": [
  {
   "cell_type": "markdown",
   "id": "4b2a05b1-3bdc-4e4b-84c3-321b83f8e10e",
   "metadata": {},
   "source": [
    "# Template: visualize spatially-resolved single-cell data with Vitessce"
   ]
  },
  {
   "cell_type": "markdown",
   "id": "a73738aa-5f47-41ab-8ff6-503e0abf3657",
   "metadata": {},
   "source": [
    "## Code to change\n",
    "\n",
    "Places where you will need to edit the code are marked by `# TODO(template)` comments."
   ]
  },
  {
   "cell_type": "code",
   "execution_count": 1,
   "id": "89b4c5b8-bce9-4dfb-b9c4-f227fa0ae231",
   "metadata": {},
   "outputs": [],
   "source": [
    "import os\n",
    "import json\n",
    "from os.path import join\n",
    "from vitessce import (\n",
    "    VitessceConfig,\n",
    "    Component as cm,\n",
    "    CoordinationType as ct,\n",
    "    FileType as ft,\n",
    "    AnnDataWrapper,\n",
    "    OmeTiffWrapper,\n",
    "    MultiImageWrapper,\n",
    "    BASE_URL_PLACEHOLDER,\n",
    ")\n",
    "from vitessce.data_utils import (\n",
    "    rgb_img_to_ome_tiff,\n",
    "    multiplex_img_to_ome_tiff,\n",
    "    optimize_adata,\n",
    "    VAR_CHUNK_SIZE,\n",
    ")\n",
    "from anndata import read_h5ad\n",
    "import pandas as pd\n",
    "import numpy as np\n",
    "from tifffile import imread\n",
    "from skimage.draw import disk"
   ]
  },
  {
   "cell_type": "markdown",
   "id": "40c0b1be-6a8f-4515-82fe-84973956336e",
   "metadata": {},
   "source": [
    "## Variables to fill in"
   ]
  },
  {
   "cell_type": "code",
   "execution_count": 2,
   "id": "26a63bc6-dd16-4516-8fa1-5c160bb62a6c",
   "metadata": {},
   "outputs": [],
   "source": [
    "# TODO(template)\n",
    "PATH_TO_INPUT_ANNDATA_H5AD = join('..', 'tutorials', 'spatial_single_cell', 'raw_data', 'human_lymph_node.h5ad')\n",
    "\n",
    "# TODO(template): specify the file path for the input TIFF image\n",
    "PATH_TO_INPUT_TIFF = join('..', 'tutorials', 'spatial_single_cell', 'raw_data', 'human_lymph_node.tiff')\n",
    "\n",
    "# TODO(template)\n",
    "PATH_TO_OUTPUT_ANNDATA_ZARR = join('.', 'processed_data', 'spatial_single_cell', 'output.anndata.zarr')\n",
    "\n",
    "# TODO(template): specify some file paths for the converted OME-TIFF image and bitmask files\n",
    "PATH_TO_OUTPUT_IMAGE_OME_TIFF = join('.', 'processed_data', 'spatial_single_cell', 'image.ome.tif')\n",
    "PATH_TO_OUTPUT_IMAGE_PYRAMIDAL_OME_TIFF = join('.', 'processed_data', 'spatial_single_cell' 'image.pyramid.ome.tif')\n",
    "PATH_TO_OUTPUT_BITMASK_OME_TIFF = join('.', 'processed_data', 'spatial_single_cell' 'bitmask.pyramid.ome.tif')\n",
    "\n",
    "# TODO(template): specify a local folder to store the publication dataset.\n",
    "PATH_TO_PUBLICATION_DATASET_DIRECTORY = join('.', 'my_publication_dataset')\n",
    "\n",
    "# TODO(template): Provide a name for the publication dataset and this particular vignette.\n",
    "PUBLICATION_DATASET_NAME = 'My nature paper'\n",
    "PUBLICATION_DATASET_ID = 'my-nature-paper'\n",
    "VIGNETTE_NAME = 'Spatial transcriptomics'\n",
    "VIGNETTE_ID = 'vignette_visium'\n",
    "\n",
    "# TODO(template): provide names and descriptions\n",
    "CONFIG_NAME = 'My config'\n",
    "CONFIG_DESCRIPTION = 'This dataset reveals...'\n",
    "DATASET_NAME = 'My dataset'\n",
    "IMG_NAME = 'My image'"
   ]
  },
  {
   "cell_type": "markdown",
   "id": "587b17ec-b7bb-4211-8cb9-ed553cae0745",
   "metadata": {},
   "source": [
    "## Validation"
   ]
  },
  {
   "cell_type": "code",
   "execution_count": 3,
   "id": "699e880c-6c8d-42a7-8018-6463a952efca",
   "metadata": {
    "tags": []
   },
   "outputs": [],
   "source": [
    "DATA_DIR = join(PATH_TO_PUBLICATION_DATASET_DIRECTORY, 'data', VIGNETTE_ID)\n",
    "VIGNETTES_DIR = join(PATH_TO_PUBLICATION_DATASET_DIRECTORY, 'vignettes', VIGNETTE_ID)\n",
    "\n",
    "if not os.path.isdir(DATA_DIR):\n",
    "    os.makedirs(DATA_DIR, exist_ok=False)\n",
    "if not os.path.isdir(VIGNETTES_DIR):\n",
    "    os.makedirs(VIGNETTES_DIR, exist_ok=False)"
   ]
  },
  {
   "cell_type": "markdown",
   "id": "6a6fb045-ca75-45c8-9939-119b8e5d2a5f",
   "metadata": {},
   "source": [
    "## 1.1 Convert H5AD to AnnData-Zarr"
   ]
  },
  {
   "cell_type": "code",
   "execution_count": 4,
   "id": "d9ec5b65-180c-4a64-a4cb-8b259261161e",
   "metadata": {},
   "outputs": [],
   "source": [
    "adata = read_h5ad(PATH_TO_INPUT_ANNDATA_H5AD)"
   ]
  },
  {
   "cell_type": "code",
   "execution_count": 5,
   "id": "efc93537-17d6-4511-86bf-e306f4c5a51b",
   "metadata": {},
   "outputs": [],
   "source": [
    "# TODO(template): Identify the scale factor required for aligning the image to the spatial coordinates.\n",
    "scale_factor = 1 / 5.87\n",
    "adata.obsm['spatial'] = (adata.obsm['spatial'] * scale_factor)"
   ]
  },
  {
   "cell_type": "code",
   "execution_count": 6,
   "id": "1008b35c-0022-40f4-8bb8-941c99e1ad2c",
   "metadata": {},
   "outputs": [
    {
     "data": {
      "text/html": [
       "<div>\n",
       "<style scoped>\n",
       "    .dataframe tbody tr th:only-of-type {\n",
       "        vertical-align: middle;\n",
       "    }\n",
       "\n",
       "    .dataframe tbody tr th {\n",
       "        vertical-align: top;\n",
       "    }\n",
       "\n",
       "    .dataframe thead th {\n",
       "        text-align: right;\n",
       "    }\n",
       "</style>\n",
       "<table border=\"1\" class=\"dataframe\">\n",
       "  <thead>\n",
       "    <tr style=\"text-align: right;\">\n",
       "      <th></th>\n",
       "      <th>spot_id</th>\n",
       "      <th>in_tissue</th>\n",
       "      <th>array_row</th>\n",
       "      <th>array_col</th>\n",
       "      <th>n_genes_by_counts</th>\n",
       "      <th>log1p_n_genes_by_counts</th>\n",
       "      <th>total_counts</th>\n",
       "      <th>log1p_total_counts</th>\n",
       "      <th>pct_counts_in_top_50_genes</th>\n",
       "      <th>pct_counts_in_top_100_genes</th>\n",
       "      <th>pct_counts_in_top_200_genes</th>\n",
       "      <th>pct_counts_in_top_500_genes</th>\n",
       "      <th>total_counts_mt</th>\n",
       "      <th>log1p_total_counts_mt</th>\n",
       "      <th>pct_counts_mt</th>\n",
       "      <th>n_counts</th>\n",
       "      <th>clusters</th>\n",
       "    </tr>\n",
       "  </thead>\n",
       "  <tbody>\n",
       "    <tr>\n",
       "      <th>1</th>\n",
       "      <td>AAACAAGTATCTCCCA-1</td>\n",
       "      <td>1</td>\n",
       "      <td>50</td>\n",
       "      <td>102</td>\n",
       "      <td>6732</td>\n",
       "      <td>8.814776</td>\n",
       "      <td>27944.0</td>\n",
       "      <td>10.237993</td>\n",
       "      <td>33.241483</td>\n",
       "      <td>41.071429</td>\n",
       "      <td>48.375322</td>\n",
       "      <td>57.572287</td>\n",
       "      <td>248.0</td>\n",
       "      <td>5.517453</td>\n",
       "      <td>0.887489</td>\n",
       "      <td>27944.0</td>\n",
       "      <td>1</td>\n",
       "    </tr>\n",
       "    <tr>\n",
       "      <th>2</th>\n",
       "      <td>AAACAATCTACTAGCA-1</td>\n",
       "      <td>1</td>\n",
       "      <td>3</td>\n",
       "      <td>43</td>\n",
       "      <td>6759</td>\n",
       "      <td>8.818778</td>\n",
       "      <td>25685.0</td>\n",
       "      <td>10.153702</td>\n",
       "      <td>23.507884</td>\n",
       "      <td>33.965349</td>\n",
       "      <td>42.631886</td>\n",
       "      <td>53.054312</td>\n",
       "      <td>239.0</td>\n",
       "      <td>5.480639</td>\n",
       "      <td>0.930504</td>\n",
       "      <td>25685.0</td>\n",
       "      <td>0</td>\n",
       "    </tr>\n",
       "    <tr>\n",
       "      <th>3</th>\n",
       "      <td>AAACAGAGCGACTCCT-1</td>\n",
       "      <td>1</td>\n",
       "      <td>14</td>\n",
       "      <td>94</td>\n",
       "      <td>7236</td>\n",
       "      <td>8.886962</td>\n",
       "      <td>31916.0</td>\n",
       "      <td>10.370894</td>\n",
       "      <td>21.948239</td>\n",
       "      <td>31.990224</td>\n",
       "      <td>41.101642</td>\n",
       "      <td>52.603710</td>\n",
       "      <td>348.0</td>\n",
       "      <td>5.855072</td>\n",
       "      <td>1.090362</td>\n",
       "      <td>31916.0</td>\n",
       "      <td>8</td>\n",
       "    </tr>\n",
       "    <tr>\n",
       "      <th>4</th>\n",
       "      <td>AAACAGCTTTCAGAAG-1</td>\n",
       "      <td>1</td>\n",
       "      <td>43</td>\n",
       "      <td>9</td>\n",
       "      <td>6890</td>\n",
       "      <td>8.837971</td>\n",
       "      <td>30932.0</td>\n",
       "      <td>10.339579</td>\n",
       "      <td>26.357817</td>\n",
       "      <td>38.132032</td>\n",
       "      <td>47.575327</td>\n",
       "      <td>57.590844</td>\n",
       "      <td>793.0</td>\n",
       "      <td>6.677083</td>\n",
       "      <td>2.563688</td>\n",
       "      <td>30932.0</td>\n",
       "      <td>2</td>\n",
       "    </tr>\n",
       "    <tr>\n",
       "      <th>5</th>\n",
       "      <td>AAACAGGGTCTATATT-1</td>\n",
       "      <td>1</td>\n",
       "      <td>47</td>\n",
       "      <td>13</td>\n",
       "      <td>7631</td>\n",
       "      <td>8.940105</td>\n",
       "      <td>31728.0</td>\n",
       "      <td>10.364986</td>\n",
       "      <td>22.462809</td>\n",
       "      <td>31.360313</td>\n",
       "      <td>39.696798</td>\n",
       "      <td>50.107161</td>\n",
       "      <td>287.0</td>\n",
       "      <td>5.662961</td>\n",
       "      <td>0.904564</td>\n",
       "      <td>31728.0</td>\n",
       "      <td>0</td>\n",
       "    </tr>\n",
       "    <tr>\n",
       "      <th>...</th>\n",
       "      <td>...</td>\n",
       "      <td>...</td>\n",
       "      <td>...</td>\n",
       "      <td>...</td>\n",
       "      <td>...</td>\n",
       "      <td>...</td>\n",
       "      <td>...</td>\n",
       "      <td>...</td>\n",
       "      <td>...</td>\n",
       "      <td>...</td>\n",
       "      <td>...</td>\n",
       "      <td>...</td>\n",
       "      <td>...</td>\n",
       "      <td>...</td>\n",
       "      <td>...</td>\n",
       "      <td>...</td>\n",
       "      <td>...</td>\n",
       "    </tr>\n",
       "    <tr>\n",
       "      <th>3857</th>\n",
       "      <td>TTGTTTCACATCCAGG-1</td>\n",
       "      <td>1</td>\n",
       "      <td>58</td>\n",
       "      <td>42</td>\n",
       "      <td>5771</td>\n",
       "      <td>8.660774</td>\n",
       "      <td>19649.0</td>\n",
       "      <td>9.885833</td>\n",
       "      <td>27.131152</td>\n",
       "      <td>35.950939</td>\n",
       "      <td>44.429742</td>\n",
       "      <td>55.000254</td>\n",
       "      <td>209.0</td>\n",
       "      <td>5.347107</td>\n",
       "      <td>1.063667</td>\n",
       "      <td>19649.0</td>\n",
       "      <td>6</td>\n",
       "    </tr>\n",
       "    <tr>\n",
       "      <th>3858</th>\n",
       "      <td>TTGTTTCATTAGTCTA-1</td>\n",
       "      <td>1</td>\n",
       "      <td>60</td>\n",
       "      <td>30</td>\n",
       "      <td>6354</td>\n",
       "      <td>8.756997</td>\n",
       "      <td>21557.0</td>\n",
       "      <td>9.978502</td>\n",
       "      <td>24.238067</td>\n",
       "      <td>32.263302</td>\n",
       "      <td>40.265343</td>\n",
       "      <td>51.152758</td>\n",
       "      <td>208.0</td>\n",
       "      <td>5.342334</td>\n",
       "      <td>0.964884</td>\n",
       "      <td>21557.0</td>\n",
       "      <td>6</td>\n",
       "    </tr>\n",
       "    <tr>\n",
       "      <th>3859</th>\n",
       "      <td>TTGTTTCCATACAACT-1</td>\n",
       "      <td>1</td>\n",
       "      <td>45</td>\n",
       "      <td>27</td>\n",
       "      <td>6517</td>\n",
       "      <td>8.782323</td>\n",
       "      <td>22175.0</td>\n",
       "      <td>10.006766</td>\n",
       "      <td>21.506201</td>\n",
       "      <td>30.593010</td>\n",
       "      <td>39.098083</td>\n",
       "      <td>50.119504</td>\n",
       "      <td>192.0</td>\n",
       "      <td>5.262690</td>\n",
       "      <td>0.865840</td>\n",
       "      <td>22175.0</td>\n",
       "      <td>6</td>\n",
       "    </tr>\n",
       "    <tr>\n",
       "      <th>3860</th>\n",
       "      <td>TTGTTTGTATTACACG-1</td>\n",
       "      <td>1</td>\n",
       "      <td>73</td>\n",
       "      <td>41</td>\n",
       "      <td>4476</td>\n",
       "      <td>8.406708</td>\n",
       "      <td>12268.0</td>\n",
       "      <td>9.414831</td>\n",
       "      <td>24.078904</td>\n",
       "      <td>34.268014</td>\n",
       "      <td>43.193675</td>\n",
       "      <td>54.964134</td>\n",
       "      <td>121.0</td>\n",
       "      <td>4.804021</td>\n",
       "      <td>0.986306</td>\n",
       "      <td>12268.0</td>\n",
       "      <td>0</td>\n",
       "    </tr>\n",
       "    <tr>\n",
       "      <th>3861</th>\n",
       "      <td>TTGTTTGTGTAAATTC-1</td>\n",
       "      <td>1</td>\n",
       "      <td>7</td>\n",
       "      <td>51</td>\n",
       "      <td>7183</td>\n",
       "      <td>8.879612</td>\n",
       "      <td>30022.0</td>\n",
       "      <td>10.309719</td>\n",
       "      <td>24.938379</td>\n",
       "      <td>35.124242</td>\n",
       "      <td>43.484778</td>\n",
       "      <td>53.767237</td>\n",
       "      <td>334.0</td>\n",
       "      <td>5.814130</td>\n",
       "      <td>1.112517</td>\n",
       "      <td>30022.0</td>\n",
       "      <td>0</td>\n",
       "    </tr>\n",
       "  </tbody>\n",
       "</table>\n",
       "<p>3861 rows × 17 columns</p>\n",
       "</div>"
      ],
      "text/plain": [
       "                 spot_id  in_tissue  array_row  array_col  n_genes_by_counts  \\\n",
       "1     AAACAAGTATCTCCCA-1          1         50        102               6732   \n",
       "2     AAACAATCTACTAGCA-1          1          3         43               6759   \n",
       "3     AAACAGAGCGACTCCT-1          1         14         94               7236   \n",
       "4     AAACAGCTTTCAGAAG-1          1         43          9               6890   \n",
       "5     AAACAGGGTCTATATT-1          1         47         13               7631   \n",
       "...                  ...        ...        ...        ...                ...   \n",
       "3857  TTGTTTCACATCCAGG-1          1         58         42               5771   \n",
       "3858  TTGTTTCATTAGTCTA-1          1         60         30               6354   \n",
       "3859  TTGTTTCCATACAACT-1          1         45         27               6517   \n",
       "3860  TTGTTTGTATTACACG-1          1         73         41               4476   \n",
       "3861  TTGTTTGTGTAAATTC-1          1          7         51               7183   \n",
       "\n",
       "      log1p_n_genes_by_counts  total_counts  log1p_total_counts  \\\n",
       "1                    8.814776       27944.0           10.237993   \n",
       "2                    8.818778       25685.0           10.153702   \n",
       "3                    8.886962       31916.0           10.370894   \n",
       "4                    8.837971       30932.0           10.339579   \n",
       "5                    8.940105       31728.0           10.364986   \n",
       "...                       ...           ...                 ...   \n",
       "3857                 8.660774       19649.0            9.885833   \n",
       "3858                 8.756997       21557.0            9.978502   \n",
       "3859                 8.782323       22175.0           10.006766   \n",
       "3860                 8.406708       12268.0            9.414831   \n",
       "3861                 8.879612       30022.0           10.309719   \n",
       "\n",
       "      pct_counts_in_top_50_genes  pct_counts_in_top_100_genes  \\\n",
       "1                      33.241483                    41.071429   \n",
       "2                      23.507884                    33.965349   \n",
       "3                      21.948239                    31.990224   \n",
       "4                      26.357817                    38.132032   \n",
       "5                      22.462809                    31.360313   \n",
       "...                          ...                          ...   \n",
       "3857                   27.131152                    35.950939   \n",
       "3858                   24.238067                    32.263302   \n",
       "3859                   21.506201                    30.593010   \n",
       "3860                   24.078904                    34.268014   \n",
       "3861                   24.938379                    35.124242   \n",
       "\n",
       "      pct_counts_in_top_200_genes  pct_counts_in_top_500_genes  \\\n",
       "1                       48.375322                    57.572287   \n",
       "2                       42.631886                    53.054312   \n",
       "3                       41.101642                    52.603710   \n",
       "4                       47.575327                    57.590844   \n",
       "5                       39.696798                    50.107161   \n",
       "...                           ...                          ...   \n",
       "3857                    44.429742                    55.000254   \n",
       "3858                    40.265343                    51.152758   \n",
       "3859                    39.098083                    50.119504   \n",
       "3860                    43.193675                    54.964134   \n",
       "3861                    43.484778                    53.767237   \n",
       "\n",
       "      total_counts_mt  log1p_total_counts_mt  pct_counts_mt  n_counts clusters  \n",
       "1               248.0               5.517453       0.887489   27944.0        1  \n",
       "2               239.0               5.480639       0.930504   25685.0        0  \n",
       "3               348.0               5.855072       1.090362   31916.0        8  \n",
       "4               793.0               6.677083       2.563688   30932.0        2  \n",
       "5               287.0               5.662961       0.904564   31728.0        0  \n",
       "...               ...                    ...            ...       ...      ...  \n",
       "3857            209.0               5.347107       1.063667   19649.0        6  \n",
       "3858            208.0               5.342334       0.964884   21557.0        6  \n",
       "3859            192.0               5.262690       0.865840   22175.0        6  \n",
       "3860            121.0               4.804021       0.986306   12268.0        0  \n",
       "3861            334.0               5.814130       1.112517   30022.0        0  \n",
       "\n",
       "[3861 rows x 17 columns]"
      ]
     },
     "execution_count": 6,
     "metadata": {},
     "output_type": "execute_result"
    }
   ],
   "source": [
    "# Store the current observation index in a new column called \"spot_id\"\n",
    "adata.obs = adata.obs.reset_index().rename(columns={\"index\": \"spot_id\"})\n",
    "# Create an integer index starting at 1 (0 is reserved for the background)\n",
    "adata.obs.index = list(range(1, adata.shape[0]+1))\n",
    "adata.obs"
   ]
  },
  {
   "cell_type": "code",
   "execution_count": 7,
   "id": "1546c023-d614-4337-a3d1-f8b04c49c8e1",
   "metadata": {},
   "outputs": [
    {
     "name": "stderr",
     "output_type": "stream",
     "text": [
      "/Users/mkeller/anaconda3/envs/vitessce-tutorial-env/lib/python3.8/site-packages/anndata/_core/anndata.py:121: ImplicitModificationWarning: Transforming to str index.\n",
      "  warnings.warn(\"Transforming to str index.\", ImplicitModificationWarning)\n"
     ]
    }
   ],
   "source": [
    "adata = optimize_adata(\n",
    "    adata,\n",
    "    # TODO(template): Specify the columns and keys that will be used in the visualization.\n",
    "    obs_cols=[\"spot_id\", \"clusters\"],\n",
    "    var_cols=[\"highly_variable\"],\n",
    "    obsm_keys=[\"X_hvg\", \"spatial\", \"X_umap\", \"X_pca\"],\n",
    "    optimize_X=True,\n",
    "    # Vitessce plays nicely with dense matrices saved with chunking\n",
    "    # and this one is small enough that dense is not a huge overhead.\n",
    "    to_dense_X=True,\n",
    ")"
   ]
  },
  {
   "cell_type": "code",
   "execution_count": 8,
   "id": "7dc753bb-51a8-400b-9721-d39048b5de83",
   "metadata": {},
   "outputs": [],
   "source": [
    "adata.write_zarr(PATH_TO_OUTPUT_ANNDATA_ZARR, chunks=[adata.shape[0], VAR_CHUNK_SIZE])"
   ]
  },
  {
   "cell_type": "markdown",
   "id": "3dcbd7eb-40f1-446e-be84-080cecc3e4b0",
   "metadata": {},
   "source": [
    "## 1.2 Convert TIFF to OME-TIFF"
   ]
  },
  {
   "cell_type": "code",
   "execution_count": 9,
   "id": "8985aed2-9ee2-426a-b2de-b62d43254d89",
   "metadata": {},
   "outputs": [
    {
     "data": {
      "text/plain": [
       "(3, 2000, 1921)"
      ]
     },
     "execution_count": 9,
     "metadata": {},
     "output_type": "execute_result"
    }
   ],
   "source": [
    "img_arr = imread(PATH_TO_INPUT_TIFF)\n",
    "\n",
    "# Update the array axes so they are in CYX order to enable conversion to OME-TIFF.\n",
    "img_arr = img_arr.transpose((2, 0, 1))\n",
    "img_arr.shape"
   ]
  },
  {
   "cell_type": "code",
   "execution_count": 10,
   "id": "1acfdeb8-37fa-4a71-a0db-1854e544da57",
   "metadata": {},
   "outputs": [],
   "source": [
    "rgb_img_to_ome_tiff(img_arr, PATH_TO_OUTPUT_IMAGE_OME_TIFF, axes=\"CYX\", img_name=\"H & E Image\")"
   ]
  },
  {
   "cell_type": "code",
   "execution_count": 11,
   "id": "b346e9b5-e14a-401c-8ef5-e651e082508b",
   "metadata": {},
   "outputs": [
    {
     "name": "stdout",
     "output_type": "stream",
     "text": [
      "./processed_data/spatial_single_cell/image.ome.tif\n",
      "OMETiffReader initializing ./processed_data/spatial_single_cell/image.ome.tif\n",
      "Reading IFDs\n",
      "Populating metadata\n",
      "[OME-TIFF] -> ./processed_data/spatial_single_cellimage.pyramid.ome.tif [OME-TIFF]\n",
      "Tile size = 128 x 128\n",
      "\tConverted 1/3 planes (33%)\n",
      "\tConverted 2/3 planes (66%)\n",
      "\tConverted 3/3 planes (100%)\n",
      "Tile size = 128 x 128\n",
      "\tConverted 3/3 planes (100%)\n",
      "[done]\n",
      "7.977s elapsed (6.3333335+1184.8334ms per plane, 781ms overhead)\n"
     ]
    }
   ],
   "source": [
    "!~/software/bftools/bfconvert -overwrite -tilex 128 -tiley 128 -pyramid-resolutions 2 -pyramid-scale 2 -compression LZW {PATH_TO_OUTPUT_IMAGE_OME_TIFF} {PATH_TO_OUTPUT_IMAGE_PYRAMIDAL_OME_TIFF}\n",
    "# TODO(template): For larger images, you will want to comment out the above line and un-comment the line below,\n",
    "# to increase the tile size (128 -> 512) and the number of pyramid resolutions (2 -> 6).\n",
    "# !~/software/bftools/bfconvert -tilex 512 -tiley 512 -pyramid-resolutions 6 -pyramid-scale 2 -compression LZW {PATH_TO_OUTPUT_OME_TIFF} {PATH_TO_OUTPUT_PYRAMIDAL_OME_TIFF}"
   ]
  },
  {
   "cell_type": "markdown",
   "id": "6cb09364-6f50-4041-8c1f-a0a005de5a33",
   "metadata": {},
   "source": [
    "## 1.3 Generate OME-TIFF bitmask"
   ]
  },
  {
   "cell_type": "code",
   "execution_count": 12,
   "id": "fa6c6c6c-3de0-49b8-8f50-df2d245a2403",
   "metadata": {},
   "outputs": [
    {
     "data": {
      "text/plain": [
       "(1921, 2000)"
      ]
     },
     "execution_count": 12,
     "metadata": {},
     "output_type": "execute_result"
    }
   ],
   "source": [
    "bitmask_arr = np.zeros((img_arr.shape[2], img_arr.shape[1]), dtype=np.uint16)\n",
    "bitmask_arr.shape"
   ]
  },
  {
   "cell_type": "code",
   "execution_count": 13,
   "id": "8364b2f3-92c2-4cc8-b14a-bde81e09875a",
   "metadata": {},
   "outputs": [
    {
     "data": {
      "text/plain": [
       "(1, 2000, 1921)"
      ]
     },
     "execution_count": 13,
     "metadata": {},
     "output_type": "execute_result"
    }
   ],
   "source": [
    "radius = 10\n",
    "for i in range(adata.shape[0]):\n",
    "    x = adata.obsm['spatial'][i, 0]\n",
    "    y = adata.obsm['spatial'][i, 1]\n",
    "    bitmask_arr[disk((x, y), radius)] = i+1 # add one (0 is reserved for the background)\n",
    "\n",
    "# Update the array axes so they are in CYX order to enable conversion to OME-TIFF.\n",
    "bitmask_arr = bitmask_arr.transpose((1, 0)) # (y, x)\n",
    "bitmask_arr = bitmask_arr[np.newaxis, :] # (c, y, x)\n",
    "bitmask_arr.shape"
   ]
  },
  {
   "cell_type": "code",
   "execution_count": 14,
   "id": "f63218ee-5088-4da9-8f6c-29b992fbb9cb",
   "metadata": {},
   "outputs": [],
   "source": [
    "multiplex_img_to_ome_tiff(bitmask_arr, [\"Spots\"], PATH_TO_OUTPUT_BITMASK_OME_TIFF, axes=\"CYX\")"
   ]
  },
  {
   "cell_type": "markdown",
   "id": "8052199b-b6a1-4d59-8a05-e15662beb457",
   "metadata": {},
   "source": [
    "## 2. Configure the visualization"
   ]
  },
  {
   "cell_type": "code",
   "execution_count": 15,
   "id": "b3d1baeb-de12-4cc3-92d1-d5009fa9e79c",
   "metadata": {},
   "outputs": [],
   "source": [
    "vc = VitessceConfig(schema_version=\"1.0.15\", name=CONFIG_NAME, description=CONFIG_DESCRIPTION)\n",
    "\n",
    "dataset = vc.add_dataset(name=DATASET_NAME).add_object(AnnDataWrapper(\n",
    "    adata_path=PATH_TO_OUTPUT_ANNDATA_ZARR,\n",
    "    # TODO(template): update the arrays of interest and where they are located in the AnnData object.\n",
    "    obs_embedding_paths=[\"obsm/X_umap\", \"obsm/X_pca\"],\n",
    "    obs_embedding_names=[\"UMAP\", \"PCA\"],\n",
    "    obs_locations_path=\"obsm/spatial\",\n",
    "    obs_set_paths=[\"obs/clusters\"],\n",
    "    obs_set_names=[\"Leiden Cluster\"],\n",
    "    obs_feature_matrix_path=\"obsm/X_hvg\",\n",
    "    feature_filter_path=\"var/highly_variable\",\n",
    ")).add_object(MultiImageWrapper([\n",
    "    OmeTiffWrapper(\n",
    "        img_path=PATH_TO_OUTPUT_BITMASK_OME_TIFF,\n",
    "        name=\"Spot segmentations\",\n",
    "        is_bitmask=True\n",
    "    ),\n",
    "    OmeTiffWrapper(\n",
    "        img_path=PATH_TO_OUTPUT_IMAGE_PYRAMIDAL_OME_TIFF,\n",
    "        name=\"H&E Image\",\n",
    "        is_bitmask=False\n",
    "    ),\n",
    "], use_physical_size_scaling=True))\n",
    "\n",
    "# TODO(template): Update the views of interest.\n",
    "spatial_colored_by_cluster = vc.add_view(cm.SPATIAL, dataset=dataset)\n",
    "spatial_colored_by_expression = vc.add_view(cm.SPATIAL, dataset=dataset)\n",
    "\n",
    "layer_controller = vc.add_view(cm.LAYER_CONTROLLER, dataset=dataset).set_props(disableChannelsIfRgbDetected=True)\n",
    "spot_set_manager = vc.add_view(cm.OBS_SETS, dataset=dataset)\n",
    "gene_list = vc.add_view(cm.FEATURE_LIST, dataset=dataset)\n",
    "heatmap = vc.add_view(cm.HEATMAP, dataset=dataset).set_props(transpose=True)\n",
    "\n",
    "# TODO(template): Update the layout of views.\n",
    "vc.layout(\n",
    "    (spatial_colored_by_cluster | spatial_colored_by_expression)\n",
    "    / ((layer_controller | spot_set_manager) | (gene_list | heatmap))\n",
    ");"
   ]
  },
  {
   "cell_type": "code",
   "execution_count": 16,
   "id": "c07cb582-6c3d-45d7-937b-e54bd8fc93d8",
   "metadata": {},
   "outputs": [
    {
     "data": {
      "text/plain": [
       "<vitessce.config.VitessceConfig at 0x7fa5355b7640>"
      ]
     },
     "execution_count": 16,
     "metadata": {},
     "output_type": "execute_result"
    }
   ],
   "source": [
    "# TODO(template): configure view coordinations and initial coordination values\n",
    "spatial_views = [\n",
    "    spatial_colored_by_cluster,\n",
    "    spatial_colored_by_expression,\n",
    "    layer_controller,\n",
    "]\n",
    "all_views = [\n",
    "    *spatial_views,\n",
    "    spot_set_manager,\n",
    "    gene_list,\n",
    "    heatmap\n",
    "]\n",
    "\n",
    "spatial_segmentation_layer_value = [{\n",
    "    \"type\": \"bitmask\",\n",
    "    \"visible\": True,\n",
    "    \"index\": 0,\n",
    "    \"colormap\": None,\n",
    "    \"transparentColor\": None,\n",
    "    \"opacity\": 1,\n",
    "    \"domainType\": \"Min/Max\",\n",
    "    \"channels\": [\n",
    "        {\n",
    "          \"selection\": { \"c\": 0, \"t\": 0, \"z\": 0 },\n",
    "          \"color\": [255, 0, 0],\n",
    "          \"visible\": True,\n",
    "          \"slider\": [0, 1]\n",
    "        }\n",
    "    ]\n",
    "}]\n",
    "spatial_image_layer_value = [{\n",
    "    \"type\": \"raster\",\n",
    "    \"index\": 0,\n",
    "    \"colormap\": None,\n",
    "    \"transparentColor\": None,\n",
    "    \"opacity\": 1,\n",
    "    \"domainType\": \"Min/Max\",\n",
    "    \"channels\": [\n",
    "        {\n",
    "          \"selection\": { \"c\": 0, \"t\": 0, \"z\": 0 },\n",
    "          \"color\": [255, 0, 0],\n",
    "          \"visible\": True,\n",
    "          \"slider\": [0, 255]\n",
    "        },\n",
    "        {\n",
    "          \"selection\": { \"c\": 1, \"t\": 0, \"z\": 0 },\n",
    "          \"color\": [0, 255, 0],\n",
    "          \"visible\": True,\n",
    "          \"slider\": [0, 255]\n",
    "        },\n",
    "        {\n",
    "          \"selection\": { \"c\": 2, \"t\": 0, \"z\": 0 },\n",
    "          \"color\": [0, 0, 255],\n",
    "          \"visible\": True,\n",
    "          \"slider\": [0, 255]\n",
    "        }\n",
    "    ]\n",
    "}]\n",
    "vc.link_views(\n",
    "    spatial_views,\n",
    "    [ct.SPATIAL_IMAGE_LAYER, ct.SPATIAL_SEGMENTATION_LAYER],\n",
    "    [spatial_image_layer_value, spatial_segmentation_layer_value]\n",
    ")\n",
    "vc.link_views(\n",
    "    spatial_views,\n",
    "    [ct.SPATIAL_ZOOM, ct.SPATIAL_TARGET_X, ct.SPATIAL_TARGET_Y],\n",
    "    [-2.6, 1000, 1000]\n",
    ")\n",
    "vc.link_views(\n",
    "    [spatial_colored_by_cluster, heatmap, spot_set_manager],\n",
    "    [ct.OBS_COLOR_ENCODING],\n",
    "    [\"cellSetSelection\"]\n",
    ")\n",
    "vc.link_views(\n",
    "    [spatial_colored_by_expression, gene_list],\n",
    "    [ct.OBS_COLOR_ENCODING, ct.FEATURE_SELECTION],\n",
    "    [\"cellSetSelection\", [\"CR2\"]]\n",
    ")"
   ]
  },
  {
   "cell_type": "markdown",
   "id": "098add3f-634e-492e-918b-eacf24598a1e",
   "metadata": {},
   "source": [
    "### Render the widget"
   ]
  },
  {
   "cell_type": "code",
   "execution_count": 17,
   "id": "0b62f4fe-ad8b-458b-9cfe-a54a647138a1",
   "metadata": {},
   "outputs": [
    {
     "data": {
      "application/vnd.jupyter.widget-view+json": {
       "model_id": "5a30479098144bea913d08b5f13cef93",
       "version_major": 2,
       "version_minor": 0
      },
      "text/plain": [
       "VitessceWidget(config={'version': '1.0.15', 'name': 'My config', 'description': 'This dataset reveals...', 'da…"
      ]
     },
     "execution_count": 17,
     "metadata": {},
     "output_type": "execute_result"
    }
   ],
   "source": [
    "vw = vc.widget()\n",
    "vw"
   ]
  },
  {
   "cell_type": "markdown",
   "id": "da6e4cb6-5c55-4839-8b7a-ca13c6e319ad",
   "metadata": {},
   "source": [
    "## 3. Export the configuration and data"
   ]
  },
  {
   "cell_type": "code",
   "execution_count": 18,
   "id": "5fea1850-7098-44ce-823b-30b77ab84b3b",
   "metadata": {},
   "outputs": [],
   "source": [
    "config_dict = vc.export(to=\"files\", base_url=f'{BASE_URL_PLACEHOLDER}/data/{VIGNETTE_ID}', out_dir=DATA_DIR)\n",
    "\n",
    "# Use `open` to create a new empty file at ./exported_data/vitessce.json\n",
    "with open(join(VIGNETTES_DIR, \"vitessce.json\"), \"w\") as f:\n",
    "    json.dump(config_dict, f)"
   ]
  },
  {
   "cell_type": "code",
   "execution_count": null,
   "id": "79230e1e-7857-4296-b418-1a5f841524b4",
   "metadata": {},
   "outputs": [],
   "source": []
  },
  {
   "cell_type": "code",
   "execution_count": null,
   "id": "e52e5927-915d-43cf-8301-1b3366a9efb6",
   "metadata": {},
   "outputs": [],
   "source": []
  }
 ],
 "metadata": {
  "kernelspec": {
   "display_name": "Python 3 (ipykernel)",
   "language": "python",
   "name": "python3"
  },
  "language_info": {
   "codemirror_mode": {
    "name": "ipython",
    "version": 3
   },
   "file_extension": ".py",
   "mimetype": "text/x-python",
   "name": "python",
   "nbconvert_exporter": "python",
   "pygments_lexer": "ipython3",
   "version": "3.8.0"
  }
 },
 "nbformat": 4,
 "nbformat_minor": 5
}
