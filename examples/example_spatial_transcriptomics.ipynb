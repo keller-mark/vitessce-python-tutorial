{
 "cells": [
  {
   "cell_type": "markdown",
   "metadata": {
    "id": "FwV9Ef6o5wca"
   },
   "source": [
    "View this example on [Google Colab](https://colab.research.google.com/drive/1tKpNj_TZz_h8lEki8kgCHI5QBgbv_7q1?usp=sharing)"
   ]
  },
  {
   "cell_type": "code",
   "execution_count": null,
   "metadata": {
    "id": "kZ1H5umyVzB2"
   },
   "outputs": [],
   "source": [
    "import importlib.util\n",
    "if importlib.util.find_spec('vitessce') is None:\n",
    "  !pip install vitessce[all]"
   ]
  },
  {
   "cell_type": "code",
   "execution_count": null,
   "metadata": {
    "id": "HQVkt58HV1Z-"
   },
   "outputs": [],
   "source": [
    "from vitessce import (\n",
    "    VitessceConfig,\n",
    "    Component as cm,\n",
    "    CoordinationType as ct,\n",
    "    FileType as ft,\n",
    "    AnnDataWrapper,\n",
    "    MultiImageWrapper,\n",
    "    OmeTiffWrapper,\n",
    ")"
   ]
  },
  {
   "cell_type": "code",
   "execution_count": null,
   "metadata": {
    "id": "ogNFmDtxV_Lt"
   },
   "outputs": [],
   "source": [
    "vc = VitessceConfig(schema_version=\"1.0.15\", name='Spleen')\n",
    "dataset = vc.add_dataset(name='HBM287.WDKX.539').add_object(\n",
    "    AnnDataWrapper(\n",
    "        adata_url=\"https://assets.hubmapconsortium.org/69d9c52bc9edb625b496cecb623ec081/anndata-zarr/reg001_expr-anndata.zarr\",\n",
    "        obs_feature_matrix_path=\"X\",\n",
    "        obs_locations_path=\"obsm/xy\",\n",
    "        obs_embedding_paths=[\"obsm/tsne\"],\n",
    "        obs_embedding_names=[\"t-SNE\"],\n",
    "        obs_set_paths=[\n",
    "            \"obs/Cell K-Means [tSNE_All_Features]\",\n",
    "            \"obs/Cell K-Means [Mean-All-SubRegions] Expression\",\n",
    "            \"obs/Cell K-Means [Mean] Expression\",\n",
    "        ],\n",
    "        obs_set_names=[\n",
    "            \"Cell K-Means [tSNE_All_Features]\",\n",
    "            \"Cell K-Means [Mean-All-SubRegions] Expression\",\n",
    "            \"Cell K-Means [Mean] Expression\",\n",
    "        ]\n",
    "    )\n",
    ").add_object(\n",
    "    MultiImageWrapper([\n",
    "        OmeTiffWrapper(img_url=\"https://assets.hubmapconsortium.org/69d9c52bc9edb625b496cecb623ec081/ometiff-pyramids/pipeline_output/mask/reg001_mask.ome.tif?token=\", is_bitmask=True, name=\"Segmentations\"),\n",
    "        OmeTiffWrapper(img_url=\"https://assets.hubmapconsortium.org/69d9c52bc9edb625b496cecb623ec081/ometiff-pyramids/pipeline_output/expr/reg001_expr.ome.tif?token=\", is_bitmask=False, name=\"Image\")\n",
    "    ])\n",
    ")\n",
    "spatial_plot = vc.add_view(cm.SPATIAL, dataset=dataset)\n",
    "layer_controller = vc.add_view(cm.LAYER_CONTROLLER, dataset=dataset)\n",
    "tsne_plot = vc.add_view(cm.SCATTERPLOT, dataset=dataset, mapping=\"t-SNE\")\n",
    "cell_set_manager = vc.add_view(cm.OBS_SETS, dataset=dataset)\n",
    "cell_set_sizes = vc.add_view(cm.OBS_SET_SIZES, dataset=dataset)\n",
    "\n",
    "\n",
    "spatial_segmentation_layer_value = [{\n",
    "    \"type\":\"bitmask\",\n",
    "    \"index\":0,\n",
    "    \"visible\":True,\n",
    "    \"colormap\":None,\n",
    "    \"opacity\":1,\n",
    "    \"domainType\":\"Min/Max\",\n",
    "    \"transparentColor\":[0,0,0],\n",
    "    \"renderingMode\":\"Additive\",\n",
    "    \"use3d\":False,\n",
    "    \"channels\":[\n",
    "        {\"selection\":{\"c\":0,\"t\":0,\"z\":0},\"color\":[0,0,0],\"visible\":False,\"slider\":[0,1]},\n",
    "        {\"selection\":{\"c\":1,\"t\":0,\"z\":0},\"color\":[0,0,0],\"visible\":True,\"slider\":[0,1]}, # Set the nuclei channel as checked initially\n",
    "        {\"selection\":{\"c\":2,\"t\":0,\"z\":0},\"color\":[0,0,0],\"visible\":False,\"slider\":[0,1]},\n",
    "        {\"selection\":{\"c\":3,\"t\":0,\"z\":0},\"color\":[0,0,0],\"visible\":False,\"slider\":[0,1]}\n",
    "    ]\n",
    "}]\n",
    "vc.link_views([spatial_plot, layer_controller], [ct.SPATIAL_ZOOM, ct.SPATIAL_TARGET_X, ct.SPATIAL_TARGET_Y, ct.SPATIAL_SEGMENTATION_LAYER], [-4, 5000, 5000, spatial_segmentation_layer_value])\n",
    "\n",
    "\n",
    "vc.layout((spatial_plot | layer_controller) / (tsne_plot | (cell_set_manager | cell_set_sizes)));"
   ]
  },
  {
   "cell_type": "code",
   "execution_count": null,
   "metadata": {},
   "outputs": [],
   "source": [
    "from IPython.display import display, HTML\n",
    "\n",
    "url = vc.web_app()\n",
    "display(HTML(f'<a href=\"{url}\" target=\"_blank\">View on Vitessce.io</a>'))"
   ]
  },
  {
   "cell_type": "code",
   "execution_count": null,
   "metadata": {
    "id": "BO5vy2rrWA_K"
   },
   "outputs": [],
   "source": [
    "vw = vc.widget()\n",
    "vw"
   ]
  },
  {
   "cell_type": "code",
   "execution_count": null,
   "metadata": {
    "id": "N0FSwY2S9R9l"
   },
   "outputs": [],
   "source": []
  }
 ],
 "metadata": {
  "colab": {
   "authorship_tag": "ABX9TyMf3ljwG14gO9Uhkvir4j15",
   "provenance": []
  },
  "kernelspec": {
   "display_name": "Python 3 (ipykernel)",
   "language": "python",
   "name": "python3"
  },
  "language_info": {
   "codemirror_mode": {
    "name": "ipython",
    "version": 3
   },
   "file_extension": ".py",
   "mimetype": "text/x-python",
   "name": "python",
   "nbconvert_exporter": "python",
   "pygments_lexer": "ipython3",
   "version": "3.8.0"
  }
 },
 "nbformat": 4,
 "nbformat_minor": 4
}
