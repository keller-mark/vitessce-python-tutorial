{
 "cells": [
  {
   "cell_type": "markdown",
   "metadata": {
    "id": "1pM7sujOI_c9"
   },
   "source": [
    "View this example on [Google Colab](https://colab.research.google.com/drive/1iB-GWk-hAmjuOUjYehHs_S94bhjxaVAP?usp=sharing)"
   ]
  },
  {
   "cell_type": "code",
   "execution_count": null,
   "metadata": {
    "id": "kZ1H5umyVzB2"
   },
   "outputs": [],
   "source": [
    "import importlib.util\n",
    "if importlib.util.find_spec('vitessce') is None:\n",
    "  !pip install vitessce[all]"
   ]
  },
  {
   "cell_type": "code",
   "execution_count": null,
   "metadata": {
    "id": "HQVkt58HV1Z-"
   },
   "outputs": [],
   "source": [
    "from vitessce import (\n",
    "    VitessceConfig,\n",
    "    Component as cm,\n",
    "    CoordinationType as ct,\n",
    "    FileType as ft,\n",
    ")"
   ]
  },
  {
   "cell_type": "code",
   "execution_count": null,
   "metadata": {
    "id": "ogNFmDtxV_Lt"
   },
   "outputs": [],
   "source": [
    "vc = VitessceConfig(schema_version=\"1.0.15\", name='Transcriptomics example')\n",
    "dataset = vc.add_dataset(name='Cell segmentations').add_file(\n",
    "    file_type=\"anndata.zarr\",\n",
    "    url=\"https://s3.amazonaws.com/vitessce-data/0.0.33/main/codeluppi-2018-via-zarr/codeluppi_2018_nature_methods.cells.h5ad.zarr\",\n",
    "    options={\n",
    "        \"obsSegmentations\": {\n",
    "          \"path\": \"obsm/X_segmentations\"\n",
    "        },\n",
    "        \"obsLocations\": {\n",
    "          \"path\": \"obsm/X_spatial\"\n",
    "        },\n",
    "    }\n",
    ")\n",
    "spatial_plot = vc.add_view(cm.SPATIAL, dataset=dataset)\n",
    "layer_controller = vc.add_view(cm.LAYER_CONTROLLER, dataset=dataset)\n",
    "\n",
    "spatial_segmentation_layer_value = {\n",
    "  \"opacity\": 1,\n",
    "  \"radius\": 0,\n",
    "  \"visible\": True,\n",
    "  \"stroked\": False\n",
    "}\n",
    "vc.link_views([spatial_plot, layer_controller], [ct.SPATIAL_ZOOM, ct.SPATIAL_TARGET_X, ct.SPATIAL_TARGET_Y, ct.SPATIAL_SEGMENTATION_LAYER], [-5.5, 16000, 20000, spatial_segmentation_layer_value])\n",
    "\n",
    "\n",
    "vc.layout(spatial_plot | layer_controller);"
   ]
  },
  {
   "cell_type": "code",
   "execution_count": null,
   "metadata": {
    "id": "h7Zk8lU6JHxz"
   },
   "outputs": [],
   "source": [
    "from IPython.display import display, HTML\n",
    "\n",
    "url = vc.web_app()\n",
    "display(HTML(f'<a href=\"{url}\" target=\"_blank\">View on Vitessce.io</a>'))"
   ]
  },
  {
   "cell_type": "code",
   "execution_count": null,
   "metadata": {
    "colab": {
     "base_uri": "https://localhost:8080/",
     "height": 617,
     "referenced_widgets": [
      "6899d038ef3642da9cf232f0f10d60b9",
      "8187fab95955425f825d4ed8880d3968"
     ]
    },
    "executionInfo": {
     "elapsed": 390,
     "status": "ok",
     "timestamp": 1673542385510,
     "user": {
      "displayName": "Mark Keller",
      "userId": "12452164687124895951"
     },
     "user_tz": 300
    },
    "id": "BO5vy2rrWA_K",
    "outputId": "25e68377-db3c-4821-adf9-ebd36052ecd4"
   },
   "outputs": [],
   "source": [
    "vw = vc.widget()\n",
    "vw"
   ]
  },
  {
   "cell_type": "code",
   "execution_count": null,
   "metadata": {
    "id": "3Zc0Zo-MfLFP"
   },
   "outputs": [],
   "source": []
  }
 ],
 "metadata": {
  "colab": {
   "authorship_tag": "ABX9TyM/jMmRA0xLTggZApozLhg+",
   "provenance": []
  },
  "kernelspec": {
   "display_name": "Python 3 (ipykernel)",
   "language": "python",
   "name": "python3"
  },
  "language_info": {
   "codemirror_mode": {
    "name": "ipython",
    "version": 3
   },
   "file_extension": ".py",
   "mimetype": "text/x-python",
   "name": "python",
   "nbconvert_exporter": "python",
   "pygments_lexer": "ipython3",
   "version": "3.8.0"
  },
  "widgets": {
   "application/vnd.jupyter.widget-state+json": {
    "6899d038ef3642da9cf232f0f10d60b9": {
     "model_module": "anywidget",
     "model_module_version": "0.0.3",
     "model_name": "AnyModel",
     "state": {
      "_dom_classes": [],
      "_model_module": "anywidget",
      "_model_module_version": "0.0.3",
      "_model_name": "AnyModel",
      "_module": "\nimport * as d3 from 'https://esm.sh/d3-require@1.3.0';\nimport React from 'https://esm.sh/react@18.2.0';\nimport ReactDOM from 'https://esm.sh/react-dom@18.2.0';\n\nfunction asEsModule(component) {\n  return {\n    __esModule: true,\n    default: component,\n  };\n}\n\nconst e = React.createElement;\n\nconst prefersDark = window.matchMedia && window.matchMedia('(prefers-color-scheme: dark)').matches;\n\n// The jupyter server may be running through a proxy,\n// which means that the client needs to prepend the part of the URL before /proxy/8000 such as\n// https://hub.gke2.mybinder.org/user/vitessce-vitessce-python-swi31vcv/proxy/8000/A/0/cells\nfunction prependBaseUrl(config, proxy) {\n  if(!proxy) {\n    return config;\n  }\n  const { origin } = new URL(window.location.href);\n  let baseUrl;\n  const jupyterLabConfigEl = document.getElementById('jupyter-config-data');\n\n  if (jupyterLabConfigEl) {\n    // This is jupyter lab\n    baseUrl = JSON.parse(jupyterLabConfigEl.textContent || '').baseUrl;\n  } else {\n    // This is jupyter notebook\n    baseUrl = document.getElementsByTagName('body')[0].getAttribute('data-base-url');\n  }\n  return {\n    ...config,\n    datasets: config.datasets.map(d => ({\n      ...d,\n      files: d.files.map(f => ({\n        ...f,\n        url: `${origin}${baseUrl}${f.url}`,\n      })),\n    })),\n  };\n}\n\nexport function render(view) {\n    const jsPackageVersion = view.model.get('js_package_version');\n    let customRequire = d3.require;\n    const customJsUrl = view.model.get('custom_js_url');\n    if(customJsUrl.length > 0) {\n        customRequire = d3.requireFrom(async () => {\n            return customJsUrl;\n        });\n    }\n\n    const aliasedRequire = customRequire.alias({\n        \"react\": React,\n        \"react-dom\": ReactDOM\n    });\n\n    const Vitessce = React.lazy(() => aliasedRequire(`vitessce@${jsPackageVersion}`).then(vitessce => asEsModule(vitessce.Vitessce)));\n\n    function VitessceWidget(props) {\n        const { model } = props;\n\n        const config = prependBaseUrl(model.get('config'), model.get('proxy'));\n        const height = model.get('height');\n        const theme = model.get('theme') === 'auto' ? (prefersDark ? 'dark' : 'light') : model.get('theme');\n\n        const divRef = React.useRef();\n\n        React.useEffect(() => {\n            if(!divRef.current) {\n                return () => {};\n            }\n\n            function handleMouseEnter() {\n                const jpn = divRef.current.closest('.jp-Notebook');\n                if(jpn) {\n                    jpn.style.overflow = \"hidden\";\n                }\n            }\n            function handleMouseLeave(event) {\n                if(event.relatedTarget === null || (event.relatedTarget && event.relatedTarget.closest('.jp-Notebook')?.length)) return;\n                const jpn = divRef.current.closest('.jp-Notebook');\n                if(jpn) {\n                    jpn.style.overflow = \"auto\";\n                }\n            }\n            divRef.current.addEventListener(\"mouseenter\", handleMouseEnter);\n            divRef.current.addEventListener(\"mouseleave\", handleMouseLeave);\n\n            return () => {\n                if(divRef.current) {\n                    divRef.current.removeEventListener(\"mouseenter\", handleMouseEnter);\n                    divRef.current.removeEventListener(\"mouseleave\", handleMouseLeave);\n                }\n            };\n        }, [divRef]);\n\n        const onConfigChange = React.useCallback((config) => {\n            model.set('config', config);\n            model.save_changes();\n        }, [model]);\n\n        const vitessceProps = { height, theme, config, onConfigChange };\n\n        return e('div', { ref: divRef, style: { height: height + 'px' } },\n            e(React.Suspense, { fallback: e('div', {}, 'Loading...') },\n                e(Vitessce, vitessceProps)\n            )\n        );\n    }\n\n    ReactDOM.render(e(VitessceWidget, { model: view.model }), view.el);\n}\n",
      "_view_count": null,
      "_view_module": "anywidget",
      "_view_module_version": "0.0.3",
      "_view_name": "AnyView",
      "config": {
       "coordinationSpace": {
        "additionalObsSets": {
         "A": null
        },
        "dataset": {
         "A": "A"
        },
        "featureHighlight": {
         "A": null
        },
        "featureSelection": {
         "A": null
        },
        "featureType": {
         "A": "gene"
        },
        "featureValueColormap": {
         "A": "plasma"
        },
        "featureValueColormapRange": {
         "A": [
          0,
          1
         ]
        },
        "featureValueType": {
         "A": "expression"
        },
        "moleculeHighlight": {
         "A": null
        },
        "obsColorEncoding": {
         "A": "cellSetSelection"
        },
        "obsFilter": {
         "A": null
        },
        "obsHighlight": {},
        "obsLabelsType": {
         "A": null
        },
        "obsSetColor": {
         "A": null
        },
        "obsSetHighlight": {
         "A": null
        },
        "obsSetSelection": {
         "A": null
        },
        "obsType": {
         "A": "cell"
        },
        "spatialAxisFixed": {
         "A": false
        },
        "spatialImageLayer": {
         "A": null
        },
        "spatialNeighborhoodLayer": {
         "A": null
        },
        "spatialOrbitAxis": {
         "A": null
        },
        "spatialPointLayer": {
         "A": null
        },
        "spatialRotation": {
         "A": 0
        },
        "spatialRotationOrbit": {
         "A": 0
        },
        "spatialRotationX": {
         "A": 0
        },
        "spatialRotationY": {
         "A": null
        },
        "spatialRotationZ": {
         "A": null
        },
        "spatialSegmentationLayer": {
         "A": {
          "opacity": 1,
          "radius": 0,
          "stroked": false,
          "visible": true
         }
        },
        "spatialTargetX": {
         "A": 16845.877742528864
        },
        "spatialTargetY": {
         "A": 22952.323183799097
        },
        "spatialTargetZ": {
         "A": null
        },
        "spatialZoom": {
         "A": -6.233995691899957
        }
       },
       "datasets": [
        {
         "files": [
          {
           "coordinationValues": {
            "obsType": "cell"
           },
           "fileType": "obsLocations.anndata.zarr",
           "options": {
            "path": "obsm/X_spatial"
           },
           "url": "https://s3.amazonaws.com/vitessce-data/0.0.33/main/codeluppi-2018-via-zarr/codeluppi_2018_nature_methods.cells.h5ad.zarr"
          },
          {
           "coordinationValues": {
            "obsType": "cell"
           },
           "fileType": "obsSegmentations.anndata.zarr",
           "options": {
            "path": "obsm/X_segmentations"
           },
           "url": "https://s3.amazonaws.com/vitessce-data/0.0.33/main/codeluppi-2018-via-zarr/codeluppi_2018_nature_methods.cells.h5ad.zarr"
          }
         ],
         "name": "Cell segmentations",
         "uid": "A"
        }
       ],
       "description": "",
       "initStrategy": "auto",
       "layout": [
        {
         "component": "spatial",
         "coordinationScopes": {
          "additionalObsSets": "A",
          "dataset": "A",
          "featureHighlight": "A",
          "featureSelection": "A",
          "featureType": "A",
          "featureValueColormap": "A",
          "featureValueColormapRange": "A",
          "featureValueType": "A",
          "moleculeHighlight": "A",
          "obsColorEncoding": "A",
          "obsFilter": "A",
          "obsHighlight": "A",
          "obsLabelsType": "A",
          "obsSetColor": "A",
          "obsSetHighlight": "A",
          "obsSetSelection": "A",
          "obsType": "A",
          "spatialAxisFixed": "A",
          "spatialImageLayer": "A",
          "spatialNeighborhoodLayer": "A",
          "spatialOrbitAxis": "A",
          "spatialPointLayer": "A",
          "spatialRotation": "A",
          "spatialRotationOrbit": "A",
          "spatialRotationX": "A",
          "spatialRotationY": "A",
          "spatialRotationZ": "A",
          "spatialSegmentationLayer": "A",
          "spatialTargetX": "A",
          "spatialTargetY": "A",
          "spatialTargetZ": "A",
          "spatialZoom": "A"
         },
         "h": 12,
         "uid": "A",
         "w": 6,
         "x": 0,
         "y": 0
        },
        {
         "component": "layerController",
         "coordinationScopes": {
          "dataset": "A",
          "featureType": "A",
          "featureValueType": "A",
          "obsType": "A",
          "spatialImageLayer": "A",
          "spatialNeighborhoodLayer": "A",
          "spatialOrbitAxis": "A",
          "spatialPointLayer": "A",
          "spatialRotationOrbit": "A",
          "spatialRotationX": "A",
          "spatialRotationY": "A",
          "spatialRotationZ": "A",
          "spatialSegmentationLayer": "A",
          "spatialTargetX": "A",
          "spatialTargetY": "A",
          "spatialTargetZ": "A",
          "spatialZoom": "A"
         },
         "h": 12,
         "uid": "B",
         "w": 6,
         "x": 6,
         "y": 0
        }
       ],
       "name": "Transcriptomics example",
       "version": "1.0.15"
      },
      "custom_js_url": "",
      "height": 600,
      "js_package_version": "2.0.2",
      "layout": "IPY_MODEL_8187fab95955425f825d4ed8880d3968",
      "proxy": false,
      "theme": "auto"
     }
    },
    "8187fab95955425f825d4ed8880d3968": {
     "model_module": "@jupyter-widgets/base",
     "model_module_version": "1.2.0",
     "model_name": "LayoutModel",
     "state": {
      "_model_module": "@jupyter-widgets/base",
      "_model_module_version": "1.2.0",
      "_model_name": "LayoutModel",
      "_view_count": null,
      "_view_module": "@jupyter-widgets/base",
      "_view_module_version": "1.2.0",
      "_view_name": "LayoutView",
      "align_content": null,
      "align_items": null,
      "align_self": null,
      "border": null,
      "bottom": null,
      "display": null,
      "flex": null,
      "flex_flow": null,
      "grid_area": null,
      "grid_auto_columns": null,
      "grid_auto_flow": null,
      "grid_auto_rows": null,
      "grid_column": null,
      "grid_gap": null,
      "grid_row": null,
      "grid_template_areas": null,
      "grid_template_columns": null,
      "grid_template_rows": null,
      "height": null,
      "justify_content": null,
      "justify_items": null,
      "left": null,
      "margin": null,
      "max_height": null,
      "max_width": null,
      "min_height": null,
      "min_width": null,
      "object_fit": null,
      "object_position": null,
      "order": null,
      "overflow": null,
      "overflow_x": null,
      "overflow_y": null,
      "padding": null,
      "right": null,
      "top": null,
      "visibility": null,
      "width": null
     }
    }
   }
  }
 },
 "nbformat": 4,
 "nbformat_minor": 4
}
