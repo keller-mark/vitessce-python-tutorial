{
 "cells": [
  {
   "cell_type": "markdown",
   "metadata": {
    "id": "E32-4KHNJLrN"
   },
   "source": [
    "View this example on [Google Colab](https://colab.research.google.com/drive/1bL4raG300xSNyqQhQ9MU1aNv6AVpmd8K?usp=sharing)"
   ]
  },
  {
   "cell_type": "code",
   "execution_count": null,
   "metadata": {
    "id": "kZ1H5umyVzB2"
   },
   "outputs": [],
   "source": [
    "import importlib.util\n",
    "if importlib.util.find_spec('vitessce') is None:\n",
    "  !pip install vitessce[all]"
   ]
  },
  {
   "cell_type": "code",
   "execution_count": null,
   "metadata": {
    "id": "HQVkt58HV1Z-"
   },
   "outputs": [],
   "source": [
    "from vitessce import (\n",
    "    VitessceConfig,\n",
    "    Component as cm,\n",
    "    CoordinationType as ct,\n",
    "    FileType as ft,\n",
    ")"
   ]
  },
  {
   "cell_type": "code",
   "execution_count": null,
   "metadata": {
    "id": "ogNFmDtxV_Lt"
   },
   "outputs": [],
   "source": [
    "vc = VitessceConfig(schema_version=\"1.0.15\", name='Transcriptomics example')\n",
    "dataset = vc.add_dataset(name='Observation sets').add_file(\n",
    "    file_type=\"anndata.zarr\",\n",
    "    url=\"https://s3.amazonaws.com/vitessce-data/0.0.33/main/meta-2022-azimuth/meta_2022_azimuth.h5ad.zarr\",\n",
    "    options={\n",
    "        \"obsSets\": [\n",
    "          {\n",
    "            \"name\": \"Cell Type\",\n",
    "            \"path\": \"obs/cell_type\"\n",
    "          },\n",
    "          {\n",
    "            \"name\": \"Cell Type Annotation\",\n",
    "            \"path\": [\n",
    "              \"obs/annotation.l2\",\n",
    "              \"obs/annotation.l1\"\n",
    "            ]\n",
    "          },\n",
    "          {\n",
    "            \"name\": \"Assay\",\n",
    "            \"path\": \"obs/assay\"\n",
    "          },\n",
    "          {\n",
    "            \"name\": \"Disease\",\n",
    "            \"path\": \"obs/disease\"\n",
    "          },\n",
    "          {\n",
    "            \"name\": \"Organism\",\n",
    "            \"path\": \"obs/organism\"\n",
    "          },\n",
    "          {\n",
    "            \"name\": \"Sex\",\n",
    "            \"path\": \"obs/sex\"\n",
    "          },\n",
    "          {\n",
    "            \"name\": \"Tissue\",\n",
    "            \"path\": \"obs/tissue\"\n",
    "          },\n",
    "          {\n",
    "            \"name\": \"Ethnicity\",\n",
    "            \"path\": \"obs/ethnicity\"\n",
    "          },\n",
    "          {\n",
    "            \"name\": \"Development Stage\",\n",
    "            \"path\": \"obs/development_stage\"\n",
    "          }\n",
    "        ],\n",
    "    },\n",
    "    coordination_values={\n",
    "        \"obsType\": \"cell\",\n",
    "        \"featureType\": \"gene\",\n",
    "        \"featureValueType\": \"expression\"\n",
    "    }\n",
    ")\n",
    "sets_manager = vc.add_view(cm.OBS_SETS, dataset=dataset)\n",
    "set_sizes_plot = vc.add_view(cm.OBS_SET_SIZES, dataset=dataset)\n",
    "\n",
    "vc.layout(sets_manager | set_sizes_plot);"
   ]
  },
  {
   "cell_type": "code",
   "execution_count": null,
   "metadata": {
    "id": "0w4kaCv_JU47"
   },
   "outputs": [],
   "source": [
    "from IPython.display import display, HTML\n",
    "\n",
    "url = vc.web_app()\n",
    "display(HTML(f'<a href=\"{url}\" target=\"_blank\">View on Vitessce.io</a>'))"
   ]
  },
  {
   "cell_type": "code",
   "execution_count": null,
   "metadata": {
    "colab": {
     "base_uri": "https://localhost:8080/",
     "height": 617,
     "referenced_widgets": [
      "fb8037068d4f408a8ed8d0743241fb5c",
      "c3955a81793348d694aa23bc90fca202"
     ]
    },
    "executionInfo": {
     "elapsed": 93,
     "status": "ok",
     "timestamp": 1673535995208,
     "user": {
      "displayName": "Mark Keller",
      "userId": "12452164687124895951"
     },
     "user_tz": 300
    },
    "id": "BO5vy2rrWA_K",
    "outputId": "d02e5357-adbe-48eb-d372-93009d5da026"
   },
   "outputs": [],
   "source": [
    "vw = vc.widget()\n",
    "vw"
   ]
  },
  {
   "cell_type": "code",
   "execution_count": null,
   "metadata": {
    "id": "3Zc0Zo-MfLFP"
   },
   "outputs": [],
   "source": []
  }
 ],
 "metadata": {
  "colab": {
   "authorship_tag": "ABX9TyOVaby8KGyASFUoXZ6QUgNd",
   "provenance": []
  },
  "kernelspec": {
   "display_name": "Python 3 (ipykernel)",
   "language": "python",
   "name": "python3"
  },
  "language_info": {
   "codemirror_mode": {
    "name": "ipython",
    "version": 3
   },
   "file_extension": ".py",
   "mimetype": "text/x-python",
   "name": "python",
   "nbconvert_exporter": "python",
   "pygments_lexer": "ipython3",
   "version": "3.8.0"
  },
  "widgets": {
   "application/vnd.jupyter.widget-state+json": {
    "c3955a81793348d694aa23bc90fca202": {
     "model_module": "@jupyter-widgets/base",
     "model_module_version": "1.2.0",
     "model_name": "LayoutModel",
     "state": {
      "_model_module": "@jupyter-widgets/base",
      "_model_module_version": "1.2.0",
      "_model_name": "LayoutModel",
      "_view_count": null,
      "_view_module": "@jupyter-widgets/base",
      "_view_module_version": "1.2.0",
      "_view_name": "LayoutView",
      "align_content": null,
      "align_items": null,
      "align_self": null,
      "border": null,
      "bottom": null,
      "display": null,
      "flex": null,
      "flex_flow": null,
      "grid_area": null,
      "grid_auto_columns": null,
      "grid_auto_flow": null,
      "grid_auto_rows": null,
      "grid_column": null,
      "grid_gap": null,
      "grid_row": null,
      "grid_template_areas": null,
      "grid_template_columns": null,
      "grid_template_rows": null,
      "height": null,
      "justify_content": null,
      "justify_items": null,
      "left": null,
      "margin": null,
      "max_height": null,
      "max_width": null,
      "min_height": null,
      "min_width": null,
      "object_fit": null,
      "object_position": null,
      "order": null,
      "overflow": null,
      "overflow_x": null,
      "overflow_y": null,
      "padding": null,
      "right": null,
      "top": null,
      "visibility": null,
      "width": null
     }
    },
    "fb8037068d4f408a8ed8d0743241fb5c": {
     "model_module": "anywidget",
     "model_module_version": "0.0.3",
     "model_name": "AnyModel",
     "state": {
      "_dom_classes": [],
      "_model_module": "anywidget",
      "_model_module_version": "0.0.3",
      "_model_name": "AnyModel",
      "_module": "\nimport * as d3 from 'https://esm.sh/d3-require@1.3.0';\nimport React from 'https://esm.sh/react@18.2.0';\nimport ReactDOM from 'https://esm.sh/react-dom@18.2.0';\n\nfunction asEsModule(component) {\n  return {\n    __esModule: true,\n    default: component,\n  };\n}\n\nconst e = React.createElement;\n\nconst prefersDark = window.matchMedia && window.matchMedia('(prefers-color-scheme: dark)').matches;\n\n// The jupyter server may be running through a proxy,\n// which means that the client needs to prepend the part of the URL before /proxy/8000 such as\n// https://hub.gke2.mybinder.org/user/vitessce-vitessce-python-swi31vcv/proxy/8000/A/0/cells\nfunction prependBaseUrl(config, proxy) {\n  if(!proxy) {\n    return config;\n  }\n  const { origin } = new URL(window.location.href);\n  let baseUrl;\n  const jupyterLabConfigEl = document.getElementById('jupyter-config-data');\n\n  if (jupyterLabConfigEl) {\n    // This is jupyter lab\n    baseUrl = JSON.parse(jupyterLabConfigEl.textContent || '').baseUrl;\n  } else {\n    // This is jupyter notebook\n    baseUrl = document.getElementsByTagName('body')[0].getAttribute('data-base-url');\n  }\n  return {\n    ...config,\n    datasets: config.datasets.map(d => ({\n      ...d,\n      files: d.files.map(f => ({\n        ...f,\n        url: `${origin}${baseUrl}${f.url}`,\n      })),\n    })),\n  };\n}\n\nexport function render(view) {\n    const jsPackageVersion = view.model.get('js_package_version');\n    let customRequire = d3.require;\n    const customJsUrl = view.model.get('custom_js_url');\n    if(customJsUrl.length > 0) {\n        customRequire = d3.requireFrom(async () => {\n            return customJsUrl;\n        });\n    }\n\n    const aliasedRequire = customRequire.alias({\n        \"react\": React,\n        \"react-dom\": ReactDOM\n    });\n\n    const Vitessce = React.lazy(() => aliasedRequire(`vitessce@${jsPackageVersion}`).then(vitessce => asEsModule(vitessce.Vitessce)));\n\n    function VitessceWidget(props) {\n        const { model } = props;\n\n        const config = prependBaseUrl(model.get('config'), model.get('proxy'));\n        const height = model.get('height');\n        const theme = model.get('theme') === 'auto' ? (prefersDark ? 'dark' : 'light') : model.get('theme');\n\n        const divRef = React.useRef();\n\n        React.useEffect(() => {\n            if(!divRef.current) {\n                return () => {};\n            }\n\n            function handleMouseEnter() {\n                const jpn = divRef.current.closest('.jp-Notebook');\n                if(jpn) {\n                    jpn.style.overflow = \"hidden\";\n                }\n            }\n            function handleMouseLeave(event) {\n                if(event.relatedTarget === null || (event.relatedTarget && event.relatedTarget.closest('.jp-Notebook')?.length)) return;\n                const jpn = divRef.current.closest('.jp-Notebook');\n                if(jpn) {\n                    jpn.style.overflow = \"auto\";\n                }\n            }\n            divRef.current.addEventListener(\"mouseenter\", handleMouseEnter);\n            divRef.current.addEventListener(\"mouseleave\", handleMouseLeave);\n\n            return () => {\n                if(divRef.current) {\n                    divRef.current.removeEventListener(\"mouseenter\", handleMouseEnter);\n                    divRef.current.removeEventListener(\"mouseleave\", handleMouseLeave);\n                }\n            };\n        }, [divRef]);\n\n        const onConfigChange = React.useCallback((config) => {\n            model.set('config', config);\n            model.save_changes();\n        }, [model]);\n\n        const vitessceProps = { height, theme, config, onConfigChange };\n\n        return e('div', { ref: divRef, style: { height: height + 'px' } },\n            e(React.Suspense, { fallback: e('div', {}, 'Loading...') },\n                e(Vitessce, vitessceProps)\n            )\n        );\n    }\n\n    ReactDOM.render(e(VitessceWidget, { model: view.model }), view.el);\n}\n",
      "_view_count": null,
      "_view_module": "anywidget",
      "_view_module_version": "0.0.3",
      "_view_name": "AnyView",
      "config": {
       "coordinationSpace": {
        "additionalObsSets": {
         "A": null
        },
        "dataset": {
         "A": "A"
        },
        "featureSelection": {
         "A": null
        },
        "obsColorEncoding": {
         "A": "cellSetSelection"
        },
        "obsSetColor": {
         "A": [
          {
           "color": [
            68,
            119,
            170
           ],
           "path": [
            "Cell Type"
           ]
          },
          {
           "color": [
            68,
            119,
            170
           ],
           "path": [
            "Cell Type",
            "B cell"
           ]
          },
          {
           "color": [
            136,
            204,
            238
           ],
           "path": [
            "Cell Type",
            "CD14-low, CD16-positive monocyte"
           ]
          },
          {
           "color": [
            68,
            170,
            153
           ],
           "path": [
            "Cell Type",
            "CD4-positive, alpha-beta T cell"
           ]
          },
          {
           "color": [
            17,
            119,
            51
           ],
           "path": [
            "Cell Type",
            "CD4-positive, alpha-beta memory T cell"
           ]
          },
          {
           "color": [
            153,
            153,
            51
           ],
           "path": [
            "Cell Type",
            "CD4-positive, alpha-beta thymocyte"
           ]
          },
          {
           "color": [
            221,
            204,
            119
           ],
           "path": [
            "Cell Type",
            "CD8-positive, alpha-beta T cell"
           ]
          },
          {
           "color": [
            204,
            102,
            119
           ],
           "path": [
            "Cell Type",
            "CD8-positive, alpha-beta memory T cell"
           ]
          },
          {
           "color": [
            136,
            34,
            85
           ],
           "path": [
            "Cell Type",
            "CD8-positive, alpha-beta thymocyte"
           ]
          },
          {
           "color": [
            170,
            68,
            153
           ],
           "path": [
            "Cell Type",
            "T cell"
           ]
          },
          {
           "color": [
            68,
            119,
            170
           ],
           "path": [
            "Cell Type",
            "adipose microvascular endothelial cell"
           ]
          },
          {
           "color": [
            136,
            204,
            238
           ],
           "path": [
            "Cell Type",
            "basal cell"
           ]
          },
          {
           "color": [
            68,
            170,
            153
           ],
           "path": [
            "Cell Type",
            "basophil"
           ]
          },
          {
           "color": [
            17,
            119,
            51
           ],
           "path": [
            "Cell Type",
            "blood vessel endothelial cell"
           ]
          },
          {
           "color": [
            153,
            153,
            51
           ],
           "path": [
            "Cell Type",
            "blood vessel smooth muscle cell"
           ]
          },
          {
           "color": [
            221,
            204,
            119
           ],
           "path": [
            "Cell Type",
            "brush cell"
           ]
          },
          {
           "color": [
            204,
            102,
            119
           ],
           "path": [
            "Cell Type",
            "ciliated cell"
           ]
          },
          {
           "color": [
            136,
            34,
            85
           ],
           "path": [
            "Cell Type",
            "classical monocyte"
           ]
          },
          {
           "color": [
            170,
            68,
            153
           ],
           "path": [
            "Cell Type",
            "club cell"
           ]
          },
          {
           "color": [
            68,
            119,
            170
           ],
           "path": [
            "Cell Type",
            "dendritic cell"
           ]
          },
          {
           "color": [
            136,
            204,
            238
           ],
           "path": [
            "Cell Type",
            "endothelial cell"
           ]
          },
          {
           "color": [
            68,
            170,
            153
           ],
           "path": [
            "Cell Type",
            "endothelial cell of vascular tree"
           ]
          },
          {
           "color": [
            17,
            119,
            51
           ],
           "path": [
            "Cell Type",
            "epithelial cell"
           ]
          },
          {
           "color": [
            153,
            153,
            51
           ],
           "path": [
            "Cell Type",
            "fibroblast"
           ]
          },
          {
           "color": [
            221,
            204,
            119
           ],
           "path": [
            "Cell Type",
            "goblet cell"
           ]
          },
          {
           "color": [
            204,
            102,
            119
           ],
           "path": [
            "Cell Type",
            "innate lymphoid cell"
           ]
          },
          {
           "color": [
            136,
            34,
            85
           ],
           "path": [
            "Cell Type",
            "intermediate monocyte"
           ]
          },
          {
           "color": [
            170,
            68,
            153
           ],
           "path": [
            "Cell Type",
            "ionocyte"
           ]
          },
          {
           "color": [
            68,
            119,
            170
           ],
           "path": [
            "Cell Type",
            "macrophage"
           ]
          },
          {
           "color": [
            136,
            204,
            238
           ],
           "path": [
            "Cell Type",
            "mammary alveolar cell"
           ]
          },
          {
           "color": [
            68,
            170,
            153
           ],
           "path": [
            "Cell Type",
            "mast cell"
           ]
          },
          {
           "color": [
            17,
            119,
            51
           ],
           "path": [
            "Cell Type",
            "megakaryocyte"
           ]
          },
          {
           "color": [
            153,
            153,
            51
           ],
           "path": [
            "Cell Type",
            "mesothelial cell"
           ]
          },
          {
           "color": [
            221,
            204,
            119
           ],
           "path": [
            "Cell Type",
            "monocyte"
           ]
          },
          {
           "color": [
            204,
            102,
            119
           ],
           "path": [
            "Cell Type",
            "mucus secreting cell"
           ]
          },
          {
           "color": [
            136,
            34,
            85
           ],
           "path": [
            "Cell Type",
            "muscle cell"
           ]
          },
          {
           "color": [
            170,
            68,
            153
           ],
           "path": [
            "Cell Type",
            "myeloid dendritic cell"
           ]
          },
          {
           "color": [
            68,
            119,
            170
           ],
           "path": [
            "Cell Type",
            "myofibroblast cell"
           ]
          },
          {
           "color": [
            136,
            204,
            238
           ],
           "path": [
            "Cell Type",
            "native cell"
           ]
          },
          {
           "color": [
            68,
            170,
            153
           ],
           "path": [
            "Cell Type",
            "natural killer cell"
           ]
          },
          {
           "color": [
            17,
            119,
            51
           ],
           "path": [
            "Cell Type",
            "neuroendocrine cell"
           ]
          },
          {
           "color": [
            153,
            153,
            51
           ],
           "path": [
            "Cell Type",
            "neutrophil"
           ]
          },
          {
           "color": [
            221,
            204,
            119
           ],
           "path": [
            "Cell Type",
            "non-classical monocyte"
           ]
          },
          {
           "color": [
            204,
            102,
            119
           ],
           "path": [
            "Cell Type",
            "pericyte cell"
           ]
          },
          {
           "color": [
            136,
            34,
            85
           ],
           "path": [
            "Cell Type",
            "plasma cell"
           ]
          },
          {
           "color": [
            170,
            68,
            153
           ],
           "path": [
            "Cell Type",
            "plasmacytoid dendritic cell"
           ]
          },
          {
           "color": [
            68,
            119,
            170
           ],
           "path": [
            "Cell Type",
            "regular cardiac myocyte"
           ]
          },
          {
           "color": [
            136,
            204,
            238
           ],
           "path": [
            "Cell Type",
            "secretory cell"
           ]
          },
          {
           "color": [
            68,
            170,
            153
           ],
           "path": [
            "Cell Type",
            "smooth muscle cell"
           ]
          },
          {
           "color": [
            17,
            119,
            51
           ],
           "path": [
            "Cell Type",
            "tracheobronchial smooth muscle cell"
           ]
          },
          {
           "color": [
            68,
            119,
            170
           ],
           "path": [
            "Cell Type Annotation"
           ]
          },
          {
           "color": [
            68,
            119,
            170
           ],
           "path": [
            "Cell Type Annotation",
            "Adventitial Fibroblast"
           ]
          },
          {
           "color": [
            68,
            119,
            170
           ],
           "path": [
            "Cell Type Annotation",
            "Adventitial Fibroblast",
            "Dendritic"
           ]
          },
          {
           "color": [
            136,
            204,
            238
           ],
           "path": [
            "Cell Type Annotation",
            "Adventitial Fibroblast",
            "Fibroblast"
           ]
          },
          {
           "color": [
            68,
            170,
            153
           ],
           "path": [
            "Cell Type Annotation",
            "Adventitial Fibroblast",
            "Smooth Muscle"
           ]
          },
          {
           "color": [
            136,
            204,
            238
           ],
           "path": [
            "Cell Type Annotation",
            "Airway Smooth Muscle"
           ]
          },
          {
           "color": [
            17,
            119,
            51
           ],
           "path": [
            "Cell Type Annotation",
            "Airway Smooth Muscle",
            "Smooth Muscle"
           ]
          },
          {
           "color": [
            68,
            170,
            153
           ],
           "path": [
            "Cell Type Annotation",
            "Alveolar Epithelial Type 1"
           ]
          },
          {
           "color": [
            153,
            153,
            51
           ],
           "path": [
            "Cell Type Annotation",
            "Alveolar Epithelial Type 1",
            "Alveolar Epithelial Type 1"
           ]
          },
          {
           "color": [
            221,
            204,
            119
           ],
           "path": [
            "Cell Type Annotation",
            "Alveolar Epithelial Type 1",
            "Alveolar Epithelial Type 2"
           ]
          },
          {
           "color": [
            204,
            102,
            119
           ],
           "path": [
            "Cell Type Annotation",
            "Alveolar Epithelial Type 1",
            "Basal"
           ]
          },
          {
           "color": [
            136,
            34,
            85
           ],
           "path": [
            "Cell Type Annotation",
            "Alveolar Epithelial Type 1",
            "Bronchial Vessel"
           ]
          },
          {
           "color": [
            170,
            68,
            153
           ],
           "path": [
            "Cell Type Annotation",
            "Alveolar Epithelial Type 1",
            "Dendritic"
           ]
          },
          {
           "color": [
            68,
            119,
            170
           ],
           "path": [
            "Cell Type Annotation",
            "Alveolar Epithelial Type 1",
            "Fibroblast"
           ]
          },
          {
           "color": [
            17,
            119,
            51
           ],
           "path": [
            "Cell Type Annotation",
            "Alveolar Epithelial Type 2"
           ]
          },
          {
           "color": [
            136,
            204,
            238
           ],
           "path": [
            "Cell Type Annotation",
            "Alveolar Epithelial Type 2",
            "Alveolar Epithelial Type 2"
           ]
          },
          {
           "color": [
            68,
            170,
            153
           ],
           "path": [
            "Cell Type Annotation",
            "Alveolar Epithelial Type 2",
            "Basal"
           ]
          },
          {
           "color": [
            17,
            119,
            51
           ],
           "path": [
            "Cell Type Annotation",
            "Alveolar Epithelial Type 2",
            "Bronchial Vessel"
           ]
          },
          {
           "color": [
            153,
            153,
            51
           ],
           "path": [
            "Cell Type Annotation",
            "Alveolar Epithelial Type 2",
            "CD4 T"
           ]
          },
          {
           "color": [
            221,
            204,
            119
           ],
           "path": [
            "Cell Type Annotation",
            "Alveolar Epithelial Type 2",
            "Dendritic"
           ]
          },
          {
           "color": [
            204,
            102,
            119
           ],
           "path": [
            "Cell Type Annotation",
            "Alveolar Epithelial Type 2",
            "Fibroblast"
           ]
          },
          {
           "color": [
            153,
            153,
            51
           ],
           "path": [
            "Cell Type Annotation",
            "Alveolar Fibroblast"
           ]
          },
          {
           "color": [
            136,
            34,
            85
           ],
           "path": [
            "Cell Type Annotation",
            "Alveolar Fibroblast",
            "Alveolar Epithelial Type 2"
           ]
          },
          {
           "color": [
            170,
            68,
            153
           ],
           "path": [
            "Cell Type Annotation",
            "Alveolar Fibroblast",
            "Basal"
           ]
          },
          {
           "color": [
            68,
            119,
            170
           ],
           "path": [
            "Cell Type Annotation",
            "Alveolar Fibroblast",
            "CD14+ Monocyte"
           ]
          },
          {
           "color": [
            136,
            204,
            238
           ],
           "path": [
            "Cell Type Annotation",
            "Alveolar Fibroblast",
            "CD4 T"
           ]
          },
          {
           "color": [
            68,
            170,
            153
           ],
           "path": [
            "Cell Type Annotation",
            "Alveolar Fibroblast",
            "CD8 T"
           ]
          },
          {
           "color": [
            17,
            119,
            51
           ],
           "path": [
            "Cell Type Annotation",
            "Alveolar Fibroblast",
            "Dendritic"
           ]
          },
          {
           "color": [
            153,
            153,
            51
           ],
           "path": [
            "Cell Type Annotation",
            "Alveolar Fibroblast",
            "Fibroblast"
           ]
          },
          {
           "color": [
            221,
            204,
            119
           ],
           "path": [
            "Cell Type Annotation",
            "Alveolar Fibroblast",
            "Smooth Muscle"
           ]
          },
          {
           "color": [
            221,
            204,
            119
           ],
           "path": [
            "Cell Type Annotation",
            "Artery"
           ]
          },
          {
           "color": [
            204,
            102,
            119
           ],
           "path": [
            "Cell Type Annotation",
            "Artery",
            "Alveolar Epithelial Type 2"
           ]
          },
          {
           "color": [
            136,
            34,
            85
           ],
           "path": [
            "Cell Type Annotation",
            "Artery",
            "Artery"
           ]
          },
          {
           "color": [
            170,
            68,
            153
           ],
           "path": [
            "Cell Type Annotation",
            "Artery",
            "Bronchial Vessel"
           ]
          },
          {
           "color": [
            68,
            119,
            170
           ],
           "path": [
            "Cell Type Annotation",
            "Artery",
            "CD4 T"
           ]
          },
          {
           "color": [
            136,
            204,
            238
           ],
           "path": [
            "Cell Type Annotation",
            "Artery",
            "CD8 T"
           ]
          },
          {
           "color": [
            68,
            170,
            153
           ],
           "path": [
            "Cell Type Annotation",
            "Artery",
            "Dendritic"
           ]
          },
          {
           "color": [
            17,
            119,
            51
           ],
           "path": [
            "Cell Type Annotation",
            "Artery",
            "Fibroblast"
           ]
          },
          {
           "color": [
            204,
            102,
            119
           ],
           "path": [
            "Cell Type Annotation",
            "B"
           ]
          },
          {
           "color": [
            153,
            153,
            51
           ],
           "path": [
            "Cell Type Annotation",
            "B",
            "B"
           ]
          },
          {
           "color": [
            221,
            204,
            119
           ],
           "path": [
            "Cell Type Annotation",
            "B",
            "CD4 T"
           ]
          },
          {
           "color": [
            204,
            102,
            119
           ],
           "path": [
            "Cell Type Annotation",
            "B",
            "CD8 T"
           ]
          },
          {
           "color": [
            136,
            34,
            85
           ],
           "path": [
            "Cell Type Annotation",
            "B",
            "Dendritic"
           ]
          },
          {
           "color": [
            136,
            34,
            85
           ],
           "path": [
            "Cell Type Annotation",
            "Basal"
           ]
          },
          {
           "color": [
            170,
            68,
            153
           ],
           "path": [
            "Cell Type Annotation",
            "Basal",
            "Alveolar Epithelial Type 2"
           ]
          },
          {
           "color": [
            68,
            119,
            170
           ],
           "path": [
            "Cell Type Annotation",
            "Basal",
            "Basal"
           ]
          },
          {
           "color": [
            136,
            204,
            238
           ],
           "path": [
            "Cell Type Annotation",
            "Basal",
            "CD4 T"
           ]
          },
          {
           "color": [
            68,
            170,
            153
           ],
           "path": [
            "Cell Type Annotation",
            "Basal",
            "Dendritic"
           ]
          },
          {
           "color": [
            170,
            68,
            153
           ],
           "path": [
            "Cell Type Annotation",
            "Basophil/Mast 1"
           ]
          },
          {
           "color": [
            17,
            119,
            51
           ],
           "path": [
            "Cell Type Annotation",
            "Basophil/Mast 1",
            "Alveolar Epithelial Type 2"
           ]
          },
          {
           "color": [
            153,
            153,
            51
           ],
           "path": [
            "Cell Type Annotation",
            "Basophil/Mast 1",
            "Basophil/Mast"
           ]
          },
          {
           "color": [
            221,
            204,
            119
           ],
           "path": [
            "Cell Type Annotation",
            "Basophil/Mast 1",
            "CD4 T"
           ]
          },
          {
           "color": [
            204,
            102,
            119
           ],
           "path": [
            "Cell Type Annotation",
            "Basophil/Mast 1",
            "CD8 T"
           ]
          },
          {
           "color": [
            136,
            34,
            85
           ],
           "path": [
            "Cell Type Annotation",
            "Basophil/Mast 1",
            "Dendritic"
           ]
          },
          {
           "color": [
            68,
            119,
            170
           ],
           "path": [
            "Cell Type Annotation",
            "Basophil/Mast 2"
           ]
          },
          {
           "color": [
            170,
            68,
            153
           ],
           "path": [
            "Cell Type Annotation",
            "Basophil/Mast 2",
            "Basophil/Mast"
           ]
          },
          {
           "color": [
            136,
            204,
            238
           ],
           "path": [
            "Cell Type Annotation",
            "Bronchial Vessel 1"
           ]
          },
          {
           "color": [
            68,
            119,
            170
           ],
           "path": [
            "Cell Type Annotation",
            "Bronchial Vessel 1",
            "Bronchial Vessel"
           ]
          },
          {
           "color": [
            136,
            204,
            238
           ],
           "path": [
            "Cell Type Annotation",
            "Bronchial Vessel 1",
            "CD4 T"
           ]
          },
          {
           "color": [
            68,
            170,
            153
           ],
           "path": [
            "Cell Type Annotation",
            "Bronchial Vessel 1",
            "Dendritic"
           ]
          },
          {
           "color": [
            17,
            119,
            51
           ],
           "path": [
            "Cell Type Annotation",
            "Bronchial Vessel 1",
            "Smooth Muscle"
           ]
          },
          {
           "color": [
            68,
            170,
            153
           ],
           "path": [
            "Cell Type Annotation",
            "Bronchial Vessel 2"
           ]
          },
          {
           "color": [
            153,
            153,
            51
           ],
           "path": [
            "Cell Type Annotation",
            "Bronchial Vessel 2",
            "Bronchial Vessel"
           ]
          },
          {
           "color": [
            221,
            204,
            119
           ],
           "path": [
            "Cell Type Annotation",
            "Bronchial Vessel 2",
            "CD4 T"
           ]
          },
          {
           "color": [
            17,
            119,
            51
           ],
           "path": [
            "Cell Type Annotation",
            "Capillary"
           ]
          },
          {
           "color": [
            204,
            102,
            119
           ],
           "path": [
            "Cell Type Annotation",
            "Capillary",
            "Alveolar Epithelial Type 2"
           ]
          },
          {
           "color": [
            136,
            34,
            85
           ],
           "path": [
            "Cell Type Annotation",
            "Capillary",
            "Basal"
           ]
          },
          {
           "color": [
            170,
            68,
            153
           ],
           "path": [
            "Cell Type Annotation",
            "Capillary",
            "Basophil/Mast"
           ]
          },
          {
           "color": [
            68,
            119,
            170
           ],
           "path": [
            "Cell Type Annotation",
            "Capillary",
            "Bronchial Vessel"
           ]
          },
          {
           "color": [
            136,
            204,
            238
           ],
           "path": [
            "Cell Type Annotation",
            "Capillary",
            "Capillary"
           ]
          },
          {
           "color": [
            68,
            170,
            153
           ],
           "path": [
            "Cell Type Annotation",
            "Capillary",
            "Capillary Intermediate"
           ]
          },
          {
           "color": [
            17,
            119,
            51
           ],
           "path": [
            "Cell Type Annotation",
            "Capillary",
            "CD8 T"
           ]
          },
          {
           "color": [
            153,
            153,
            51
           ],
           "path": [
            "Cell Type Annotation",
            "Capillary",
            "Dendritic"
           ]
          },
          {
           "color": [
            221,
            204,
            119
           ],
           "path": [
            "Cell Type Annotation",
            "Capillary",
            "Fibroblast"
           ]
          },
          {
           "color": [
            204,
            102,
            119
           ],
           "path": [
            "Cell Type Annotation",
            "Capillary",
            "Smooth Muscle"
           ]
          },
          {
           "color": [
            153,
            153,
            51
           ],
           "path": [
            "Cell Type Annotation",
            "Capillary Aerocyte"
           ]
          },
          {
           "color": [
            136,
            34,
            85
           ],
           "path": [
            "Cell Type Annotation",
            "Capillary Aerocyte",
            "Basal"
           ]
          },
          {
           "color": [
            170,
            68,
            153
           ],
           "path": [
            "Cell Type Annotation",
            "Capillary Aerocyte",
            "Bronchial Vessel"
           ]
          },
          {
           "color": [
            68,
            119,
            170
           ],
           "path": [
            "Cell Type Annotation",
            "Capillary Aerocyte",
            "Capillary Aerocyte"
           ]
          },
          {
           "color": [
            136,
            204,
            238
           ],
           "path": [
            "Cell Type Annotation",
            "Capillary Aerocyte",
            "Capillary Intermediate"
           ]
          },
          {
           "color": [
            68,
            170,
            153
           ],
           "path": [
            "Cell Type Annotation",
            "Capillary Aerocyte",
            "Dendritic"
           ]
          },
          {
           "color": [
            221,
            204,
            119
           ],
           "path": [
            "Cell Type Annotation",
            "Capillary Intermediate 1"
           ]
          },
          {
           "color": [
            17,
            119,
            51
           ],
           "path": [
            "Cell Type Annotation",
            "Capillary Intermediate 1",
            "Capillary Intermediate"
           ]
          },
          {
           "color": [
            204,
            102,
            119
           ],
           "path": [
            "Cell Type Annotation",
            "Capillary Intermediate 2"
           ]
          },
          {
           "color": [
            153,
            153,
            51
           ],
           "path": [
            "Cell Type Annotation",
            "Capillary Intermediate 2",
            "Alveolar Epithelial Type 2"
           ]
          },
          {
           "color": [
            221,
            204,
            119
           ],
           "path": [
            "Cell Type Annotation",
            "Capillary Intermediate 2",
            "Basal"
           ]
          },
          {
           "color": [
            204,
            102,
            119
           ],
           "path": [
            "Cell Type Annotation",
            "Capillary Intermediate 2",
            "Basophil/Mast"
           ]
          },
          {
           "color": [
            136,
            34,
            85
           ],
           "path": [
            "Cell Type Annotation",
            "Capillary Intermediate 2",
            "Bronchial Vessel"
           ]
          },
          {
           "color": [
            170,
            68,
            153
           ],
           "path": [
            "Cell Type Annotation",
            "Capillary Intermediate 2",
            "Capillary Intermediate"
           ]
          },
          {
           "color": [
            68,
            119,
            170
           ],
           "path": [
            "Cell Type Annotation",
            "Capillary Intermediate 2",
            "CD4 T"
           ]
          },
          {
           "color": [
            136,
            204,
            238
           ],
           "path": [
            "Cell Type Annotation",
            "Capillary Intermediate 2",
            "Dendritic"
           ]
          },
          {
           "color": [
            68,
            170,
            153
           ],
           "path": [
            "Cell Type Annotation",
            "Capillary Intermediate 2",
            "Smooth Muscle"
           ]
          },
          {
           "color": [
            136,
            34,
            85
           ],
           "path": [
            "Cell Type Annotation",
            "CD4+ Memory/Effector T"
           ]
          },
          {
           "color": [
            17,
            119,
            51
           ],
           "path": [
            "Cell Type Annotation",
            "CD4+ Memory/Effector T",
            "Alveolar Epithelial Type 2"
           ]
          },
          {
           "color": [
            153,
            153,
            51
           ],
           "path": [
            "Cell Type Annotation",
            "CD4+ Memory/Effector T",
            "Basal"
           ]
          },
          {
           "color": [
            221,
            204,
            119
           ],
           "path": [
            "Cell Type Annotation",
            "CD4+ Memory/Effector T",
            "Basophil/Mast"
           ]
          },
          {
           "color": [
            204,
            102,
            119
           ],
           "path": [
            "Cell Type Annotation",
            "CD4+ Memory/Effector T",
            "CD16+ Monocyte"
           ]
          },
          {
           "color": [
            136,
            34,
            85
           ],
           "path": [
            "Cell Type Annotation",
            "CD4+ Memory/Effector T",
            "CD4 T"
           ]
          },
          {
           "color": [
            170,
            68,
            153
           ],
           "path": [
            "Cell Type Annotation",
            "CD4+ Memory/Effector T",
            "CD8 T"
           ]
          },
          {
           "color": [
            68,
            119,
            170
           ],
           "path": [
            "Cell Type Annotation",
            "CD4+ Memory/Effector T",
            "Dendritic"
           ]
          },
          {
           "color": [
            136,
            204,
            238
           ],
           "path": [
            "Cell Type Annotation",
            "CD4+ Memory/Effector T",
            "Fibroblast"
           ]
          },
          {
           "color": [
            68,
            170,
            153
           ],
           "path": [
            "Cell Type Annotation",
            "CD4+ Memory/Effector T",
            "Smooth Muscle"
           ]
          },
          {
           "color": [
            170,
            68,
            153
           ],
           "path": [
            "Cell Type Annotation",
            "CD4+ Naive T"
           ]
          },
          {
           "color": [
            17,
            119,
            51
           ],
           "path": [
            "Cell Type Annotation",
            "CD4+ Naive T",
            "CD4 T"
           ]
          },
          {
           "color": [
            68,
            119,
            170
           ],
           "path": [
            "Cell Type Annotation",
            "CD8+ Memory/Effector T"
           ]
          },
          {
           "color": [
            153,
            153,
            51
           ],
           "path": [
            "Cell Type Annotation",
            "CD8+ Memory/Effector T",
            "CD4 T"
           ]
          },
          {
           "color": [
            221,
            204,
            119
           ],
           "path": [
            "Cell Type Annotation",
            "CD8+ Memory/Effector T",
            "CD8 T"
           ]
          },
          {
           "color": [
            204,
            102,
            119
           ],
           "path": [
            "Cell Type Annotation",
            "CD8+ Memory/Effector T",
            "Dendritic"
           ]
          },
          {
           "color": [
            136,
            204,
            238
           ],
           "path": [
            "Cell Type Annotation",
            "CD8+ Naive T"
           ]
          },
          {
           "color": [
            136,
            34,
            85
           ],
           "path": [
            "Cell Type Annotation",
            "CD8+ Naive T",
            "CD4 T"
           ]
          },
          {
           "color": [
            170,
            68,
            153
           ],
           "path": [
            "Cell Type Annotation",
            "CD8+ Naive T",
            "CD8 T"
           ]
          },
          {
           "color": [
            68,
            119,
            170
           ],
           "path": [
            "Cell Type Annotation",
            "CD8+ Naive T",
            "Dendritic"
           ]
          },
          {
           "color": [
            68,
            170,
            153
           ],
           "path": [
            "Cell Type Annotation",
            "Ciliated"
           ]
          },
          {
           "color": [
            136,
            204,
            238
           ],
           "path": [
            "Cell Type Annotation",
            "Ciliated",
            "Alveolar Epithelial Type 2"
           ]
          },
          {
           "color": [
            68,
            170,
            153
           ],
           "path": [
            "Cell Type Annotation",
            "Ciliated",
            "Basal"
           ]
          },
          {
           "color": [
            17,
            119,
            51
           ],
           "path": [
            "Cell Type Annotation",
            "Ciliated",
            "CD4 T"
           ]
          },
          {
           "color": [
            153,
            153,
            51
           ],
           "path": [
            "Cell Type Annotation",
            "Ciliated",
            "Ciliated"
           ]
          },
          {
           "color": [
            221,
            204,
            119
           ],
           "path": [
            "Cell Type Annotation",
            "Ciliated",
            "Dendritic"
           ]
          },
          {
           "color": [
            17,
            119,
            51
           ],
           "path": [
            "Cell Type Annotation",
            "Classical Monocyte"
           ]
          },
          {
           "color": [
            204,
            102,
            119
           ],
           "path": [
            "Cell Type Annotation",
            "Classical Monocyte",
            "Alveolar Epithelial Type 2"
           ]
          },
          {
           "color": [
            136,
            34,
            85
           ],
           "path": [
            "Cell Type Annotation",
            "Classical Monocyte",
            "Basal"
           ]
          },
          {
           "color": [
            170,
            68,
            153
           ],
           "path": [
            "Cell Type Annotation",
            "Classical Monocyte",
            "Basophil/Mast"
           ]
          },
          {
           "color": [
            68,
            119,
            170
           ],
           "path": [
            "Cell Type Annotation",
            "Classical Monocyte",
            "Bronchial Vessel"
           ]
          },
          {
           "color": [
            136,
            204,
            238
           ],
           "path": [
            "Cell Type Annotation",
            "Classical Monocyte",
            "CD14+ Monocyte"
           ]
          },
          {
           "color": [
            68,
            170,
            153
           ],
           "path": [
            "Cell Type Annotation",
            "Classical Monocyte",
            "CD16+ Monocyte"
           ]
          },
          {
           "color": [
            17,
            119,
            51
           ],
           "path": [
            "Cell Type Annotation",
            "Classical Monocyte",
            "CD4 T"
           ]
          },
          {
           "color": [
            153,
            153,
            51
           ],
           "path": [
            "Cell Type Annotation",
            "Classical Monocyte",
            "Dendritic"
           ]
          },
          {
           "color": [
            221,
            204,
            119
           ],
           "path": [
            "Cell Type Annotation",
            "Classical Monocyte",
            "Fibroblast"
           ]
          },
          {
           "color": [
            153,
            153,
            51
           ],
           "path": [
            "Cell Type Annotation",
            "Club"
           ]
          },
          {
           "color": [
            204,
            102,
            119
           ],
           "path": [
            "Cell Type Annotation",
            "Club",
            "Alveolar Epithelial Type 2"
           ]
          },
          {
           "color": [
            136,
            34,
            85
           ],
           "path": [
            "Cell Type Annotation",
            "Club",
            "Basal"
           ]
          },
          {
           "color": [
            170,
            68,
            153
           ],
           "path": [
            "Cell Type Annotation",
            "Club",
            "CD4 T"
           ]
          },
          {
           "color": [
            68,
            119,
            170
           ],
           "path": [
            "Cell Type Annotation",
            "Club",
            "Club"
           ]
          },
          {
           "color": [
            136,
            204,
            238
           ],
           "path": [
            "Cell Type Annotation",
            "Club",
            "Dendritic"
           ]
          },
          {
           "color": [
            221,
            204,
            119
           ],
           "path": [
            "Cell Type Annotation",
            "Differentiating Basal"
           ]
          },
          {
           "color": [
            68,
            170,
            153
           ],
           "path": [
            "Cell Type Annotation",
            "Differentiating Basal",
            "Basal"
           ]
          },
          {
           "color": [
            204,
            102,
            119
           ],
           "path": [
            "Cell Type Annotation",
            "EREG+ Dendritic"
           ]
          },
          {
           "color": [
            17,
            119,
            51
           ],
           "path": [
            "Cell Type Annotation",
            "EREG+ Dendritic",
            "CD14+ Monocyte"
           ]
          },
          {
           "color": [
            153,
            153,
            51
           ],
           "path": [
            "Cell Type Annotation",
            "EREG+ Dendritic",
            "CD16+ Monocyte"
           ]
          },
          {
           "color": [
            221,
            204,
            119
           ],
           "path": [
            "Cell Type Annotation",
            "EREG+ Dendritic",
            "CD8 T"
           ]
          },
          {
           "color": [
            204,
            102,
            119
           ],
           "path": [
            "Cell Type Annotation",
            "EREG+ Dendritic",
            "Dendritic"
           ]
          },
          {
           "color": [
            136,
            34,
            85
           ],
           "path": [
            "Cell Type Annotation",
            "Fibromyocyte"
           ]
          },
          {
           "color": [
            136,
            34,
            85
           ],
           "path": [
            "Cell Type Annotation",
            "Fibromyocyte",
            "Fibroblast"
           ]
          },
          {
           "color": [
            170,
            68,
            153
           ],
           "path": [
            "Cell Type Annotation",
            "Fibromyocyte",
            "Fibromyocyte"
           ]
          },
          {
           "color": [
            68,
            119,
            170
           ],
           "path": [
            "Cell Type Annotation",
            "Fibromyocyte",
            "Smooth Muscle"
           ]
          },
          {
           "color": [
            170,
            68,
            153
           ],
           "path": [
            "Cell Type Annotation",
            "Goblet"
           ]
          },
          {
           "color": [
            136,
            204,
            238
           ],
           "path": [
            "Cell Type Annotation",
            "Goblet",
            "Basal"
           ]
          },
          {
           "color": [
            68,
            170,
            153
           ],
           "path": [
            "Cell Type Annotation",
            "Goblet",
            "Goblet"
           ]
          },
          {
           "color": [
            68,
            119,
            170
           ],
           "path": [
            "Cell Type Annotation",
            "IGSF21+ Dendritic"
           ]
          },
          {
           "color": [
            17,
            119,
            51
           ],
           "path": [
            "Cell Type Annotation",
            "IGSF21+ Dendritic",
            "CD14+ Monocyte"
           ]
          },
          {
           "color": [
            153,
            153,
            51
           ],
           "path": [
            "Cell Type Annotation",
            "IGSF21+ Dendritic",
            "CD4 T"
           ]
          },
          {
           "color": [
            221,
            204,
            119
           ],
           "path": [
            "Cell Type Annotation",
            "IGSF21+ Dendritic",
            "Dendritic"
           ]
          },
          {
           "color": [
            136,
            204,
            238
           ],
           "path": [
            "Cell Type Annotation",
            "Intermediate Monocyte"
           ]
          },
          {
           "color": [
            204,
            102,
            119
           ],
           "path": [
            "Cell Type Annotation",
            "Intermediate Monocyte",
            "CD14+ Monocyte"
           ]
          },
          {
           "color": [
            136,
            34,
            85
           ],
           "path": [
            "Cell Type Annotation",
            "Intermediate Monocyte",
            "CD16+ Monocyte"
           ]
          },
          {
           "color": [
            170,
            68,
            153
           ],
           "path": [
            "Cell Type Annotation",
            "Intermediate Monocyte",
            "Dendritic"
           ]
          },
          {
           "color": [
            68,
            170,
            153
           ],
           "path": [
            "Cell Type Annotation",
            "Ionocyte"
           ]
          },
          {
           "color": [
            68,
            119,
            170
           ],
           "path": [
            "Cell Type Annotation",
            "Ionocyte",
            "Alveolar Epithelial Type 2"
           ]
          },
          {
           "color": [
            136,
            204,
            238
           ],
           "path": [
            "Cell Type Annotation",
            "Ionocyte",
            "Basal"
           ]
          },
          {
           "color": [
            68,
            170,
            153
           ],
           "path": [
            "Cell Type Annotation",
            "Ionocyte",
            "CD4 T"
           ]
          },
          {
           "color": [
            17,
            119,
            51
           ],
           "path": [
            "Cell Type Annotation",
            "Ionocyte",
            "Dendritic"
           ]
          },
          {
           "color": [
            153,
            153,
            51
           ],
           "path": [
            "Cell Type Annotation",
            "Ionocyte",
            "Ionocyte"
           ]
          },
          {
           "color": [
            17,
            119,
            51
           ],
           "path": [
            "Cell Type Annotation",
            "Lipofibroblast"
           ]
          },
          {
           "color": [
            221,
            204,
            119
           ],
           "path": [
            "Cell Type Annotation",
            "Lipofibroblast",
            "Fibroblast"
           ]
          },
          {
           "color": [
            204,
            102,
            119
           ],
           "path": [
            "Cell Type Annotation",
            "Lipofibroblast",
            "Lipofibroblast"
           ]
          },
          {
           "color": [
            153,
            153,
            51
           ],
           "path": [
            "Cell Type Annotation",
            "Lymphatic"
           ]
          },
          {
           "color": [
            136,
            34,
            85
           ],
           "path": [
            "Cell Type Annotation",
            "Lymphatic",
            "Alveolar Epithelial Type 2"
           ]
          },
          {
           "color": [
            170,
            68,
            153
           ],
           "path": [
            "Cell Type Annotation",
            "Lymphatic",
            "Bronchial Vessel"
           ]
          },
          {
           "color": [
            68,
            119,
            170
           ],
           "path": [
            "Cell Type Annotation",
            "Lymphatic",
            "CD4 T"
           ]
          },
          {
           "color": [
            136,
            204,
            238
           ],
           "path": [
            "Cell Type Annotation",
            "Lymphatic",
            "Dendritic"
           ]
          },
          {
           "color": [
            68,
            170,
            153
           ],
           "path": [
            "Cell Type Annotation",
            "Lymphatic",
            "Fibroblast"
           ]
          },
          {
           "color": [
            17,
            119,
            51
           ],
           "path": [
            "Cell Type Annotation",
            "Lymphatic",
            "Lymphatic"
           ]
          },
          {
           "color": [
            221,
            204,
            119
           ],
           "path": [
            "Cell Type Annotation",
            "Macrophage"
           ]
          },
          {
           "color": [
            153,
            153,
            51
           ],
           "path": [
            "Cell Type Annotation",
            "Macrophage",
            "Alveolar Epithelial Type 2"
           ]
          },
          {
           "color": [
            221,
            204,
            119
           ],
           "path": [
            "Cell Type Annotation",
            "Macrophage",
            "Basal"
           ]
          },
          {
           "color": [
            204,
            102,
            119
           ],
           "path": [
            "Cell Type Annotation",
            "Macrophage",
            "Basophil/Mast"
           ]
          },
          {
           "color": [
            136,
            34,
            85
           ],
           "path": [
            "Cell Type Annotation",
            "Macrophage",
            "Bronchial Vessel"
           ]
          },
          {
           "color": [
            170,
            68,
            153
           ],
           "path": [
            "Cell Type Annotation",
            "Macrophage",
            "CD14+ Monocyte"
           ]
          },
          {
           "color": [
            68,
            119,
            170
           ],
           "path": [
            "Cell Type Annotation",
            "Macrophage",
            "CD16+ Monocyte"
           ]
          },
          {
           "color": [
            136,
            204,
            238
           ],
           "path": [
            "Cell Type Annotation",
            "Macrophage",
            "CD4 T"
           ]
          },
          {
           "color": [
            68,
            170,
            153
           ],
           "path": [
            "Cell Type Annotation",
            "Macrophage",
            "CD8 T"
           ]
          },
          {
           "color": [
            17,
            119,
            51
           ],
           "path": [
            "Cell Type Annotation",
            "Macrophage",
            "Ciliated"
           ]
          },
          {
           "color": [
            153,
            153,
            51
           ],
           "path": [
            "Cell Type Annotation",
            "Macrophage",
            "Dendritic"
           ]
          },
          {
           "color": [
            221,
            204,
            119
           ],
           "path": [
            "Cell Type Annotation",
            "Macrophage",
            "Fibroblast"
           ]
          },
          {
           "color": [
            204,
            102,
            119
           ],
           "path": [
            "Cell Type Annotation",
            "Macrophage",
            "Macrophage"
           ]
          },
          {
           "color": [
            136,
            34,
            85
           ],
           "path": [
            "Cell Type Annotation",
            "Macrophage",
            "Smooth Muscle"
           ]
          },
          {
           "color": [
            204,
            102,
            119
           ],
           "path": [
            "Cell Type Annotation",
            "Mesothelial"
           ]
          },
          {
           "color": [
            170,
            68,
            153
           ],
           "path": [
            "Cell Type Annotation",
            "Mesothelial",
            "Basal"
           ]
          },
          {
           "color": [
            68,
            119,
            170
           ],
           "path": [
            "Cell Type Annotation",
            "Mesothelial",
            "Fibroblast"
           ]
          },
          {
           "color": [
            136,
            204,
            238
           ],
           "path": [
            "Cell Type Annotation",
            "Mesothelial",
            "Mesothelial"
           ]
          },
          {
           "color": [
            136,
            34,
            85
           ],
           "path": [
            "Cell Type Annotation",
            "Mucous"
           ]
          },
          {
           "color": [
            68,
            170,
            153
           ],
           "path": [
            "Cell Type Annotation",
            "Mucous",
            "Alveolar Epithelial Type 2"
           ]
          },
          {
           "color": [
            17,
            119,
            51
           ],
           "path": [
            "Cell Type Annotation",
            "Mucous",
            "Basal"
           ]
          },
          {
           "color": [
            153,
            153,
            51
           ],
           "path": [
            "Cell Type Annotation",
            "Mucous",
            "CD16+ Monocyte"
           ]
          },
          {
           "color": [
            221,
            204,
            119
           ],
           "path": [
            "Cell Type Annotation",
            "Mucous",
            "Ciliated"
           ]
          },
          {
           "color": [
            204,
            102,
            119
           ],
           "path": [
            "Cell Type Annotation",
            "Mucous",
            "Mucous"
           ]
          },
          {
           "color": [
            170,
            68,
            153
           ],
           "path": [
            "Cell Type Annotation",
            "Myeloid Dendritic Type 1"
           ]
          },
          {
           "color": [
            136,
            34,
            85
           ],
           "path": [
            "Cell Type Annotation",
            "Myeloid Dendritic Type 1",
            "Dendritic"
           ]
          },
          {
           "color": [
            68,
            119,
            170
           ],
           "path": [
            "Cell Type Annotation",
            "Myeloid Dendritic Type 2"
           ]
          },
          {
           "color": [
            170,
            68,
            153
           ],
           "path": [
            "Cell Type Annotation",
            "Myeloid Dendritic Type 2",
            "CD16+ Monocyte"
           ]
          },
          {
           "color": [
            68,
            119,
            170
           ],
           "path": [
            "Cell Type Annotation",
            "Myeloid Dendritic Type 2",
            "CD4 T"
           ]
          },
          {
           "color": [
            136,
            204,
            238
           ],
           "path": [
            "Cell Type Annotation",
            "Myeloid Dendritic Type 2",
            "Dendritic"
           ]
          },
          {
           "color": [
            136,
            204,
            238
           ],
           "path": [
            "Cell Type Annotation",
            "Myofibroblast"
           ]
          },
          {
           "color": [
            68,
            170,
            153
           ],
           "path": [
            "Cell Type Annotation",
            "Myofibroblast",
            "Bronchial Vessel"
           ]
          },
          {
           "color": [
            17,
            119,
            51
           ],
           "path": [
            "Cell Type Annotation",
            "Myofibroblast",
            "CD4 T"
           ]
          },
          {
           "color": [
            153,
            153,
            51
           ],
           "path": [
            "Cell Type Annotation",
            "Myofibroblast",
            "Fibroblast"
           ]
          },
          {
           "color": [
            221,
            204,
            119
           ],
           "path": [
            "Cell Type Annotation",
            "Myofibroblast",
            "Myofibroblast"
           ]
          },
          {
           "color": [
            204,
            102,
            119
           ],
           "path": [
            "Cell Type Annotation",
            "Myofibroblast",
            "Smooth Muscle"
           ]
          },
          {
           "color": [
            68,
            170,
            153
           ],
           "path": [
            "Cell Type Annotation",
            "Natural Killer"
           ]
          },
          {
           "color": [
            136,
            34,
            85
           ],
           "path": [
            "Cell Type Annotation",
            "Natural Killer",
            "Basal"
           ]
          },
          {
           "color": [
            170,
            68,
            153
           ],
           "path": [
            "Cell Type Annotation",
            "Natural Killer",
            "Basophil/Mast"
           ]
          },
          {
           "color": [
            68,
            119,
            170
           ],
           "path": [
            "Cell Type Annotation",
            "Natural Killer",
            "Bronchial Vessel"
           ]
          },
          {
           "color": [
            136,
            204,
            238
           ],
           "path": [
            "Cell Type Annotation",
            "Natural Killer",
            "CD4 T"
           ]
          },
          {
           "color": [
            68,
            170,
            153
           ],
           "path": [
            "Cell Type Annotation",
            "Natural Killer",
            "CD8 T"
           ]
          },
          {
           "color": [
            17,
            119,
            51
           ],
           "path": [
            "Cell Type Annotation",
            "Natural Killer",
            "Dendritic"
           ]
          },
          {
           "color": [
            153,
            153,
            51
           ],
           "path": [
            "Cell Type Annotation",
            "Natural Killer",
            "Natural Killer"
           ]
          },
          {
           "color": [
            17,
            119,
            51
           ],
           "path": [
            "Cell Type Annotation",
            "Natural Killer T"
           ]
          },
          {
           "color": [
            221,
            204,
            119
           ],
           "path": [
            "Cell Type Annotation",
            "Natural Killer T",
            "CD8 T"
           ]
          },
          {
           "color": [
            204,
            102,
            119
           ],
           "path": [
            "Cell Type Annotation",
            "Natural Killer T",
            "Natural Killer T"
           ]
          },
          {
           "color": [
            153,
            153,
            51
           ],
           "path": [
            "Cell Type Annotation",
            "Neuroendocrine"
           ]
          },
          {
           "color": [
            136,
            34,
            85
           ],
           "path": [
            "Cell Type Annotation",
            "Neuroendocrine",
            "Dendritic"
           ]
          },
          {
           "color": [
            170,
            68,
            153
           ],
           "path": [
            "Cell Type Annotation",
            "Neuroendocrine",
            "Neuroendocrine"
           ]
          },
          {
           "color": [
            221,
            204,
            119
           ],
           "path": [
            "Cell Type Annotation",
            "Nonclassical Monocyte"
           ]
          },
          {
           "color": [
            68,
            119,
            170
           ],
           "path": [
            "Cell Type Annotation",
            "Nonclassical Monocyte",
            "Alveolar Epithelial Type 2"
           ]
          },
          {
           "color": [
            136,
            204,
            238
           ],
           "path": [
            "Cell Type Annotation",
            "Nonclassical Monocyte",
            "CD16+ Monocyte"
           ]
          },
          {
           "color": [
            68,
            170,
            153
           ],
           "path": [
            "Cell Type Annotation",
            "Nonclassical Monocyte",
            "CD4 T"
           ]
          },
          {
           "color": [
            17,
            119,
            51
           ],
           "path": [
            "Cell Type Annotation",
            "Nonclassical Monocyte",
            "Dendritic"
           ]
          },
          {
           "color": [
            204,
            102,
            119
           ],
           "path": [
            "Cell Type Annotation",
            "OLR1+ Classical Monocyte"
           ]
          },
          {
           "color": [
            153,
            153,
            51
           ],
           "path": [
            "Cell Type Annotation",
            "OLR1+ Classical Monocyte",
            "CD14+ Monocyte"
           ]
          },
          {
           "color": [
            221,
            204,
            119
           ],
           "path": [
            "Cell Type Annotation",
            "OLR1+ Classical Monocyte",
            "CD16+ Monocyte"
           ]
          },
          {
           "color": [
            204,
            102,
            119
           ],
           "path": [
            "Cell Type Annotation",
            "OLR1+ Classical Monocyte",
            "Dendritic"
           ]
          },
          {
           "color": [
            136,
            34,
            85
           ],
           "path": [
            "Cell Type Annotation",
            "Pericyte"
           ]
          },
          {
           "color": [
            136,
            34,
            85
           ],
           "path": [
            "Cell Type Annotation",
            "Pericyte",
            "Bronchial Vessel"
           ]
          },
          {
           "color": [
            170,
            68,
            153
           ],
           "path": [
            "Cell Type Annotation",
            "Pericyte",
            "CD4 T"
           ]
          },
          {
           "color": [
            68,
            119,
            170
           ],
           "path": [
            "Cell Type Annotation",
            "Pericyte",
            "Fibroblast"
           ]
          },
          {
           "color": [
            136,
            204,
            238
           ],
           "path": [
            "Cell Type Annotation",
            "Pericyte",
            "Pericyte"
           ]
          },
          {
           "color": [
            68,
            170,
            153
           ],
           "path": [
            "Cell Type Annotation",
            "Pericyte",
            "Smooth Muscle"
           ]
          },
          {
           "color": [
            170,
            68,
            153
           ],
           "path": [
            "Cell Type Annotation",
            "Plasma"
           ]
          },
          {
           "color": [
            17,
            119,
            51
           ],
           "path": [
            "Cell Type Annotation",
            "Plasma",
            "CD4 T"
           ]
          },
          {
           "color": [
            153,
            153,
            51
           ],
           "path": [
            "Cell Type Annotation",
            "Plasma",
            "Dendritic"
           ]
          },
          {
           "color": [
            221,
            204,
            119
           ],
           "path": [
            "Cell Type Annotation",
            "Plasma",
            "Plasma"
           ]
          },
          {
           "color": [
            68,
            119,
            170
           ],
           "path": [
            "Cell Type Annotation",
            "Plasmacytoid Dendritic"
           ]
          },
          {
           "color": [
            204,
            102,
            119
           ],
           "path": [
            "Cell Type Annotation",
            "Plasmacytoid Dendritic",
            "Basal"
           ]
          },
          {
           "color": [
            136,
            34,
            85
           ],
           "path": [
            "Cell Type Annotation",
            "Plasmacytoid Dendritic",
            "CD14+ Monocyte"
           ]
          },
          {
           "color": [
            170,
            68,
            153
           ],
           "path": [
            "Cell Type Annotation",
            "Plasmacytoid Dendritic",
            "CD4 T"
           ]
          },
          {
           "color": [
            68,
            119,
            170
           ],
           "path": [
            "Cell Type Annotation",
            "Plasmacytoid Dendritic",
            "CD8 T"
           ]
          },
          {
           "color": [
            136,
            204,
            238
           ],
           "path": [
            "Cell Type Annotation",
            "Plasmacytoid Dendritic",
            "Dendritic"
           ]
          },
          {
           "color": [
            68,
            170,
            153
           ],
           "path": [
            "Cell Type Annotation",
            "Plasmacytoid Dendritic",
            "Plasmacytoid Dendritic"
           ]
          },
          {
           "color": [
            136,
            204,
            238
           ],
           "path": [
            "Cell Type Annotation",
            "Platelet/Megakaryocyte"
           ]
          },
          {
           "color": [
            17,
            119,
            51
           ],
           "path": [
            "Cell Type Annotation",
            "Platelet/Megakaryocyte",
            "Dendritic"
           ]
          },
          {
           "color": [
            153,
            153,
            51
           ],
           "path": [
            "Cell Type Annotation",
            "Platelet/Megakaryocyte",
            "Platelet/Megakaryocyte"
           ]
          },
          {
           "color": [
            68,
            170,
            153
           ],
           "path": [
            "Cell Type Annotation",
            "Proliferating Basal"
           ]
          },
          {
           "color": [
            221,
            204,
            119
           ],
           "path": [
            "Cell Type Annotation",
            "Proliferating Basal",
            "Basal"
           ]
          },
          {
           "color": [
            204,
            102,
            119
           ],
           "path": [
            "Cell Type Annotation",
            "Proliferating Basal",
            "CD4 T"
           ]
          },
          {
           "color": [
            136,
            34,
            85
           ],
           "path": [
            "Cell Type Annotation",
            "Proliferating Basal",
            "Dendritic"
           ]
          },
          {
           "color": [
            17,
            119,
            51
           ],
           "path": [
            "Cell Type Annotation",
            "Proliferating Macrophage"
           ]
          },
          {
           "color": [
            170,
            68,
            153
           ],
           "path": [
            "Cell Type Annotation",
            "Proliferating Macrophage",
            "Dendritic"
           ]
          },
          {
           "color": [
            68,
            119,
            170
           ],
           "path": [
            "Cell Type Annotation",
            "Proliferating Macrophage",
            "Proliferating Macrophage"
           ]
          },
          {
           "color": [
            153,
            153,
            51
           ],
           "path": [
            "Cell Type Annotation",
            "Proliferating NK/T"
           ]
          },
          {
           "color": [
            136,
            204,
            238
           ],
           "path": [
            "Cell Type Annotation",
            "Proliferating NK/T",
            "Capillary Intermediate"
           ]
          },
          {
           "color": [
            68,
            170,
            153
           ],
           "path": [
            "Cell Type Annotation",
            "Proliferating NK/T",
            "CD14+ Monocyte"
           ]
          },
          {
           "color": [
            17,
            119,
            51
           ],
           "path": [
            "Cell Type Annotation",
            "Proliferating NK/T",
            "CD4 T"
           ]
          },
          {
           "color": [
            153,
            153,
            51
           ],
           "path": [
            "Cell Type Annotation",
            "Proliferating NK/T",
            "CD8 T"
           ]
          },
          {
           "color": [
            221,
            204,
            119
           ],
           "path": [
            "Cell Type Annotation",
            "Proliferating NK/T",
            "Dendritic"
           ]
          },
          {
           "color": [
            204,
            102,
            119
           ],
           "path": [
            "Cell Type Annotation",
            "Proliferating NK/T",
            "Proliferating NK/T"
           ]
          },
          {
           "color": [
            221,
            204,
            119
           ],
           "path": [
            "Cell Type Annotation",
            "Proximal Basal"
           ]
          },
          {
           "color": [
            136,
            34,
            85
           ],
           "path": [
            "Cell Type Annotation",
            "Proximal Basal",
            "Basal"
           ]
          },
          {
           "color": [
            204,
            102,
            119
           ],
           "path": [
            "Cell Type Annotation",
            "Proximal Ciliated"
           ]
          },
          {
           "color": [
            170,
            68,
            153
           ],
           "path": [
            "Cell Type Annotation",
            "Proximal Ciliated",
            "Ciliated"
           ]
          },
          {
           "color": [
            136,
            34,
            85
           ],
           "path": [
            "Cell Type Annotation",
            "Serous"
           ]
          },
          {
           "color": [
            68,
            119,
            170
           ],
           "path": [
            "Cell Type Annotation",
            "Serous",
            "Basal"
           ]
          },
          {
           "color": [
            136,
            204,
            238
           ],
           "path": [
            "Cell Type Annotation",
            "Serous",
            "Serous"
           ]
          },
          {
           "color": [
            170,
            68,
            153
           ],
           "path": [
            "Cell Type Annotation",
            "Signaling Alveolar Epithelial Type 2"
           ]
          },
          {
           "color": [
            68,
            170,
            153
           ],
           "path": [
            "Cell Type Annotation",
            "Signaling Alveolar Epithelial Type 2",
            "Alveolar Epithelial Type 2"
           ]
          },
          {
           "color": [
            17,
            119,
            51
           ],
           "path": [
            "Cell Type Annotation",
            "Signaling Alveolar Epithelial Type 2",
            "Basal"
           ]
          },
          {
           "color": [
            153,
            153,
            51
           ],
           "path": [
            "Cell Type Annotation",
            "Signaling Alveolar Epithelial Type 2",
            "CD4 T"
           ]
          },
          {
           "color": [
            221,
            204,
            119
           ],
           "path": [
            "Cell Type Annotation",
            "Signaling Alveolar Epithelial Type 2",
            "CD8 T"
           ]
          },
          {
           "color": [
            68,
            119,
            170
           ],
           "path": [
            "Cell Type Annotation",
            "TREM2+ Dendritic"
           ]
          },
          {
           "color": [
            204,
            102,
            119
           ],
           "path": [
            "Cell Type Annotation",
            "TREM2+ Dendritic",
            "CD4 T"
           ]
          },
          {
           "color": [
            136,
            34,
            85
           ],
           "path": [
            "Cell Type Annotation",
            "TREM2+ Dendritic",
            "Dendritic"
           ]
          },
          {
           "color": [
            136,
            204,
            238
           ],
           "path": [
            "Cell Type Annotation",
            "Vascular Smooth Muscle"
           ]
          },
          {
           "color": [
            170,
            68,
            153
           ],
           "path": [
            "Cell Type Annotation",
            "Vascular Smooth Muscle",
            "Bronchial Vessel"
           ]
          },
          {
           "color": [
            68,
            119,
            170
           ],
           "path": [
            "Cell Type Annotation",
            "Vascular Smooth Muscle",
            "CD4 T"
           ]
          },
          {
           "color": [
            136,
            204,
            238
           ],
           "path": [
            "Cell Type Annotation",
            "Vascular Smooth Muscle",
            "Fibroblast"
           ]
          },
          {
           "color": [
            68,
            170,
            153
           ],
           "path": [
            "Cell Type Annotation",
            "Vascular Smooth Muscle",
            "Smooth Muscle"
           ]
          },
          {
           "color": [
            68,
            170,
            153
           ],
           "path": [
            "Cell Type Annotation",
            "Vein"
           ]
          },
          {
           "color": [
            17,
            119,
            51
           ],
           "path": [
            "Cell Type Annotation",
            "Vein",
            "Alveolar Epithelial Type 2"
           ]
          },
          {
           "color": [
            153,
            153,
            51
           ],
           "path": [
            "Cell Type Annotation",
            "Vein",
            "Bronchial Vessel"
           ]
          },
          {
           "color": [
            221,
            204,
            119
           ],
           "path": [
            "Cell Type Annotation",
            "Vein",
            "Dendritic"
           ]
          },
          {
           "color": [
            204,
            102,
            119
           ],
           "path": [
            "Cell Type Annotation",
            "Vein",
            "Vein"
           ]
          },
          {
           "color": [
            68,
            119,
            170
           ],
           "path": [
            "Assay"
           ]
          },
          {
           "color": [
            68,
            119,
            170
           ],
           "path": [
            "Assay",
            "10x 3' v1"
           ]
          },
          {
           "color": [
            136,
            204,
            238
           ],
           "path": [
            "Assay",
            "10x 3' v2"
           ]
          },
          {
           "color": [
            68,
            170,
            153
           ],
           "path": [
            "Assay",
            "10x 3' v3"
           ]
          },
          {
           "color": [
            17,
            119,
            51
           ],
           "path": [
            "Assay",
            "10x 5' v1"
           ]
          },
          {
           "color": [
            153,
            153,
            51
           ],
           "path": [
            "Assay",
            "10x technology"
           ]
          },
          {
           "color": [
            221,
            204,
            119
           ],
           "path": [
            "Assay",
            "Drop-seq"
           ]
          },
          {
           "color": [
            68,
            119,
            170
           ],
           "path": [
            "Disease"
           ]
          },
          {
           "color": [
            68,
            119,
            170
           ],
           "path": [
            "Disease",
            "COVID-19"
           ]
          },
          {
           "color": [
            136,
            204,
            238
           ],
           "path": [
            "Disease",
            "chronic obstructive pulmonary disease"
           ]
          },
          {
           "color": [
            68,
            170,
            153
           ],
           "path": [
            "Disease",
            "hypersensitivity pneumonitis"
           ]
          },
          {
           "color": [
            17,
            119,
            51
           ],
           "path": [
            "Disease",
            "idiopathic pulmonary fibrosis"
           ]
          },
          {
           "color": [
            153,
            153,
            51
           ],
           "path": [
            "Disease",
            "interstitial lung disease"
           ]
          },
          {
           "color": [
            221,
            204,
            119
           ],
           "path": [
            "Disease",
            "non-specific interstitial pneumonia"
           ]
          },
          {
           "color": [
            204,
            102,
            119
           ],
           "path": [
            "Disease",
            "normal"
           ]
          },
          {
           "color": [
            136,
            34,
            85
           ],
           "path": [
            "Disease",
            "sarcoidosis"
           ]
          },
          {
           "color": [
            68,
            119,
            170
           ],
           "path": [
            "Organism"
           ]
          },
          {
           "color": [
            68,
            119,
            170
           ],
           "path": [
            "Organism",
            "Homo sapiens"
           ]
          },
          {
           "color": [
            68,
            119,
            170
           ],
           "path": [
            "Sex"
           ]
          },
          {
           "color": [
            68,
            119,
            170
           ],
           "path": [
            "Sex",
            "female"
           ]
          },
          {
           "color": [
            136,
            204,
            238
           ],
           "path": [
            "Sex",
            "male"
           ]
          },
          {
           "color": [
            68,
            170,
            153
           ],
           "path": [
            "Sex",
            "unknown"
           ]
          },
          {
           "color": [
            68,
            119,
            170
           ],
           "path": [
            "Tissue"
           ]
          },
          {
           "color": [
            68,
            119,
            170
           ],
           "path": [
            "Tissue",
            "blood"
           ]
          },
          {
           "color": [
            136,
            204,
            238
           ],
           "path": [
            "Tissue",
            "bronchoalveolar duct junction"
           ]
          },
          {
           "color": [
            68,
            170,
            153
           ],
           "path": [
            "Tissue",
            "bronchus"
           ]
          },
          {
           "color": [
            17,
            119,
            51
           ],
           "path": [
            "Tissue",
            "lung"
           ]
          },
          {
           "color": [
            153,
            153,
            51
           ],
           "path": [
            "Tissue",
            "respiratory tract epithelium"
           ]
          },
          {
           "color": [
            68,
            119,
            170
           ],
           "path": [
            "Ethnicity"
           ]
          },
          {
           "color": [
            68,
            119,
            170
           ],
           "path": [
            "Ethnicity",
            "African American"
           ]
          },
          {
           "color": [
            136,
            204,
            238
           ],
           "path": [
            "Ethnicity",
            "Asian"
           ]
          },
          {
           "color": [
            68,
            170,
            153
           ],
           "path": [
            "Ethnicity",
            "European"
           ]
          },
          {
           "color": [
            17,
            119,
            51
           ],
           "path": [
            "Ethnicity",
            "Hispanic or Latin American"
           ]
          },
          {
           "color": [
            153,
            153,
            51
           ],
           "path": [
            "Ethnicity",
            "unknown"
           ]
          },
          {
           "color": [
            68,
            119,
            170
           ],
           "path": [
            "Development Stage"
           ]
          },
          {
           "color": [
            68,
            119,
            170
           ],
           "path": [
            "Development Stage",
            "17-year-old human stage"
           ]
          },
          {
           "color": [
            136,
            204,
            238
           ],
           "path": [
            "Development Stage",
            "18-year-old human stage"
           ]
          },
          {
           "color": [
            68,
            170,
            153
           ],
           "path": [
            "Development Stage",
            "20-year-old human stage"
           ]
          },
          {
           "color": [
            17,
            119,
            51
           ],
           "path": [
            "Development Stage",
            "21-year-old human stage"
           ]
          },
          {
           "color": [
            153,
            153,
            51
           ],
           "path": [
            "Development Stage",
            "22-year-old human stage"
           ]
          },
          {
           "color": [
            221,
            204,
            119
           ],
           "path": [
            "Development Stage",
            "23-year-old human stage"
           ]
          },
          {
           "color": [
            204,
            102,
            119
           ],
           "path": [
            "Development Stage",
            "24-year-old human stage"
           ]
          },
          {
           "color": [
            136,
            34,
            85
           ],
           "path": [
            "Development Stage",
            "25-year-old human stage"
           ]
          },
          {
           "color": [
            170,
            68,
            153
           ],
           "path": [
            "Development Stage",
            "26-year-old human stage"
           ]
          },
          {
           "color": [
            68,
            119,
            170
           ],
           "path": [
            "Development Stage",
            "27-year-old human stage"
           ]
          },
          {
           "color": [
            136,
            204,
            238
           ],
           "path": [
            "Development Stage",
            "29-year-old human stage"
           ]
          },
          {
           "color": [
            68,
            170,
            153
           ],
           "path": [
            "Development Stage",
            "30-year-old human stage"
           ]
          },
          {
           "color": [
            17,
            119,
            51
           ],
           "path": [
            "Development Stage",
            "31-year-old human stage"
           ]
          },
          {
           "color": [
            153,
            153,
            51
           ],
           "path": [
            "Development Stage",
            "32-year-old human stage"
           ]
          },
          {
           "color": [
            221,
            204,
            119
           ],
           "path": [
            "Development Stage",
            "33-year-old human stage"
           ]
          },
          {
           "color": [
            204,
            102,
            119
           ],
           "path": [
            "Development Stage",
            "35-year-old human stage"
           ]
          },
          {
           "color": [
            136,
            34,
            85
           ],
           "path": [
            "Development Stage",
            "36-year-old human stage"
           ]
          },
          {
           "color": [
            170,
            68,
            153
           ],
           "path": [
            "Development Stage",
            "37-year-old human stage"
           ]
          },
          {
           "color": [
            68,
            119,
            170
           ],
           "path": [
            "Development Stage",
            "38-year-old human stage"
           ]
          },
          {
           "color": [
            136,
            204,
            238
           ],
           "path": [
            "Development Stage",
            "39-year-old human stage"
           ]
          },
          {
           "color": [
            68,
            170,
            153
           ],
           "path": [
            "Development Stage",
            "40-year-old human stage"
           ]
          },
          {
           "color": [
            17,
            119,
            51
           ],
           "path": [
            "Development Stage",
            "41-year-old human stage"
           ]
          },
          {
           "color": [
            153,
            153,
            51
           ],
           "path": [
            "Development Stage",
            "44-year-old human stage"
           ]
          },
          {
           "color": [
            221,
            204,
            119
           ],
           "path": [
            "Development Stage",
            "45-year-old human stage"
           ]
          },
          {
           "color": [
            204,
            102,
            119
           ],
           "path": [
            "Development Stage",
            "46-year-old human stage"
           ]
          },
          {
           "color": [
            136,
            34,
            85
           ],
           "path": [
            "Development Stage",
            "47-year-old human stage"
           ]
          },
          {
           "color": [
            170,
            68,
            153
           ],
           "path": [
            "Development Stage",
            "48-year-old human stage"
           ]
          },
          {
           "color": [
            68,
            119,
            170
           ],
           "path": [
            "Development Stage",
            "49-year-old human stage"
           ]
          },
          {
           "color": [
            136,
            204,
            238
           ],
           "path": [
            "Development Stage",
            "50-year-old human stage"
           ]
          },
          {
           "color": [
            68,
            170,
            153
           ],
           "path": [
            "Development Stage",
            "51-year-old human stage"
           ]
          },
          {
           "color": [
            17,
            119,
            51
           ],
           "path": [
            "Development Stage",
            "52-year-old human stage"
           ]
          },
          {
           "color": [
            153,
            153,
            51
           ],
           "path": [
            "Development Stage",
            "53-year-old human stage"
           ]
          },
          {
           "color": [
            221,
            204,
            119
           ],
           "path": [
            "Development Stage",
            "54-year-old human stage"
           ]
          },
          {
           "color": [
            204,
            102,
            119
           ],
           "path": [
            "Development Stage",
            "55-year-old human stage"
           ]
          },
          {
           "color": [
            136,
            34,
            85
           ],
           "path": [
            "Development Stage",
            "56-year-old human stage"
           ]
          },
          {
           "color": [
            170,
            68,
            153
           ],
           "path": [
            "Development Stage",
            "57-year-old human stage"
           ]
          },
          {
           "color": [
            68,
            119,
            170
           ],
           "path": [
            "Development Stage",
            "58-year-old human stage"
           ]
          },
          {
           "color": [
            136,
            204,
            238
           ],
           "path": [
            "Development Stage",
            "59-year-old human stage"
           ]
          },
          {
           "color": [
            68,
            170,
            153
           ],
           "path": [
            "Development Stage",
            "60-year-old human stage"
           ]
          },
          {
           "color": [
            17,
            119,
            51
           ],
           "path": [
            "Development Stage",
            "61-year-old human stage"
           ]
          },
          {
           "color": [
            153,
            153,
            51
           ],
           "path": [
            "Development Stage",
            "62-year-old human stage"
           ]
          },
          {
           "color": [
            221,
            204,
            119
           ],
           "path": [
            "Development Stage",
            "63-year-old human stage"
           ]
          },
          {
           "color": [
            204,
            102,
            119
           ],
           "path": [
            "Development Stage",
            "64-year-old human stage"
           ]
          },
          {
           "color": [
            136,
            34,
            85
           ],
           "path": [
            "Development Stage",
            "65-79 year-old human stage"
           ]
          },
          {
           "color": [
            170,
            68,
            153
           ],
           "path": [
            "Development Stage",
            "65-year-old human stage"
           ]
          },
          {
           "color": [
            68,
            119,
            170
           ],
           "path": [
            "Development Stage",
            "66-year-old human stage"
           ]
          },
          {
           "color": [
            136,
            204,
            238
           ],
           "path": [
            "Development Stage",
            "67-year-old human stage"
           ]
          },
          {
           "color": [
            68,
            170,
            153
           ],
           "path": [
            "Development Stage",
            "68-year-old human stage"
           ]
          },
          {
           "color": [
            17,
            119,
            51
           ],
           "path": [
            "Development Stage",
            "69-year-old human stage"
           ]
          },
          {
           "color": [
            153,
            153,
            51
           ],
           "path": [
            "Development Stage",
            "70-year-old human stage"
           ]
          },
          {
           "color": [
            221,
            204,
            119
           ],
           "path": [
            "Development Stage",
            "71-year-old human stage"
           ]
          },
          {
           "color": [
            204,
            102,
            119
           ],
           "path": [
            "Development Stage",
            "72-year-old human stage"
           ]
          },
          {
           "color": [
            136,
            34,
            85
           ],
           "path": [
            "Development Stage",
            "73-year-old human stage"
           ]
          },
          {
           "color": [
            170,
            68,
            153
           ],
           "path": [
            "Development Stage",
            "74-year-old human stage"
           ]
          },
          {
           "color": [
            68,
            119,
            170
           ],
           "path": [
            "Development Stage",
            "75-year-old human stage"
           ]
          },
          {
           "color": [
            136,
            204,
            238
           ],
           "path": [
            "Development Stage",
            "76-year-old human stage"
           ]
          },
          {
           "color": [
            68,
            170,
            153
           ],
           "path": [
            "Development Stage",
            "78-year-old human stage"
           ]
          },
          {
           "color": [
            17,
            119,
            51
           ],
           "path": [
            "Development Stage",
            "79-year-old human stage"
           ]
          },
          {
           "color": [
            153,
            153,
            51
           ],
           "path": [
            "Development Stage",
            "80 year-old and over human stage"
           ]
          },
          {
           "color": [
            221,
            204,
            119
           ],
           "path": [
            "Development Stage",
            "80-year-old human stage"
           ]
          },
          {
           "color": [
            204,
            102,
            119
           ],
           "path": [
            "Development Stage",
            "81-year-old human stage"
           ]
          },
          {
           "color": [
            136,
            34,
            85
           ],
           "path": [
            "Development Stage",
            "eighth decade human stage"
           ]
          },
          {
           "color": [
            170,
            68,
            153
           ],
           "path": [
            "Development Stage",
            "fifth decade human stage"
           ]
          },
          {
           "color": [
            68,
            119,
            170
           ],
           "path": [
            "Development Stage",
            "fourth decade human stage"
           ]
          },
          {
           "color": [
            136,
            204,
            238
           ],
           "path": [
            "Development Stage",
            "human middle aged stage"
           ]
          },
          {
           "color": [
            68,
            170,
            153
           ],
           "path": [
            "Development Stage",
            "seventh decade human stage"
           ]
          },
          {
           "color": [
            17,
            119,
            51
           ],
           "path": [
            "Development Stage",
            "sixth decade human stage"
           ]
          },
          {
           "color": [
            153,
            153,
            51
           ],
           "path": [
            "Development Stage",
            "unknown"
           ]
          }
         ]
        },
        "obsSetHighlight": {
         "A": null
        },
        "obsSetSelection": {
         "A": [
          [
           "Cell Type",
           "B cell"
          ],
          [
           "Cell Type",
           "CD14-low, CD16-positive monocyte"
          ],
          [
           "Cell Type",
           "CD4-positive, alpha-beta T cell"
          ],
          [
           "Cell Type",
           "CD4-positive, alpha-beta memory T cell"
          ],
          [
           "Cell Type",
           "CD4-positive, alpha-beta thymocyte"
          ],
          [
           "Cell Type",
           "CD8-positive, alpha-beta T cell"
          ],
          [
           "Cell Type",
           "CD8-positive, alpha-beta memory T cell"
          ],
          [
           "Cell Type",
           "CD8-positive, alpha-beta thymocyte"
          ],
          [
           "Cell Type",
           "T cell"
          ],
          [
           "Cell Type",
           "adipose microvascular endothelial cell"
          ],
          [
           "Cell Type",
           "basal cell"
          ],
          [
           "Cell Type",
           "basophil"
          ],
          [
           "Cell Type",
           "blood vessel endothelial cell"
          ],
          [
           "Cell Type",
           "blood vessel smooth muscle cell"
          ],
          [
           "Cell Type",
           "brush cell"
          ],
          [
           "Cell Type",
           "ciliated cell"
          ],
          [
           "Cell Type",
           "classical monocyte"
          ],
          [
           "Cell Type",
           "club cell"
          ],
          [
           "Cell Type",
           "dendritic cell"
          ],
          [
           "Cell Type",
           "endothelial cell"
          ],
          [
           "Cell Type",
           "endothelial cell of vascular tree"
          ],
          [
           "Cell Type",
           "epithelial cell"
          ],
          [
           "Cell Type",
           "fibroblast"
          ],
          [
           "Cell Type",
           "goblet cell"
          ],
          [
           "Cell Type",
           "innate lymphoid cell"
          ],
          [
           "Cell Type",
           "intermediate monocyte"
          ],
          [
           "Cell Type",
           "ionocyte"
          ],
          [
           "Cell Type",
           "macrophage"
          ],
          [
           "Cell Type",
           "mammary alveolar cell"
          ],
          [
           "Cell Type",
           "mast cell"
          ],
          [
           "Cell Type",
           "megakaryocyte"
          ],
          [
           "Cell Type",
           "mesothelial cell"
          ],
          [
           "Cell Type",
           "monocyte"
          ],
          [
           "Cell Type",
           "mucus secreting cell"
          ],
          [
           "Cell Type",
           "muscle cell"
          ],
          [
           "Cell Type",
           "myeloid dendritic cell"
          ],
          [
           "Cell Type",
           "myofibroblast cell"
          ],
          [
           "Cell Type",
           "native cell"
          ],
          [
           "Cell Type",
           "natural killer cell"
          ],
          [
           "Cell Type",
           "neuroendocrine cell"
          ],
          [
           "Cell Type",
           "neutrophil"
          ],
          [
           "Cell Type",
           "non-classical monocyte"
          ],
          [
           "Cell Type",
           "pericyte cell"
          ],
          [
           "Cell Type",
           "plasma cell"
          ],
          [
           "Cell Type",
           "plasmacytoid dendritic cell"
          ],
          [
           "Cell Type",
           "regular cardiac myocyte"
          ],
          [
           "Cell Type",
           "secretory cell"
          ],
          [
           "Cell Type",
           "smooth muscle cell"
          ],
          [
           "Cell Type",
           "tracheobronchial smooth muscle cell"
          ]
         ]
        },
        "obsType": {
         "A": "cell"
        }
       },
       "datasets": [
        {
         "files": [
          {
           "coordinationValues": {
            "obsType": "cell"
           },
           "fileType": "obsSets.anndata.zarr",
           "options": [
            {
             "name": "Cell Type",
             "path": "obs/cell_type"
            },
            {
             "name": "Cell Type Annotation",
             "path": [
              "obs/annotation.l2",
              "obs/annotation.l1"
             ]
            },
            {
             "name": "Assay",
             "path": "obs/assay"
            },
            {
             "name": "Disease",
             "path": "obs/disease"
            },
            {
             "name": "Organism",
             "path": "obs/organism"
            },
            {
             "name": "Sex",
             "path": "obs/sex"
            },
            {
             "name": "Tissue",
             "path": "obs/tissue"
            },
            {
             "name": "Ethnicity",
             "path": "obs/ethnicity"
            },
            {
             "name": "Development Stage",
             "path": "obs/development_stage"
            }
           ],
           "url": "https://s3.amazonaws.com/vitessce-data/0.0.33/main/meta-2022-azimuth/meta_2022_azimuth.h5ad.zarr"
          }
         ],
         "name": "Observation sets",
         "uid": "A"
        }
       ],
       "description": "",
       "initStrategy": "auto",
       "layout": [
        {
         "component": "obsSets",
         "coordinationScopes": {
          "additionalObsSets": "A",
          "dataset": "A",
          "featureSelection": "A",
          "obsColorEncoding": "A",
          "obsSetColor": "A",
          "obsSetHighlight": "A",
          "obsSetSelection": "A",
          "obsType": "A"
         },
         "h": 12,
         "uid": "A",
         "w": 6,
         "x": 0,
         "y": 0
        },
        {
         "component": "obsSetSizes",
         "coordinationScopes": {
          "additionalObsSets": "A",
          "dataset": "A",
          "obsSetColor": "A",
          "obsSetHighlight": "A",
          "obsSetSelection": "A",
          "obsType": "A"
         },
         "h": 12,
         "uid": "B",
         "w": 6,
         "x": 6,
         "y": 0
        }
       ],
       "name": "Transcriptomics example",
       "version": "1.0.15"
      },
      "custom_js_url": "",
      "height": 600,
      "js_package_version": "2.0.2",
      "layout": "IPY_MODEL_c3955a81793348d694aa23bc90fca202",
      "proxy": false,
      "theme": "auto"
     }
    }
   }
  }
 },
 "nbformat": 4,
 "nbformat_minor": 4
}
