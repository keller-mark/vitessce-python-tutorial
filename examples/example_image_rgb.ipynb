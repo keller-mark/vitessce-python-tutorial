{
 "cells": [
  {
   "cell_type": "markdown",
   "metadata": {
    "id": "eMpTrIobIOTZ"
   },
   "source": [
    "View this example on [Google Colab](https://colab.research.google.com/drive/1arpQ8VR2--9KjM0h8lzrSboDpI3ullLz?usp=sharing)"
   ]
  },
  {
   "cell_type": "code",
   "execution_count": null,
   "metadata": {
    "id": "kZ1H5umyVzB2"
   },
   "outputs": [],
   "source": [
    "import importlib.util\n",
    "if importlib.util.find_spec('vitessce') is None:\n",
    "  !pip install vitessce[all]"
   ]
  },
  {
   "cell_type": "code",
   "execution_count": null,
   "metadata": {
    "id": "HQVkt58HV1Z-"
   },
   "outputs": [],
   "source": [
    "from vitessce import (\n",
    "    VitessceConfig,\n",
    "    Component as cm,\n",
    "    CoordinationType as ct,\n",
    "    FileType as ft,\n",
    "    OmeZarrWrapper,\n",
    ")"
   ]
  },
  {
   "cell_type": "code",
   "execution_count": null,
   "metadata": {
    "id": "ogNFmDtxV_Lt"
   },
   "outputs": [],
   "source": [
    "vc = VitessceConfig(schema_version=\"1.0.15\", name='RGB image')\n",
    "dataset = vc.add_dataset(name='Human Lymph Node, 10x Visium').add_object(\n",
    "    OmeZarrWrapper(\n",
    "        img_url=\"https://vitessce-data.storage.googleapis.com/0.0.33/main/human-lymph-node-10x-visium/human_lymph_node_10x_visium.ome.zarr\"\n",
    "    )\n",
    ")\n",
    "spatial = vc.add_view(cm.SPATIAL, dataset=dataset)\n",
    "status = vc.add_view(cm.STATUS, dataset=dataset)\n",
    "lc = vc.add_view(cm.LAYER_CONTROLLER, dataset=dataset).set_props(disableChannelsIfRgbDetected=True)\n",
    "vc.layout(spatial | (lc / status));"
   ]
  },
  {
   "cell_type": "code",
   "execution_count": null,
   "metadata": {
    "id": "3mT4C8_HIYSi"
   },
   "outputs": [],
   "source": [
    "from IPython.display import display, HTML\n",
    "\n",
    "url = vc.web_app()\n",
    "display(HTML(f'<a href=\"{url}\" target=\"_blank\">View on Vitessce.io</a>'))"
   ]
  },
  {
   "cell_type": "code",
   "execution_count": null,
   "metadata": {
    "colab": {
     "base_uri": "https://localhost:8080/",
     "height": 617,
     "referenced_widgets": [
      "419d74149e3840f5ba62ffb443c35105",
      "9dee7537f9d941d9bb38ae28f0d305b5"
     ]
    },
    "executionInfo": {
     "elapsed": 102,
     "status": "ok",
     "timestamp": 1673550495559,
     "user": {
      "displayName": "Mark Keller",
      "userId": "12452164687124895951"
     },
     "user_tz": 300
    },
    "id": "BO5vy2rrWA_K",
    "outputId": "0de9f677-2f25-4786-da15-f8f000674537"
   },
   "outputs": [],
   "source": [
    "vw = vc.widget()\n",
    "vw"
   ]
  },
  {
   "cell_type": "code",
   "execution_count": null,
   "metadata": {
    "id": "dJV6YSudcvEp"
   },
   "outputs": [],
   "source": []
  }
 ],
 "metadata": {
  "colab": {
   "authorship_tag": "ABX9TyOKFVOb4Zu7VZeJsa2gvg8B",
   "provenance": []
  },
  "kernelspec": {
   "display_name": "Python 3 (ipykernel)",
   "language": "python",
   "name": "python3"
  },
  "language_info": {
   "codemirror_mode": {
    "name": "ipython",
    "version": 3
   },
   "file_extension": ".py",
   "mimetype": "text/x-python",
   "name": "python",
   "nbconvert_exporter": "python",
   "pygments_lexer": "ipython3",
   "version": "3.8.0"
  },
  "widgets": {
   "application/vnd.jupyter.widget-state+json": {
    "419d74149e3840f5ba62ffb443c35105": {
     "model_module": "anywidget",
     "model_module_version": "0.0.3",
     "model_name": "AnyModel",
     "state": {
      "_dom_classes": [],
      "_model_module": "anywidget",
      "_model_module_version": "0.0.3",
      "_model_name": "AnyModel",
      "_module": "\nimport * as d3 from 'https://esm.sh/d3-require@1.3.0';\nimport React from 'https://esm.sh/react@18.2.0';\nimport ReactDOM from 'https://esm.sh/react-dom@18.2.0';\n\nfunction asEsModule(component) {\n  return {\n    __esModule: true,\n    default: component,\n  };\n}\n\nconst e = React.createElement;\n\nconst prefersDark = window.matchMedia && window.matchMedia('(prefers-color-scheme: dark)').matches;\n\n// The jupyter server may be running through a proxy,\n// which means that the client needs to prepend the part of the URL before /proxy/8000 such as\n// https://hub.gke2.mybinder.org/user/vitessce-vitessce-python-swi31vcv/proxy/8000/A/0/cells\nfunction prependBaseUrl(config, proxy) {\n  if(!proxy) {\n    return config;\n  }\n  const { origin } = new URL(window.location.href);\n  let baseUrl;\n  const jupyterLabConfigEl = document.getElementById('jupyter-config-data');\n\n  if (jupyterLabConfigEl) {\n    // This is jupyter lab\n    baseUrl = JSON.parse(jupyterLabConfigEl.textContent || '').baseUrl;\n  } else {\n    // This is jupyter notebook\n    baseUrl = document.getElementsByTagName('body')[0].getAttribute('data-base-url');\n  }\n  return {\n    ...config,\n    datasets: config.datasets.map(d => ({\n      ...d,\n      files: d.files.map(f => ({\n        ...f,\n        url: `${origin}${baseUrl}${f.url}`,\n      })),\n    })),\n  };\n}\n\nexport function render(view) {\n    const jsPackageVersion = view.model.get('js_package_version');\n    let customRequire = d3.require;\n    const customJsUrl = view.model.get('custom_js_url');\n    if(customJsUrl.length > 0) {\n        customRequire = d3.requireFrom(async () => {\n            return customJsUrl;\n        });\n    }\n\n    const aliasedRequire = customRequire.alias({\n        \"react\": React,\n        \"react-dom\": ReactDOM\n    });\n\n    const Vitessce = React.lazy(() => aliasedRequire(`vitessce@${jsPackageVersion}`).then(vitessce => asEsModule(vitessce.Vitessce)));\n\n    function VitessceWidget(props) {\n        const { model } = props;\n\n        const config = prependBaseUrl(model.get('config'), model.get('proxy'));\n        const height = model.get('height');\n        const theme = model.get('theme') === 'auto' ? (prefersDark ? 'dark' : 'light') : model.get('theme');\n\n        const divRef = React.useRef();\n\n        React.useEffect(() => {\n            if(!divRef.current) {\n                return () => {};\n            }\n\n            function handleMouseEnter() {\n                const jpn = divRef.current.closest('.jp-Notebook');\n                if(jpn) {\n                    jpn.style.overflow = \"hidden\";\n                }\n            }\n            function handleMouseLeave(event) {\n                if(event.relatedTarget === null || (event.relatedTarget && event.relatedTarget.closest('.jp-Notebook')?.length)) return;\n                const jpn = divRef.current.closest('.jp-Notebook');\n                if(jpn) {\n                    jpn.style.overflow = \"auto\";\n                }\n            }\n            divRef.current.addEventListener(\"mouseenter\", handleMouseEnter);\n            divRef.current.addEventListener(\"mouseleave\", handleMouseLeave);\n\n            return () => {\n                if(divRef.current) {\n                    divRef.current.removeEventListener(\"mouseenter\", handleMouseEnter);\n                    divRef.current.removeEventListener(\"mouseleave\", handleMouseLeave);\n                }\n            };\n        }, [divRef]);\n\n        const onConfigChange = React.useCallback((config) => {\n            model.set('config', config);\n            model.save_changes();\n        }, [model]);\n\n        const vitessceProps = { height, theme, config, onConfigChange };\n\n        return e('div', { ref: divRef, style: { height: height + 'px' } },\n            e(React.Suspense, { fallback: e('div', {}, 'Loading...') },\n                e(Vitessce, vitessceProps)\n            )\n        );\n    }\n\n    ReactDOM.render(e(VitessceWidget, { model: view.model }), view.el);\n}\n",
      "_view_count": null,
      "_view_module": "anywidget",
      "_view_module_version": "0.0.3",
      "_view_name": "AnyView",
      "config": {
       "coordinationSpace": {
        "additionalObsSets": {
         "A": null
        },
        "dataset": {
         "A": "A"
        },
        "featureHighlight": {
         "A": null
        },
        "featureSelection": {
         "A": null
        },
        "featureType": {
         "A": "gene"
        },
        "featureValueColormap": {
         "A": "plasma"
        },
        "featureValueColormapRange": {
         "A": [
          0,
          1
         ]
        },
        "featureValueType": {
         "A": "expression"
        },
        "moleculeHighlight": {
         "A": null
        },
        "obsColorEncoding": {
         "A": "cellSetSelection"
        },
        "obsFilter": {
         "A": null
        },
        "obsHighlight": {
         "A": null
        },
        "obsLabelsType": {
         "A": null
        },
        "obsSetColor": {
         "A": null
        },
        "obsSetHighlight": {
         "A": null
        },
        "obsSetSelection": {
         "A": null
        },
        "obsType": {
         "A": "cell"
        },
        "spatialAxisFixed": {
         "A": false
        },
        "spatialImageLayer": {
         "A": [
          {
           "channels": [
            {
             "color": [
              255,
              0,
              0
             ],
             "selection": {
              "c": 0
             },
             "slider": [
              0,
              255
             ],
             "visible": true
            },
            {
             "color": [
              0,
              255,
              0
             ],
             "selection": {
              "c": 1
             },
             "slider": [
              0,
              255
             ],
             "visible": true
            },
            {
             "color": [
              0,
              0,
              255
             ],
             "selection": {
              "c": 2
             },
             "slider": [
              0,
              255
             ],
             "visible": true
            }
           ],
           "colormap": null,
           "domainType": "Min/Max",
           "index": 0,
           "opacity": 1,
           "renderingMode": "Additive",
           "transparentColor": null,
           "type": "raster",
           "use3d": false,
           "visible": true
          }
         ]
        },
        "spatialNeighborhoodLayer": {
         "A": null
        },
        "spatialOrbitAxis": {
         "A": null
        },
        "spatialPointLayer": {
         "A": null
        },
        "spatialRotation": {
         "A": 0
        },
        "spatialRotationOrbit": {
         "A": 0
        },
        "spatialRotationX": {
         "A": 0
        },
        "spatialRotationY": {
         "A": null
        },
        "spatialRotationZ": {
         "A": null
        },
        "spatialSegmentationLayer": {
         "A": null
        },
        "spatialTargetX": {
         "A": 1012.0298011993076
        },
        "spatialTargetY": {
         "A": 1086.363924191171
        },
        "spatialTargetZ": {
         "A": null
        },
        "spatialZoom": {
         "A": -2.1920528083795308
        }
       },
       "datasets": [
        {
         "files": [
          {
           "fileType": "image.ome-zarr",
           "url": "https://vitessce-data.storage.googleapis.com/0.0.33/main/human-lymph-node-10x-visium/human_lymph_node_10x_visium.ome.zarr"
          }
         ],
         "name": "Human Lymph Node, 10x Visium",
         "uid": "A"
        }
       ],
       "description": "",
       "initStrategy": "auto",
       "layout": [
        {
         "component": "spatial",
         "coordinationScopes": {
          "additionalObsSets": "A",
          "dataset": "A",
          "featureHighlight": "A",
          "featureSelection": "A",
          "featureType": "A",
          "featureValueColormap": "A",
          "featureValueColormapRange": "A",
          "featureValueType": "A",
          "moleculeHighlight": "A",
          "obsColorEncoding": "A",
          "obsFilter": "A",
          "obsHighlight": "A",
          "obsLabelsType": "A",
          "obsSetColor": "A",
          "obsSetHighlight": "A",
          "obsSetSelection": "A",
          "obsType": "A",
          "spatialAxisFixed": "A",
          "spatialImageLayer": "A",
          "spatialNeighborhoodLayer": "A",
          "spatialOrbitAxis": "A",
          "spatialPointLayer": "A",
          "spatialRotation": "A",
          "spatialRotationOrbit": "A",
          "spatialRotationX": "A",
          "spatialRotationY": "A",
          "spatialRotationZ": "A",
          "spatialSegmentationLayer": "A",
          "spatialTargetX": "A",
          "spatialTargetY": "A",
          "spatialTargetZ": "A",
          "spatialZoom": "A"
         },
         "h": 12,
         "uid": "A",
         "w": 6,
         "x": 0,
         "y": 0
        },
        {
         "component": "status",
         "coordinationScopes": {
          "dataset": "A",
          "featureHighlight": "A",
          "moleculeHighlight": "A",
          "obsHighlight": "A",
          "obsSetHighlight": "A"
         },
         "h": 6,
         "uid": "B",
         "w": 6,
         "x": 6,
         "y": 6
        },
        {
         "component": "layerController",
         "coordinationScopes": {
          "dataset": "A",
          "featureType": "A",
          "featureValueType": "A",
          "obsType": "A",
          "spatialImageLayer": "A",
          "spatialNeighborhoodLayer": "A",
          "spatialOrbitAxis": "A",
          "spatialPointLayer": "A",
          "spatialRotationOrbit": "A",
          "spatialRotationX": "A",
          "spatialRotationY": "A",
          "spatialRotationZ": "A",
          "spatialSegmentationLayer": "A",
          "spatialTargetX": "A",
          "spatialTargetY": "A",
          "spatialTargetZ": "A",
          "spatialZoom": "A"
         },
         "h": 6,
         "props": {
          "disableChannelsIfRgbDetected": true
         },
         "uid": "C",
         "w": 6,
         "x": 6,
         "y": 0
        }
       ],
       "name": "RGB image",
       "version": "1.0.15"
      },
      "custom_js_url": "",
      "height": 600,
      "js_package_version": "2.0.2",
      "layout": "IPY_MODEL_9dee7537f9d941d9bb38ae28f0d305b5",
      "proxy": false,
      "theme": "auto"
     }
    },
    "9dee7537f9d941d9bb38ae28f0d305b5": {
     "model_module": "@jupyter-widgets/base",
     "model_module_version": "1.2.0",
     "model_name": "LayoutModel",
     "state": {
      "_model_module": "@jupyter-widgets/base",
      "_model_module_version": "1.2.0",
      "_model_name": "LayoutModel",
      "_view_count": null,
      "_view_module": "@jupyter-widgets/base",
      "_view_module_version": "1.2.0",
      "_view_name": "LayoutView",
      "align_content": null,
      "align_items": null,
      "align_self": null,
      "border": null,
      "bottom": null,
      "display": null,
      "flex": null,
      "flex_flow": null,
      "grid_area": null,
      "grid_auto_columns": null,
      "grid_auto_flow": null,
      "grid_auto_rows": null,
      "grid_column": null,
      "grid_gap": null,
      "grid_row": null,
      "grid_template_areas": null,
      "grid_template_columns": null,
      "grid_template_rows": null,
      "height": null,
      "justify_content": null,
      "justify_items": null,
      "left": null,
      "margin": null,
      "max_height": null,
      "max_width": null,
      "min_height": null,
      "min_width": null,
      "object_fit": null,
      "object_position": null,
      "order": null,
      "overflow": null,
      "overflow_x": null,
      "overflow_y": null,
      "padding": null,
      "right": null,
      "top": null,
      "visibility": null,
      "width": null
     }
    }
   }
  }
 },
 "nbformat": 4,
 "nbformat_minor": 4
}
