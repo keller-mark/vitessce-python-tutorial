{
 "cells": [
  {
   "cell_type": "code",
   "execution_count": 2,
   "id": "38daa41c-8032-407b-b2df-b9dc5c80ad50",
   "metadata": {},
   "outputs": [
    {
     "name": "stdout",
     "output_type": "stream",
     "text": [
      "Found existing installation: vitessce 2.0.1\n",
      "Uninstalling vitessce-2.0.1:\n",
      "  Successfully uninstalled vitessce-2.0.1\n"
     ]
    }
   ],
   "source": [
    "!pip uninstall vitessce -y"
   ]
  },
  {
   "cell_type": "code",
   "execution_count": 3,
   "id": "14e80844-317e-4eaf-a368-362a8e220780",
   "metadata": {},
   "outputs": [
    {
     "name": "stdout",
     "output_type": "stream",
     "text": [
      "Collecting vitessce[all]@ git+https://github.com/vitessce/vitessce-python.git@keller-mark/no-copy\n",
      "  Cloning https://github.com/vitessce/vitessce-python.git (to revision keller-mark/no-copy) to /private/var/folders/j7/z73pwc713473sxx39wdbgb5h0000gn/T/pip-install-zugo2qh1/vitessce_7d0ef7d3b453468eb03a2d1e4d8de20d\n",
      "  Running command git clone --filter=blob:none --quiet https://github.com/vitessce/vitessce-python.git /private/var/folders/j7/z73pwc713473sxx39wdbgb5h0000gn/T/pip-install-zugo2qh1/vitessce_7d0ef7d3b453468eb03a2d1e4d8de20d\n",
      "  Running command git checkout -b keller-mark/no-copy --track origin/keller-mark/no-copy\n",
      "  Switched to a new branch 'keller-mark/no-copy'\n",
      "  Branch 'keller-mark/no-copy' set up to track remote branch 'keller-mark/no-copy' from 'origin'.\n",
      "  Resolved https://github.com/vitessce/vitessce-python.git to commit f9ed3bfdaa64a75c45aafe9b46cd7f2df959561e\n",
      "  Installing build dependencies ... \u001b[?25ldone\n",
      "\u001b[?25h  Getting requirements to build wheel ... \u001b[?25ldone\n",
      "\u001b[?25h  Preparing metadata (pyproject.toml) ... \u001b[?25ldone\n",
      "\u001b[?25hRequirement already satisfied: black>=21.11b1 in /Users/mkeller/anaconda3/envs/vitessce-tutorial-env/lib/python3.8/site-packages (from vitessce[all]@ git+https://github.com/vitessce/vitessce-python.git@keller-mark/no-copy) (23.1a1)\n",
      "Requirement already satisfied: pandas>=1.1.2 in /Users/mkeller/anaconda3/envs/vitessce-tutorial-env/lib/python3.8/site-packages (from vitessce[all]@ git+https://github.com/vitessce/vitessce-python.git@keller-mark/no-copy) (1.5.2)\n",
      "Requirement already satisfied: scipy>=1.2.1 in /Users/mkeller/anaconda3/envs/vitessce-tutorial-env/lib/python3.8/site-packages (from vitessce[all]@ git+https://github.com/vitessce/vitessce-python.git@keller-mark/no-copy) (1.10.0)\n",
      "Requirement already satisfied: numpy>=1.21.2 in /Users/mkeller/anaconda3/envs/vitessce-tutorial-env/lib/python3.8/site-packages (from vitessce[all]@ git+https://github.com/vitessce/vitessce-python.git@keller-mark/no-copy) (1.24.1)\n",
      "Requirement already satisfied: generate-tiff-offsets>=0.1.7 in /Users/mkeller/anaconda3/envs/vitessce-tutorial-env/lib/python3.8/site-packages (from vitessce[all]@ git+https://github.com/vitessce/vitessce-python.git@keller-mark/no-copy) (0.1.7)\n",
      "Requirement already satisfied: negspy>=0.2.24 in /Users/mkeller/anaconda3/envs/vitessce-tutorial-env/lib/python3.8/site-packages (from vitessce[all]@ git+https://github.com/vitessce/vitessce-python.git@keller-mark/no-copy) (0.2.24)\n",
      "Requirement already satisfied: anndata<0.9,>=0.7.8 in /Users/mkeller/anaconda3/envs/vitessce-tutorial-env/lib/python3.8/site-packages (from vitessce[all]@ git+https://github.com/vitessce/vitessce-python.git@keller-mark/no-copy) (0.8.0)\n",
      "Requirement already satisfied: zarr>=2.5.0 in /Users/mkeller/anaconda3/envs/vitessce-tutorial-env/lib/python3.8/site-packages (from vitessce[all]@ git+https://github.com/vitessce/vitessce-python.git@keller-mark/no-copy) (2.13.3)\n",
      "Requirement already satisfied: ome-zarr==0.2.1 in /Users/mkeller/anaconda3/envs/vitessce-tutorial-env/lib/python3.8/site-packages (from vitessce[all]@ git+https://github.com/vitessce/vitessce-python.git@keller-mark/no-copy) (0.2.1)\n",
      "Requirement already satisfied: numcodecs>=0.5.7 in /Users/mkeller/anaconda3/envs/vitessce-tutorial-env/lib/python3.8/site-packages (from vitessce[all]@ git+https://github.com/vitessce/vitessce-python.git@keller-mark/no-copy) (0.11.0)\n",
      "Requirement already satisfied: aiofiles>=0.6.0 in /Users/mkeller/anaconda3/envs/vitessce-tutorial-env/lib/python3.8/site-packages (from vitessce[all]@ git+https://github.com/vitessce/vitessce-python.git@keller-mark/no-copy) (22.1.0)\n",
      "Requirement already satisfied: jupyter-server-proxy>=1.5.2 in /Users/mkeller/anaconda3/envs/vitessce-tutorial-env/lib/python3.8/site-packages (from vitessce[all]@ git+https://github.com/vitessce/vitessce-python.git@keller-mark/no-copy) (3.2.2)\n",
      "Requirement already satisfied: ujson>=4.0.1 in /Users/mkeller/anaconda3/envs/vitessce-tutorial-env/lib/python3.8/site-packages (from vitessce[all]@ git+https://github.com/vitessce/vitessce-python.git@keller-mark/no-copy) (5.7.0)\n",
      "Requirement already satisfied: starlette==0.14.0 in /Users/mkeller/anaconda3/envs/vitessce-tutorial-env/lib/python3.8/site-packages (from vitessce[all]@ git+https://github.com/vitessce/vitessce-python.git@keller-mark/no-copy) (0.14.0)\n",
      "Requirement already satisfied: anywidget==0.0.3 in /Users/mkeller/anaconda3/envs/vitessce-tutorial-env/lib/python3.8/site-packages (from vitessce[all]@ git+https://github.com/vitessce/vitessce-python.git@keller-mark/no-copy) (0.0.3)\n",
      "Requirement already satisfied: hypercorn>=0.11.0 in /Users/mkeller/anaconda3/envs/vitessce-tutorial-env/lib/python3.8/site-packages (from vitessce[all]@ git+https://github.com/vitessce/vitessce-python.git@keller-mark/no-copy) (0.14.3)\n",
      "Requirement already satisfied: ipywidgets in /Users/mkeller/anaconda3/envs/vitessce-tutorial-env/lib/python3.8/site-packages (from anywidget==0.0.3->vitessce[all]@ git+https://github.com/vitessce/vitessce-python.git@keller-mark/no-copy) (8.0.4)\n",
      "Requirement already satisfied: dask in /Users/mkeller/anaconda3/envs/vitessce-tutorial-env/lib/python3.8/site-packages (from ome-zarr==0.2.1->vitessce[all]@ git+https://github.com/vitessce/vitessce-python.git@keller-mark/no-copy) (2022.12.1)\n",
      "Requirement already satisfied: aiohttp in /Users/mkeller/anaconda3/envs/vitessce-tutorial-env/lib/python3.8/site-packages (from ome-zarr==0.2.1->vitessce[all]@ git+https://github.com/vitessce/vitessce-python.git@keller-mark/no-copy) (3.8.3)\n",
      "Requirement already satisfied: scikit-image in /Users/mkeller/anaconda3/envs/vitessce-tutorial-env/lib/python3.8/site-packages (from ome-zarr==0.2.1->vitessce[all]@ git+https://github.com/vitessce/vitessce-python.git@keller-mark/no-copy) (0.19.3)\n",
      "Requirement already satisfied: toolz in /Users/mkeller/anaconda3/envs/vitessce-tutorial-env/lib/python3.8/site-packages (from ome-zarr==0.2.1->vitessce[all]@ git+https://github.com/vitessce/vitessce-python.git@keller-mark/no-copy) (0.12.0)\n",
      "Requirement already satisfied: fsspec[s3]!=2021.07.0 in /Users/mkeller/anaconda3/envs/vitessce-tutorial-env/lib/python3.8/site-packages (from ome-zarr==0.2.1->vitessce[all]@ git+https://github.com/vitessce/vitessce-python.git@keller-mark/no-copy) (2022.11.0)\n",
      "Requirement already satisfied: requests in /Users/mkeller/anaconda3/envs/vitessce-tutorial-env/lib/python3.8/site-packages (from ome-zarr==0.2.1->vitessce[all]@ git+https://github.com/vitessce/vitessce-python.git@keller-mark/no-copy) (2.28.1)\n",
      "Requirement already satisfied: h5py>=3 in /Users/mkeller/anaconda3/envs/vitessce-tutorial-env/lib/python3.8/site-packages (from anndata<0.9,>=0.7.8->vitessce[all]@ git+https://github.com/vitessce/vitessce-python.git@keller-mark/no-copy) (3.7.0)\n",
      "Requirement already satisfied: natsort in /Users/mkeller/anaconda3/envs/vitessce-tutorial-env/lib/python3.8/site-packages (from anndata<0.9,>=0.7.8->vitessce[all]@ git+https://github.com/vitessce/vitessce-python.git@keller-mark/no-copy) (8.2.0)\n",
      "Requirement already satisfied: packaging>=20 in /Users/mkeller/anaconda3/envs/vitessce-tutorial-env/lib/python3.8/site-packages (from anndata<0.9,>=0.7.8->vitessce[all]@ git+https://github.com/vitessce/vitessce-python.git@keller-mark/no-copy) (22.0)\n",
      "Requirement already satisfied: tomli>=1.1.0 in /Users/mkeller/anaconda3/envs/vitessce-tutorial-env/lib/python3.8/site-packages (from black>=21.11b1->vitessce[all]@ git+https://github.com/vitessce/vitessce-python.git@keller-mark/no-copy) (2.0.1)\n",
      "Requirement already satisfied: mypy-extensions>=0.4.3 in /Users/mkeller/anaconda3/envs/vitessce-tutorial-env/lib/python3.8/site-packages (from black>=21.11b1->vitessce[all]@ git+https://github.com/vitessce/vitessce-python.git@keller-mark/no-copy) (0.4.3)\n",
      "Requirement already satisfied: platformdirs>=2 in /Users/mkeller/anaconda3/envs/vitessce-tutorial-env/lib/python3.8/site-packages (from black>=21.11b1->vitessce[all]@ git+https://github.com/vitessce/vitessce-python.git@keller-mark/no-copy) (2.6.2)\n",
      "Requirement already satisfied: typing-extensions>=3.10.0.0 in /Users/mkeller/anaconda3/envs/vitessce-tutorial-env/lib/python3.8/site-packages (from black>=21.11b1->vitessce[all]@ git+https://github.com/vitessce/vitessce-python.git@keller-mark/no-copy) (4.4.0)\n",
      "Requirement already satisfied: pathspec>=0.9.0 in /Users/mkeller/anaconda3/envs/vitessce-tutorial-env/lib/python3.8/site-packages (from black>=21.11b1->vitessce[all]@ git+https://github.com/vitessce/vitessce-python.git@keller-mark/no-copy) (0.10.3)\n",
      "Requirement already satisfied: click>=8.0.0 in /Users/mkeller/anaconda3/envs/vitessce-tutorial-env/lib/python3.8/site-packages (from black>=21.11b1->vitessce[all]@ git+https://github.com/vitessce/vitessce-python.git@keller-mark/no-copy) (8.1.3)\n",
      "Requirement already satisfied: tifffile==2020.10.1 in /Users/mkeller/anaconda3/envs/vitessce-tutorial-env/lib/python3.8/site-packages (from generate-tiff-offsets>=0.1.7->vitessce[all]@ git+https://github.com/vitessce/vitessce-python.git@keller-mark/no-copy) (2020.10.1)\n",
      "Requirement already satisfied: h2>=3.1.0 in /Users/mkeller/anaconda3/envs/vitessce-tutorial-env/lib/python3.8/site-packages (from hypercorn>=0.11.0->vitessce[all]@ git+https://github.com/vitessce/vitessce-python.git@keller-mark/no-copy) (4.1.0)\n",
      "Requirement already satisfied: wsproto>=0.14.0 in /Users/mkeller/anaconda3/envs/vitessce-tutorial-env/lib/python3.8/site-packages (from hypercorn>=0.11.0->vitessce[all]@ git+https://github.com/vitessce/vitessce-python.git@keller-mark/no-copy) (1.2.0)\n",
      "Requirement already satisfied: priority in /Users/mkeller/anaconda3/envs/vitessce-tutorial-env/lib/python3.8/site-packages (from hypercorn>=0.11.0->vitessce[all]@ git+https://github.com/vitessce/vitessce-python.git@keller-mark/no-copy) (2.0.0)\n",
      "Requirement already satisfied: h11 in /Users/mkeller/anaconda3/envs/vitessce-tutorial-env/lib/python3.8/site-packages (from hypercorn>=0.11.0->vitessce[all]@ git+https://github.com/vitessce/vitessce-python.git@keller-mark/no-copy) (0.14.0)\n",
      "Requirement already satisfied: toml in /Users/mkeller/anaconda3/envs/vitessce-tutorial-env/lib/python3.8/site-packages (from hypercorn>=0.11.0->vitessce[all]@ git+https://github.com/vitessce/vitessce-python.git@keller-mark/no-copy) (0.10.2)\n",
      "Requirement already satisfied: jupyter-server>=1.0 in /Users/mkeller/anaconda3/envs/vitessce-tutorial-env/lib/python3.8/site-packages (from jupyter-server-proxy>=1.5.2->vitessce[all]@ git+https://github.com/vitessce/vitessce-python.git@keller-mark/no-copy) (2.0.6)\n",
      "Requirement already satisfied: simpervisor>=0.4 in /Users/mkeller/anaconda3/envs/vitessce-tutorial-env/lib/python3.8/site-packages (from jupyter-server-proxy>=1.5.2->vitessce[all]@ git+https://github.com/vitessce/vitessce-python.git@keller-mark/no-copy) (0.4)\n",
      "Requirement already satisfied: entrypoints in /Users/mkeller/anaconda3/envs/vitessce-tutorial-env/lib/python3.8/site-packages (from numcodecs>=0.5.7->vitessce[all]@ git+https://github.com/vitessce/vitessce-python.git@keller-mark/no-copy) (0.4)\n",
      "Requirement already satisfied: python-dateutil>=2.8.1 in /Users/mkeller/anaconda3/envs/vitessce-tutorial-env/lib/python3.8/site-packages (from pandas>=1.1.2->vitessce[all]@ git+https://github.com/vitessce/vitessce-python.git@keller-mark/no-copy) (2.8.2)\n",
      "Requirement already satisfied: pytz>=2020.1 in /Users/mkeller/anaconda3/envs/vitessce-tutorial-env/lib/python3.8/site-packages (from pandas>=1.1.2->vitessce[all]@ git+https://github.com/vitessce/vitessce-python.git@keller-mark/no-copy) (2022.7)\n",
      "Requirement already satisfied: fasteners in /Users/mkeller/anaconda3/envs/vitessce-tutorial-env/lib/python3.8/site-packages (from zarr>=2.5.0->vitessce[all]@ git+https://github.com/vitessce/vitessce-python.git@keller-mark/no-copy) (0.17.3)\n",
      "Requirement already satisfied: asciitree in /Users/mkeller/anaconda3/envs/vitessce-tutorial-env/lib/python3.8/site-packages (from zarr>=2.5.0->vitessce[all]@ git+https://github.com/vitessce/vitessce-python.git@keller-mark/no-copy) (0.3.3)\n",
      "Requirement already satisfied: s3fs in /Users/mkeller/anaconda3/envs/vitessce-tutorial-env/lib/python3.8/site-packages (from fsspec[s3]!=2021.07.0->ome-zarr==0.2.1->vitessce[all]@ git+https://github.com/vitessce/vitessce-python.git@keller-mark/no-copy) (2022.11.0)\n",
      "Requirement already satisfied: hyperframe<7,>=6.0 in /Users/mkeller/anaconda3/envs/vitessce-tutorial-env/lib/python3.8/site-packages (from h2>=3.1.0->hypercorn>=0.11.0->vitessce[all]@ git+https://github.com/vitessce/vitessce-python.git@keller-mark/no-copy) (6.0.1)\n",
      "Requirement already satisfied: hpack<5,>=4.0 in /Users/mkeller/anaconda3/envs/vitessce-tutorial-env/lib/python3.8/site-packages (from h2>=3.1.0->hypercorn>=0.11.0->vitessce[all]@ git+https://github.com/vitessce/vitessce-python.git@keller-mark/no-copy) (4.0.0)\n",
      "Requirement already satisfied: jupyter-core!=5.0.*,>=4.12 in /Users/mkeller/anaconda3/envs/vitessce-tutorial-env/lib/python3.8/site-packages (from jupyter-server>=1.0->jupyter-server-proxy>=1.5.2->vitessce[all]@ git+https://github.com/vitessce/vitessce-python.git@keller-mark/no-copy) (5.1.3)\n",
      "Requirement already satisfied: nbformat>=5.3.0 in /Users/mkeller/anaconda3/envs/vitessce-tutorial-env/lib/python3.8/site-packages (from jupyter-server>=1.0->jupyter-server-proxy>=1.5.2->vitessce[all]@ git+https://github.com/vitessce/vitessce-python.git@keller-mark/no-copy) (5.7.1)\n",
      "Requirement already satisfied: send2trash in /Users/mkeller/anaconda3/envs/vitessce-tutorial-env/lib/python3.8/site-packages (from jupyter-server>=1.0->jupyter-server-proxy>=1.5.2->vitessce[all]@ git+https://github.com/vitessce/vitessce-python.git@keller-mark/no-copy) (1.8.0)\n",
      "Requirement already satisfied: websocket-client in /Users/mkeller/anaconda3/envs/vitessce-tutorial-env/lib/python3.8/site-packages (from jupyter-server>=1.0->jupyter-server-proxy>=1.5.2->vitessce[all]@ git+https://github.com/vitessce/vitessce-python.git@keller-mark/no-copy) (1.4.2)\n",
      "Requirement already satisfied: jupyter-client>=7.4.4 in /Users/mkeller/anaconda3/envs/vitessce-tutorial-env/lib/python3.8/site-packages (from jupyter-server>=1.0->jupyter-server-proxy>=1.5.2->vitessce[all]@ git+https://github.com/vitessce/vitessce-python.git@keller-mark/no-copy) (7.4.8)\n",
      "Requirement already satisfied: traitlets>=5.6.0 in /Users/mkeller/anaconda3/envs/vitessce-tutorial-env/lib/python3.8/site-packages (from jupyter-server>=1.0->jupyter-server-proxy>=1.5.2->vitessce[all]@ git+https://github.com/vitessce/vitessce-python.git@keller-mark/no-copy) (5.8.1)\n",
      "Requirement already satisfied: jupyter-server-terminals in /Users/mkeller/anaconda3/envs/vitessce-tutorial-env/lib/python3.8/site-packages (from jupyter-server>=1.0->jupyter-server-proxy>=1.5.2->vitessce[all]@ git+https://github.com/vitessce/vitessce-python.git@keller-mark/no-copy) (0.4.3)\n",
      "Requirement already satisfied: nbconvert>=6.4.4 in /Users/mkeller/anaconda3/envs/vitessce-tutorial-env/lib/python3.8/site-packages (from jupyter-server>=1.0->jupyter-server-proxy>=1.5.2->vitessce[all]@ git+https://github.com/vitessce/vitessce-python.git@keller-mark/no-copy) (7.2.7)\n",
      "Requirement already satisfied: prometheus-client in /Users/mkeller/anaconda3/envs/vitessce-tutorial-env/lib/python3.8/site-packages (from jupyter-server>=1.0->jupyter-server-proxy>=1.5.2->vitessce[all]@ git+https://github.com/vitessce/vitessce-python.git@keller-mark/no-copy) (0.15.0)\n",
      "Requirement already satisfied: pyzmq>=24 in /Users/mkeller/anaconda3/envs/vitessce-tutorial-env/lib/python3.8/site-packages (from jupyter-server>=1.0->jupyter-server-proxy>=1.5.2->vitessce[all]@ git+https://github.com/vitessce/vitessce-python.git@keller-mark/no-copy) (24.0.1)\n",
      "Requirement already satisfied: anyio<4,>=3.1.0 in /Users/mkeller/anaconda3/envs/vitessce-tutorial-env/lib/python3.8/site-packages (from jupyter-server>=1.0->jupyter-server-proxy>=1.5.2->vitessce[all]@ git+https://github.com/vitessce/vitessce-python.git@keller-mark/no-copy) (3.6.2)\n",
      "Requirement already satisfied: terminado>=0.8.3 in /Users/mkeller/anaconda3/envs/vitessce-tutorial-env/lib/python3.8/site-packages (from jupyter-server>=1.0->jupyter-server-proxy>=1.5.2->vitessce[all]@ git+https://github.com/vitessce/vitessce-python.git@keller-mark/no-copy) (0.17.1)\n",
      "Requirement already satisfied: jinja2 in /Users/mkeller/anaconda3/envs/vitessce-tutorial-env/lib/python3.8/site-packages (from jupyter-server>=1.0->jupyter-server-proxy>=1.5.2->vitessce[all]@ git+https://github.com/vitessce/vitessce-python.git@keller-mark/no-copy) (3.1.2)\n",
      "Requirement already satisfied: tornado>=6.2.0 in /Users/mkeller/anaconda3/envs/vitessce-tutorial-env/lib/python3.8/site-packages (from jupyter-server>=1.0->jupyter-server-proxy>=1.5.2->vitessce[all]@ git+https://github.com/vitessce/vitessce-python.git@keller-mark/no-copy) (6.2)\n",
      "Requirement already satisfied: jupyter-events>=0.4.0 in /Users/mkeller/anaconda3/envs/vitessce-tutorial-env/lib/python3.8/site-packages (from jupyter-server>=1.0->jupyter-server-proxy>=1.5.2->vitessce[all]@ git+https://github.com/vitessce/vitessce-python.git@keller-mark/no-copy) (0.6.2)\n",
      "Requirement already satisfied: argon2-cffi in /Users/mkeller/anaconda3/envs/vitessce-tutorial-env/lib/python3.8/site-packages (from jupyter-server>=1.0->jupyter-server-proxy>=1.5.2->vitessce[all]@ git+https://github.com/vitessce/vitessce-python.git@keller-mark/no-copy) (21.3.0)\n",
      "Requirement already satisfied: six>=1.5 in /Users/mkeller/anaconda3/envs/vitessce-tutorial-env/lib/python3.8/site-packages (from python-dateutil>=2.8.1->pandas>=1.1.2->vitessce[all]@ git+https://github.com/vitessce/vitessce-python.git@keller-mark/no-copy) (1.16.0)\n",
      "Requirement already satisfied: async-timeout<5.0,>=4.0.0a3 in /Users/mkeller/anaconda3/envs/vitessce-tutorial-env/lib/python3.8/site-packages (from aiohttp->ome-zarr==0.2.1->vitessce[all]@ git+https://github.com/vitessce/vitessce-python.git@keller-mark/no-copy) (4.0.2)\n",
      "Requirement already satisfied: multidict<7.0,>=4.5 in /Users/mkeller/anaconda3/envs/vitessce-tutorial-env/lib/python3.8/site-packages (from aiohttp->ome-zarr==0.2.1->vitessce[all]@ git+https://github.com/vitessce/vitessce-python.git@keller-mark/no-copy) (6.0.4)\n",
      "Requirement already satisfied: aiosignal>=1.1.2 in /Users/mkeller/anaconda3/envs/vitessce-tutorial-env/lib/python3.8/site-packages (from aiohttp->ome-zarr==0.2.1->vitessce[all]@ git+https://github.com/vitessce/vitessce-python.git@keller-mark/no-copy) (1.3.1)\n",
      "Requirement already satisfied: attrs>=17.3.0 in /Users/mkeller/anaconda3/envs/vitessce-tutorial-env/lib/python3.8/site-packages (from aiohttp->ome-zarr==0.2.1->vitessce[all]@ git+https://github.com/vitessce/vitessce-python.git@keller-mark/no-copy) (22.2.0)\n",
      "Requirement already satisfied: charset-normalizer<3.0,>=2.0 in /Users/mkeller/anaconda3/envs/vitessce-tutorial-env/lib/python3.8/site-packages (from aiohttp->ome-zarr==0.2.1->vitessce[all]@ git+https://github.com/vitessce/vitessce-python.git@keller-mark/no-copy) (2.1.1)\n",
      "Requirement already satisfied: yarl<2.0,>=1.0 in /Users/mkeller/anaconda3/envs/vitessce-tutorial-env/lib/python3.8/site-packages (from aiohttp->ome-zarr==0.2.1->vitessce[all]@ git+https://github.com/vitessce/vitessce-python.git@keller-mark/no-copy) (1.8.2)\n",
      "Requirement already satisfied: frozenlist>=1.1.1 in /Users/mkeller/anaconda3/envs/vitessce-tutorial-env/lib/python3.8/site-packages (from aiohttp->ome-zarr==0.2.1->vitessce[all]@ git+https://github.com/vitessce/vitessce-python.git@keller-mark/no-copy) (1.3.3)\n",
      "Requirement already satisfied: partd>=0.3.10 in /Users/mkeller/anaconda3/envs/vitessce-tutorial-env/lib/python3.8/site-packages (from dask->ome-zarr==0.2.1->vitessce[all]@ git+https://github.com/vitessce/vitessce-python.git@keller-mark/no-copy) (1.3.0)\n",
      "Requirement already satisfied: pyyaml>=5.3.1 in /Users/mkeller/anaconda3/envs/vitessce-tutorial-env/lib/python3.8/site-packages (from dask->ome-zarr==0.2.1->vitessce[all]@ git+https://github.com/vitessce/vitessce-python.git@keller-mark/no-copy) (6.0)\n",
      "Requirement already satisfied: cloudpickle>=1.1.1 in /Users/mkeller/anaconda3/envs/vitessce-tutorial-env/lib/python3.8/site-packages (from dask->ome-zarr==0.2.1->vitessce[all]@ git+https://github.com/vitessce/vitessce-python.git@keller-mark/no-copy) (2.2.0)\n",
      "Requirement already satisfied: jupyterlab-widgets~=3.0 in /Users/mkeller/anaconda3/envs/vitessce-tutorial-env/lib/python3.8/site-packages (from ipywidgets->anywidget==0.0.3->vitessce[all]@ git+https://github.com/vitessce/vitessce-python.git@keller-mark/no-copy) (3.0.5)\n",
      "Requirement already satisfied: ipython>=6.1.0 in /Users/mkeller/anaconda3/envs/vitessce-tutorial-env/lib/python3.8/site-packages (from ipywidgets->anywidget==0.0.3->vitessce[all]@ git+https://github.com/vitessce/vitessce-python.git@keller-mark/no-copy) (8.8.0)\n",
      "Requirement already satisfied: widgetsnbextension~=4.0 in /Users/mkeller/anaconda3/envs/vitessce-tutorial-env/lib/python3.8/site-packages (from ipywidgets->anywidget==0.0.3->vitessce[all]@ git+https://github.com/vitessce/vitessce-python.git@keller-mark/no-copy) (4.0.5)\n",
      "Requirement already satisfied: ipykernel>=4.5.1 in /Users/mkeller/anaconda3/envs/vitessce-tutorial-env/lib/python3.8/site-packages (from ipywidgets->anywidget==0.0.3->vitessce[all]@ git+https://github.com/vitessce/vitessce-python.git@keller-mark/no-copy) (6.20.1)\n",
      "Requirement already satisfied: urllib3<1.27,>=1.21.1 in /Users/mkeller/anaconda3/envs/vitessce-tutorial-env/lib/python3.8/site-packages (from requests->ome-zarr==0.2.1->vitessce[all]@ git+https://github.com/vitessce/vitessce-python.git@keller-mark/no-copy) (1.26.13)\n",
      "Requirement already satisfied: certifi>=2017.4.17 in /Users/mkeller/anaconda3/envs/vitessce-tutorial-env/lib/python3.8/site-packages (from requests->ome-zarr==0.2.1->vitessce[all]@ git+https://github.com/vitessce/vitessce-python.git@keller-mark/no-copy) (2022.12.7)\n",
      "Requirement already satisfied: idna<4,>=2.5 in /Users/mkeller/anaconda3/envs/vitessce-tutorial-env/lib/python3.8/site-packages (from requests->ome-zarr==0.2.1->vitessce[all]@ git+https://github.com/vitessce/vitessce-python.git@keller-mark/no-copy) (3.4)\n",
      "Requirement already satisfied: imageio>=2.4.1 in /Users/mkeller/anaconda3/envs/vitessce-tutorial-env/lib/python3.8/site-packages (from scikit-image->ome-zarr==0.2.1->vitessce[all]@ git+https://github.com/vitessce/vitessce-python.git@keller-mark/no-copy) (2.24.0)\n",
      "Requirement already satisfied: pillow!=7.1.0,!=7.1.1,!=8.3.0,>=6.1.0 in /Users/mkeller/anaconda3/envs/vitessce-tutorial-env/lib/python3.8/site-packages (from scikit-image->ome-zarr==0.2.1->vitessce[all]@ git+https://github.com/vitessce/vitessce-python.git@keller-mark/no-copy) (9.4.0)\n",
      "Requirement already satisfied: PyWavelets>=1.1.1 in /Users/mkeller/anaconda3/envs/vitessce-tutorial-env/lib/python3.8/site-packages (from scikit-image->ome-zarr==0.2.1->vitessce[all]@ git+https://github.com/vitessce/vitessce-python.git@keller-mark/no-copy) (1.4.1)\n",
      "Requirement already satisfied: networkx>=2.2 in /Users/mkeller/anaconda3/envs/vitessce-tutorial-env/lib/python3.8/site-packages (from scikit-image->ome-zarr==0.2.1->vitessce[all]@ git+https://github.com/vitessce/vitessce-python.git@keller-mark/no-copy) (3.0)\n",
      "Requirement already satisfied: sniffio>=1.1 in /Users/mkeller/anaconda3/envs/vitessce-tutorial-env/lib/python3.8/site-packages (from anyio<4,>=3.1.0->jupyter-server>=1.0->jupyter-server-proxy>=1.5.2->vitessce[all]@ git+https://github.com/vitessce/vitessce-python.git@keller-mark/no-copy) (1.3.0)\n",
      "Requirement already satisfied: appnope in /Users/mkeller/anaconda3/envs/vitessce-tutorial-env/lib/python3.8/site-packages (from ipykernel>=4.5.1->ipywidgets->anywidget==0.0.3->vitessce[all]@ git+https://github.com/vitessce/vitessce-python.git@keller-mark/no-copy) (0.1.3)\n",
      "Requirement already satisfied: comm>=0.1.1 in /Users/mkeller/anaconda3/envs/vitessce-tutorial-env/lib/python3.8/site-packages (from ipykernel>=4.5.1->ipywidgets->anywidget==0.0.3->vitessce[all]@ git+https://github.com/vitessce/vitessce-python.git@keller-mark/no-copy) (0.1.2)\n",
      "Requirement already satisfied: psutil in /Users/mkeller/anaconda3/envs/vitessce-tutorial-env/lib/python3.8/site-packages (from ipykernel>=4.5.1->ipywidgets->anywidget==0.0.3->vitessce[all]@ git+https://github.com/vitessce/vitessce-python.git@keller-mark/no-copy) (5.9.4)\n",
      "Requirement already satisfied: nest-asyncio in /Users/mkeller/anaconda3/envs/vitessce-tutorial-env/lib/python3.8/site-packages (from ipykernel>=4.5.1->ipywidgets->anywidget==0.0.3->vitessce[all]@ git+https://github.com/vitessce/vitessce-python.git@keller-mark/no-copy) (1.5.6)\n",
      "Requirement already satisfied: matplotlib-inline>=0.1 in /Users/mkeller/anaconda3/envs/vitessce-tutorial-env/lib/python3.8/site-packages (from ipykernel>=4.5.1->ipywidgets->anywidget==0.0.3->vitessce[all]@ git+https://github.com/vitessce/vitessce-python.git@keller-mark/no-copy) (0.1.6)\n",
      "Requirement already satisfied: debugpy>=1.0 in /Users/mkeller/anaconda3/envs/vitessce-tutorial-env/lib/python3.8/site-packages (from ipykernel>=4.5.1->ipywidgets->anywidget==0.0.3->vitessce[all]@ git+https://github.com/vitessce/vitessce-python.git@keller-mark/no-copy) (1.6.5)\n",
      "Requirement already satisfied: pexpect>4.3 in /Users/mkeller/anaconda3/envs/vitessce-tutorial-env/lib/python3.8/site-packages (from ipython>=6.1.0->ipywidgets->anywidget==0.0.3->vitessce[all]@ git+https://github.com/vitessce/vitessce-python.git@keller-mark/no-copy) (4.8.0)\n",
      "Requirement already satisfied: jedi>=0.16 in /Users/mkeller/anaconda3/envs/vitessce-tutorial-env/lib/python3.8/site-packages (from ipython>=6.1.0->ipywidgets->anywidget==0.0.3->vitessce[all]@ git+https://github.com/vitessce/vitessce-python.git@keller-mark/no-copy) (0.18.2)\n",
      "Requirement already satisfied: backcall in /Users/mkeller/anaconda3/envs/vitessce-tutorial-env/lib/python3.8/site-packages (from ipython>=6.1.0->ipywidgets->anywidget==0.0.3->vitessce[all]@ git+https://github.com/vitessce/vitessce-python.git@keller-mark/no-copy) (0.2.0)\n",
      "Requirement already satisfied: decorator in /Users/mkeller/anaconda3/envs/vitessce-tutorial-env/lib/python3.8/site-packages (from ipython>=6.1.0->ipywidgets->anywidget==0.0.3->vitessce[all]@ git+https://github.com/vitessce/vitessce-python.git@keller-mark/no-copy) (5.1.1)\n",
      "Requirement already satisfied: prompt-toolkit<3.1.0,>=3.0.11 in /Users/mkeller/anaconda3/envs/vitessce-tutorial-env/lib/python3.8/site-packages (from ipython>=6.1.0->ipywidgets->anywidget==0.0.3->vitessce[all]@ git+https://github.com/vitessce/vitessce-python.git@keller-mark/no-copy) (3.0.36)\n",
      "Requirement already satisfied: pickleshare in /Users/mkeller/anaconda3/envs/vitessce-tutorial-env/lib/python3.8/site-packages (from ipython>=6.1.0->ipywidgets->anywidget==0.0.3->vitessce[all]@ git+https://github.com/vitessce/vitessce-python.git@keller-mark/no-copy) (0.7.5)\n",
      "Requirement already satisfied: pygments>=2.4.0 in /Users/mkeller/anaconda3/envs/vitessce-tutorial-env/lib/python3.8/site-packages (from ipython>=6.1.0->ipywidgets->anywidget==0.0.3->vitessce[all]@ git+https://github.com/vitessce/vitessce-python.git@keller-mark/no-copy) (2.14.0)\n",
      "Requirement already satisfied: stack-data in /Users/mkeller/anaconda3/envs/vitessce-tutorial-env/lib/python3.8/site-packages (from ipython>=6.1.0->ipywidgets->anywidget==0.0.3->vitessce[all]@ git+https://github.com/vitessce/vitessce-python.git@keller-mark/no-copy) (0.6.2)\n",
      "Requirement already satisfied: rfc3986-validator>=0.1.1 in /Users/mkeller/anaconda3/envs/vitessce-tutorial-env/lib/python3.8/site-packages (from jupyter-events>=0.4.0->jupyter-server>=1.0->jupyter-server-proxy>=1.5.2->vitessce[all]@ git+https://github.com/vitessce/vitessce-python.git@keller-mark/no-copy) (0.1.1)\n",
      "Requirement already satisfied: python-json-logger>=2.0.4 in /Users/mkeller/anaconda3/envs/vitessce-tutorial-env/lib/python3.8/site-packages (from jupyter-events>=0.4.0->jupyter-server>=1.0->jupyter-server-proxy>=1.5.2->vitessce[all]@ git+https://github.com/vitessce/vitessce-python.git@keller-mark/no-copy) (2.0.4)\n",
      "Requirement already satisfied: jsonschema[format-nongpl]>=3.2.0 in /Users/mkeller/anaconda3/envs/vitessce-tutorial-env/lib/python3.8/site-packages (from jupyter-events>=0.4.0->jupyter-server>=1.0->jupyter-server-proxy>=1.5.2->vitessce[all]@ git+https://github.com/vitessce/vitessce-python.git@keller-mark/no-copy) (4.17.3)\n",
      "Requirement already satisfied: rfc3339-validator in /Users/mkeller/anaconda3/envs/vitessce-tutorial-env/lib/python3.8/site-packages (from jupyter-events>=0.4.0->jupyter-server>=1.0->jupyter-server-proxy>=1.5.2->vitessce[all]@ git+https://github.com/vitessce/vitessce-python.git@keller-mark/no-copy) (0.1.4)\n",
      "Requirement already satisfied: beautifulsoup4 in /Users/mkeller/anaconda3/envs/vitessce-tutorial-env/lib/python3.8/site-packages (from nbconvert>=6.4.4->jupyter-server>=1.0->jupyter-server-proxy>=1.5.2->vitessce[all]@ git+https://github.com/vitessce/vitessce-python.git@keller-mark/no-copy) (4.11.1)\n",
      "Requirement already satisfied: tinycss2 in /Users/mkeller/anaconda3/envs/vitessce-tutorial-env/lib/python3.8/site-packages (from nbconvert>=6.4.4->jupyter-server>=1.0->jupyter-server-proxy>=1.5.2->vitessce[all]@ git+https://github.com/vitessce/vitessce-python.git@keller-mark/no-copy) (1.2.1)\n",
      "Requirement already satisfied: jupyterlab-pygments in /Users/mkeller/anaconda3/envs/vitessce-tutorial-env/lib/python3.8/site-packages (from nbconvert>=6.4.4->jupyter-server>=1.0->jupyter-server-proxy>=1.5.2->vitessce[all]@ git+https://github.com/vitessce/vitessce-python.git@keller-mark/no-copy) (0.2.2)\n",
      "Requirement already satisfied: nbclient>=0.5.0 in /Users/mkeller/anaconda3/envs/vitessce-tutorial-env/lib/python3.8/site-packages (from nbconvert>=6.4.4->jupyter-server>=1.0->jupyter-server-proxy>=1.5.2->vitessce[all]@ git+https://github.com/vitessce/vitessce-python.git@keller-mark/no-copy) (0.7.2)\n",
      "Requirement already satisfied: defusedxml in /Users/mkeller/anaconda3/envs/vitessce-tutorial-env/lib/python3.8/site-packages (from nbconvert>=6.4.4->jupyter-server>=1.0->jupyter-server-proxy>=1.5.2->vitessce[all]@ git+https://github.com/vitessce/vitessce-python.git@keller-mark/no-copy) (0.7.1)\n",
      "Requirement already satisfied: bleach in /Users/mkeller/anaconda3/envs/vitessce-tutorial-env/lib/python3.8/site-packages (from nbconvert>=6.4.4->jupyter-server>=1.0->jupyter-server-proxy>=1.5.2->vitessce[all]@ git+https://github.com/vitessce/vitessce-python.git@keller-mark/no-copy) (5.0.1)\n",
      "Requirement already satisfied: pandocfilters>=1.4.1 in /Users/mkeller/anaconda3/envs/vitessce-tutorial-env/lib/python3.8/site-packages (from nbconvert>=6.4.4->jupyter-server>=1.0->jupyter-server-proxy>=1.5.2->vitessce[all]@ git+https://github.com/vitessce/vitessce-python.git@keller-mark/no-copy) (1.5.0)\n",
      "Requirement already satisfied: importlib-metadata>=3.6 in /Users/mkeller/anaconda3/envs/vitessce-tutorial-env/lib/python3.8/site-packages (from nbconvert>=6.4.4->jupyter-server>=1.0->jupyter-server-proxy>=1.5.2->vitessce[all]@ git+https://github.com/vitessce/vitessce-python.git@keller-mark/no-copy) (6.0.0)\n",
      "Requirement already satisfied: mistune<3,>=2.0.3 in /Users/mkeller/anaconda3/envs/vitessce-tutorial-env/lib/python3.8/site-packages (from nbconvert>=6.4.4->jupyter-server>=1.0->jupyter-server-proxy>=1.5.2->vitessce[all]@ git+https://github.com/vitessce/vitessce-python.git@keller-mark/no-copy) (2.0.4)\n",
      "Requirement already satisfied: markupsafe>=2.0 in /Users/mkeller/anaconda3/envs/vitessce-tutorial-env/lib/python3.8/site-packages (from nbconvert>=6.4.4->jupyter-server>=1.0->jupyter-server-proxy>=1.5.2->vitessce[all]@ git+https://github.com/vitessce/vitessce-python.git@keller-mark/no-copy) (2.1.1)\n",
      "Requirement already satisfied: fastjsonschema in /Users/mkeller/anaconda3/envs/vitessce-tutorial-env/lib/python3.8/site-packages (from nbformat>=5.3.0->jupyter-server>=1.0->jupyter-server-proxy>=1.5.2->vitessce[all]@ git+https://github.com/vitessce/vitessce-python.git@keller-mark/no-copy) (2.16.2)\n",
      "Requirement already satisfied: locket in /Users/mkeller/anaconda3/envs/vitessce-tutorial-env/lib/python3.8/site-packages (from partd>=0.3.10->dask->ome-zarr==0.2.1->vitessce[all]@ git+https://github.com/vitessce/vitessce-python.git@keller-mark/no-copy) (1.0.0)\n",
      "Requirement already satisfied: ptyprocess in /Users/mkeller/anaconda3/envs/vitessce-tutorial-env/lib/python3.8/site-packages (from terminado>=0.8.3->jupyter-server>=1.0->jupyter-server-proxy>=1.5.2->vitessce[all]@ git+https://github.com/vitessce/vitessce-python.git@keller-mark/no-copy) (0.7.0)\n",
      "Requirement already satisfied: argon2-cffi-bindings in /Users/mkeller/anaconda3/envs/vitessce-tutorial-env/lib/python3.8/site-packages (from argon2-cffi->jupyter-server>=1.0->jupyter-server-proxy>=1.5.2->vitessce[all]@ git+https://github.com/vitessce/vitessce-python.git@keller-mark/no-copy) (21.2.0)\n",
      "Requirement already satisfied: aiobotocore~=2.4.0 in /Users/mkeller/anaconda3/envs/vitessce-tutorial-env/lib/python3.8/site-packages (from s3fs->fsspec[s3]!=2021.07.0->ome-zarr==0.2.1->vitessce[all]@ git+https://github.com/vitessce/vitessce-python.git@keller-mark/no-copy) (2.4.2)\n",
      "Requirement already satisfied: botocore<1.27.60,>=1.27.59 in /Users/mkeller/anaconda3/envs/vitessce-tutorial-env/lib/python3.8/site-packages (from aiobotocore~=2.4.0->s3fs->fsspec[s3]!=2021.07.0->ome-zarr==0.2.1->vitessce[all]@ git+https://github.com/vitessce/vitessce-python.git@keller-mark/no-copy) (1.27.59)\n",
      "Requirement already satisfied: wrapt>=1.10.10 in /Users/mkeller/anaconda3/envs/vitessce-tutorial-env/lib/python3.8/site-packages (from aiobotocore~=2.4.0->s3fs->fsspec[s3]!=2021.07.0->ome-zarr==0.2.1->vitessce[all]@ git+https://github.com/vitessce/vitessce-python.git@keller-mark/no-copy) (1.14.1)\n",
      "Requirement already satisfied: aioitertools>=0.5.1 in /Users/mkeller/anaconda3/envs/vitessce-tutorial-env/lib/python3.8/site-packages (from aiobotocore~=2.4.0->s3fs->fsspec[s3]!=2021.07.0->ome-zarr==0.2.1->vitessce[all]@ git+https://github.com/vitessce/vitessce-python.git@keller-mark/no-copy) (0.11.0)\n",
      "Requirement already satisfied: zipp>=0.5 in /Users/mkeller/anaconda3/envs/vitessce-tutorial-env/lib/python3.8/site-packages (from importlib-metadata>=3.6->nbconvert>=6.4.4->jupyter-server>=1.0->jupyter-server-proxy>=1.5.2->vitessce[all]@ git+https://github.com/vitessce/vitessce-python.git@keller-mark/no-copy) (3.11.0)\n",
      "Requirement already satisfied: parso<0.9.0,>=0.8.0 in /Users/mkeller/anaconda3/envs/vitessce-tutorial-env/lib/python3.8/site-packages (from jedi>=0.16->ipython>=6.1.0->ipywidgets->anywidget==0.0.3->vitessce[all]@ git+https://github.com/vitessce/vitessce-python.git@keller-mark/no-copy) (0.8.3)\n",
      "Requirement already satisfied: importlib-resources>=1.4.0 in /Users/mkeller/anaconda3/envs/vitessce-tutorial-env/lib/python3.8/site-packages (from jsonschema[format-nongpl]>=3.2.0->jupyter-events>=0.4.0->jupyter-server>=1.0->jupyter-server-proxy>=1.5.2->vitessce[all]@ git+https://github.com/vitessce/vitessce-python.git@keller-mark/no-copy) (5.10.2)\n",
      "Requirement already satisfied: pyrsistent!=0.17.0,!=0.17.1,!=0.17.2,>=0.14.0 in /Users/mkeller/anaconda3/envs/vitessce-tutorial-env/lib/python3.8/site-packages (from jsonschema[format-nongpl]>=3.2.0->jupyter-events>=0.4.0->jupyter-server>=1.0->jupyter-server-proxy>=1.5.2->vitessce[all]@ git+https://github.com/vitessce/vitessce-python.git@keller-mark/no-copy) (0.19.3)\n",
      "Requirement already satisfied: pkgutil-resolve-name>=1.3.10 in /Users/mkeller/anaconda3/envs/vitessce-tutorial-env/lib/python3.8/site-packages (from jsonschema[format-nongpl]>=3.2.0->jupyter-events>=0.4.0->jupyter-server>=1.0->jupyter-server-proxy>=1.5.2->vitessce[all]@ git+https://github.com/vitessce/vitessce-python.git@keller-mark/no-copy) (1.3.10)\n",
      "Requirement already satisfied: uri-template in /Users/mkeller/anaconda3/envs/vitessce-tutorial-env/lib/python3.8/site-packages (from jsonschema[format-nongpl]>=3.2.0->jupyter-events>=0.4.0->jupyter-server>=1.0->jupyter-server-proxy>=1.5.2->vitessce[all]@ git+https://github.com/vitessce/vitessce-python.git@keller-mark/no-copy) (1.2.0)\n",
      "Requirement already satisfied: isoduration in /Users/mkeller/anaconda3/envs/vitessce-tutorial-env/lib/python3.8/site-packages (from jsonschema[format-nongpl]>=3.2.0->jupyter-events>=0.4.0->jupyter-server>=1.0->jupyter-server-proxy>=1.5.2->vitessce[all]@ git+https://github.com/vitessce/vitessce-python.git@keller-mark/no-copy) (20.11.0)\n",
      "Requirement already satisfied: webcolors>=1.11 in /Users/mkeller/anaconda3/envs/vitessce-tutorial-env/lib/python3.8/site-packages (from jsonschema[format-nongpl]>=3.2.0->jupyter-events>=0.4.0->jupyter-server>=1.0->jupyter-server-proxy>=1.5.2->vitessce[all]@ git+https://github.com/vitessce/vitessce-python.git@keller-mark/no-copy) (1.12)\n",
      "Requirement already satisfied: fqdn in /Users/mkeller/anaconda3/envs/vitessce-tutorial-env/lib/python3.8/site-packages (from jsonschema[format-nongpl]>=3.2.0->jupyter-events>=0.4.0->jupyter-server>=1.0->jupyter-server-proxy>=1.5.2->vitessce[all]@ git+https://github.com/vitessce/vitessce-python.git@keller-mark/no-copy) (1.5.1)\n",
      "Requirement already satisfied: jsonpointer>1.13 in /Users/mkeller/anaconda3/envs/vitessce-tutorial-env/lib/python3.8/site-packages (from jsonschema[format-nongpl]>=3.2.0->jupyter-events>=0.4.0->jupyter-server>=1.0->jupyter-server-proxy>=1.5.2->vitessce[all]@ git+https://github.com/vitessce/vitessce-python.git@keller-mark/no-copy) (2.3)\n",
      "Requirement already satisfied: wcwidth in /Users/mkeller/anaconda3/envs/vitessce-tutorial-env/lib/python3.8/site-packages (from prompt-toolkit<3.1.0,>=3.0.11->ipython>=6.1.0->ipywidgets->anywidget==0.0.3->vitessce[all]@ git+https://github.com/vitessce/vitessce-python.git@keller-mark/no-copy) (0.2.5)\n",
      "Requirement already satisfied: cffi>=1.0.1 in /Users/mkeller/anaconda3/envs/vitessce-tutorial-env/lib/python3.8/site-packages (from argon2-cffi-bindings->argon2-cffi->jupyter-server>=1.0->jupyter-server-proxy>=1.5.2->vitessce[all]@ git+https://github.com/vitessce/vitessce-python.git@keller-mark/no-copy) (1.14.4)\n",
      "Requirement already satisfied: soupsieve>1.2 in /Users/mkeller/anaconda3/envs/vitessce-tutorial-env/lib/python3.8/site-packages (from beautifulsoup4->nbconvert>=6.4.4->jupyter-server>=1.0->jupyter-server-proxy>=1.5.2->vitessce[all]@ git+https://github.com/vitessce/vitessce-python.git@keller-mark/no-copy) (2.3.2.post1)\n",
      "Requirement already satisfied: webencodings in /Users/mkeller/anaconda3/envs/vitessce-tutorial-env/lib/python3.8/site-packages (from bleach->nbconvert>=6.4.4->jupyter-server>=1.0->jupyter-server-proxy>=1.5.2->vitessce[all]@ git+https://github.com/vitessce/vitessce-python.git@keller-mark/no-copy) (0.5.1)\n",
      "Requirement already satisfied: executing>=1.2.0 in /Users/mkeller/anaconda3/envs/vitessce-tutorial-env/lib/python3.8/site-packages (from stack-data->ipython>=6.1.0->ipywidgets->anywidget==0.0.3->vitessce[all]@ git+https://github.com/vitessce/vitessce-python.git@keller-mark/no-copy) (1.2.0)\n",
      "Requirement already satisfied: asttokens>=2.1.0 in /Users/mkeller/anaconda3/envs/vitessce-tutorial-env/lib/python3.8/site-packages (from stack-data->ipython>=6.1.0->ipywidgets->anywidget==0.0.3->vitessce[all]@ git+https://github.com/vitessce/vitessce-python.git@keller-mark/no-copy) (2.2.1)\n",
      "Requirement already satisfied: pure-eval in /Users/mkeller/anaconda3/envs/vitessce-tutorial-env/lib/python3.8/site-packages (from stack-data->ipython>=6.1.0->ipywidgets->anywidget==0.0.3->vitessce[all]@ git+https://github.com/vitessce/vitessce-python.git@keller-mark/no-copy) (0.2.2)\n",
      "Requirement already satisfied: jmespath<2.0.0,>=0.7.1 in /Users/mkeller/anaconda3/envs/vitessce-tutorial-env/lib/python3.8/site-packages (from botocore<1.27.60,>=1.27.59->aiobotocore~=2.4.0->s3fs->fsspec[s3]!=2021.07.0->ome-zarr==0.2.1->vitessce[all]@ git+https://github.com/vitessce/vitessce-python.git@keller-mark/no-copy) (1.0.1)\n",
      "Requirement already satisfied: pycparser in /Users/mkeller/anaconda3/envs/vitessce-tutorial-env/lib/python3.8/site-packages (from cffi>=1.0.1->argon2-cffi-bindings->argon2-cffi->jupyter-server>=1.0->jupyter-server-proxy>=1.5.2->vitessce[all]@ git+https://github.com/vitessce/vitessce-python.git@keller-mark/no-copy) (2.21)\n",
      "Requirement already satisfied: arrow>=0.15.0 in /Users/mkeller/anaconda3/envs/vitessce-tutorial-env/lib/python3.8/site-packages (from isoduration->jsonschema[format-nongpl]>=3.2.0->jupyter-events>=0.4.0->jupyter-server>=1.0->jupyter-server-proxy>=1.5.2->vitessce[all]@ git+https://github.com/vitessce/vitessce-python.git@keller-mark/no-copy) (1.2.3)\n",
      "Building wheels for collected packages: vitessce\n",
      "  Building wheel for vitessce (pyproject.toml) ... \u001b[?25ldone\n",
      "\u001b[?25h  Created wheel for vitessce: filename=vitessce-2.0.1-py2.py3-none-any.whl size=47148 sha256=4900cf5c6ef6c58f288f381fa7bf97be7d84e2ec0bd99ebae00bc3898fb085c3\n",
      "  Stored in directory: /private/var/folders/j7/z73pwc713473sxx39wdbgb5h0000gn/T/pip-ephem-wheel-cache-hbry_t9p/wheels/0a/55/d2/024f9b416e2dc77e0db353e68838e8b1bd0fc2d0c336765881\n",
      "Successfully built vitessce\n",
      "Installing collected packages: vitessce\n",
      "Successfully installed vitessce-2.0.1\n"
     ]
    }
   ],
   "source": [
    "!pip install \"vitessce[all] @ git+https://github.com/vitessce/vitessce-python.git@keller-mark/no-copy\""
   ]
  },
  {
   "cell_type": "code",
   "execution_count": 4,
   "id": "61d8be7a-8a7b-4369-8be7-84dc1d48837f",
   "metadata": {},
   "outputs": [],
   "source": [
    "from vitessce import (\n",
    "    VitessceConfig,\n",
    "    Component as cm,\n",
    "    CoordinationType as ct,\n",
    "    FileType as ft,\n",
    "    OmeZarrWrapper,\n",
    ")\n",
    "from os.path import join"
   ]
  },
  {
   "cell_type": "code",
   "execution_count": 12,
   "id": "b2d4440d-5829-481d-85f4-7b6d81ca6daf",
   "metadata": {},
   "outputs": [],
   "source": [
    "vc = VitessceConfig(schema_version=\"1.0.15\", name='Dog')"
   ]
  },
  {
   "cell_type": "code",
   "execution_count": 13,
   "id": "78c895ca-ab51-461d-b4da-c0d3390cc82d",
   "metadata": {},
   "outputs": [],
   "source": [
    "dataset = vc.add_dataset(name='Brain').add_object(\n",
    "    OmeZarrWrapper(img_path=join('processed_data', 'dog something.ome.zarr'))\n",
    ")"
   ]
  },
  {
   "cell_type": "code",
   "execution_count": 14,
   "id": "5875ec24-7f2e-4276-ae4b-1ef1780707d0",
   "metadata": {},
   "outputs": [],
   "source": [
    "spatial = vc.add_view(cm.SPATIAL, dataset=dataset)\n",
    "status = vc.add_view(cm.STATUS, dataset=dataset)\n",
    "# Try changing the prop below to False\n",
    "lc = vc.add_view(cm.LAYER_CONTROLLER, dataset=dataset).set_props(disableChannelsIfRgbDetected=True)\n",
    "vc.layout(spatial | (lc / status));"
   ]
  },
  {
   "cell_type": "code",
   "execution_count": 15,
   "id": "9c217618-0659-499a-9c9a-a0d9574dded1",
   "metadata": {},
   "outputs": [
    {
     "name": "stderr",
     "output_type": "stream",
     "text": [
      "[2023-01-11 15:59:36 -0500] [40284] [INFO] Running on http://127.0.0.1:8002 (CTRL + C to quit)\n"
     ]
    },
    {
     "data": {
      "application/vnd.jupyter.widget-view+json": {
       "model_id": "9c2978ee0f6042208761c2c8b1158f38",
       "version_major": 2,
       "version_minor": 0
      },
      "text/plain": [
       "VitessceWidget(config={'version': '1.0.15', 'name': 'Dog', 'description': '', 'datasets': [{'uid': 'A', 'name'…"
      ]
     },
     "execution_count": 15,
     "metadata": {},
     "output_type": "execute_result"
    }
   ],
   "source": [
    "vw = vc.widget()\n",
    "vw"
   ]
  },
  {
   "cell_type": "code",
   "execution_count": null,
   "id": "dba9075e-753f-47d2-98d1-57bc24b81333",
   "metadata": {},
   "outputs": [],
   "source": []
  },
  {
   "cell_type": "code",
   "execution_count": null,
   "id": "52c5fdae-bf0c-441b-8386-72b3a36b1a60",
   "metadata": {},
   "outputs": [],
   "source": []
  }
 ],
 "metadata": {
  "kernelspec": {
   "display_name": "Python 3 (ipykernel)",
   "language": "python",
   "name": "python3"
  },
  "language_info": {
   "codemirror_mode": {
    "name": "ipython",
    "version": 3
   },
   "file_extension": ".py",
   "mimetype": "text/x-python",
   "name": "python",
   "nbconvert_exporter": "python",
   "pygments_lexer": "ipython3",
   "version": "3.8.0"
  }
 },
 "nbformat": 4,
 "nbformat_minor": 5
}
