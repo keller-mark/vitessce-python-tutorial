{
 "cells": [
  {
   "cell_type": "code",
   "execution_count": null,
   "id": "61d8be7a-8a7b-4369-8be7-84dc1d48837f",
   "metadata": {},
   "outputs": [],
   "source": [
    "from vitessce import (\n",
    "    VitessceConfig,\n",
    "    Component as cm,\n",
    "    CoordinationType as ct,\n",
    "    FileType as ft,\n",
    "    MultiImageWrapper,\n",
    "    OmeTiffWrapper,\n",
    ")\n",
    "from os.path import join"
   ]
  },
  {
   "cell_type": "code",
   "execution_count": null,
   "id": "b2d4440d-5829-481d-85f4-7b6d81ca6daf",
   "metadata": {},
   "outputs": [],
   "source": [
    "vc = VitessceConfig(schema_version=\"1.0.15\", name='Dog')"
   ]
  },
  {
   "cell_type": "code",
   "execution_count": null,
   "id": "78c895ca-ab51-461d-b4da-c0d3390cc82d",
   "metadata": {},
   "outputs": [],
   "source": [
    "dataset = vc.add_dataset(name='Brain').add_object(MultiImageWrapper(\n",
    "    image_wrappers=[\n",
    "        OmeTiffWrapper(img_path=join('processed_data', 'dog.pyramid.ome.tif'), name='Dog'),\n",
    "    ],\n",
    "    use_physical_size_scaling=True,\n",
    "  )\n",
    ")"
   ]
  },
  {
   "cell_type": "code",
   "execution_count": null,
   "id": "5875ec24-7f2e-4276-ae4b-1ef1780707d0",
   "metadata": {},
   "outputs": [],
   "source": [
    "spatial = vc.add_view(cm.SPATIAL, dataset=dataset)\n",
    "status = vc.add_view(cm.STATUS, dataset=dataset)\n",
    "# Try changing the prop below to False\n",
    "lc = vc.add_view(cm.LAYER_CONTROLLER, dataset=dataset).set_props(disableChannelsIfRgbDetected=False)\n",
    "vc.layout(spatial | (lc / status));"
   ]
  },
  {
   "cell_type": "code",
   "execution_count": null,
   "id": "9c217618-0659-499a-9c9a-a0d9574dded1",
   "metadata": {},
   "outputs": [],
   "source": [
    "vw = vc.widget()\n",
    "vw"
   ]
  },
  {
   "cell_type": "code",
   "execution_count": null,
   "id": "dba9075e-753f-47d2-98d1-57bc24b81333",
   "metadata": {},
   "outputs": [],
   "source": []
  },
  {
   "cell_type": "code",
   "execution_count": null,
   "id": "52c5fdae-bf0c-441b-8386-72b3a36b1a60",
   "metadata": {},
   "outputs": [],
   "source": []
  }
 ],
 "metadata": {
  "kernelspec": {
   "display_name": "Python 3 (ipykernel)",
   "language": "python",
   "name": "python3"
  },
  "language_info": {
   "codemirror_mode": {
    "name": "ipython",
    "version": 3
   },
   "file_extension": ".py",
   "mimetype": "text/x-python",
   "name": "python",
   "nbconvert_exporter": "python",
   "pygments_lexer": "ipython3",
   "version": "3.8.0"
  }
 },
 "nbformat": 4,
 "nbformat_minor": 5
}
