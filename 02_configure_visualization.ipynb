{
 "cells": [
  {
   "cell_type": "code",
   "execution_count": 14,
   "id": "89b4c5b8-bce9-4dfb-b9c4-f227fa0ae231",
   "metadata": {},
   "outputs": [],
   "source": [
    "from anndata import read_zarr\n",
    "from vitessce import (\n",
    "    VitessceConfig,\n",
    "    Component as cm,\n",
    "    CoordinationType as ct,\n",
    "    FileType as ft,\n",
    "    AnnDataWrapper,\n",
    ")\n",
    "from os.path import join"
   ]
  },
  {
   "cell_type": "code",
   "execution_count": 15,
   "id": "e0c984f1-e2fb-461b-8778-ec8d8659bbff",
   "metadata": {},
   "outputs": [],
   "source": [
    "adata = read_zarr(join(\"processed_data\", \"habib17.zarr\"))"
   ]
  },
  {
   "cell_type": "code",
   "execution_count": 16,
   "id": "b3d1baeb-de12-4cc3-92d1-d5009fa9e79c",
   "metadata": {},
   "outputs": [],
   "source": [
    "vc = VitessceConfig(schema_version=\"1.0.15\", name='Habib et al', description='COVID-19 Healthy Donor Brain')"
   ]
  },
  {
   "cell_type": "code",
   "execution_count": 18,
   "id": "c07cb582-6c3d-45d7-937b-e54bd8fc93d8",
   "metadata": {},
   "outputs": [],
   "source": [
    "dataset = vc.add_dataset(name='Brain').add_object(AnnDataWrapper(\n",
    "        adata,\n",
    "        obs_embedding_paths=[\"obsm/X_umap\"],\n",
    "        obs_embedding_names=[\"UMAP\"],\n",
    "        obs_set_paths=[\"obs/CellType\"],\n",
    "        obs_set_names=[\"Cell Type\"],\n",
    "        obs_feature_matrix_path=\"X\"\n",
    "    )\n",
    ")"
   ]
  },
  {
   "cell_type": "code",
   "execution_count": 19,
   "id": "0b62f4fe-ad8b-458b-9cfe-a54a647138a1",
   "metadata": {},
   "outputs": [],
   "source": [
    "scatterplot = vc.add_view(cm.SCATTERPLOT, dataset=dataset, mapping=\"UMAP\")\n",
    "cell_sets = vc.add_view(cm.OBS_SETS, dataset=dataset)\n",
    "genes = vc.add_view(cm.FEATURE_LIST, dataset=dataset)\n",
    "heatmap = vc.add_view(cm.HEATMAP, dataset=dataset)"
   ]
  },
  {
   "cell_type": "code",
   "execution_count": 20,
   "id": "d88f759e-bce2-4998-abac-095415dab507",
   "metadata": {},
   "outputs": [],
   "source": [
    "vc.layout((scatterplot | cell_sets) / (heatmap | genes));"
   ]
  },
  {
   "cell_type": "code",
   "execution_count": 21,
   "id": "3cfaa455-ffa5-450c-a788-91fcec0195eb",
   "metadata": {},
   "outputs": [
    {
     "name": "stderr",
     "output_type": "stream",
     "text": [
      "[2023-01-11 10:53:23 -0500] [30876] [INFO] Running on http://127.0.0.1:8001 (CTRL + C to quit)\n"
     ]
    },
    {
     "data": {
      "application/vnd.jupyter.widget-view+json": {
       "model_id": "8f6e35c224354dd49512ec03e39a351d",
       "version_major": 2,
       "version_minor": 0
      },
      "text/plain": [
       "VitessceWidget(config={'version': '1.0.15', 'name': 'Habib et al', 'description': 'COVID-19 Healthy Donor Brai…"
      ]
     },
     "execution_count": 21,
     "metadata": {},
     "output_type": "execute_result"
    }
   ],
   "source": [
    "vw = vc.widget()\n",
    "vw"
   ]
  },
  {
   "cell_type": "code",
   "execution_count": null,
   "id": "5c50be6e-9e53-4ede-8d8c-6798bb79d9ea",
   "metadata": {},
   "outputs": [],
   "source": []
  }
 ],
 "metadata": {
  "kernelspec": {
   "display_name": "Python 3 (ipykernel)",
   "language": "python",
   "name": "python3"
  },
  "language_info": {
   "codemirror_mode": {
    "name": "ipython",
    "version": 3
   },
   "file_extension": ".py",
   "mimetype": "text/x-python",
   "name": "python",
   "nbconvert_exporter": "python",
   "pygments_lexer": "ipython3",
   "version": "3.8.0"
  }
 },
 "nbformat": 4,
 "nbformat_minor": 5
}
