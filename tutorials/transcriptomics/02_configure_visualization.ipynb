{
 "cells": [
  {
   "cell_type": "markdown",
   "id": "3337b297-c768-450b-8e0a-e0d7810262d3",
   "metadata": {},
   "source": [
    "# Configure visualization with AnnData-Zarr"
   ]
  },
  {
   "cell_type": "markdown",
   "id": "f6d63087-fa45-4f5b-a5b2-8744c204a840",
   "metadata": {},
   "source": [
    "## Motivation\n",
    "\n",
    "We can configure an interactive visualization that loads the data from the AnnData-Zarr store (the result of the `01_convert_data.ipynb` notebook) using Vitessce."
   ]
  },
  {
   "cell_type": "code",
   "execution_count": 2,
   "id": "89b4c5b8-bce9-4dfb-b9c4-f227fa0ae231",
   "metadata": {},
   "outputs": [],
   "source": [
    "from vitessce import (\n",
    "    VitessceConfig,\n",
    "    ViewType as vt,\n",
    "    CoordinationType as ct,\n",
    "    FileType as ft,\n",
    "    AnnDataWrapper,\n",
    ")\n",
    "from os.path import join"
   ]
  },
  {
   "cell_type": "markdown",
   "id": "58a67d1b-93e5-4676-9dd6-12eb2f88961f",
   "metadata": {},
   "source": [
    "## Instantiate a `VitessceConfig` object\n",
    "\n",
    "We begin the configuration process by creating an object using the `VitessceConfig` constructor. This takes three parameters:\n",
    "- `schema_version`: the schema version that the configuration should conform to. Valid values can be found at http://vitessce.io/docs/view-config-json/#version. The current most recent version `1.0.15` (as of 1/16/2023) is used in this tutorial.\n",
    "- `name`: a name for the configuration.\n",
    "- `description` (optional): a brief description of the configuration. This will appear in the `cm.DESCRIPTION` view (if it is added to the configuration).\n",
    "\n",
    "__Note__: in these tutorials and in the Vitessce Python package documentation, we typically store the config instance in a variable called `vc`, but it can really be named anything."
   ]
  },
  {
   "cell_type": "code",
   "execution_count": 3,
   "id": "b3d1baeb-de12-4cc3-92d1-d5009fa9e79c",
   "metadata": {},
   "outputs": [],
   "source": [
    "vc = VitessceConfig(schema_version=\"1.0.15\", name='Habib et al', description='COVID-19 Healthy Donor Brain')"
   ]
  },
  {
   "cell_type": "markdown",
   "id": "4baec2ce-17b7-4c9c-9401-8c7b7424595a",
   "metadata": {
    "tags": []
   },
   "source": [
    "## Add data\n",
    "\n",
    "To add data to the configuration, we first run [add_dataset](https://vitessce.github.io/vitessce-python/api_config.html#vitessce.config.VitessceConfig.add_dataset) which takes the dataset `name` as a parameter.\n",
    "\n",
    "This returns a new `VitessceConfigDataset` instance. We can add objects which represent local data such as AnnData stores by running [add_object](https://vitessce.github.io/vitessce-python/api_config.html#vitessce.config.VitessceConfigDataset.add_object) on the dataset instance. To enable multiple `add_object` calls to be chained together, the `add_object` function also returns the `VitessceConfigDataset` instance.\n",
    "\n",
    "We will store the `VitessceConfigDataset` instance in a variable (`dataset`) to use later when configuring views.\n",
    "\n",
    "__Note__: the functions used in the following cells `.add_dataset`, `.add_object`, and `.add_view` have side effects (i.e., they modify the `vc` object). Running these cells more than once on the same `vc` instance may result in an unexpected configuration, so be sure to run the cells in order starting from the initial `vc = VitessceConfig(...)` cell."
   ]
  },
  {
   "cell_type": "code",
   "execution_count": 4,
   "id": "c07cb582-6c3d-45d7-937b-e54bd8fc93d8",
   "metadata": {},
   "outputs": [],
   "source": [
    "dataset = vc.add_dataset(name='Brain').add_object(AnnDataWrapper(\n",
    "        adata_path=join(\"processed_data\", \"habib17.zarr\"),\n",
    "        obs_embedding_paths=[\"obsm/X_umap\"],\n",
    "        obs_embedding_names=[\"UMAP\"],\n",
    "        obs_set_paths=[[\"obs/CoarseCellType\", \"obs/CellType\"]],\n",
    "        obs_set_names=[\"Cell Type\"],\n",
    "        obs_feature_matrix_path=\"X\"\n",
    "    )\n",
    ")"
   ]
  },
  {
   "cell_type": "markdown",
   "id": "7c6b2df7-664d-4e73-8ae3-e30d45a1f83a",
   "metadata": {},
   "source": [
    "## Add views\n",
    "\n",
    "Next, we configure the visualization and controller views of interest. Based on the data available in the dataset we added to the configuration above (i.e., the `habib17` AnnData object), we might want to add the following view types:\n",
    "- a `SCATTERPLOT` view, to visualize the UMAP dimensionality reduction results\n",
    "- a cell set manager, using the `OBS_SETS` view type (remember that our observations represent cells)\n",
    "- a list for selecting genes, using the `FEATURE_LIST` view type (remember that our features represent genes)\n",
    "- a `HEATMAP` view, to visualize the gene expression matrix\n",
    "- a  cell set sizes bar chart, using the `OBS_SET_SIZES` view type"
   ]
  },
  {
   "cell_type": "code",
   "execution_count": 5,
   "id": "0b62f4fe-ad8b-458b-9cfe-a54a647138a1",
   "metadata": {},
   "outputs": [],
   "source": [
    "scatterplot = vc.add_view(vt.SCATTERPLOT, dataset=dataset, mapping=\"UMAP\")\n",
    "cell_sets = vc.add_view(vt.OBS_SETS, dataset=dataset)\n",
    "genes = vc.add_view(vt.FEATURE_LIST, dataset=dataset)\n",
    "heatmap = vc.add_view(vt.HEATMAP, dataset=dataset)\n",
    "cell_set_sizes = vc.add_view(vt.OBS_SET_SIZES, dataset=dataset)"
   ]
  },
  {
   "cell_type": "markdown",
   "id": "3a19ba2c-bc9b-4e50-9b6d-507b8cd57504",
   "metadata": {},
   "source": [
    "## Arrange views\n",
    "\n",
    "We use the [layout](https://vitessce.github.io/vitessce-python/api_config.html#vitessce.config.VitessceConfig.layout) function to specify how the views that we configured above are organized in a grid arrangement. The pipe character `|` and backslash character `/` are \"magic\" syntax for [horizontal](https://vitessce.github.io/vitessce-python/api_config.html#vitessce.config.hconcat) and [vertical](https://vitessce.github.io/vitessce-python/api_config.html#vitessce.config.vconcat) concatenation, respectively. When using the `layout` function, every view that was added to the config (i.e., the objects returned by the `add_view` calls above) should appear somewhere in the concatenation of views passed as the parameter.\n",
    "\n",
    "__Note__: for more control over the layout, the `x`, `y`, `w` (width), and `h` (height) parameters (not used in this notebook) of the `add_view` function can be used instead of `layout`. Note that the grid has 12 columns and 12 rows, and the x/y/w/h values must be integers."
   ]
  },
  {
   "cell_type": "code",
   "execution_count": 6,
   "id": "d88f759e-bce2-4998-abac-095415dab507",
   "metadata": {},
   "outputs": [],
   "source": [
    "vc.layout((scatterplot | cell_sets) / (heatmap | (genes | cell_set_sizes)));"
   ]
  },
  {
   "cell_type": "markdown",
   "id": "85f27918-cc8b-4b27-8678-b84b7d9f8d43",
   "metadata": {},
   "source": [
    "## Render the widget into the notebook\n",
    "\n",
    "To render the interactive visualization into the notebook, we run the [widget](https://vitessce.github.io/vitessce-python/api_config.html#vitessce.config.VitessceConfig.widget) function. \n",
    "\n",
    "### What is happening behind the scenes\n",
    "Because we added local data to the Vitessce configuration (by running `add_object` with an `AnnDataWrapper` object pointing to a local AnnData-Zarr store in `adata_path`), rendering the widget will also result in the local data being served over HTTP on `localhost`. The exact port for the development server can be configured using the `port` parameter of the `widget` function."
   ]
  },
  {
   "cell_type": "code",
   "execution_count": 21,
   "id": "3cfaa455-ffa5-450c-a788-91fcec0195eb",
   "metadata": {},
   "outputs": [
    {
     "data": {
      "application/vnd.jupyter.widget-view+json": {
       "model_id": "",
       "version_major": 2,
       "version_minor": 0
      },
      "text/plain": [
       "VitessceWidget(config={'version': '1.0.15', 'name': 'Habib et al', 'description': 'COVID-19 Healthy Donor Brai…"
      ]
     },
     "execution_count": 21,
     "metadata": {},
     "output_type": "execute_result"
    }
   ],
   "source": [
    "vw = vc.widget()\n",
    "vw"
   ]
  },
  {
   "cell_type": "markdown",
   "id": "c4892a7d-d366-404a-a8b8-8a2fa71ea347",
   "metadata": {},
   "source": [
    "To check out the interactive visualization in a larger viewport, you may want to use the `web_app` function to open the visualization in a new browser tab.\n",
    "\n",
    "__Note__: This does not work in Google Chrome ([more details](https://github.com/vitessce/vitessce/issues/1089)) but should work in Firefox and Safari. Also note that this URL is temporary and will only work while the local data server is running (the server will stop when the Python process ends for the notebook, or when `data_server.stop_all` is run - see Cleanup section below)."
   ]
  },
  {
   "cell_type": "code",
   "execution_count": 8,
   "id": "4eb0fd3f-2335-4551-9a26-4b763d8b82a2",
   "metadata": {},
   "outputs": [
    {
     "data": {
      "text/plain": [
       "'http://vitessce.io/#?theme=light&url=data:,%7B%22version%22%3A+%221.0.15%22%2C+%22name%22%3A+%22Habib+et+al%22%2C+%22description%22%3A+%22COVID-19+Healthy+Donor+Brain%22%2C+%22datasets%22%3A+%5B%7B%22uid%22%3A+%22A%22%2C+%22name%22%3A+%22Brain%22%2C+%22files%22%3A+%5B%7B%22fileType%22%3A+%22anndata.zarr%22%2C+%22url%22%3A+%22http%3A%2F%2Flocalhost%3A8001%2FA%2F0%2F8ee00bf5-4f00-4d8d-b877-e01f5273399a%22%2C+%22options%22%3A+%7B%22obsEmbedding%22%3A+%5B%7B%22path%22%3A+%22obsm%2FX_umap%22%2C+%22dims%22%3A+%5B0%2C+1%5D%2C+%22embeddingType%22%3A+%22UMAP%22%7D%5D%2C+%22obsSets%22%3A+%5B%7B%22name%22%3A+%22Cell+Type%22%2C+%22path%22%3A+%5B%22obs%2FCoarseCellType%22%2C+%22obs%2FCellType%22%5D%7D%5D%2C+%22obsFeatureMatrix%22%3A+%7B%22path%22%3A+%22X%22%7D%7D%7D%5D%7D%5D%2C+%22coordinationSpace%22%3A+%7B%22dataset%22%3A+%7B%22A%22%3A+%22A%22%7D%2C+%22embeddingType%22%3A+%7B%22A%22%3A+%22UMAP%22%7D%7D%2C+%22layout%22%3A+%5B%7B%22component%22%3A+%22scatterplot%22%2C+%22coordinationScopes%22%3A+%7B%22dataset%22%3A+%22A%22%2C+%22embeddingType%22%3A+%22A%22%7D%2C+%22x%22%3A+0.0%2C+%22y%22%3A+0.0%2C+%22w%22%3A+6.0%2C+%22h%22%3A+6.0%7D%2C+%7B%22component%22%3A+%22obsSets%22%2C+%22coordinationScopes%22%3A+%7B%22dataset%22%3A+%22A%22%7D%2C+%22x%22%3A+6.0%2C+%22y%22%3A+0.0%2C+%22w%22%3A+6.0%2C+%22h%22%3A+6.0%7D%2C+%7B%22component%22%3A+%22featureList%22%2C+%22coordinationScopes%22%3A+%7B%22dataset%22%3A+%22A%22%7D%2C+%22x%22%3A+6.0%2C+%22y%22%3A+6.0%2C+%22w%22%3A+3.0%2C+%22h%22%3A+6.0%7D%2C+%7B%22component%22%3A+%22heatmap%22%2C+%22coordinationScopes%22%3A+%7B%22dataset%22%3A+%22A%22%7D%2C+%22x%22%3A+0.0%2C+%22y%22%3A+6.0%2C+%22w%22%3A+6.0%2C+%22h%22%3A+6.0%7D%2C+%7B%22component%22%3A+%22obsSetSizes%22%2C+%22coordinationScopes%22%3A+%7B%22dataset%22%3A+%22A%22%7D%2C+%22x%22%3A+9.0%2C+%22y%22%3A+6.0%2C+%22w%22%3A+3.0%2C+%22h%22%3A+6.0%7D%5D%2C+%22initStrategy%22%3A+%22auto%22%7D'"
      ]
     },
     "execution_count": 8,
     "metadata": {},
     "output_type": "execute_result"
    }
   ],
   "source": [
    "vc.web_app()"
   ]
  },
  {
   "cell_type": "markdown",
   "id": "6da43480-62ff-4495-9c35-b345be0178e5",
   "metadata": {},
   "source": [
    "## Cleanup\n",
    "\n",
    "While not necessary, you may want to ensure that any local servers are stopped, or you may want to remove the widget from the notebook."
   ]
  },
  {
   "cell_type": "code",
   "execution_count": 26,
   "id": "7ff0d3ed-8bcc-4522-87bd-5e6d538c6311",
   "metadata": {},
   "outputs": [],
   "source": [
    "# Remove the widget\n",
    "vw.close()\n",
    "# or, remove all widgets\n",
    "vw.close_all()"
   ]
  },
  {
   "cell_type": "code",
   "execution_count": 23,
   "id": "d379c549-5594-49da-8a9b-6bb6e3cf101b",
   "metadata": {},
   "outputs": [],
   "source": [
    "from vitessce import data_server"
   ]
  },
  {
   "cell_type": "code",
   "execution_count": 24,
   "id": "d50531f8-0a8e-476f-a028-4b465f7637b7",
   "metadata": {},
   "outputs": [],
   "source": [
    "# Stop all running local data servers\n",
    "data_server.stop_all()"
   ]
  },
  {
   "cell_type": "code",
   "execution_count": null,
   "id": "1c45af07-3c95-451f-96d5-62974f7a3ff5",
   "metadata": {},
   "outputs": [],
   "source": []
  },
  {
   "cell_type": "code",
   "execution_count": null,
   "id": "db47a7f3-b01f-45ca-8743-66614b3294dd",
   "metadata": {},
   "outputs": [],
   "source": []
  }
 ],
 "metadata": {
  "kernelspec": {
   "display_name": "Python 3 (ipykernel)",
   "language": "python",
   "name": "python3"
  },
  "language_info": {
   "codemirror_mode": {
    "name": "ipython",
    "version": 3
   },
   "file_extension": ".py",
   "mimetype": "text/x-python",
   "name": "python",
   "nbconvert_exporter": "python",
   "pygments_lexer": "ipython3",
   "version": "3.8.0"
  }
 },
 "nbformat": 4,
 "nbformat_minor": 5
}
