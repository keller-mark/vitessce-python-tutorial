{
 "cells": [
  {
   "cell_type": "code",
   "execution_count": 4,
   "id": "67fc71bc-7d33-48d9-ac09-3596f3e7d9c9",
   "metadata": {},
   "outputs": [
    {
     "data": {
      "text/plain": [
       "('habib17.processed.h5ad', <http.client.HTTPMessage at 0x7ff310513190>)"
      ]
     },
     "execution_count": 4,
     "metadata": {},
     "output_type": "execute_result"
    }
   ],
   "source": [
    "from urllib.request import urlretrieve\n",
    "adata_filepath = \"habib17.processed.h5ad\"\n",
    "urlretrieve('https://covid19.cog.sanger.ac.uk/habib17.processed.h5ad', adata_filepath)"
   ]
  },
  {
   "cell_type": "code",
   "execution_count": 5,
   "id": "c150fa2a-3885-49f1-9682-a8fcc75fda26",
   "metadata": {},
   "outputs": [],
   "source": [
    "from anndata import read_h5ad\n",
    "import pandas as pd\n",
    "import numpy as np"
   ]
  },
  {
   "cell_type": "code",
   "execution_count": 6,
   "id": "18fc1fb3-3efa-4f1e-be58-3c4f1cf02b9f",
   "metadata": {},
   "outputs": [
    {
     "name": "stderr",
     "output_type": "stream",
     "text": [
      "/Users/mkeller/anaconda3/envs/vitessce-tutorial-env/lib/python3.8/site-packages/anndata/compat/__init__.py:232: FutureWarning: Moving element from .uns['neighbors']['distances'] to .obsp['distances'].\n",
      "\n",
      "This is where adjacency matrices should go now.\n",
      "  warn(\n",
      "/Users/mkeller/anaconda3/envs/vitessce-tutorial-env/lib/python3.8/site-packages/anndata/compat/__init__.py:232: FutureWarning: Moving element from .uns['neighbors']['connectivities'] to .obsp['connectivities'].\n",
      "\n",
      "This is where adjacency matrices should go now.\n",
      "  warn(\n"
     ]
    }
   ],
   "source": [
    "adata = read_h5ad(adata_filepath)"
   ]
  },
  {
   "cell_type": "code",
   "execution_count": 7,
   "id": "5fed0760-88bc-4c23-8db1-473c5571254e",
   "metadata": {},
   "outputs": [
    {
     "data": {
      "text/plain": [
       "AnnData object with n_obs × n_vars = 13067 × 25587\n",
       "    obs: 'CellType', 'n_counts', 'log1p_n_counts', 'n_genes', 'log1p_n_genes', 'percent_mito', 'percent_ribo', 'percent_hb', 'percent_top50'\n",
       "    var: 'gene_ids', 'mito', 'ribo', 'hb', 'n_counts', 'n_cells', 'n_genes', 'highly_variable', 'means', 'dispersions', 'dispersions_norm'\n",
       "    uns: 'leiden', 'neighbors', 'pca'\n",
       "    obsm: 'X_umap'\n",
       "    varm: 'PCs'\n",
       "    obsp: 'distances', 'connectivities'"
      ]
     },
     "execution_count": 7,
     "metadata": {},
     "output_type": "execute_result"
    }
   ],
   "source": [
    "adata"
   ]
  },
  {
   "cell_type": "code",
   "execution_count": 8,
   "id": "5978960d-0ab3-4b8d-8992-be49ffe3ad5d",
   "metadata": {},
   "outputs": [],
   "source": [
    "adata.obs[\"CellType\"].to_csv(\"habib17.cell_type_annotations.csv\")"
   ]
  },
  {
   "cell_type": "code",
   "execution_count": null,
   "id": "fe189123-1d17-4045-b8a1-f46d4503cb44",
   "metadata": {},
   "outputs": [],
   "source": [
    "X = adata[:, adata.var[\"highly_variable\"]].X.todense()\n",
    "X_df = pd.DataFrame(data=X, index=adata.obs.index, columns=adata[:, adata.var[\"highly_variable\"]].var.index)\n",
    "X_df.to_csv(\"habib17.cell_by_gene_matrix.csv\")"
   ]
  },
  {
   "cell_type": "code",
   "execution_count": null,
   "id": "545b7310-6402-4f1d-ab1a-e3e35e05e9c8",
   "metadata": {},
   "outputs": [],
   "source": [
    "umap_df = pd.DataFrame(data=adata.obsm[\"X_umap\"], index=adata.obs.index, columns=[\"UMAP_1\", \"UMAP_2\"])\n",
    "umap_df.to_csv(\"habib17.umap.csv\")"
   ]
  },
  {
   "cell_type": "code",
   "execution_count": null,
   "id": "985a981e-507e-4701-aee0-f969711c7830",
   "metadata": {},
   "outputs": [],
   "source": []
  }
 ],
 "metadata": {
  "kernelspec": {
   "display_name": "Python 3 (ipykernel)",
   "language": "python",
   "name": "python3"
  },
  "language_info": {
   "codemirror_mode": {
    "name": "ipython",
    "version": 3
   },
   "file_extension": ".py",
   "mimetype": "text/x-python",
   "name": "python",
   "nbconvert_exporter": "python",
   "pygments_lexer": "ipython3",
   "version": "3.8.0"
  }
 },
 "nbformat": 4,
 "nbformat_minor": 5
}
