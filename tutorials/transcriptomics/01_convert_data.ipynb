{
 "cells": [
  {
   "cell_type": "markdown",
   "id": "3f9f7c2d-d8df-4f91-a748-6182d19415df",
   "metadata": {},
   "source": [
    "# Convert from CSV to AnnData-Zarr"
   ]
  },
  {
   "cell_type": "markdown",
   "id": "21ad4306-1a7d-4189-aef1-c056f780c813",
   "metadata": {},
   "source": [
    "## Motivation\n",
    "\n",
    "Vitessce is implemented as a web-based visualization tool which loads data from files in [particular formats](http://vitessce.io/docs/data-types-file-types/). Additionally, for best performance, these files should be as small as possible. The [Zarr](https://zarr.readthedocs.io/en/stable/) format supports chunking (splitting a large file into multiple smaller files) which enables loading only the subset of the data that is required for a particular visualization, and compression."
   ]
  },
  {
   "cell_type": "code",
   "execution_count": 21,
   "id": "11a4bfd8-8526-4887-a501-f86b29dc7126",
   "metadata": {},
   "outputs": [],
   "source": [
    "import pandas as pd\n",
    "import numpy as np\n",
    "from anndata import AnnData\n",
    "from os.path import join\n",
    "from vitessce.data_utils import (\n",
    "    optimize_adata,\n",
    "    VAR_CHUNK_SIZE,\n",
    ")"
   ]
  },
  {
   "cell_type": "markdown",
   "id": "75377fb5-252a-4676-b464-fb7ef5db05bf",
   "metadata": {
    "tags": []
   },
   "source": [
    "## Load data from CSV files using pandas\n",
    "\n",
    "For this example, we are starting from \"raw\" data that was saved to CSV files. Using [pandas](https://pandas.pydata.org/docs/reference/api/pandas.read_csv.html) we can load the CSVs into pandas DataFrame objects. We can explore how the data is organized into the CSVs by checking the first 5 rows using the [DataFrame.head](https://pandas.pydata.org/docs/reference/api/pandas.DataFrame.head.html) method."
   ]
  },
  {
   "cell_type": "markdown",
   "id": "a3ef0c62-9ac1-4eb7-a10d-3d84687cd4ca",
   "metadata": {},
   "source": [
    "For example, this CSV contains a cell-by-gene expression matrix, where the rows represent cells, and the columns represent genes:"
   ]
  },
  {
   "cell_type": "code",
   "execution_count": 3,
   "id": "e0007007-5aac-49e5-b385-3239c0a12db1",
   "metadata": {},
   "outputs": [
    {
     "data": {
      "text/html": [
       "<div>\n",
       "<style scoped>\n",
       "    .dataframe tbody tr th:only-of-type {\n",
       "        vertical-align: middle;\n",
       "    }\n",
       "\n",
       "    .dataframe tbody tr th {\n",
       "        vertical-align: top;\n",
       "    }\n",
       "\n",
       "    .dataframe thead th {\n",
       "        text-align: right;\n",
       "    }\n",
       "</style>\n",
       "<table border=\"1\" class=\"dataframe\">\n",
       "  <thead>\n",
       "    <tr style=\"text-align: right;\">\n",
       "      <th></th>\n",
       "      <th>LINC00115</th>\n",
       "      <th>RP11-54O7.1</th>\n",
       "      <th>LINC02593</th>\n",
       "      <th>SAMD11</th>\n",
       "      <th>ISG15</th>\n",
       "      <th>RP11-54O7.11</th>\n",
       "      <th>MXRA8</th>\n",
       "      <th>MRPL20</th>\n",
       "      <th>RP4-758J18.13</th>\n",
       "      <th>ANKRD65</th>\n",
       "      <th>...</th>\n",
       "      <th>RP11-539G18.2</th>\n",
       "      <th>RP11-592B15.3</th>\n",
       "      <th>RP11-698N11.4</th>\n",
       "      <th>SIK3-IT1</th>\n",
       "      <th>AC011526.1</th>\n",
       "      <th>CTA-357J21.1</th>\n",
       "      <th>RP11-28F1.2</th>\n",
       "      <th>RP11-638I8.1</th>\n",
       "      <th>RNVU1-20</th>\n",
       "      <th>RP3-511B24.6</th>\n",
       "    </tr>\n",
       "    <tr>\n",
       "      <th>index</th>\n",
       "      <th></th>\n",
       "      <th></th>\n",
       "      <th></th>\n",
       "      <th></th>\n",
       "      <th></th>\n",
       "      <th></th>\n",
       "      <th></th>\n",
       "      <th></th>\n",
       "      <th></th>\n",
       "      <th></th>\n",
       "      <th></th>\n",
       "      <th></th>\n",
       "      <th></th>\n",
       "      <th></th>\n",
       "      <th></th>\n",
       "      <th></th>\n",
       "      <th></th>\n",
       "      <th></th>\n",
       "      <th></th>\n",
       "      <th></th>\n",
       "      <th></th>\n",
       "    </tr>\n",
       "  </thead>\n",
       "  <tbody>\n",
       "    <tr>\n",
       "      <th>hHP1_ACTCAATAGCAA-habib17</th>\n",
       "      <td>0.0</td>\n",
       "      <td>0.0</td>\n",
       "      <td>0.0</td>\n",
       "      <td>0.0</td>\n",
       "      <td>0.0</td>\n",
       "      <td>0.0</td>\n",
       "      <td>0.0</td>\n",
       "      <td>0.0</td>\n",
       "      <td>0.0</td>\n",
       "      <td>0.0</td>\n",
       "      <td>...</td>\n",
       "      <td>0.0</td>\n",
       "      <td>0.0</td>\n",
       "      <td>0.0</td>\n",
       "      <td>0.0</td>\n",
       "      <td>0.0</td>\n",
       "      <td>0.0</td>\n",
       "      <td>0.0</td>\n",
       "      <td>0.0</td>\n",
       "      <td>0.0</td>\n",
       "      <td>0.0</td>\n",
       "    </tr>\n",
       "    <tr>\n",
       "      <th>hHP1_TTCCCGTTAAAG-habib17</th>\n",
       "      <td>0.0</td>\n",
       "      <td>0.0</td>\n",
       "      <td>0.0</td>\n",
       "      <td>0.0</td>\n",
       "      <td>0.0</td>\n",
       "      <td>0.0</td>\n",
       "      <td>0.0</td>\n",
       "      <td>0.0</td>\n",
       "      <td>0.0</td>\n",
       "      <td>0.0</td>\n",
       "      <td>...</td>\n",
       "      <td>0.0</td>\n",
       "      <td>0.0</td>\n",
       "      <td>0.0</td>\n",
       "      <td>0.0</td>\n",
       "      <td>0.0</td>\n",
       "      <td>0.0</td>\n",
       "      <td>0.0</td>\n",
       "      <td>0.0</td>\n",
       "      <td>0.0</td>\n",
       "      <td>0.0</td>\n",
       "    </tr>\n",
       "    <tr>\n",
       "      <th>hHP1_GTCATTGAATCA-habib17</th>\n",
       "      <td>0.0</td>\n",
       "      <td>0.0</td>\n",
       "      <td>0.0</td>\n",
       "      <td>0.0</td>\n",
       "      <td>0.0</td>\n",
       "      <td>0.0</td>\n",
       "      <td>0.0</td>\n",
       "      <td>0.0</td>\n",
       "      <td>0.0</td>\n",
       "      <td>0.0</td>\n",
       "      <td>...</td>\n",
       "      <td>0.0</td>\n",
       "      <td>0.0</td>\n",
       "      <td>0.0</td>\n",
       "      <td>0.0</td>\n",
       "      <td>0.0</td>\n",
       "      <td>0.0</td>\n",
       "      <td>0.0</td>\n",
       "      <td>0.0</td>\n",
       "      <td>0.0</td>\n",
       "      <td>0.0</td>\n",
       "    </tr>\n",
       "    <tr>\n",
       "      <th>hHP1_CACCTTCAATAC-habib17</th>\n",
       "      <td>0.0</td>\n",
       "      <td>0.0</td>\n",
       "      <td>0.0</td>\n",
       "      <td>0.0</td>\n",
       "      <td>0.0</td>\n",
       "      <td>0.0</td>\n",
       "      <td>0.0</td>\n",
       "      <td>0.0</td>\n",
       "      <td>0.0</td>\n",
       "      <td>0.0</td>\n",
       "      <td>...</td>\n",
       "      <td>0.0</td>\n",
       "      <td>0.0</td>\n",
       "      <td>0.0</td>\n",
       "      <td>0.0</td>\n",
       "      <td>0.0</td>\n",
       "      <td>0.0</td>\n",
       "      <td>0.0</td>\n",
       "      <td>0.0</td>\n",
       "      <td>0.0</td>\n",
       "      <td>0.0</td>\n",
       "    </tr>\n",
       "    <tr>\n",
       "      <th>hHP1_ATACATGTTGTC-habib17</th>\n",
       "      <td>0.0</td>\n",
       "      <td>0.0</td>\n",
       "      <td>0.0</td>\n",
       "      <td>0.0</td>\n",
       "      <td>0.0</td>\n",
       "      <td>0.0</td>\n",
       "      <td>0.0</td>\n",
       "      <td>0.0</td>\n",
       "      <td>0.0</td>\n",
       "      <td>0.0</td>\n",
       "      <td>...</td>\n",
       "      <td>0.0</td>\n",
       "      <td>0.0</td>\n",
       "      <td>0.0</td>\n",
       "      <td>0.0</td>\n",
       "      <td>0.0</td>\n",
       "      <td>0.0</td>\n",
       "      <td>0.0</td>\n",
       "      <td>0.0</td>\n",
       "      <td>0.0</td>\n",
       "      <td>0.0</td>\n",
       "    </tr>\n",
       "  </tbody>\n",
       "</table>\n",
       "<p>5 rows × 5782 columns</p>\n",
       "</div>"
      ],
      "text/plain": [
       "                           LINC00115  RP11-54O7.1  LINC02593  SAMD11  ISG15  \\\n",
       "index                                                                         \n",
       "hHP1_ACTCAATAGCAA-habib17        0.0          0.0        0.0     0.0    0.0   \n",
       "hHP1_TTCCCGTTAAAG-habib17        0.0          0.0        0.0     0.0    0.0   \n",
       "hHP1_GTCATTGAATCA-habib17        0.0          0.0        0.0     0.0    0.0   \n",
       "hHP1_CACCTTCAATAC-habib17        0.0          0.0        0.0     0.0    0.0   \n",
       "hHP1_ATACATGTTGTC-habib17        0.0          0.0        0.0     0.0    0.0   \n",
       "\n",
       "                           RP11-54O7.11  MXRA8  MRPL20  RP4-758J18.13  \\\n",
       "index                                                                   \n",
       "hHP1_ACTCAATAGCAA-habib17           0.0    0.0     0.0            0.0   \n",
       "hHP1_TTCCCGTTAAAG-habib17           0.0    0.0     0.0            0.0   \n",
       "hHP1_GTCATTGAATCA-habib17           0.0    0.0     0.0            0.0   \n",
       "hHP1_CACCTTCAATAC-habib17           0.0    0.0     0.0            0.0   \n",
       "hHP1_ATACATGTTGTC-habib17           0.0    0.0     0.0            0.0   \n",
       "\n",
       "                           ANKRD65  ...  RP11-539G18.2  RP11-592B15.3  \\\n",
       "index                               ...                                 \n",
       "hHP1_ACTCAATAGCAA-habib17      0.0  ...            0.0            0.0   \n",
       "hHP1_TTCCCGTTAAAG-habib17      0.0  ...            0.0            0.0   \n",
       "hHP1_GTCATTGAATCA-habib17      0.0  ...            0.0            0.0   \n",
       "hHP1_CACCTTCAATAC-habib17      0.0  ...            0.0            0.0   \n",
       "hHP1_ATACATGTTGTC-habib17      0.0  ...            0.0            0.0   \n",
       "\n",
       "                           RP11-698N11.4  SIK3-IT1  AC011526.1  CTA-357J21.1  \\\n",
       "index                                                                          \n",
       "hHP1_ACTCAATAGCAA-habib17            0.0       0.0         0.0           0.0   \n",
       "hHP1_TTCCCGTTAAAG-habib17            0.0       0.0         0.0           0.0   \n",
       "hHP1_GTCATTGAATCA-habib17            0.0       0.0         0.0           0.0   \n",
       "hHP1_CACCTTCAATAC-habib17            0.0       0.0         0.0           0.0   \n",
       "hHP1_ATACATGTTGTC-habib17            0.0       0.0         0.0           0.0   \n",
       "\n",
       "                           RP11-28F1.2  RP11-638I8.1  RNVU1-20  RP3-511B24.6  \n",
       "index                                                                         \n",
       "hHP1_ACTCAATAGCAA-habib17          0.0           0.0       0.0           0.0  \n",
       "hHP1_TTCCCGTTAAAG-habib17          0.0           0.0       0.0           0.0  \n",
       "hHP1_GTCATTGAATCA-habib17          0.0           0.0       0.0           0.0  \n",
       "hHP1_CACCTTCAATAC-habib17          0.0           0.0       0.0           0.0  \n",
       "hHP1_ATACATGTTGTC-habib17          0.0           0.0       0.0           0.0  \n",
       "\n",
       "[5 rows x 5782 columns]"
      ]
     },
     "execution_count": 3,
     "metadata": {},
     "output_type": "execute_result"
    }
   ],
   "source": [
    "matrix_df = pd.read_csv(join(\"raw_data\", \"habib17.cell_by_gene_matrix.csv\"), index_col=0)\n",
    "matrix_df.head()"
   ]
  },
  {
   "cell_type": "markdown",
   "id": "4c47137d-03b7-4eef-9c3d-595853d25868",
   "metadata": {},
   "source": [
    "This next CSV contains cell type annotations:"
   ]
  },
  {
   "cell_type": "code",
   "execution_count": 7,
   "id": "b7ad98e9-b1af-4a08-9c34-21bbdcd5ba31",
   "metadata": {},
   "outputs": [
    {
     "data": {
      "text/html": [
       "<div>\n",
       "<style scoped>\n",
       "    .dataframe tbody tr th:only-of-type {\n",
       "        vertical-align: middle;\n",
       "    }\n",
       "\n",
       "    .dataframe tbody tr th {\n",
       "        vertical-align: top;\n",
       "    }\n",
       "\n",
       "    .dataframe thead th {\n",
       "        text-align: right;\n",
       "    }\n",
       "</style>\n",
       "<table border=\"1\" class=\"dataframe\">\n",
       "  <thead>\n",
       "    <tr style=\"text-align: right;\">\n",
       "      <th></th>\n",
       "      <th>CellType</th>\n",
       "    </tr>\n",
       "    <tr>\n",
       "      <th>index</th>\n",
       "      <th></th>\n",
       "    </tr>\n",
       "  </thead>\n",
       "  <tbody>\n",
       "    <tr>\n",
       "      <th>hHP1_ACTCAATAGCAA-habib17</th>\n",
       "      <td>exCA1</td>\n",
       "    </tr>\n",
       "    <tr>\n",
       "      <th>hHP1_TTCCCGTTAAAG-habib17</th>\n",
       "      <td>exCA3</td>\n",
       "    </tr>\n",
       "    <tr>\n",
       "      <th>hHP1_GTCATTGAATCA-habib17</th>\n",
       "      <td>ASC1</td>\n",
       "    </tr>\n",
       "    <tr>\n",
       "      <th>hHP1_CACCTTCAATAC-habib17</th>\n",
       "      <td>exCA1</td>\n",
       "    </tr>\n",
       "    <tr>\n",
       "      <th>hHP1_ATACATGTTGTC-habib17</th>\n",
       "      <td>exCA3</td>\n",
       "    </tr>\n",
       "  </tbody>\n",
       "</table>\n",
       "</div>"
      ],
      "text/plain": [
       "                          CellType\n",
       "index                             \n",
       "hHP1_ACTCAATAGCAA-habib17    exCA1\n",
       "hHP1_TTCCCGTTAAAG-habib17    exCA3\n",
       "hHP1_GTCATTGAATCA-habib17     ASC1\n",
       "hHP1_CACCTTCAATAC-habib17    exCA1\n",
       "hHP1_ATACATGTTGTC-habib17    exCA3"
      ]
     },
     "execution_count": 7,
     "metadata": {},
     "output_type": "execute_result"
    }
   ],
   "source": [
    "cell_type_df = pd.read_csv(join(\"raw_data\", \"habib17.cell_type_annotations.csv\"), index_col=0)\n",
    "cell_type_df.head()"
   ]
  },
  {
   "cell_type": "markdown",
   "id": "e7793769-8af5-40a2-af7f-6a3fe7e7bee0",
   "metadata": {},
   "source": [
    "We can add a new column called `CoarseCellType` to construct a cell type hierarchy. For example, mapping `GABA1` and `GABA2` to the coarser `GABA` annotation, and `ASC1` and `ASC2` to the coarser `ASC` annotation."
   ]
  },
  {
   "cell_type": "code",
   "execution_count": 20,
   "id": "656b98df-a162-48e1-a138-0f73a2206092",
   "metadata": {},
   "outputs": [
    {
     "data": {
      "text/html": [
       "<div>\n",
       "<style scoped>\n",
       "    .dataframe tbody tr th:only-of-type {\n",
       "        vertical-align: middle;\n",
       "    }\n",
       "\n",
       "    .dataframe tbody tr th {\n",
       "        vertical-align: top;\n",
       "    }\n",
       "\n",
       "    .dataframe thead th {\n",
       "        text-align: right;\n",
       "    }\n",
       "</style>\n",
       "<table border=\"1\" class=\"dataframe\">\n",
       "  <thead>\n",
       "    <tr style=\"text-align: right;\">\n",
       "      <th></th>\n",
       "      <th>CellType</th>\n",
       "      <th>CoarseCellType</th>\n",
       "    </tr>\n",
       "    <tr>\n",
       "      <th>index</th>\n",
       "      <th></th>\n",
       "      <th></th>\n",
       "    </tr>\n",
       "  </thead>\n",
       "  <tbody>\n",
       "    <tr>\n",
       "      <th>hHP1_ACTCAATAGCAA-habib17</th>\n",
       "      <td>exCA1</td>\n",
       "      <td>exCA1</td>\n",
       "    </tr>\n",
       "    <tr>\n",
       "      <th>hHP1_TTCCCGTTAAAG-habib17</th>\n",
       "      <td>exCA3</td>\n",
       "      <td>exCA3</td>\n",
       "    </tr>\n",
       "    <tr>\n",
       "      <th>hHP1_GTCATTGAATCA-habib17</th>\n",
       "      <td>ASC1</td>\n",
       "      <td>ASC</td>\n",
       "    </tr>\n",
       "    <tr>\n",
       "      <th>hHP1_CACCTTCAATAC-habib17</th>\n",
       "      <td>exCA1</td>\n",
       "      <td>exCA1</td>\n",
       "    </tr>\n",
       "    <tr>\n",
       "      <th>hHP1_ATACATGTTGTC-habib17</th>\n",
       "      <td>exCA3</td>\n",
       "      <td>exCA3</td>\n",
       "    </tr>\n",
       "  </tbody>\n",
       "</table>\n",
       "</div>"
      ],
      "text/plain": [
       "                          CellType CoarseCellType\n",
       "index                                            \n",
       "hHP1_ACTCAATAGCAA-habib17    exCA1          exCA1\n",
       "hHP1_TTCCCGTTAAAG-habib17    exCA3          exCA3\n",
       "hHP1_GTCATTGAATCA-habib17     ASC1            ASC\n",
       "hHP1_CACCTTCAATAC-habib17    exCA1          exCA1\n",
       "hHP1_ATACATGTTGTC-habib17    exCA3          exCA3"
      ]
     },
     "execution_count": 20,
     "metadata": {},
     "output_type": "execute_result"
    }
   ],
   "source": [
    "# Apply a function to every row of the pandas Series for the \"CellType\" column.\n",
    "# The function returns the \"coarse\" value corresponding to each \"fine\" cell type value.\n",
    "cell_type_df[\"CoarseCellType\"] = cell_type_df[\"CellType\"].apply(lambda fine_cell_type: (\n",
    "    \"GABA\" if fine_cell_type.startswith(\"GABA\") else (\n",
    "        \"ASC\" if fine_cell_type.startswith(\"ASC\") else fine_cell_type\n",
    "    )\n",
    "))\n",
    "cell_type_df.head()"
   ]
  },
  {
   "cell_type": "markdown",
   "id": "e142e233-b042-4e4d-90c1-46a4613bc22a",
   "metadata": {},
   "source": [
    "This third CSV contains a 2-dimensional UMAP dimensionality reduction that was computed on the gene expression matrix. Note that Vitessce loads pre-processed dimensionality reduction coordinates, and does not perform any dimensionality reduction \"on-the-fly\"."
   ]
  },
  {
   "cell_type": "code",
   "execution_count": 9,
   "id": "d019cf6b-eb05-4531-b379-e921f403351a",
   "metadata": {},
   "outputs": [
    {
     "data": {
      "text/html": [
       "<div>\n",
       "<style scoped>\n",
       "    .dataframe tbody tr th:only-of-type {\n",
       "        vertical-align: middle;\n",
       "    }\n",
       "\n",
       "    .dataframe tbody tr th {\n",
       "        vertical-align: top;\n",
       "    }\n",
       "\n",
       "    .dataframe thead th {\n",
       "        text-align: right;\n",
       "    }\n",
       "</style>\n",
       "<table border=\"1\" class=\"dataframe\">\n",
       "  <thead>\n",
       "    <tr style=\"text-align: right;\">\n",
       "      <th></th>\n",
       "      <th>UMAP_1</th>\n",
       "      <th>UMAP_2</th>\n",
       "    </tr>\n",
       "    <tr>\n",
       "      <th>index</th>\n",
       "      <th></th>\n",
       "      <th></th>\n",
       "    </tr>\n",
       "  </thead>\n",
       "  <tbody>\n",
       "    <tr>\n",
       "      <th>hHP1_ACTCAATAGCAA-habib17</th>\n",
       "      <td>3.140266</td>\n",
       "      <td>-7.166880</td>\n",
       "    </tr>\n",
       "    <tr>\n",
       "      <th>hHP1_TTCCCGTTAAAG-habib17</th>\n",
       "      <td>-3.105793</td>\n",
       "      <td>-3.203529</td>\n",
       "    </tr>\n",
       "    <tr>\n",
       "      <th>hHP1_GTCATTGAATCA-habib17</th>\n",
       "      <td>6.181531</td>\n",
       "      <td>3.414144</td>\n",
       "    </tr>\n",
       "    <tr>\n",
       "      <th>hHP1_CACCTTCAATAC-habib17</th>\n",
       "      <td>2.862645</td>\n",
       "      <td>-7.548567</td>\n",
       "    </tr>\n",
       "    <tr>\n",
       "      <th>hHP1_ATACATGTTGTC-habib17</th>\n",
       "      <td>-4.022884</td>\n",
       "      <td>-4.216279</td>\n",
       "    </tr>\n",
       "  </tbody>\n",
       "</table>\n",
       "</div>"
      ],
      "text/plain": [
       "                             UMAP_1    UMAP_2\n",
       "index                                        \n",
       "hHP1_ACTCAATAGCAA-habib17  3.140266 -7.166880\n",
       "hHP1_TTCCCGTTAAAG-habib17 -3.105793 -3.203529\n",
       "hHP1_GTCATTGAATCA-habib17  6.181531  3.414144\n",
       "hHP1_CACCTTCAATAC-habib17  2.862645 -7.548567\n",
       "hHP1_ATACATGTTGTC-habib17 -4.022884 -4.216279"
      ]
     },
     "execution_count": 9,
     "metadata": {},
     "output_type": "execute_result"
    }
   ],
   "source": [
    "umap_df = pd.read_csv(join(\"raw_data\", \"habib17.umap.csv\"), index_col=0)\n",
    "umap_df.head()"
   ]
  },
  {
   "cell_type": "markdown",
   "id": "85fe639d-eac5-4c72-86da-b83903ae15e5",
   "metadata": {},
   "source": [
    "## Instantiate a new AnnData object"
   ]
  },
  {
   "cell_type": "markdown",
   "id": "85a9dce9-f7ef-4ca4-a2a4-088ca682d4d0",
   "metadata": {},
   "source": [
    "While Zarr is an efficient format for storing multidimensional arrays, it does not dictate how multiple individual arrays are organized in a larger data structure. [AnnData](https://anndata.readthedocs.io/en/latest/) fills this gap by defining a data structure for observation-by-feature matrices and many types of associated metadata. This works nicely for the single-cell transcriptomics use case: think of cells as observations (rows) and genes as features (columns).\n",
    "\n",
    "In this example, we are going to use the following fields of the AnnData object:\n",
    "- `X`: the observation-by-feature (i.e., cell-by-gene) expression matrix, stored as a 2D NumPy array\n",
    "- `obs`: a Pandas DataFrame where the rows match the rows of the `X` matrix (same number and ordering of rows in `obs` as rows in `X`)\n",
    "- `var`: a Pandas DataFrame where the rows match the _columns_ of the `X` matrix (same number and ordering of rows in `var` as columns in `X`)\n",
    "- `obsm`: a Python `dict`:\n",
    "    - keys are strings, with the convention to begin with the prefix `X_` (e.g., `X_umap` to store an array of UMAP coordinates)\n",
    "    - values are multidimensional NumPy arrays where the rows (i.e., elements of the zeroth dimension) match the rows of the `X` matrix\n",
    "\n",
    "\n",
    "<img width=\"300\" src=\"https://anndata.readthedocs.io/en/latest/_images/anndata_schema.svg\"/>"
   ]
  },
  {
   "cell_type": "code",
   "execution_count": 10,
   "id": "594b9d33-c6dc-47f4-8375-1a96808cc039",
   "metadata": {},
   "outputs": [],
   "source": [
    "obs = cell_type_df\n",
    "var = pd.DataFrame(data=[], index=matrix_df.columns.values.tolist(), columns=[])\n",
    "X = matrix_df.values\n",
    "obsm={ \"X_umap\": umap_df.values }"
   ]
  },
  {
   "cell_type": "code",
   "execution_count": 15,
   "id": "f2471526-8bf0-44e0-9323-66db954c32d9",
   "metadata": {},
   "outputs": [
    {
     "data": {
      "text/plain": [
       "(13067, 5782)"
      ]
     },
     "execution_count": 15,
     "metadata": {},
     "output_type": "execute_result"
    }
   ],
   "source": [
    "X.shape # (number of rows, number of cols)"
   ]
  },
  {
   "cell_type": "code",
   "execution_count": 16,
   "id": "cbfb9531-fa4b-4341-b4f4-dfc69e635d89",
   "metadata": {},
   "outputs": [
    {
     "data": {
      "text/plain": [
       "(13067, 2)"
      ]
     },
     "execution_count": 16,
     "metadata": {},
     "output_type": "execute_result"
    }
   ],
   "source": [
    "obs.shape"
   ]
  },
  {
   "cell_type": "code",
   "execution_count": 17,
   "id": "705e6962-e448-4aaa-b7cf-635cbcd4970b",
   "metadata": {},
   "outputs": [
    {
     "data": {
      "text/plain": [
       "(5782, 0)"
      ]
     },
     "execution_count": 17,
     "metadata": {},
     "output_type": "execute_result"
    }
   ],
   "source": [
    "var.shape"
   ]
  },
  {
   "cell_type": "code",
   "execution_count": 24,
   "id": "d06e4c96-9d02-4031-b76b-fedcff52f765",
   "metadata": {},
   "outputs": [
    {
     "name": "stderr",
     "output_type": "stream",
     "text": [
      "/var/folders/j7/z73pwc713473sxx39wdbgb5h0000gn/T/ipykernel_30142/3561411596.py:2: FutureWarning: X.dtype being converted to np.float32 from float64. In the next version of anndata (0.9) conversion will not be automatic. Pass dtype explicitly to avoid this warning. Pass `AnnData(X, dtype=X.dtype, ...)` to get the future behavour.\n",
      "  adata = AnnData(X=X, obs=obs, var=var, obsm=obsm)\n"
     ]
    },
    {
     "data": {
      "text/plain": [
       "AnnData object with n_obs × n_vars = 13067 × 5782\n",
       "    obs: 'CellType', 'CoarseCellType'\n",
       "    obsm: 'X_umap'"
      ]
     },
     "execution_count": 24,
     "metadata": {},
     "output_type": "execute_result"
    }
   ],
   "source": [
    "# Use the AnnData constructor to instantiate a new object.\n",
    "adata = AnnData(X=X, obs=obs, var=var, obsm=obsm)\n",
    "adata"
   ]
  },
  {
   "cell_type": "markdown",
   "id": "b86537fe-f854-465f-acc0-f08c9df1f95f",
   "metadata": {},
   "source": [
    "We can use the `optimize_adata` function from the `vitessce` Python package to optimize the performance of any AnnData object and prepare it for usage with Vitessce. This function discards unused fields of the object and casts numerical data types to smaller types (when the numerical values are not changed by the operation)."
   ]
  },
  {
   "cell_type": "code",
   "execution_count": 25,
   "id": "46056823-3f46-44f8-acd5-e3d9b47cbe4d",
   "metadata": {},
   "outputs": [],
   "source": [
    "adata = optimize_adata(\n",
    "    adata,\n",
    "    obs_cols=[\"CoarseCellType\", \"CellType\"],\n",
    "    obsm_keys=[\"X_umap\"],\n",
    "    optimize_X=True,\n",
    ")"
   ]
  },
  {
   "cell_type": "markdown",
   "id": "f8a542b5-6498-45ba-9768-4fad45fd6fc7",
   "metadata": {},
   "source": [
    "## Save the AnnData object to a Zarr store (\"AnnData-Zarr\")"
   ]
  },
  {
   "cell_type": "markdown",
   "id": "81dffea0-1128-472e-8186-42eb05198bc3",
   "metadata": {},
   "source": [
    "To finish, we save the `AnnData` object to a Zarr store using the `write_zarr` function."
   ]
  },
  {
   "cell_type": "code",
   "execution_count": 26,
   "id": "66dd3848-7767-4870-b09c-a1e274533905",
   "metadata": {},
   "outputs": [],
   "source": [
    "adata.write_zarr(join(\"processed_data\", \"habib17.zarr\"), chunks=(adata.shape[0], VAR_CHUNK_SIZE))"
   ]
  }
 ],
 "metadata": {
  "kernelspec": {
   "display_name": "Python 3 (ipykernel)",
   "language": "python",
   "name": "python3"
  },
  "language_info": {
   "codemirror_mode": {
    "name": "ipython",
    "version": 3
   },
   "file_extension": ".py",
   "mimetype": "text/x-python",
   "name": "python",
   "nbconvert_exporter": "python",
   "pygments_lexer": "ipython3",
   "version": "3.8.0"
  }
 },
 "nbformat": 4,
 "nbformat_minor": 5
}
