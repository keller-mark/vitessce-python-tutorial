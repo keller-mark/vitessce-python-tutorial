{
 "cells": [
  {
   "cell_type": "markdown",
   "id": "29ee0ad0-9e7d-4918-9666-391fd22b8fcd",
   "metadata": {},
   "source": [
    "# Configure visualization with CSV files"
   ]
  },
  {
   "cell_type": "markdown",
   "id": "a8b80e99-4ad3-4f05-92dd-eccd8dfc3135",
   "metadata": {},
   "source": [
    "## Motivation\n",
    "\n",
    "As an alternative to loading data from AnnData-Zarr format, CSV files can be used. However, the CSV format is less efficient than Zarr because it does not allow for compression or chunking (splitting a large file into multiple smaller ones). However it is fine to use for very small datasets or for educational purposes (as CSV may be a more familiar format and therefore easier to debug)."
   ]
  },
  {
   "cell_type": "markdown",
   "id": "f9a1129e-2cb2-4146-ab30-8e980d32f863",
   "metadata": {},
   "source": [
    "In the below import statement, note the usage of the `CsvWrapper` class (e.g., instead of `AnnDataWrapper` used in the previous tutorial notebooks)."
   ]
  },
  {
   "cell_type": "code",
   "execution_count": 3,
   "id": "89b4c5b8-bce9-4dfb-b9c4-f227fa0ae231",
   "metadata": {},
   "outputs": [],
   "source": [
    "from vitessce import (\n",
    "    VitessceConfig,\n",
    "    ViewType as vt,\n",
    "    CoordinationType as ct,\n",
    "    FileType as ft,\n",
    "    DataType as dt,\n",
    "    CsvWrapper,\n",
    ")\n",
    "from os.path import join"
   ]
  },
  {
   "cell_type": "code",
   "execution_count": 4,
   "id": "b3d1baeb-de12-4cc3-92d1-d5009fa9e79c",
   "metadata": {},
   "outputs": [],
   "source": [
    "vc = VitessceConfig(schema_version=\"1.0.15\", name='Habib et al', description='COVID-19 Healthy Donor Brain')"
   ]
  },
  {
   "cell_type": "markdown",
   "id": "9eb47fbc-8055-4b77-9903-a0390a2ae7b9",
   "metadata": {},
   "source": [
    "## Add data via two CSV files\n",
    "\n",
    "In the following code, we create one dataset, and run `add_object` on that dataset twice (note the two chained `add_object` calls). This is because the cell type annotations and UMAP coordinates are stored in two separate CSV files.\n",
    "\n",
    "For more information about the file contents and how to define the `options` parameter, see the documentation at http://vitessce.io/docs/data-file-types/ for the file types with a `csv` suffix (i.e., `{data_type}.csv`)."
   ]
  },
  {
   "cell_type": "code",
   "execution_count": 5,
   "id": "c07cb582-6c3d-45d7-937b-e54bd8fc93d8",
   "metadata": {},
   "outputs": [],
   "source": [
    "dataset = vc.add_dataset(name='Brain').add_object(CsvWrapper(\n",
    "        data_type=dt.OBS_SETS.value,\n",
    "        csv_path=join(\"raw_data\", \"habib17.cell_type_annotations.csv\"),\n",
    "        options={\n",
    "            \"obsIndex\": \"index\",\n",
    "            \"obsSets\": [\n",
    "                {\n",
    "                    \"name\": \"Cell Type\",\n",
    "                    \"column\": \"CellType\"\n",
    "                }\n",
    "            ]\n",
    "        },\n",
    "        coordination_values={\n",
    "            \"obsType\": \"cell\"\n",
    "        }\n",
    "    )\n",
    ").add_object(CsvWrapper(\n",
    "        data_type=dt.OBS_EMBEDDING.value,\n",
    "        csv_path=join(\"raw_data\", \"habib17.umap.csv\"),\n",
    "        options={\n",
    "            \"obsIndex\": \"index\",\n",
    "            \"obsEmbedding\": [\"UMAP_1\", \"UMAP_2\"]\n",
    "        },\n",
    "        coordination_values={\n",
    "            \"obsType\": \"cell\",\n",
    "            \"embeddingType\": \"UMAP\"\n",
    "        }\n",
    "    )\n",
    ")"
   ]
  },
  {
   "cell_type": "markdown",
   "id": "fcc7e339-78c5-4946-b5e1-f567a6782c0d",
   "metadata": {},
   "source": [
    "## Add views"
   ]
  },
  {
   "cell_type": "code",
   "execution_count": 6,
   "id": "0b62f4fe-ad8b-458b-9cfe-a54a647138a1",
   "metadata": {},
   "outputs": [],
   "source": [
    "scatterplot = vc.add_view(vt.SCATTERPLOT, dataset=dataset, mapping=\"UMAP\")\n",
    "cell_sets = vc.add_view(vt.OBS_SETS, dataset=dataset)\n",
    "cell_set_sizes = vc.add_view(vt.OBS_SET_SIZES, dataset=dataset)"
   ]
  },
  {
   "cell_type": "markdown",
   "id": "2fa47947-40c2-4b50-bce3-ad831dd31355",
   "metadata": {},
   "source": [
    "## Arrange views"
   ]
  },
  {
   "cell_type": "code",
   "execution_count": 7,
   "id": "d88f759e-bce2-4998-abac-095415dab507",
   "metadata": {},
   "outputs": [],
   "source": [
    "vc.layout(scatterplot | (cell_sets / cell_set_sizes));"
   ]
  },
  {
   "cell_type": "markdown",
   "id": "a6ca44c1-0e32-456b-97c8-9579e7a4ab20",
   "metadata": {},
   "source": [
    "## Render the widget"
   ]
  },
  {
   "cell_type": "code",
   "execution_count": 8,
   "id": "3cfaa455-ffa5-450c-a788-91fcec0195eb",
   "metadata": {},
   "outputs": [
    {
     "data": {
      "application/vnd.jupyter.widget-view+json": {
       "model_id": "b95ce2749dd84bebaa5843c1ebfebb87",
       "version_major": 2,
       "version_minor": 0
      },
      "text/plain": [
       "VitessceWidget(config={'version': '1.0.15', 'name': 'Habib et al', 'description': 'COVID-19 Healthy Donor Brai…"
      ]
     },
     "execution_count": 8,
     "metadata": {},
     "output_type": "execute_result"
    }
   ],
   "source": [
    "vw = vc.widget()\n",
    "vw"
   ]
  },
  {
   "cell_type": "code",
   "execution_count": null,
   "id": "c8976ff3-e6ba-4ad5-8b9a-da507561d5b7",
   "metadata": {},
   "outputs": [],
   "source": []
  }
 ],
 "metadata": {
  "kernelspec": {
   "display_name": "Python 3 (ipykernel)",
   "language": "python",
   "name": "python3"
  },
  "language_info": {
   "codemirror_mode": {
    "name": "ipython",
    "version": 3
   },
   "file_extension": ".py",
   "mimetype": "text/x-python",
   "name": "python",
   "nbconvert_exporter": "python",
   "pygments_lexer": "ipython3",
   "version": "3.8.0"
  }
 },
 "nbformat": 4,
 "nbformat_minor": 5
}
