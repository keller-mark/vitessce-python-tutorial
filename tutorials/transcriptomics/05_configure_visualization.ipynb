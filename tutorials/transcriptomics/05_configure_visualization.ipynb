{
 "cells": [
  {
   "cell_type": "code",
   "execution_count": 1,
   "id": "89b4c5b8-bce9-4dfb-b9c4-f227fa0ae231",
   "metadata": {},
   "outputs": [],
   "source": [
    "from vitessce import (\n",
    "    VitessceConfig,\n",
    "    Component as cm,\n",
    "    CoordinationType as ct,\n",
    "    FileType as ft,\n",
    "    DataType as dt,\n",
    "    CsvWrapper,\n",
    ")\n",
    "from os.path import join"
   ]
  },
  {
   "cell_type": "code",
   "execution_count": 2,
   "id": "b3d1baeb-de12-4cc3-92d1-d5009fa9e79c",
   "metadata": {},
   "outputs": [],
   "source": [
    "vc = VitessceConfig(schema_version=\"1.0.15\", name='Habib et al', description='COVID-19 Healthy Donor Brain')"
   ]
  },
  {
   "cell_type": "code",
   "execution_count": 3,
   "id": "c07cb582-6c3d-45d7-937b-e54bd8fc93d8",
   "metadata": {},
   "outputs": [],
   "source": [
    "dataset = vc.add_dataset(name='Brain').add_object(CsvWrapper(\n",
    "        data_type=dt.OBS_SETS.value,\n",
    "        csv_path=join(\"raw_data\", \"habib17.cell_type_annotations.csv\"),\n",
    "        options={\n",
    "            \"obsIndex\": \"index\",\n",
    "            \"obsSets\": [\n",
    "                {\n",
    "                    \"name\": \"Cell Type\",\n",
    "                    \"column\": \"CellType\"\n",
    "                }\n",
    "            ]\n",
    "        },\n",
    "        coordination_values={\n",
    "            \"obsType\": \"cell\"\n",
    "        }\n",
    "    )\n",
    ").add_object(CsvWrapper(\n",
    "        data_type=dt.OBS_EMBEDDING.value,\n",
    "        csv_path=join(\"raw_data\", \"habib17.umap.csv\"),\n",
    "        options={\n",
    "            \"obsIndex\": \"index\",\n",
    "            \"obsEmbedding\": [\"UMAP_1\", \"UMAP_2\"]\n",
    "        },\n",
    "        coordination_values={\n",
    "            \"obsType\": \"cell\",\n",
    "            \"embeddingType\": \"UMAP\"\n",
    "        }\n",
    "    )\n",
    ")"
   ]
  },
  {
   "cell_type": "code",
   "execution_count": 4,
   "id": "0b62f4fe-ad8b-458b-9cfe-a54a647138a1",
   "metadata": {},
   "outputs": [],
   "source": [
    "scatterplot = vc.add_view(cm.SCATTERPLOT, dataset=dataset, mapping=\"UMAP\")\n",
    "cell_sets = vc.add_view(cm.OBS_SETS, dataset=dataset)\n",
    "cell_set_sizes = vc.add_view(cm.OBS_SET_SIZES, dataset=dataset)"
   ]
  },
  {
   "cell_type": "code",
   "execution_count": 5,
   "id": "d88f759e-bce2-4998-abac-095415dab507",
   "metadata": {},
   "outputs": [],
   "source": [
    "vc.layout(scatterplot | (cell_sets / cell_set_sizes));"
   ]
  },
  {
   "cell_type": "code",
   "execution_count": 8,
   "id": "3cfaa455-ffa5-450c-a788-91fcec0195eb",
   "metadata": {},
   "outputs": [
    {
     "data": {
      "application/vnd.jupyter.widget-view+json": {
       "model_id": "ce5a57297ce940cb80aeec45645508d7",
       "version_major": 2,
       "version_minor": 0
      },
      "text/plain": [
       "VitessceWidget(config={'version': '1.0.15', 'name': 'Habib et al', 'description': 'COVID-19 Healthy Donor Brai…"
      ]
     },
     "execution_count": 8,
     "metadata": {},
     "output_type": "execute_result"
    }
   ],
   "source": [
    "vw = vc.widget()\n",
    "vw"
   ]
  },
  {
   "cell_type": "code",
   "execution_count": null,
   "id": "c8976ff3-e6ba-4ad5-8b9a-da507561d5b7",
   "metadata": {},
   "outputs": [],
   "source": []
  }
 ],
 "metadata": {
  "kernelspec": {
   "display_name": "Python 3 (ipykernel)",
   "language": "python",
   "name": "python3"
  },
  "language_info": {
   "codemirror_mode": {
    "name": "ipython",
    "version": 3
   },
   "file_extension": ".py",
   "mimetype": "text/x-python",
   "name": "python",
   "nbconvert_exporter": "python",
   "pygments_lexer": "ipython3",
   "version": "3.8.0"
  }
 },
 "nbformat": 4,
 "nbformat_minor": 5
}
