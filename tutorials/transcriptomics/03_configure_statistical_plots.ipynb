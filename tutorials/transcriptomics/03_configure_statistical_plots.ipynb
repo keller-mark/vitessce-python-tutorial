{
 "cells": [
  {
   "cell_type": "markdown",
   "id": "08257ead-7f91-401b-a1a3-c415bcd467fb",
   "metadata": {},
   "source": [
    "# Configure statistical plots"
   ]
  },
  {
   "cell_type": "code",
   "execution_count": 3,
   "id": "89b4c5b8-bce9-4dfb-b9c4-f227fa0ae231",
   "metadata": {},
   "outputs": [],
   "source": [
    "from vitessce import (\n",
    "    VitessceConfig,\n",
    "    ViewType as vt,\n",
    "    CoordinationType as ct,\n",
    "    FileType as ft,\n",
    "    AnnDataWrapper,\n",
    ")\n",
    "from os.path import join"
   ]
  },
  {
   "cell_type": "markdown",
   "id": "398377ae-ce41-475d-b6ad-aed85a8b2589",
   "metadata": {},
   "source": [
    "In this notebook, the configuration begins the same way as in the previous notebook (`02_configure_visualization.ipynb`), by creating a new `VitessceConfig` instance and adding a dataset with a data object pointing to the same local AnnData-Zarr store (located at `./processed_data/habib17.zarr`)."
   ]
  },
  {
   "cell_type": "code",
   "execution_count": 4,
   "id": "b3d1baeb-de12-4cc3-92d1-d5009fa9e79c",
   "metadata": {},
   "outputs": [],
   "source": [
    "vc = VitessceConfig(schema_version=\"1.0.15\", name='Habib et al', description='COVID-19 Healthy Donor Brain')\n",
    "dataset = vc.add_dataset(name='Brain').add_object(AnnDataWrapper(\n",
    "        adata_path=join(\"processed_data\", \"habib17.zarr\"),\n",
    "        obs_embedding_paths=[\"obsm/X_umap\"],\n",
    "        obs_embedding_names=[\"UMAP\"],\n",
    "        obs_set_paths=[[\"obs/CoarseCellType\", \"obs/CellType\"]],\n",
    "        obs_set_names=[\"Cell Type\"],\n",
    "        obs_feature_matrix_path=\"X\"\n",
    "    )\n",
    ")"
   ]
  },
  {
   "cell_type": "markdown",
   "id": "cdb6bde1-2850-4bcd-b694-47e216a07d9e",
   "metadata": {},
   "source": [
    "This notebook differs from the previous one by which views we choose to add to the configuration. Here, note that we do not add a `HEATMAP` view, and instead add the following additional views:\n",
    "- an expression distribution per cell set, via the `OBS_SET_FEATURE_VALUE_DISTRIBUTION` view type\n",
    "- and an expression histogram, via the `FEATURE_VALUE_HISTOGRAM` view type."
   ]
  },
  {
   "cell_type": "code",
   "execution_count": 5,
   "id": "0b62f4fe-ad8b-458b-9cfe-a54a647138a1",
   "metadata": {},
   "outputs": [],
   "source": [
    "scatterplot = vc.add_view(vt.SCATTERPLOT, dataset=dataset, mapping=\"UMAP\")\n",
    "cell_sets = vc.add_view(vt.OBS_SETS, dataset=dataset)\n",
    "genes = vc.add_view(vt.FEATURE_LIST, dataset=dataset)\n",
    "cell_set_sizes = vc.add_view(vt.OBS_SET_SIZES, dataset=dataset)\n",
    "cell_set_expression = vc.add_view(vt.OBS_SET_FEATURE_VALUE_DISTRIBUTION, dataset=dataset)\n",
    "expression_histogram = vc.add_view(vt.FEATURE_VALUE_HISTOGRAM, dataset=dataset)"
   ]
  },
  {
   "cell_type": "markdown",
   "id": "a4c46606-7012-4c25-bc93-0c85257e8897",
   "metadata": {},
   "source": [
    "We then include these views when calling the `layout` function:"
   ]
  },
  {
   "cell_type": "code",
   "execution_count": 6,
   "id": "d88f759e-bce2-4998-abac-095415dab507",
   "metadata": {},
   "outputs": [],
   "source": [
    "vc.layout(((scatterplot | expression_histogram) | cell_sets) / (cell_set_expression | (genes | cell_set_sizes)));"
   ]
  },
  {
   "cell_type": "code",
   "execution_count": 7,
   "id": "3cfaa455-ffa5-450c-a788-91fcec0195eb",
   "metadata": {},
   "outputs": [
    {
     "data": {
      "application/vnd.jupyter.widget-view+json": {
       "model_id": "22ef3045282f4eb0a446016a22f3a512",
       "version_major": 2,
       "version_minor": 0
      },
      "text/plain": [
       "VitessceWidget(config={'version': '1.0.15', 'name': 'Habib et al', 'description': 'COVID-19 Healthy Donor Brai…"
      ]
     },
     "execution_count": 7,
     "metadata": {},
     "output_type": "execute_result"
    }
   ],
   "source": [
    "vw = vc.widget()\n",
    "vw"
   ]
  },
  {
   "cell_type": "code",
   "execution_count": null,
   "id": "d8330d7b-a360-491e-8468-c8cf23d572af",
   "metadata": {},
   "outputs": [],
   "source": []
  }
 ],
 "metadata": {
  "kernelspec": {
   "display_name": "Python 3 (ipykernel)",
   "language": "python",
   "name": "python3"
  },
  "language_info": {
   "codemirror_mode": {
    "name": "ipython",
    "version": 3
   },
   "file_extension": ".py",
   "mimetype": "text/x-python",
   "name": "python",
   "nbconvert_exporter": "python",
   "pygments_lexer": "ipython3",
   "version": "3.8.0"
  }
 },
 "nbformat": 4,
 "nbformat_minor": 5
}
