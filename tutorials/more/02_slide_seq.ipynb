{
 "cells": [
  {
   "cell_type": "markdown",
   "id": "65866a4d-2957-4d2a-9c6d-35dd84d903fb",
   "metadata": {},
   "source": [
    "# Tutorial for Slide-seqV2 data"
   ]
  },
  {
   "cell_type": "markdown",
   "id": "d81ebf99-8b23-4d8b-a7a1-073dffaf19a6",
   "metadata": {},
   "source": [
    "## 1. Convert data"
   ]
  },
  {
   "cell_type": "markdown",
   "id": "d419ff12-a680-4bda-9729-11d333703c2a",
   "metadata": {},
   "source": [
    "The data used in this notebook comes from `Puck_200903_13` from [High Resolution Slide-seqV2 Spatial Transcriptomics Enables Discovery of Disease-Specific Cell Neighborhoods and Pathways](https://doi.org/10.1016/j.isci.2022.104097) which can be downloaded from https://cellxgene.cziscience.com/collections/8e880741-bf9a-4c8e-9227-934204631d2a.\n",
    "\n",
    "This notebook assumes the data is located at `./data/marshall_2022_iscience.h5ad`."
   ]
  },
  {
   "cell_type": "code",
   "execution_count": 4,
   "id": "4148b43f-a2c8-42c6-bb6a-00b97af737f3",
   "metadata": {},
   "outputs": [],
   "source": [
    "import scanpy as sc\n",
    "import numpy as np\n",
    "import scipy.cluster\n",
    "from scipy import sparse\n",
    "\n",
    "from anndata import read_h5ad\n",
    "from os.path import join\n",
    "\n",
    "from vitessce.data_utils import (\n",
    "    to_diamond,\n",
    "    to_uint8,\n",
    "    optimize_adata,\n",
    ")"
   ]
  },
  {
   "cell_type": "code",
   "execution_count": 5,
   "id": "afb42806-103a-48f8-a4da-597d8116b033",
   "metadata": {},
   "outputs": [],
   "source": [
    "slide_seq_h5ad = join(\"data\", \"marshall_2022_iscience.h5ad\")\n",
    "slide_seq_zarr = join(\"data\", \"marshall_2022_iscience.h5ad.zarr\")"
   ]
  },
  {
   "cell_type": "code",
   "execution_count": 7,
   "id": "8e6a053e-75d7-44e7-99c8-dc84286baaa0",
   "metadata": {},
   "outputs": [
    {
     "name": "stderr",
     "output_type": "stream",
     "text": [
      "/Users/mkeller/anaconda3/envs/vitessce-tutorial-env/lib/python3.8/site-packages/zarr/creation.py:241: UserWarning: ignoring keyword argument 'maxshape'\n",
      "  warn('ignoring keyword argument %r' % k)\n"
     ]
    }
   ],
   "source": [
    "# Read the original H5AD file from cellxgene\n",
    "adata = read_h5ad(slide_seq_h5ad)\n",
    "\n",
    "# Use ScanPy to preprocess the data,\n",
    "# perform quality control, filtering,\n",
    "# normalization, scaling, and\n",
    "# identification of highly variable genes.\n",
    "sc.pp.filter_cells(adata, min_genes=200)\n",
    "sc.pp.filter_genes(adata, min_cells=3)\n",
    "\n",
    "adata.var['mt'] = adata.var['feature_name'].str.startswith('MT-')  # annotate the group of mitochondrial genes as 'mt'\n",
    "sc.pp.calculate_qc_metrics(adata, qc_vars=['mt'], percent_top=None, log1p=False, inplace=True)\n",
    "\n",
    "sc.pp.normalize_total(adata, target_sum=1e4, inplace=True)\n",
    "sc.pp.log1p(adata)\n",
    "\n",
    "sc.pp.highly_variable_genes(adata, min_mean=0.0125, max_mean=3, min_disp=0.5)\n",
    "\n",
    "# Store the highly variable genes in a smaller cell-by-gene expression matrix.\n",
    "adata_hvg = adata[:, adata.var['highly_variable']].copy()\n",
    "sc.pp.regress_out(adata_hvg, ['total_counts', 'pct_counts_mt'])\n",
    "sc.pp.scale(adata_hvg, max_value=3)\n",
    "\n",
    "adata.obsm['X_hvg'] = adata_hvg.X\n",
    "adata.obsm['X_hvg_uint8'] = to_uint8(adata_hvg.X, norm_along=\"var\")\n",
    "\n",
    "# Generate pseudo-segmentations because the data is spatially-resolved but\n",
    "# does not have cell segmentations.\n",
    "num_cells = adata.obs.shape[0]\n",
    "adata.obsm['X_spatial'] = adata.obsm['X_spatial']\n",
    "adata.obsm['X_segmentations'] = np.zeros((num_cells, 4, 2))\n",
    "radius = 10\n",
    "for i in range(num_cells):\n",
    "    adata.obsm['X_segmentations'][i, :, :] = to_diamond(adata.obsm['X_spatial'][i, 0], adata.obsm['X_spatial'][i, 1], radius)\n",
    "\n",
    "\n",
    "# Use the optimize_adata function to select only the columns/keys that\n",
    "# are necessary for visualization.\n",
    "adata = optimize_adata(\n",
    "    adata,\n",
    "    obs_cols=[\"cell_type\"],\n",
    "    var_cols=[\"feature_name\", \"highly_variable\"],\n",
    "    obsm_keys=[\"X_hvg\", \"X_hvg_uint8\", \"X_umap\", \"X_spatial\", \"X_segmentations\"],\n",
    "    layer_keys=[],\n",
    ")\n",
    "\n",
    "# Save the processed AnnData object to Zarr format.\n",
    "adata.write_zarr(slide_seq_zarr, chunks=[adata.shape[0], 10])"
   ]
  },
  {
   "cell_type": "markdown",
   "id": "1407f5d5-8fc0-4bfc-b73f-824c89e8fc1c",
   "metadata": {},
   "source": [
    "## 2. Configure visualization"
   ]
  },
  {
   "cell_type": "code",
   "execution_count": 12,
   "id": "a83bf9a2-28a7-4313-9b06-e80074929d49",
   "metadata": {},
   "outputs": [],
   "source": [
    "from vitessce import (\n",
    "    VitessceConfig,\n",
    "    ViewType as vt,\n",
    "    CoordinationType as ct,\n",
    "    FileType as ft,\n",
    "    AnnDataWrapper,\n",
    "    OmeTiffWrapper,\n",
    ")"
   ]
  },
  {
   "cell_type": "markdown",
   "id": "9f91989a-bb99-4c6e-8d85-2ac119029d91",
   "metadata": {},
   "source": [
    "### Instantiate a `VitessceConfig` object\n",
    "\n",
    "We begin the configuration process by creating an object using the `VitessceConfig` constructor. This takes three parameters:\n",
    "- `schema_version`: the schema version that the configuration should conform to. Valid values can be found at http://vitessce.io/docs/view-config-json/#version. The current most recent version `1.0.15` (as of 1/16/2023) is used in this tutorial.\n",
    "- `name`: a name for the configuration.\n",
    "- `description` (optional): a brief description of the configuration.\n"
   ]
  },
  {
   "cell_type": "code",
   "execution_count": 13,
   "id": "a74759d4-4b10-4178-9ca3-8b7dd366e3cd",
   "metadata": {},
   "outputs": [],
   "source": [
    "vc = VitessceConfig(schema_version=\"1.0.15\", name='Slide-seqV2', description='Kidney')"
   ]
  },
  {
   "cell_type": "markdown",
   "id": "1d758113-357c-4cba-9050-5e2f0da24dcd",
   "metadata": {},
   "source": [
    "### Add data\n",
    "\n",
    "To add data to the configuration, we first run [add_dataset](https://vitessce.github.io/vitessce-python/api_config.html#vitessce.config.VitessceConfig.add_dataset) which takes the dataset `name` as a parameter.\n",
    "\n",
    "This returns a new `VitessceConfigDataset` instance. We can add objects which represent local data such as AnnData stores by running [add_object](https://vitessce.github.io/vitessce-python/api_config.html#vitessce.config.VitessceConfigDataset.add_object) on the dataset instance. To enable multiple `add_object` calls to be chained together, the `add_object` function also returns the `VitessceConfigDataset` instance.\n",
    "\n",
    "We will store the `VitessceConfigDataset` instance in a variable (`dataset`) to use later when configuring views.\n",
    "\n",
    "__Note__: the functions used in the following cells `.add_dataset`, `.add_object`, and `.add_view` have side effects (i.e., they modify the `vc` object). Running these cells more than once on the same `vc` instance may result in an unexpected configuration, so be sure to run the cells in order starting from the initial `vc = VitessceConfig(...)` cell."
   ]
  },
  {
   "cell_type": "code",
   "execution_count": 14,
   "id": "c07cb582-6c3d-45d7-937b-e54bd8fc93d8",
   "metadata": {},
   "outputs": [],
   "source": [
    "dataset = vc.add_dataset(name='Puck_200903_13').add_object(AnnDataWrapper(\n",
    "    # This file path points to the AnnData object written to Zarr format.\n",
    "    adata_path=slide_seq_zarr,\n",
    "    # Paths to dimensionality reduction(s) within the AnnData object.\n",
    "    obs_embedding_paths=[\"obsm/X_umap\"],\n",
    "    obs_embedding_names=[\"UMAP\"],\n",
    "    # Path to array containing spatial coordinates.\n",
    "    obs_locations_path=\"obsm/X_spatial\",\n",
    "    # Path to array containing polygon cell segmentations (or the pseudo-segmentations in this case).\n",
    "    obs_segmentations_path=\"obsm/X_segmentations\",\n",
    "    # Path to column in adata containing cell type annotations.\n",
    "    obs_set_paths=[\"obs/cell_type\"],\n",
    "    obs_set_names=[\"Bead type\"],\n",
    "    # Path to cell-by-gene matrix.\n",
    "    obs_feature_matrix_path=\"obsm/X_hvg\",\n",
    "    # If cell-by-gene matrix is a filtered version of the entire adata.X,\n",
    "    # then we add a path to a column containing boolean flags that was used to filter the matrix.\n",
    "    feature_filter_path=\"var/highly_variable\",\n",
    "    # If the observations do not represent cells, we specify a different observation type using `obsType` here.\n",
    "    coordination_values={\n",
    "        \"obsType\": \"bead\"\n",
    "    }\n",
    "))"
   ]
  },
  {
   "cell_type": "markdown",
   "id": "559e7343-8785-427c-ba78-f733334df957",
   "metadata": {},
   "source": [
    "### Add views\n",
    "\n",
    "Next, we configure the visualization and controller views of interest."
   ]
  },
  {
   "cell_type": "code",
   "execution_count": 15,
   "id": "0b62f4fe-ad8b-458b-9cfe-a54a647138a1",
   "metadata": {},
   "outputs": [],
   "source": [
    "obs_sets = vc.add_view(vt.OBS_SETS, dataset=dataset)\n",
    "obs_set_sizes = vc.add_view(vt.OBS_SET_SIZES, dataset=dataset)\n",
    "scatterplot = vc.add_view(vt.SCATTERPLOT, dataset=dataset, mapping=\"UMAP\")\n",
    "spatial = vc.add_view(vt.SPATIAL, dataset=dataset)\n",
    "layer_controller = vc.add_view(vt.LAYER_CONTROLLER, dataset=dataset)\n",
    "gene_list = vc.add_view(vt.FEATURE_LIST, dataset=dataset)"
   ]
  },
  {
   "cell_type": "markdown",
   "id": "c6bcacb2-601c-4069-8d98-aac8e0d0a275",
   "metadata": {},
   "source": [
    "### Coordinate views\n",
    "\n",
    "Views can be linked on different properties by using the [link_views](https://vitessce.github.io/vitessce-python/api_config.html#vitessce.config.VitessceConfig.link_views) function."
   ]
  },
  {
   "cell_type": "code",
   "execution_count": 16,
   "id": "f544df2d-ea33-4b03-805a-c5e708379fb2",
   "metadata": {},
   "outputs": [
    {
     "data": {
      "text/plain": [
       "<vitessce.config.VitessceConfig at 0x7f8f42402250>"
      ]
     },
     "execution_count": 16,
     "metadata": {},
     "output_type": "execute_result"
    }
   ],
   "source": [
    "# We need to specify a new observation type for all views, so that these views\n",
    "# know to load data from the AnnData object that has \"obsType\": \"bead\".\n",
    "vc.link_views([obs_sets, obs_set_sizes, scatterplot, spatial, layer_controller, gene_list], [ct.OBS_TYPE], [\"bead\"])"
   ]
  },
  {
   "cell_type": "code",
   "execution_count": 17,
   "id": "a52ea52c-4618-4ba7-997f-e37e81dfdfda",
   "metadata": {},
   "outputs": [
    {
     "data": {
      "text/plain": [
       "<vitessce.config.VitessceConfig at 0x7f8f42402250>"
      ]
     },
     "execution_count": 17,
     "metadata": {},
     "output_type": "execute_result"
    }
   ],
   "source": [
    "# We need to specify that we want to view the pseudo-segmentations in the spatial view,\n",
    "# by providing an initial value for ct.SPATIAL_SEGMENTATION_LAYER here.\n",
    "vc.link_views([spatial, layer_controller], [ct.SPATIAL_SEGMENTATION_LAYER], [{ \"opacity\": 1, \"radius\": 50, \"visible\": True, \"stroked\": False }])"
   ]
  },
  {
   "cell_type": "code",
   "execution_count": 18,
   "id": "d88f759e-bce2-4998-abac-095415dab507",
   "metadata": {},
   "outputs": [],
   "source": [
    "# We define a layout for the plots\n",
    "vc.layout(\n",
    "    (scatterplot | (gene_list | obs_sets))\n",
    "    / (spatial | (layer_controller | obs_set_sizes))\n",
    ");"
   ]
  },
  {
   "cell_type": "markdown",
   "id": "3833f962-de54-4760-b3c6-4b0c748e49eb",
   "metadata": {},
   "source": [
    "### Render the widget into the notebook\n",
    "\n",
    "To render the interactive visualization into the notebook, we run the [widget](https://vitessce.github.io/vitessce-python/api_config.html#vitessce.config.VitessceConfig.widget) function. "
   ]
  },
  {
   "cell_type": "code",
   "execution_count": 19,
   "id": "ddf9f819-45b8-4818-9738-92c971455614",
   "metadata": {},
   "outputs": [
    {
     "data": {
      "application/vnd.jupyter.widget-view+json": {
       "model_id": "772c23fc64824b20aa08d6fb8a36736c",
       "version_major": 2,
       "version_minor": 0
      },
      "text/plain": [
       "VitessceWidget(config={'version': '1.0.15', 'name': 'Slide-seqV2', 'description': 'Kidney', 'datasets': [{'uid…"
      ]
     },
     "execution_count": 19,
     "metadata": {},
     "output_type": "execute_result"
    }
   ],
   "source": [
    "vw = vc.widget()\n",
    "vw"
   ]
  },
  {
   "cell_type": "code",
   "execution_count": null,
   "id": "617c3807-4023-407f-aa13-ecb7ad2e00d3",
   "metadata": {},
   "outputs": [],
   "source": []
  }
 ],
 "metadata": {
  "kernelspec": {
   "display_name": "Python 3 (ipykernel)",
   "language": "python",
   "name": "python3"
  },
  "language_info": {
   "codemirror_mode": {
    "name": "ipython",
    "version": 3
   },
   "file_extension": ".py",
   "mimetype": "text/x-python",
   "name": "python",
   "nbconvert_exporter": "python",
   "pygments_lexer": "ipython3",
   "version": "3.8.0"
  }
 },
 "nbformat": 4,
 "nbformat_minor": 5
}
