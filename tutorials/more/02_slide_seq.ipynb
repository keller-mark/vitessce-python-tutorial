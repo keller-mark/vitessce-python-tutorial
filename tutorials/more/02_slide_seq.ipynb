{
 "cells": [
  {
   "cell_type": "markdown",
   "id": "65866a4d-2957-4d2a-9c6d-35dd84d903fb",
   "metadata": {},
   "source": [
    "## Convert data"
   ]
  },
  {
   "cell_type": "markdown",
   "id": "45b3ae77-b9a9-41ee-b861-892902cde982",
   "metadata": {},
   "source": [
    "https://doi.org/10.1016/j.isci.2022.104097\n",
    "\n",
    "High Resolution Slide-seqV2 Spatial Transcriptomics Enables Discovery of Disease-Specific Cell Neighborhoods and Pathways\n",
    "\n",
    "Spatial transcriptomics in the healthy human kidney: Puck_200903_13\n",
    "\n",
    "Need to download from https://cellxgene.cziscience.com/collections/8e880741-bf9a-4c8e-9227-934204631d2a\n",
    "\n",
    "Download to `./data/marshall_2022_iscience.h5ad`"
   ]
  },
  {
   "cell_type": "code",
   "execution_count": null,
   "id": "4148b43f-a2c8-42c6-bb6a-00b97af737f3",
   "metadata": {},
   "outputs": [],
   "source": [
    "import scanpy as sc\n",
    "import numpy as np\n",
    "import scipy.cluster\n",
    "from scipy import sparse\n",
    "\n",
    "from anndata import read_h5ad\n",
    "from os.path import join\n",
    "\n",
    "from vitessce import (\n",
    "    VitessceConfig,\n",
    "    ViewType as vt,\n",
    "    CoordinationType as ct,\n",
    "    FileType as ft,\n",
    "    AnnDataWrapper,\n",
    "    OmeTiffWrapper,\n",
    ")\n",
    "from vitessce.data_utils import (\n",
    "    to_diamond,\n",
    "    to_uint8,\n",
    "    optimize_adata,\n",
    ")"
   ]
  },
  {
   "cell_type": "code",
   "execution_count": null,
   "id": "afb42806-103a-48f8-a4da-597d8116b033",
   "metadata": {},
   "outputs": [],
   "source": [
    "slide_seq_h5ad = join(\"data\", \"marshall_2022_iscience.h5ad\")\n",
    "slide_seq_zarr = join(\"data\", \"marshall_2022_iscience.h5ad.zarr\")"
   ]
  },
  {
   "cell_type": "code",
   "execution_count": null,
   "id": "8e6a053e-75d7-44e7-99c8-dc84286baaa0",
   "metadata": {},
   "outputs": [],
   "source": [
    "adata = read_h5ad(slide_seq_h5ad)\n",
    "\n",
    "sc.pp.filter_cells(adata, min_genes=200)\n",
    "sc.pp.filter_genes(adata, min_cells=3)\n",
    "\n",
    "adata.var['mt'] = adata.var['feature_name'].str.startswith('MT-')  # annotate the group of mitochondrial genes as 'mt'\n",
    "sc.pp.calculate_qc_metrics(adata, qc_vars=['mt'], percent_top=None, log1p=False, inplace=True)\n",
    "\n",
    "sc.pp.normalize_total(adata, target_sum=1e4, inplace=True)\n",
    "sc.pp.log1p(adata)\n",
    "\n",
    "sc.pp.highly_variable_genes(adata, min_mean=0.0125, max_mean=3, min_disp=0.5)\n",
    "\n",
    "adata_hvg = adata[:, adata.var['highly_variable']].copy()\n",
    "sc.pp.regress_out(adata_hvg, ['total_counts', 'pct_counts_mt'])\n",
    "sc.pp.scale(adata_hvg, max_value=3)\n",
    "\n",
    "adata.obsm['X_hvg'] = adata_hvg.X\n",
    "adata.obsm['X_hvg_uint8'] = to_uint8(adata_hvg.X, norm_along=\"var\")\n",
    "\n",
    "num_cells = adata.obs.shape[0]\n",
    "adata.obsm['X_spatial'] = adata.obsm['X_spatial']\n",
    "adata.obsm['X_segmentations'] = np.zeros((num_cells, 4, 2))\n",
    "radius = 10\n",
    "for i in range(num_cells):\n",
    "    adata.obsm['X_segmentations'][i, :, :] = to_diamond(adata.obsm['X_spatial'][i, 0], adata.obsm['X_spatial'][i, 1], radius)\n",
    "\n",
    "adata = optimize_adata(\n",
    "    adata,\n",
    "    obs_cols=[\"cell_type\"],\n",
    "    var_cols=[\"feature_name\", \"highly_variable\"],\n",
    "    obsm_keys=[\"X_hvg\", \"X_hvg_uint8\", \"X_umap\", \"X_spatial\", \"X_segmentations\"],\n",
    "    layer_keys=[],\n",
    ")\n",
    "\n",
    "adata.write_zarr(slide_seq_zarr, chunks=[adata.shape[0], 10])"
   ]
  },
  {
   "cell_type": "markdown",
   "id": "1407f5d5-8fc0-4bfc-b73f-824c89e8fc1c",
   "metadata": {},
   "source": [
    "## Configure visualization"
   ]
  },
  {
   "cell_type": "code",
   "execution_count": null,
   "id": "a74759d4-4b10-4178-9ca3-8b7dd366e3cd",
   "metadata": {},
   "outputs": [],
   "source": [
    "vc = VitessceConfig(schema_version=\"1.0.15\", name='Slide-seqV2', description='Kidney')"
   ]
  },
  {
   "cell_type": "code",
   "execution_count": null,
   "id": "c07cb582-6c3d-45d7-937b-e54bd8fc93d8",
   "metadata": {},
   "outputs": [],
   "source": [
    "dataset = vc.add_dataset(name='Puck_200903_13').add_object(AnnDataWrapper(\n",
    "    adata_path=slide_seq_zarr,\n",
    "    obs_embedding_paths=[\"obsm/X_umap\"],\n",
    "    obs_embedding_names=[\"UMAP\"],\n",
    "    obs_locations_path=\"obsm/X_spatial\",\n",
    "    obs_segmentations_path=\"obsm/X_segmentations\",\n",
    "    obs_set_paths=[\"obs/cell_type\"],\n",
    "    obs_set_names=[\"Bead type\"],\n",
    "    # feature_labels_path=\"var/feature_name\",\n",
    "    obs_feature_matrix_path=\"obsm/X_hvg\",\n",
    "    feature_filter_path=\"var/highly_variable\",\n",
    "    coordination_values={\n",
    "        \"obsType\": \"bead\"\n",
    "    }\n",
    "))"
   ]
  },
  {
   "cell_type": "code",
   "execution_count": null,
   "id": "0b62f4fe-ad8b-458b-9cfe-a54a647138a1",
   "metadata": {},
   "outputs": [],
   "source": [
    "obs_sets = vc.add_view(vt.OBS_SETS, dataset=dataset)\n",
    "obs_set_sizes = vc.add_view(vt.OBS_SET_SIZES, dataset=dataset)\n",
    "scatterplot = vc.add_view(vt.SCATTERPLOT, dataset=dataset, mapping=\"UMAP\")\n",
    "spatial = vc.add_view(vt.SPATIAL, dataset=dataset)\n",
    "layer_controller = vc.add_view(vt.LAYER_CONTROLLER, dataset=dataset)\n",
    "gene_list = vc.add_view(vt.FEATURE_LIST, dataset=dataset)"
   ]
  },
  {
   "cell_type": "code",
   "execution_count": null,
   "id": "f544df2d-ea33-4b03-805a-c5e708379fb2",
   "metadata": {},
   "outputs": [],
   "source": [
    "vc.link_views([obs_sets, obs_set_sizes, scatterplot, spatial, layer_controller, gene_list], [ct.OBS_TYPE], [\"bead\"])"
   ]
  },
  {
   "cell_type": "code",
   "execution_count": null,
   "id": "a52ea52c-4618-4ba7-997f-e37e81dfdfda",
   "metadata": {},
   "outputs": [],
   "source": [
    "vc.link_views([spatial, layer_controller], [ct.SPATIAL_SEGMENTATION_LAYER], [{ \"opacity\": 1, \"radius\": 50, \"visible\": True, \"stroked\": False }])"
   ]
  },
  {
   "cell_type": "code",
   "execution_count": null,
   "id": "d88f759e-bce2-4998-abac-095415dab507",
   "metadata": {},
   "outputs": [],
   "source": [
    "vc.layout(\n",
    "    (scatterplot | (gene_list | obs_sets))\n",
    "    / (spatial | (layer_controller | obs_set_sizes))\n",
    ");"
   ]
  },
  {
   "cell_type": "code",
   "execution_count": null,
   "id": "c15c31f7-ff4e-4191-9b94-6d93561ff89e",
   "metadata": {},
   "outputs": [],
   "source": [
    "vc.to_dict(base_url=\"\")"
   ]
  },
  {
   "cell_type": "code",
   "execution_count": null,
   "id": "ddf9f819-45b8-4818-9738-92c971455614",
   "metadata": {},
   "outputs": [],
   "source": [
    "vw = vc.widget()\n",
    "vw"
   ]
  },
  {
   "cell_type": "code",
   "execution_count": null,
   "id": "617c3807-4023-407f-aa13-ecb7ad2e00d3",
   "metadata": {},
   "outputs": [],
   "source": []
  }
 ],
 "metadata": {
  "kernelspec": {
   "display_name": "Python 3 (ipykernel)",
   "language": "python",
   "name": "python3"
  },
  "language_info": {
   "codemirror_mode": {
    "name": "ipython",
    "version": 3
   },
   "file_extension": ".py",
   "mimetype": "text/x-python",
   "name": "python",
   "nbconvert_exporter": "python",
   "pygments_lexer": "ipython3",
   "version": "3.8.0"
  }
 },
 "nbformat": 4,
 "nbformat_minor": 5
}
