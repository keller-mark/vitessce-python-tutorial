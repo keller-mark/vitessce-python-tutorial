{
 "cells": [
  {
   "cell_type": "markdown",
   "id": "fec4a0d8-fd08-45ee-bbe7-656d24570c64",
   "metadata": {},
   "source": [
    "## Convert data"
   ]
  },
  {
   "cell_type": "markdown",
   "id": "a13a675f-7002-4879-9649-840662f3c60f",
   "metadata": {},
   "source": [
    "Obtain data from https://satijalab.org/seurat/articles/multimodal_vignette.html"
   ]
  },
  {
   "cell_type": "markdown",
   "id": "b6997043-934a-443c-8354-13ede6bb2229",
   "metadata": {},
   "source": [
    "Install R dependencies:\n",
    "```R\n",
    "install.packages(\"seurat\")\n",
    "install.packages(\"devtools\")\n",
    "devtools::install_github(\"mojaveazure/seurat-disk\")\n",
    "devtools::install_github(\"vitessce/vitessceR\")\n",
    "```\n",
    "\n",
    "```R\n",
    "library(Seurat)\n",
    "\n",
    "# Load in the RNA UMI matrix\n",
    "\n",
    "# Note that this dataset also contains ~5% of mouse cells, which we can use as negative\n",
    "# controls for the protein measurements. For this reason, the gene expression matrix has\n",
    "# HUMAN_ or MOUSE_ appended to the beginning of each gene.\n",
    "cbmc.rna <- as.sparse(read.csv(file = \"/Users/mkeller/Downloads/GSE100866_CBMC_8K_13AB_10X-RNA_umi.csv.gz\", sep = \",\",\n",
    "                               header = TRUE, row.names = 1))\n",
    "\n",
    "# To make life a bit easier going forward, we're going to discard all but the top 100 most\n",
    "# highly expressed mouse genes, and remove the 'HUMAN_' from the CITE-seq prefix\n",
    "cbmc.rna <- CollapseSpeciesExpressionMatrix(cbmc.rna)\n",
    "\n",
    "# Load in the ADT UMI matrix\n",
    "cbmc.adt <- as.sparse(read.csv(file = \"/Users/mkeller/Downloads/GSE100866_CBMC_8K_13AB_10X-ADT_umi.csv.gz\", sep = \",\",\n",
    "                               header = TRUE, row.names = 1))\n",
    "\n",
    "# Note that all operations below are performed on the RNA assay Set and verify that the\n",
    "# default assay is RNA\n",
    "DefaultAssay(cbmc) <- \"RNA\"\n",
    "DefaultAssay\n",
    "\n",
    "# perform visualization and clustering steps\n",
    "cbmc <- NormalizeData(cbmc)\n",
    "cbmc <- FindVariableFeatures(cbmc)\n",
    "cbmc <- ScaleData(cbmc)\n",
    "cbmc <- RunPCA(cbmc, verbose = FALSE)\n",
    "cbmc <- FindNeighbors(cbmc, dims = 1:30)\n",
    "cbmc <- FindClusters(cbmc, resolution = 0.8, verbose = FALSE)\n",
    "cbmc <- RunUMAP(cbmc, dims = 1:30)\n",
    "DimPlot(cbmc, label = TRUE)\n",
    "\n",
    "# Normalize ADT data,\n",
    "DefaultAssay(cbmc) <- \"ADT\"\n",
    "cbmc <- NormalizeData(cbmc, normalization.method = \"CLR\", margin = 2)\n",
    "DefaultAssay(cbmc) <- \"RNA\"\n",
    "\n",
    "# Note that the following command is an alternative but returns the same result\n",
    "cbmc <- NormalizeData(cbmc, normalization.method = \"CLR\", margin = 2, assay = \"ADT\")\n",
    "\n",
    "\n",
    "vitessceR::seurat_to_anndata_zarr(cbmc, file.path(\"data\", \"multimodal_vignette.rna.h5ad.zarr\"), assay = \"RNA\")\n",
    "vitessceR::seurat_to_anndata_zarr(cbmc, file.path(\"data\", \"multimodal_vignette.adt.h5ad.zarr\"), assay = \"ADT\")\n",
    "```"
   ]
  },
  {
   "cell_type": "code",
   "execution_count": null,
   "id": "797322b2-f669-456d-8f23-c9ccbb8a5414",
   "metadata": {},
   "outputs": [],
   "source": [
    "import scanpy as sc\n",
    "import numpy as np\n",
    "import scipy.cluster\n",
    "from scipy import sparse\n",
    "\n",
    "from anndata import read_zarr\n",
    "from os.path import join\n",
    "\n",
    "from vitessce import (\n",
    "    VitessceConfig,\n",
    "    ViewType as vt,\n",
    "    CoordinationType as ct,\n",
    "    FileType as ft,\n",
    "    AnnDataWrapper,\n",
    "    OmeTiffWrapper,\n",
    ")\n",
    "from vitessce.data_utils import (\n",
    "    optimize_adata,\n",
    "    to_dense,\n",
    "    VAR_CHUNK_SIZE,\n",
    "    sort_var_axis,\n",
    ")"
   ]
  },
  {
   "cell_type": "code",
   "execution_count": null,
   "id": "66a416ee-e4cf-43b8-8c3a-a90460ab247f",
   "metadata": {},
   "outputs": [],
   "source": [
    "rna_zarr = join(\"data\", \"multimodal_vignette.rna.h5ad.zarr\")\n",
    "adt_zarr = join(\"data\", \"multimodal_vignette.adt.h5ad.zarr\")"
   ]
  },
  {
   "cell_type": "code",
   "execution_count": null,
   "id": "8600bad7-0331-4fbd-86cc-85994e91e9f5",
   "metadata": {},
   "outputs": [],
   "source": [
    "rna_adata = read_zarr(rna_zarr)\n",
    "rna_adata"
   ]
  },
  {
   "cell_type": "code",
   "execution_count": null,
   "id": "907fec36-ecc1-4992-809f-f390ff02b38d",
   "metadata": {},
   "outputs": [],
   "source": [
    "adt_adata = read_zarr(adt_zarr)\n",
    "adt_adata"
   ]
  },
  {
   "cell_type": "markdown",
   "id": "3944849a-f8d1-4897-8ee9-c5923ba663a4",
   "metadata": {},
   "source": [
    "## Configure visualization"
   ]
  },
  {
   "cell_type": "code",
   "execution_count": null,
   "id": "a74759d4-4b10-4178-9ca3-8b7dd366e3cd",
   "metadata": {},
   "outputs": [],
   "source": [
    "vc = VitessceConfig(schema_version=\"1.0.15\", name='Multimodal seurat object', description='RNA+ADT')"
   ]
  },
  {
   "cell_type": "code",
   "execution_count": null,
   "id": "c07cb582-6c3d-45d7-937b-e54bd8fc93d8",
   "metadata": {},
   "outputs": [],
   "source": [
    "dataset = vc.add_dataset(name='RNA+ADT').add_object(AnnDataWrapper(\n",
    "    adata_path=rna_zarr,\n",
    "    obs_embedding_paths=[\"obsm/X_umap\", \"obsm/X_pca\"],\n",
    "    obs_embedding_names=[\"UMAP\", \"PCA\"],\n",
    "    obs_set_paths=[\"obs/seurat_clusters\"],\n",
    "    obs_set_names=[\"Seurat Clusters\"],\n",
    "    obs_feature_matrix_path=\"X\",\n",
    "    coordination_values={\n",
    "        \"featureType\": \"gene\",\n",
    "        \"featureValueType\": \"expression\"\n",
    "    }\n",
    ")).add_object(AnnDataWrapper(\n",
    "    adata_path=adt_zarr,\n",
    "    obs_embedding_paths=[\"obsm/X_umap\"],\n",
    "    obs_embedding_names=[\"UMAP\"],\n",
    "    obs_set_paths=[\"obs/seurat_clusters\"],\n",
    "    obs_set_names=[\"Seurat Clusters\"],\n",
    "    obs_feature_matrix_path=\"X\",\n",
    "    coordination_values={\n",
    "        \"featureType\": \"tag\",\n",
    "        \"featureValueType\": \"count\"\n",
    "    }\n",
    "))"
   ]
  },
  {
   "cell_type": "code",
   "execution_count": null,
   "id": "0b62f4fe-ad8b-458b-9cfe-a54a647138a1",
   "metadata": {},
   "outputs": [],
   "source": [
    "umap_scatterplot_by_rna = vc.add_view(vt.SCATTERPLOT, dataset=dataset, mapping=\"UMAP\")\n",
    "umap_scatterplot_by_adt = vc.add_view(vt.SCATTERPLOT, dataset=dataset, mapping=\"UMAP\")\n",
    "\n",
    "gene_list = vc.add_view(vt.FEATURE_LIST, dataset=dataset)\n",
    "protein_list = vc.add_view(vt.FEATURE_LIST, dataset=dataset)\n",
    "\n",
    "rna_heatmap = vc.add_view(vt.HEATMAP, dataset=dataset).set_props(transpose=True)\n",
    "adt_heatmap = vc.add_view(vt.HEATMAP, dataset=dataset).set_props(transpose=True)"
   ]
  },
  {
   "cell_type": "code",
   "execution_count": null,
   "id": "f544df2d-ea33-4b03-805a-c5e708379fb2",
   "metadata": {},
   "outputs": [],
   "source": [
    "coordination_types = [ct.FEATURE_TYPE, ct.FEATURE_VALUE_TYPE, ct.FEATURE_SELECTION, ct.OBS_COLOR_ENCODING, ct.FEATURE_VALUE_COLORMAP_RANGE]\n",
    "vc.link_views([umap_scatterplot_by_rna, gene_list, rna_heatmap], coordination_types, [\"gene\", \"expression\", None, 'cellSetSelection', [0.0, 0.3]])\n",
    "vc.link_views([umap_scatterplot_by_adt, protein_list, adt_heatmap], coordination_types, [\"tag\", \"count\", None, 'cellSetSelection', [0.0, 1.0]])"
   ]
  },
  {
   "cell_type": "code",
   "execution_count": null,
   "id": "d88f759e-bce2-4998-abac-095415dab507",
   "metadata": {},
   "outputs": [],
   "source": [
    "vc.layout(\n",
    "    (rna_heatmap | (umap_scatterplot_by_rna | gene_list))\n",
    "    / (adt_heatmap | (umap_scatterplot_by_adt | protein_list))\n",
    ");"
   ]
  },
  {
   "cell_type": "code",
   "execution_count": null,
   "id": "ddf9f819-45b8-4818-9738-92c971455614",
   "metadata": {},
   "outputs": [],
   "source": [
    "vw = vc.widget()\n",
    "vw"
   ]
  },
  {
   "cell_type": "code",
   "execution_count": null,
   "id": "c0c9b810-388f-439b-87eb-b6fa54933698",
   "metadata": {},
   "outputs": [],
   "source": []
  }
 ],
 "metadata": {
  "kernelspec": {
   "display_name": "Python 3 (ipykernel)",
   "language": "python",
   "name": "python3"
  },
  "language_info": {
   "codemirror_mode": {
    "name": "ipython",
    "version": 3
   },
   "file_extension": ".py",
   "mimetype": "text/x-python",
   "name": "python",
   "nbconvert_exporter": "python",
   "pygments_lexer": "ipython3",
   "version": "3.8.0"
  }
 },
 "nbformat": 4,
 "nbformat_minor": 5
}
