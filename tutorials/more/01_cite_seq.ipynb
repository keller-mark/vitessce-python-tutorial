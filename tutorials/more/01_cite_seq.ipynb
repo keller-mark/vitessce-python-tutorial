{
 "cells": [
  {
   "cell_type": "markdown",
   "id": "9fa30fb1-26c5-4972-878b-70c44e15616c",
   "metadata": {
    "tags": []
   },
   "source": [
    "# Tutorial for CITE-seq data\n",
    "\n",
    "More generally, a dataset containing two observation-by-feature matrices:\n",
    "\n",
    "<img src=\"https://docs.google.com/drawings/d/e/2PACX-1vTnc5F8W-GAfJcYclSArNX2wixfiPGafVYoM0bDBY28-uepJ4C7CL4o6wttH0lco696NHxMEpzFXdUq/pub?w=1373&h=569\"/>\n",
    "\n",
    "For CITE-seq, Feature 1 is RNA and Feature 2 is antibody-derived tags (ADT).\n",
    "\n",
    "We can consider this as analogous to SNARE-seq where Feature 2 is peaks rather than ADTs."
   ]
  },
  {
   "cell_type": "markdown",
   "id": "fec4a0d8-fd08-45ee-bbe7-656d24570c64",
   "metadata": {},
   "source": [
    "## 1. Convert data"
   ]
  },
  {
   "cell_type": "markdown",
   "id": "a13a675f-7002-4879-9649-840662f3c60f",
   "metadata": {},
   "source": [
    "The data used in this notebook can be obtained from https://satijalab.org/seurat/articles/multimodal_vignette.html."
   ]
  },
  {
   "cell_type": "markdown",
   "id": "273ed731-3e61-4d16-a8a2-b8b4e82a0413",
   "metadata": {},
   "source": [
    "We can use the `seurat_to_anndata_zarr` function from `vitessceR` to convert the Seurat object to an AnnData object [written to Zarr format](https://anndata.readthedocs.io/en/latest/generated/anndata.AnnData.write_zarr.html#anndata.AnnData.write_zarr)."
   ]
  },
  {
   "cell_type": "markdown",
   "id": "b6997043-934a-443c-8354-13ede6bb2229",
   "metadata": {},
   "source": [
    "\n",
    "```R\n",
    "# Install R dependencies\n",
    "install.packages(\"seurat\")\n",
    "install.packages(\"devtools\")\n",
    "devtools::install_github(\"mojaveazure/seurat-disk\")\n",
    "devtools::install_github(\"vitessce/vitessceR\")\n",
    "```\n",
    "\n",
    "Note: the file paths in `read.csv` below will need to be updated based on the location of the raw data files.\n",
    "```R\n",
    "library(Seurat)\n",
    "\n",
    "# Load in the RNA UMI matrix\n",
    "\n",
    "# Note that this dataset also contains ~5% of mouse cells, which we can use as negative\n",
    "# controls for the protein measurements. For this reason, the gene expression matrix has\n",
    "# HUMAN_ or MOUSE_ appended to the beginning of each gene.\n",
    "cbmc.rna <- as.sparse(read.csv(file = \"/Users/mkeller/Downloads/GSE100866_CBMC_8K_13AB_10X-RNA_umi.csv.gz\", sep = \",\",\n",
    "                               header = TRUE, row.names = 1))\n",
    "\n",
    "# To make life a bit easier going forward, we're going to discard all but the top 100 most\n",
    "# highly expressed mouse genes, and remove the 'HUMAN_' from the CITE-seq prefix\n",
    "cbmc.rna <- CollapseSpeciesExpressionMatrix(cbmc.rna)\n",
    "\n",
    "# Load in the ADT UMI matrix\n",
    "cbmc.adt <- as.sparse(read.csv(file = \"/Users/mkeller/Downloads/GSE100866_CBMC_8K_13AB_10X-ADT_umi.csv.gz\", sep = \",\",\n",
    "                               header = TRUE, row.names = 1))\n",
    "\n",
    "# Note that all operations below are performed on the RNA assay Set and verify that the\n",
    "# default assay is RNA\n",
    "DefaultAssay(cbmc) <- \"RNA\"\n",
    "DefaultAssay\n",
    "\n",
    "# perform visualization and clustering steps\n",
    "cbmc <- NormalizeData(cbmc)\n",
    "cbmc <- FindVariableFeatures(cbmc)\n",
    "cbmc <- ScaleData(cbmc)\n",
    "cbmc <- RunPCA(cbmc, verbose = FALSE)\n",
    "cbmc <- FindNeighbors(cbmc, dims = 1:30)\n",
    "cbmc <- FindClusters(cbmc, resolution = 0.8, verbose = FALSE)\n",
    "cbmc <- RunUMAP(cbmc, dims = 1:30)\n",
    "DimPlot(cbmc, label = TRUE)\n",
    "\n",
    "# Normalize ADT data,\n",
    "DefaultAssay(cbmc) <- \"ADT\"\n",
    "cbmc <- NormalizeData(cbmc, normalization.method = \"CLR\", margin = 2)\n",
    "DefaultAssay(cbmc) <- \"RNA\"\n",
    "\n",
    "# Note that the following command is an alternative but returns the same result\n",
    "cbmc <- NormalizeData(cbmc, normalization.method = \"CLR\", margin = 2, assay = \"ADT\")\n",
    "\n",
    "\n",
    "vitessceR::seurat_to_anndata_zarr(cbmc, file.path(\"data\", \"multimodal_vignette.rna.h5ad.zarr\"), assay = \"RNA\")\n",
    "vitessceR::seurat_to_anndata_zarr(cbmc, file.path(\"data\", \"multimodal_vignette.adt.h5ad.zarr\"), assay = \"ADT\")\n",
    "```"
   ]
  },
  {
   "cell_type": "markdown",
   "id": "d18475f4-a7aa-4c67-ab4c-19488bb0854d",
   "metadata": {},
   "source": [
    "## 1.2. Check the converted data objects (optional)"
   ]
  },
  {
   "cell_type": "code",
   "execution_count": 2,
   "id": "1840389b-2118-486f-ba25-73a51a3865f0",
   "metadata": {},
   "outputs": [],
   "source": [
    "from anndata import read_zarr\n",
    "from os.path import join"
   ]
  },
  {
   "cell_type": "markdown",
   "id": "4e8ddb89-e317-4030-9e60-b168f5542e58",
   "metadata": {},
   "source": [
    "We can open the converted AnnData objects in Python and check their contents to ensure the conversion was successful."
   ]
  },
  {
   "cell_type": "code",
   "execution_count": 5,
   "id": "66a416ee-e4cf-43b8-8c3a-a90460ab247f",
   "metadata": {},
   "outputs": [],
   "source": [
    "rna_zarr = join(\"data\", \"multimodal_vignette.rna.h5ad.zarr\")\n",
    "adt_zarr = join(\"data\", \"multimodal_vignette.adt.h5ad.zarr\")"
   ]
  },
  {
   "cell_type": "code",
   "execution_count": 6,
   "id": "8600bad7-0331-4fbd-86cc-85994e91e9f5",
   "metadata": {},
   "outputs": [
    {
     "data": {
      "text/plain": [
       "AnnData object with n_obs × n_vars = 8617 × 2000\n",
       "    obs: 'orig.ident', 'nCount_RNA', 'nFeature_RNA', 'nCount_ADT', 'nFeature_ADT', 'RNA_snn_res.0.8', 'seurat_clusters'\n",
       "    var: 'vst.mean', 'vst.variance', 'vst.variance.expected', 'vst.variance.standardized', 'vst.variable'\n",
       "    obsm: 'X_pca', 'X_umap'\n",
       "    varm: 'PCs'"
      ]
     },
     "execution_count": 6,
     "metadata": {},
     "output_type": "execute_result"
    }
   ],
   "source": [
    "rna_adata = read_zarr(rna_zarr)\n",
    "rna_adata"
   ]
  },
  {
   "cell_type": "code",
   "execution_count": 7,
   "id": "907fec36-ecc1-4992-809f-f390ff02b38d",
   "metadata": {},
   "outputs": [
    {
     "data": {
      "text/plain": [
       "AnnData object with n_obs × n_vars = 8617 × 13\n",
       "    obs: 'orig.ident', 'nCount_RNA', 'nFeature_RNA', 'nCount_ADT', 'nFeature_ADT', 'RNA_snn_res.0.8', 'seurat_clusters'\n",
       "    var: 'features'\n",
       "    obsm: 'X_umap'"
      ]
     },
     "execution_count": 7,
     "metadata": {},
     "output_type": "execute_result"
    }
   ],
   "source": [
    "adt_adata = read_zarr(adt_zarr)\n",
    "adt_adata"
   ]
  },
  {
   "cell_type": "markdown",
   "id": "3944849a-f8d1-4897-8ee9-c5923ba663a4",
   "metadata": {},
   "source": [
    "## 2. Configure visualization"
   ]
  },
  {
   "cell_type": "markdown",
   "id": "34f346de-ed90-45c8-b4e1-0092d453982c",
   "metadata": {},
   "source": [
    "Next, we configure the visualization using the `vitessce` python package."
   ]
  },
  {
   "cell_type": "code",
   "execution_count": 30,
   "id": "797322b2-f669-456d-8f23-c9ccbb8a5414",
   "metadata": {},
   "outputs": [],
   "source": [
    "from vitessce import (\n",
    "    VitessceConfig,\n",
    "    ViewType as vt,\n",
    "    CoordinationType as ct,\n",
    "    FileType as ft,\n",
    "    AnnDataWrapper,\n",
    "    OmeTiffWrapper,\n",
    ")"
   ]
  },
  {
   "cell_type": "markdown",
   "id": "3e67695c-8fa3-4755-b170-0d40952df93c",
   "metadata": {},
   "source": [
    "### Instantiate a `VitessceConfig` object\n",
    "\n",
    "We begin the configuration process by creating an object using the `VitessceConfig` constructor. This takes three parameters:\n",
    "- `schema_version`: the schema version that the configuration should conform to. Valid values can be found at http://vitessce.io/docs/view-config-json/#version. The current most recent version `1.0.15` (as of 1/16/2023) is used in this tutorial.\n",
    "- `name`: a name for the configuration.\n",
    "- `description` (optional): a brief description of the configuration.\n"
   ]
  },
  {
   "cell_type": "code",
   "execution_count": 23,
   "id": "a74759d4-4b10-4178-9ca3-8b7dd366e3cd",
   "metadata": {},
   "outputs": [],
   "source": [
    "vc = VitessceConfig(schema_version=\"1.0.15\", name='Multimodal seurat object', description='RNA+ADT')"
   ]
  },
  {
   "cell_type": "markdown",
   "id": "8dad552a-ec08-4cd5-8786-86f0515661f0",
   "metadata": {},
   "source": [
    "### Add data\n",
    "\n",
    "To add data to the configuration, we first run [add_dataset](https://vitessce.github.io/vitessce-python/api_config.html#vitessce.config.VitessceConfig.add_dataset) which takes the dataset `name` as a parameter.\n",
    "\n",
    "This returns a new `VitessceConfigDataset` instance. We can add objects which represent local data such as AnnData stores by running [add_object](https://vitessce.github.io/vitessce-python/api_config.html#vitessce.config.VitessceConfigDataset.add_object) on the dataset instance. To enable multiple `add_object` calls to be chained together, the `add_object` function also returns the `VitessceConfigDataset` instance.\n",
    "\n",
    "We will store the `VitessceConfigDataset` instance in a variable (`dataset`) to use later when configuring views.\n",
    "\n",
    "__Note__: the functions used in the following cells `.add_dataset`, `.add_object`, and `.add_view` have side effects (i.e., they modify the `vc` object). Running these cells more than once on the same `vc` instance may result in an unexpected configuration, so be sure to run the cells in order starting from the initial `vc = VitessceConfig(...)` cell."
   ]
  },
  {
   "cell_type": "code",
   "execution_count": 24,
   "id": "c07cb582-6c3d-45d7-937b-e54bd8fc93d8",
   "metadata": {},
   "outputs": [],
   "source": [
    "dataset = vc.add_dataset(name='RNA+ADT').add_object(AnnDataWrapper(\n",
    "    # We run add_object with adata_path=rna_zarr first to add the cell-by-gene matrix and associated metadata.\n",
    "    adata_path=rna_zarr,\n",
    "    obs_embedding_paths=[\"obsm/X_umap\", \"obsm/X_pca\"],\n",
    "    obs_embedding_names=[\"UMAP\", \"PCA\"],\n",
    "    obs_set_paths=[\"obs/seurat_clusters\"],\n",
    "    obs_set_names=[\"Seurat Clusters\"],\n",
    "    obs_feature_matrix_path=\"X\",\n",
    "    # To be explicit that the features represent genes and gene expression, we specify that here.\n",
    "    coordination_values={\n",
    "        \"featureType\": \"gene\",\n",
    "        \"featureValueType\": \"expression\"\n",
    "    }\n",
    ")).add_object(AnnDataWrapper(\n",
    "    # We next run add_object with adata_path=adt_zarr to add the cell-by-ADT matrix and associated metadata.\n",
    "    adata_path=adt_zarr,\n",
    "    obs_embedding_paths=[\"obsm/X_umap\"],\n",
    "    obs_embedding_names=[\"UMAP\"],\n",
    "    obs_set_paths=[\"obs/seurat_clusters\"],\n",
    "    obs_set_names=[\"Seurat Clusters\"],\n",
    "    obs_feature_matrix_path=\"X\",\n",
    "    # If the features do not represent genes and gene expression, we specify alternate values here.\n",
    "    coordination_values={\n",
    "        \"featureType\": \"tag\",\n",
    "        \"featureValueType\": \"count\"\n",
    "    }\n",
    "))"
   ]
  },
  {
   "cell_type": "markdown",
   "id": "159ff833-db30-45c1-9856-10108f178a7b",
   "metadata": {},
   "source": [
    "### Add views\n",
    "\n",
    "Next, we configure the visualization and controller views of interest. Based on the data available in the dataset, we might want to add the following view types:\n",
    "- two UMAP `SCATTERPLOT` views (one for genes and one for ADTs)\n",
    "- two lists for selecting features (one for genes and one for ADTs), using the `FEATURE_LIST` view type\n",
    "- two `HEATMAP` views, to visualize the two cell-by-feature matrices"
   ]
  },
  {
   "cell_type": "code",
   "execution_count": 25,
   "id": "0b62f4fe-ad8b-458b-9cfe-a54a647138a1",
   "metadata": {},
   "outputs": [],
   "source": [
    "umap_scatterplot_by_rna = vc.add_view(vt.SCATTERPLOT, dataset=dataset, mapping=\"UMAP\")\n",
    "umap_scatterplot_by_adt = vc.add_view(vt.SCATTERPLOT, dataset=dataset, mapping=\"UMAP\")\n",
    "\n",
    "gene_list = vc.add_view(vt.FEATURE_LIST, dataset=dataset)\n",
    "protein_list = vc.add_view(vt.FEATURE_LIST, dataset=dataset)\n",
    "\n",
    "rna_heatmap = vc.add_view(vt.HEATMAP, dataset=dataset).set_props(transpose=True)\n",
    "adt_heatmap = vc.add_view(vt.HEATMAP, dataset=dataset).set_props(transpose=True)"
   ]
  },
  {
   "cell_type": "markdown",
   "id": "9f4b388b-50ce-42b8-8252-c626af2effbe",
   "metadata": {},
   "source": [
    "### Coordinate views\n",
    "\n",
    "Views can be linked on different properties by using the [link_views](https://vitessce.github.io/vitessce-python/api_config.html#vitessce.config.VitessceConfig.link_views) function."
   ]
  },
  {
   "cell_type": "code",
   "execution_count": 26,
   "id": "f544df2d-ea33-4b03-805a-c5e708379fb2",
   "metadata": {},
   "outputs": [
    {
     "data": {
      "text/plain": [
       "<vitessce.config.VitessceConfig at 0x7fcae239be50>"
      ]
     },
     "execution_count": 26,
     "metadata": {},
     "output_type": "execute_result"
    }
   ],
   "source": [
    "# We need to specify which of the two features (i.e., genes or tags) the different plots correspond to.\n",
    "# We also need to make sure the selection of genes and tags are scoped to only the corresponding plots,\n",
    "# and we want to make sure the color mappings are independent for each modality.\n",
    "coordination_types = [ct.FEATURE_TYPE, ct.FEATURE_VALUE_TYPE, ct.FEATURE_SELECTION, ct.OBS_COLOR_ENCODING, ct.FEATURE_VALUE_COLORMAP_RANGE]\n",
    "vc.link_views([umap_scatterplot_by_rna, gene_list, rna_heatmap], coordination_types, [\"gene\", \"expression\", None, 'cellSetSelection', [0.0, 0.3]])\n",
    "vc.link_views([umap_scatterplot_by_adt, protein_list, adt_heatmap], coordination_types, [\"tag\", \"count\", None, 'cellSetSelection', [0.0, 1.0]])\n",
    "\n",
    "# We can link the two scatterplots on their zoom level and (X,Y) center point so that zooming/panning is coordinated.\n",
    "vc.link_views([umap_scatterplot_by_rna, umap_scatterplot_by_adt], [ct.EMBEDDING_ZOOM, ct.EMBEDDING_TARGET_X, ct.EMBEDDING_TARGET_Y], [3, 0, 0])"
   ]
  },
  {
   "cell_type": "code",
   "execution_count": 29,
   "id": "d88f759e-bce2-4998-abac-095415dab507",
   "metadata": {},
   "outputs": [],
   "source": [
    "# We define a layout for the plots using two rows.\n",
    "# In the first row, we add the three gene-related visualizations,\n",
    "# and in the second row, we add the three ADT-related visualizations.\n",
    "vc.layout(\n",
    "    (rna_heatmap | (umap_scatterplot_by_rna | gene_list))\n",
    "    / (adt_heatmap | (umap_scatterplot_by_adt | protein_list))\n",
    ");"
   ]
  },
  {
   "cell_type": "markdown",
   "id": "40da2f67-25d4-43bb-80c9-c18b04503b45",
   "metadata": {
    "tags": []
   },
   "source": [
    "### Render the widget into the notebook\n",
    "\n",
    "To render the interactive visualization into the notebook, we run the [widget](https://vitessce.github.io/vitessce-python/api_config.html#vitessce.config.VitessceConfig.widget) function. "
   ]
  },
  {
   "cell_type": "code",
   "execution_count": 28,
   "id": "ddf9f819-45b8-4818-9738-92c971455614",
   "metadata": {},
   "outputs": [
    {
     "data": {
      "application/vnd.jupyter.widget-view+json": {
       "model_id": "2d4ca2aa2d80467a8d77d8b9b67c83af",
       "version_major": 2,
       "version_minor": 0
      },
      "text/plain": [
       "VitessceWidget(config={'version': '1.0.15', 'name': 'Multimodal seurat object', 'description': 'RNA+ADT', 'dat…"
      ]
     },
     "execution_count": 28,
     "metadata": {},
     "output_type": "execute_result"
    }
   ],
   "source": [
    "vw = vc.widget()\n",
    "vw"
   ]
  },
  {
   "cell_type": "code",
   "execution_count": null,
   "id": "d0c64f3a-befd-4232-9b29-69476254b1a1",
   "metadata": {},
   "outputs": [],
   "source": []
  }
 ],
 "metadata": {
  "kernelspec": {
   "display_name": "Python 3 (ipykernel)",
   "language": "python",
   "name": "python3"
  },
  "language_info": {
   "codemirror_mode": {
    "name": "ipython",
    "version": 3
   },
   "file_extension": ".py",
   "mimetype": "text/x-python",
   "name": "python",
   "nbconvert_exporter": "python",
   "pygments_lexer": "ipython3",
   "version": "3.8.0"
  }
 },
 "nbformat": 4,
 "nbformat_minor": 5
}
