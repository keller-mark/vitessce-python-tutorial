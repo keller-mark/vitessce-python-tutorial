{
 "cells": [
  {
   "cell_type": "markdown",
   "id": "8954a8f7-6de7-4fd1-847c-d476992bedd1",
   "metadata": {},
   "source": [
    "Data from https://www.10xgenomics.com/resources/datasets/frozen-human-healthy-brain-tissue-3-k-1-standard-2-0-0"
   ]
  },
  {
   "cell_type": "markdown",
   "id": "4b39bd85-692c-476b-98a4-4435c287be26",
   "metadata": {},
   "source": [
    "Using the following outputs from Cell Ranger ARC:\n",
    "- [Filtered feature barcode matrix MEX (DIR)](https://support.10xgenomics.com/single-cell-multiome-atac-gex/software/pipelines/latest/output/matrices): `data/human_brain_3k_filtered_feature_bc_matrix.tar.gz`\n",
    "- [ATAC smoothed transposition site track (BIGWIG)](https://support.10xgenomics.com/single-cell-multiome-atac-gex/software/pipelines/latest/output/bigwig): `data/human_brain_3k_atac_cut_sites.bigwig`\n",
    "- [Secondary analysis outputs (DIR)](https://support.10xgenomics.com/single-cell-multiome-atac-gex/software/pipelines/latest/output/analysis): `data/human_brain_3k_analysis.tar.gz`"
   ]
  },
  {
   "cell_type": "code",
   "execution_count": null,
   "id": "5523d667-6656-4a5f-9931-52ab19c6d735",
   "metadata": {},
   "outputs": [],
   "source": [
    "!tar -xvzf data/human_brain_3k_filtered_feature_bc_matrix.tar.gz -C data"
   ]
  },
  {
   "cell_type": "code",
   "execution_count": null,
   "id": "d9affe17-040a-4a5a-9e64-aba1110a2194",
   "metadata": {},
   "outputs": [],
   "source": [
    "!tar -xvzf data/human_brain_3k_analysis.tar.gz -C data"
   ]
  },
  {
   "cell_type": "code",
   "execution_count": 14,
   "id": "747c57e5-012d-4c0b-bf09-74b7d8158ffc",
   "metadata": {},
   "outputs": [],
   "source": [
    "import scipy.io\n",
    "import pandas as pd\n",
    "import numpy as np\n",
    "from anndata import AnnData\n",
    "from mudata import MuData\n",
    "import scanpy as sc\n",
    "import muon as mu\n",
    "from os.path import join\n",
    "from vitessce.data_utils import VAR_CHUNK_SIZE"
   ]
  },
  {
   "cell_type": "code",
   "execution_count": 3,
   "id": "694bdcff-c2f6-44db-8dca-179a1d551869",
   "metadata": {},
   "outputs": [],
   "source": [
    "matrix_dir = \"./data/filtered_feature_bc_matrix\"\n",
    "features_path = join(matrix_dir, \"features.tsv.gz\")\n",
    "barcodes_path = join(matrix_dir, \"barcodes.tsv.gz\")"
   ]
  },
  {
   "cell_type": "code",
   "execution_count": 4,
   "id": "01596d0a-95fd-4f13-a0ba-a0573570b253",
   "metadata": {},
   "outputs": [],
   "source": [
    "mat = scipy.io.mmread(join(matrix_dir, \"matrix.mtx.gz\"))\n",
    "\n",
    "#feature_ids = [row[0] for row in csv.reader(gzip.open(features_path), delimiter=\"\\t\")]\n",
    "#gene_names = [row[1] for row in csv.reader(gzip.open(features_path), delimiter=\"\\t\")]\n",
    "#feature_types = [row[2] for row in csv.reader(gzip.open(features_path), delimiter=\"\\t\")]\n",
    "#barcodes = [row[0] for row in csv.reader(gzip.open(barcodes_path), delimiter=\"\\t\")]"
   ]
  },
  {
   "cell_type": "code",
   "execution_count": 5,
   "id": "e7627d50-8a62-4959-bd52-7449723ca0be",
   "metadata": {},
   "outputs": [],
   "source": [
    "mat_dense = mat.todense().T"
   ]
  },
  {
   "cell_type": "code",
   "execution_count": 6,
   "id": "61bd9bc1-ee50-4ce2-8843-1f53eccc68b2",
   "metadata": {},
   "outputs": [],
   "source": [
    "feature_ids = pd.read_csv(features_path, delimiter=\"\\t\", header=None)\n",
    "feature_ids = feature_ids.rename(columns={0: \"feature_id\", 1: \"gene_name\", 2: \"feature_type\", 3: \"chr\", 4: \"chr_start\", 5: \"chr_end\"})"
   ]
  },
  {
   "cell_type": "code",
   "execution_count": 7,
   "id": "8e62d8e2-bbe0-425c-b70d-ffe87936049c",
   "metadata": {},
   "outputs": [
    {
     "data": {
      "text/html": [
       "<div>\n",
       "<style scoped>\n",
       "    .dataframe tbody tr th:only-of-type {\n",
       "        vertical-align: middle;\n",
       "    }\n",
       "\n",
       "    .dataframe tbody tr th {\n",
       "        vertical-align: top;\n",
       "    }\n",
       "\n",
       "    .dataframe thead th {\n",
       "        text-align: right;\n",
       "    }\n",
       "</style>\n",
       "<table border=\"1\" class=\"dataframe\">\n",
       "  <thead>\n",
       "    <tr style=\"text-align: right;\">\n",
       "      <th></th>\n",
       "      <th>feature_id</th>\n",
       "      <th>gene_name</th>\n",
       "      <th>feature_type</th>\n",
       "      <th>chr</th>\n",
       "      <th>chr_start</th>\n",
       "      <th>chr_end</th>\n",
       "    </tr>\n",
       "  </thead>\n",
       "  <tbody>\n",
       "    <tr>\n",
       "      <th>0</th>\n",
       "      <td>ENSG00000243485</td>\n",
       "      <td>MIR1302-2HG</td>\n",
       "      <td>Gene Expression</td>\n",
       "      <td>chr1</td>\n",
       "      <td>29553</td>\n",
       "      <td>30267</td>\n",
       "    </tr>\n",
       "    <tr>\n",
       "      <th>1</th>\n",
       "      <td>ENSG00000237613</td>\n",
       "      <td>FAM138A</td>\n",
       "      <td>Gene Expression</td>\n",
       "      <td>chr1</td>\n",
       "      <td>36080</td>\n",
       "      <td>36081</td>\n",
       "    </tr>\n",
       "    <tr>\n",
       "      <th>2</th>\n",
       "      <td>ENSG00000186092</td>\n",
       "      <td>OR4F5</td>\n",
       "      <td>Gene Expression</td>\n",
       "      <td>chr1</td>\n",
       "      <td>65418</td>\n",
       "      <td>69055</td>\n",
       "    </tr>\n",
       "    <tr>\n",
       "      <th>3</th>\n",
       "      <td>ENSG00000238009</td>\n",
       "      <td>AL627309.1</td>\n",
       "      <td>Gene Expression</td>\n",
       "      <td>chr1</td>\n",
       "      <td>120931</td>\n",
       "      <td>133723</td>\n",
       "    </tr>\n",
       "    <tr>\n",
       "      <th>4</th>\n",
       "      <td>ENSG00000239945</td>\n",
       "      <td>AL627309.3</td>\n",
       "      <td>Gene Expression</td>\n",
       "      <td>chr1</td>\n",
       "      <td>91104</td>\n",
       "      <td>91105</td>\n",
       "    </tr>\n",
       "    <tr>\n",
       "      <th>...</th>\n",
       "      <td>...</td>\n",
       "      <td>...</td>\n",
       "      <td>...</td>\n",
       "      <td>...</td>\n",
       "      <td>...</td>\n",
       "      <td>...</td>\n",
       "    </tr>\n",
       "    <tr>\n",
       "      <th>170626</th>\n",
       "      <td>KI270713.1:21467-22401</td>\n",
       "      <td>KI270713.1:21467-22401</td>\n",
       "      <td>Peaks</td>\n",
       "      <td>KI270713.1</td>\n",
       "      <td>21467</td>\n",
       "      <td>22401</td>\n",
       "    </tr>\n",
       "    <tr>\n",
       "      <th>170627</th>\n",
       "      <td>KI270713.1:25956-26766</td>\n",
       "      <td>KI270713.1:25956-26766</td>\n",
       "      <td>Peaks</td>\n",
       "      <td>KI270713.1</td>\n",
       "      <td>25956</td>\n",
       "      <td>26766</td>\n",
       "    </tr>\n",
       "    <tr>\n",
       "      <th>170628</th>\n",
       "      <td>KI270713.1:29714-30467</td>\n",
       "      <td>KI270713.1:29714-30467</td>\n",
       "      <td>Peaks</td>\n",
       "      <td>KI270713.1</td>\n",
       "      <td>29714</td>\n",
       "      <td>30467</td>\n",
       "    </tr>\n",
       "    <tr>\n",
       "      <th>170629</th>\n",
       "      <td>KI270713.1:31270-32183</td>\n",
       "      <td>KI270713.1:31270-32183</td>\n",
       "      <td>Peaks</td>\n",
       "      <td>KI270713.1</td>\n",
       "      <td>31270</td>\n",
       "      <td>32183</td>\n",
       "    </tr>\n",
       "    <tr>\n",
       "      <th>170630</th>\n",
       "      <td>KI270713.1:33235-33800</td>\n",
       "      <td>KI270713.1:33235-33800</td>\n",
       "      <td>Peaks</td>\n",
       "      <td>KI270713.1</td>\n",
       "      <td>33235</td>\n",
       "      <td>33800</td>\n",
       "    </tr>\n",
       "  </tbody>\n",
       "</table>\n",
       "<p>170631 rows × 6 columns</p>\n",
       "</div>"
      ],
      "text/plain": [
       "                    feature_id               gene_name     feature_type  \\\n",
       "0              ENSG00000243485             MIR1302-2HG  Gene Expression   \n",
       "1              ENSG00000237613                 FAM138A  Gene Expression   \n",
       "2              ENSG00000186092                   OR4F5  Gene Expression   \n",
       "3              ENSG00000238009              AL627309.1  Gene Expression   \n",
       "4              ENSG00000239945              AL627309.3  Gene Expression   \n",
       "...                        ...                     ...              ...   \n",
       "170626  KI270713.1:21467-22401  KI270713.1:21467-22401            Peaks   \n",
       "170627  KI270713.1:25956-26766  KI270713.1:25956-26766            Peaks   \n",
       "170628  KI270713.1:29714-30467  KI270713.1:29714-30467            Peaks   \n",
       "170629  KI270713.1:31270-32183  KI270713.1:31270-32183            Peaks   \n",
       "170630  KI270713.1:33235-33800  KI270713.1:33235-33800            Peaks   \n",
       "\n",
       "               chr  chr_start  chr_end  \n",
       "0             chr1      29553    30267  \n",
       "1             chr1      36080    36081  \n",
       "2             chr1      65418    69055  \n",
       "3             chr1     120931   133723  \n",
       "4             chr1      91104    91105  \n",
       "...            ...        ...      ...  \n",
       "170626  KI270713.1      21467    22401  \n",
       "170627  KI270713.1      25956    26766  \n",
       "170628  KI270713.1      29714    30467  \n",
       "170629  KI270713.1      31270    32183  \n",
       "170630  KI270713.1      33235    33800  \n",
       "\n",
       "[170631 rows x 6 columns]"
      ]
     },
     "execution_count": 7,
     "metadata": {},
     "output_type": "execute_result"
    }
   ],
   "source": [
    "feature_ids"
   ]
  },
  {
   "cell_type": "code",
   "execution_count": 8,
   "id": "2bdb4512-9c14-4b50-9f3f-56853f8c1962",
   "metadata": {},
   "outputs": [
    {
     "data": {
      "text/html": [
       "<div>\n",
       "<style scoped>\n",
       "    .dataframe tbody tr th:only-of-type {\n",
       "        vertical-align: middle;\n",
       "    }\n",
       "\n",
       "    .dataframe tbody tr th {\n",
       "        vertical-align: top;\n",
       "    }\n",
       "\n",
       "    .dataframe thead th {\n",
       "        text-align: right;\n",
       "    }\n",
       "</style>\n",
       "<table border=\"1\" class=\"dataframe\">\n",
       "  <thead>\n",
       "    <tr style=\"text-align: right;\">\n",
       "      <th></th>\n",
       "    </tr>\n",
       "    <tr>\n",
       "      <th>barcode_id</th>\n",
       "    </tr>\n",
       "  </thead>\n",
       "  <tbody>\n",
       "    <tr>\n",
       "      <th>AAACAGCCATAGACTT-1</th>\n",
       "    </tr>\n",
       "    <tr>\n",
       "      <th>AAACAGCCATTATGCG-1</th>\n",
       "    </tr>\n",
       "    <tr>\n",
       "      <th>AAACCAACATAGACCC-1</th>\n",
       "    </tr>\n",
       "    <tr>\n",
       "      <th>AAACCGAAGATGCCTG-1</th>\n",
       "    </tr>\n",
       "    <tr>\n",
       "      <th>AAACCGAAGTTAGCTA-1</th>\n",
       "    </tr>\n",
       "    <tr>\n",
       "      <th>...</th>\n",
       "    </tr>\n",
       "    <tr>\n",
       "      <th>TTTGTGGCAAGGAATC-1</th>\n",
       "    </tr>\n",
       "    <tr>\n",
       "      <th>TTTGTGGCATGCTTAG-1</th>\n",
       "    </tr>\n",
       "    <tr>\n",
       "      <th>TTTGTGTTCGTTACAA-1</th>\n",
       "    </tr>\n",
       "    <tr>\n",
       "      <th>TTTGTTGGTGATCAGC-1</th>\n",
       "    </tr>\n",
       "    <tr>\n",
       "      <th>TTTGTTGGTGATTTGG-1</th>\n",
       "    </tr>\n",
       "  </tbody>\n",
       "</table>\n",
       "<p>3233 rows × 0 columns</p>\n",
       "</div>"
      ],
      "text/plain": [
       "Empty DataFrame\n",
       "Columns: []\n",
       "Index: [AAACAGCCATAGACTT-1, AAACAGCCATTATGCG-1, AAACCAACATAGACCC-1, AAACCGAAGATGCCTG-1, AAACCGAAGTTAGCTA-1, AAACCGCGTCTTACTA-1, AAACCGCGTTAGCCAA-1, AAACCGGCAATCCCTT-1, AAACCGGCAGCAACAG-1, AAACCGGCAGCTTAAT-1, AAACGCGCATGTCGCG-1, AAACGCGCATTGGGAG-1, AAACGGATCATGAAGG-1, AAACGGATCCCGCCTA-1, AAAGCAAGTCGTAATG-1, AAAGCACCAAGTAAGC-1, AAAGCGGGTGAGCAAG-1, AAAGCGGGTGGAAACG-1, AAAGCTTGTCATTGTC-1, AAAGCTTGTCGCGCAA-1, AAAGGACGTTCCGGGA-1, AAAGGAGCAACTGGGA-1, AAAGGAGCACAAAGGT-1, AAAGGAGCACAGCCAT-1, AAAGGAGCACGAATTT-1, AAAGGAGCAGTTTCTC-1, AAAGGAGCATCAATCG-1, AAAGGAGCATCGCTCC-1, AAAGGCTCACTTGTTC-1, AAAGGCTCAGTTTCTC-1, AAAGGTTAGGAACGCG-1, AAAGGTTAGGTCCACA-1, AAAGGTTAGTGAGGGT-1, AAATCCGGTAGGTGTC-1, AAATGCCTCCAGGGAG-1, AAATGCCTCTACCTAT-1, AAATGGCCACCAAAGG-1, AAATGGCCAGAAATTG-1, AACAAAGGTCACGAAC-1, AACAAAGGTCCGTGAG-1, AACAAGCCAAGTTATC-1, AACAAGCCATAACGGG-1, AACAAGCCATTAGCGC-1, AACAGATAGGCTAAGA-1, AACAGCAAGACTTATG-1, AACAGCAAGCTGTACG-1, AACAGCAAGGCAAGTA-1, AACAGCAAGGTGCTGC-1, AACAGGATCTAAATCG-1, AACAGGATCTAACTGA-1, AACATAGCACTAGGTC-1, AACATCATCTATGACA-1, AACCCGCAGATGGACA-1, AACCCGCAGCTATTAG-1, AACCGCTCAGGCGAGT-1, AACCGCTCATTATGGT-1, AACCGGCTCATTTGTC-1, AACCGGCTCTTAGGAC-1, AACCTAATCAATGTGC-1, AACCTCCTCGAAGCGG-1, AACCTTAAGAAAGCAT-1, AACCTTAAGTTACTTC-1, AACGACAAGGCGCTAC-1, AACGCTAGTAAGGTCC-1, AACGGTAAGACTCGCA-1, AACGGTAAGGCCTGGT-1, AACGGTAAGGCCTTAG-1, AACTACTCAATCCTGA-1, AACTACTCATGTTGGC-1, AACTAGCTCAGGCTAT-1, AACTAGCTCATGTCAA-1, AACTAGCTCCGTTATT-1, AACTCACAGCCACAAT-1, AACTCACAGCGTGCAC-1, AACTCACAGTTTAACG-1, AACTGTTCAGAACCGA-1, AACTGTTCATGCTTAG-1, AACTTAGTCAGTGAAG-1, AAGAATCAGGAACCGG-1, AAGACAAGTTGGTTCT-1, AAGACATAGTAACGAG-1, AAGACCAAGGGTCCAC-1, AAGCAAGTCACAGCGC-1, AAGCAAGTCAGCTAAC-1, AAGCAAGTCGCACAAT-1, AAGCAAGTCTAAGTCA-1, AAGCATGAGTCTATGA-1, AAGCCACGTCATCCTG-1, AAGCCACGTGATTTGG-1, AAGCCACGTTACATCC-1, AAGCCACGTTGAGGTC-1, AAGCCTCCATGTTGGC-1, AAGCCTTAGGGTGAGT-1, AAGCCTTAGTGCACGC-1, AAGCGAGGTACAATGT-1, AAGCGAGGTGATTTGG-1, AAGCGCTGTCAAACTG-1, AAGCGCTGTTTATGGG-1, AAGCGGGTCGCTCCAT-1, AAGCGGGTCTAATCCT-1, ...]\n",
       "\n",
       "[3233 rows x 0 columns]"
      ]
     },
     "execution_count": 8,
     "metadata": {},
     "output_type": "execute_result"
    }
   ],
   "source": [
    "barcodes = pd.read_csv(barcodes_path, delimiter=\"\\t\", header=None)\n",
    "barcodes = barcodes.rename(columns={0: \"barcode_id\"})\n",
    "barcodes = barcodes.set_index(\"barcode_id\")\n",
    "barcodes"
   ]
  },
  {
   "cell_type": "code",
   "execution_count": 9,
   "id": "65b59f22-b546-4be4-b9b6-7f669fb76774",
   "metadata": {},
   "outputs": [
    {
     "data": {
      "text/plain": [
       "(170631, 6)"
      ]
     },
     "execution_count": 9,
     "metadata": {},
     "output_type": "execute_result"
    }
   ],
   "source": [
    "feature_ids.shape"
   ]
  },
  {
   "cell_type": "code",
   "execution_count": 10,
   "id": "d85a509b-bc0c-4b3d-bd81-5f55cfc4b18f",
   "metadata": {},
   "outputs": [
    {
     "data": {
      "text/plain": [
       "(3233, 0)"
      ]
     },
     "execution_count": 10,
     "metadata": {},
     "output_type": "execute_result"
    }
   ],
   "source": [
    "barcodes.shape"
   ]
  },
  {
   "cell_type": "code",
   "execution_count": 11,
   "id": "6894e607-d7dc-4df8-8b8e-5ba032b64e11",
   "metadata": {},
   "outputs": [
    {
     "data": {
      "text/plain": [
       "(3233, 170631)"
      ]
     },
     "execution_count": 11,
     "metadata": {},
     "output_type": "execute_result"
    }
   ],
   "source": [
    "mat_dense.shape"
   ]
  },
  {
   "cell_type": "code",
   "execution_count": 12,
   "id": "52ea05ae-eeeb-435c-bc7b-b87cba6d1665",
   "metadata": {},
   "outputs": [],
   "source": [
    "analysis_dir = \"./data/analysis\""
   ]
  },
  {
   "cell_type": "code",
   "execution_count": 13,
   "id": "84c1d4a7-3ac2-49a0-a7ca-1955f75d3665",
   "metadata": {},
   "outputs": [
    {
     "data": {
      "text/html": [
       "<div>\n",
       "<style scoped>\n",
       "    .dataframe tbody tr th:only-of-type {\n",
       "        vertical-align: middle;\n",
       "    }\n",
       "\n",
       "    .dataframe tbody tr th {\n",
       "        vertical-align: top;\n",
       "    }\n",
       "\n",
       "    .dataframe thead th {\n",
       "        text-align: right;\n",
       "    }\n",
       "</style>\n",
       "<table border=\"1\" class=\"dataframe\">\n",
       "  <thead>\n",
       "    <tr style=\"text-align: right;\">\n",
       "      <th></th>\n",
       "      <th>UMAP-1</th>\n",
       "      <th>UMAP-2</th>\n",
       "    </tr>\n",
       "    <tr>\n",
       "      <th>Barcode</th>\n",
       "      <th></th>\n",
       "      <th></th>\n",
       "    </tr>\n",
       "  </thead>\n",
       "  <tbody>\n",
       "    <tr>\n",
       "      <th>AAACAGCCATAGACTT-1</th>\n",
       "      <td>-0.273889</td>\n",
       "      <td>9.657905</td>\n",
       "    </tr>\n",
       "    <tr>\n",
       "      <th>AAACAGCCATTATGCG-1</th>\n",
       "      <td>3.748773</td>\n",
       "      <td>0.629261</td>\n",
       "    </tr>\n",
       "    <tr>\n",
       "      <th>AAACCAACATAGACCC-1</th>\n",
       "      <td>4.531679</td>\n",
       "      <td>1.283160</td>\n",
       "    </tr>\n",
       "    <tr>\n",
       "      <th>AAACCGAAGATGCCTG-1</th>\n",
       "      <td>-4.961755</td>\n",
       "      <td>-6.963626</td>\n",
       "    </tr>\n",
       "    <tr>\n",
       "      <th>AAACCGAAGTTAGCTA-1</th>\n",
       "      <td>8.089037</td>\n",
       "      <td>-4.640206</td>\n",
       "    </tr>\n",
       "    <tr>\n",
       "      <th>...</th>\n",
       "      <td>...</td>\n",
       "      <td>...</td>\n",
       "    </tr>\n",
       "    <tr>\n",
       "      <th>TTTGTGGCAAGGAATC-1</th>\n",
       "      <td>-11.057120</td>\n",
       "      <td>1.212038</td>\n",
       "    </tr>\n",
       "    <tr>\n",
       "      <th>TTTGTGGCATGCTTAG-1</th>\n",
       "      <td>4.799424</td>\n",
       "      <td>0.946893</td>\n",
       "    </tr>\n",
       "    <tr>\n",
       "      <th>TTTGTGTTCGTTACAA-1</th>\n",
       "      <td>-4.835887</td>\n",
       "      <td>0.916090</td>\n",
       "    </tr>\n",
       "    <tr>\n",
       "      <th>TTTGTTGGTGATCAGC-1</th>\n",
       "      <td>8.860142</td>\n",
       "      <td>-6.243071</td>\n",
       "    </tr>\n",
       "    <tr>\n",
       "      <th>TTTGTTGGTGATTTGG-1</th>\n",
       "      <td>-5.476079</td>\n",
       "      <td>-3.179865</td>\n",
       "    </tr>\n",
       "  </tbody>\n",
       "</table>\n",
       "<p>3233 rows × 2 columns</p>\n",
       "</div>"
      ],
      "text/plain": [
       "                       UMAP-1    UMAP-2\n",
       "Barcode                                \n",
       "AAACAGCCATAGACTT-1  -0.273889  9.657905\n",
       "AAACAGCCATTATGCG-1   3.748773  0.629261\n",
       "AAACCAACATAGACCC-1   4.531679  1.283160\n",
       "AAACCGAAGATGCCTG-1  -4.961755 -6.963626\n",
       "AAACCGAAGTTAGCTA-1   8.089037 -4.640206\n",
       "...                       ...       ...\n",
       "TTTGTGGCAAGGAATC-1 -11.057120  1.212038\n",
       "TTTGTGGCATGCTTAG-1   4.799424  0.946893\n",
       "TTTGTGTTCGTTACAA-1  -4.835887  0.916090\n",
       "TTTGTTGGTGATCAGC-1   8.860142 -6.243071\n",
       "TTTGTTGGTGATTTGG-1  -5.476079 -3.179865\n",
       "\n",
       "[3233 rows x 2 columns]"
      ]
     },
     "execution_count": 13,
     "metadata": {},
     "output_type": "execute_result"
    }
   ],
   "source": [
    "rna_umap_df = pd.read_csv(join(analysis_dir, \"dimensionality_reduction\", \"gex\", \"umap_projection.csv\"), index_col=0)\n",
    "rna_umap_df"
   ]
  },
  {
   "cell_type": "code",
   "execution_count": 16,
   "id": "49760372-6e65-4a8c-8b20-521729fd6580",
   "metadata": {},
   "outputs": [
    {
     "data": {
      "text/html": [
       "<div>\n",
       "<style scoped>\n",
       "    .dataframe tbody tr th:only-of-type {\n",
       "        vertical-align: middle;\n",
       "    }\n",
       "\n",
       "    .dataframe tbody tr th {\n",
       "        vertical-align: top;\n",
       "    }\n",
       "\n",
       "    .dataframe thead th {\n",
       "        text-align: right;\n",
       "    }\n",
       "</style>\n",
       "<table border=\"1\" class=\"dataframe\">\n",
       "  <thead>\n",
       "    <tr style=\"text-align: right;\">\n",
       "      <th></th>\n",
       "      <th>UMAP-1</th>\n",
       "      <th>UMAP-2</th>\n",
       "    </tr>\n",
       "    <tr>\n",
       "      <th>Barcode</th>\n",
       "      <th></th>\n",
       "      <th></th>\n",
       "    </tr>\n",
       "  </thead>\n",
       "  <tbody>\n",
       "    <tr>\n",
       "      <th>AAACAGCCATAGACTT-1</th>\n",
       "      <td>9.978963</td>\n",
       "      <td>-2.076166</td>\n",
       "    </tr>\n",
       "    <tr>\n",
       "      <th>AAACAGCCATTATGCG-1</th>\n",
       "      <td>7.497211</td>\n",
       "      <td>-0.688258</td>\n",
       "    </tr>\n",
       "    <tr>\n",
       "      <th>AAACCAACATAGACCC-1</th>\n",
       "      <td>8.021842</td>\n",
       "      <td>0.946582</td>\n",
       "    </tr>\n",
       "    <tr>\n",
       "      <th>AAACCGAAGATGCCTG-1</th>\n",
       "      <td>-6.601482</td>\n",
       "      <td>-1.949825</td>\n",
       "    </tr>\n",
       "    <tr>\n",
       "      <th>AAACCGAAGTTAGCTA-1</th>\n",
       "      <td>8.294034</td>\n",
       "      <td>-0.011516</td>\n",
       "    </tr>\n",
       "    <tr>\n",
       "      <th>...</th>\n",
       "      <td>...</td>\n",
       "      <td>...</td>\n",
       "    </tr>\n",
       "    <tr>\n",
       "      <th>TTTGTGGCAAGGAATC-1</th>\n",
       "      <td>-9.765430</td>\n",
       "      <td>2.593243</td>\n",
       "    </tr>\n",
       "    <tr>\n",
       "      <th>TTTGTGGCATGCTTAG-1</th>\n",
       "      <td>10.152254</td>\n",
       "      <td>-2.931405</td>\n",
       "    </tr>\n",
       "    <tr>\n",
       "      <th>TTTGTGTTCGTTACAA-1</th>\n",
       "      <td>-10.551735</td>\n",
       "      <td>5.741568</td>\n",
       "    </tr>\n",
       "    <tr>\n",
       "      <th>TTTGTTGGTGATCAGC-1</th>\n",
       "      <td>7.540642</td>\n",
       "      <td>1.111266</td>\n",
       "    </tr>\n",
       "    <tr>\n",
       "      <th>TTTGTTGGTGATTTGG-1</th>\n",
       "      <td>-3.657900</td>\n",
       "      <td>-3.946088</td>\n",
       "    </tr>\n",
       "  </tbody>\n",
       "</table>\n",
       "<p>3233 rows × 2 columns</p>\n",
       "</div>"
      ],
      "text/plain": [
       "                       UMAP-1    UMAP-2\n",
       "Barcode                                \n",
       "AAACAGCCATAGACTT-1   9.978963 -2.076166\n",
       "AAACAGCCATTATGCG-1   7.497211 -0.688258\n",
       "AAACCAACATAGACCC-1   8.021842  0.946582\n",
       "AAACCGAAGATGCCTG-1  -6.601482 -1.949825\n",
       "AAACCGAAGTTAGCTA-1   8.294034 -0.011516\n",
       "...                       ...       ...\n",
       "TTTGTGGCAAGGAATC-1  -9.765430  2.593243\n",
       "TTTGTGGCATGCTTAG-1  10.152254 -2.931405\n",
       "TTTGTGTTCGTTACAA-1 -10.551735  5.741568\n",
       "TTTGTTGGTGATCAGC-1   7.540642  1.111266\n",
       "TTTGTTGGTGATTTGG-1  -3.657900 -3.946088\n",
       "\n",
       "[3233 rows x 2 columns]"
      ]
     },
     "execution_count": 16,
     "metadata": {},
     "output_type": "execute_result"
    }
   ],
   "source": [
    "atac_umap_df = pd.read_csv(join(analysis_dir, \"dimensionality_reduction\", \"atac\", \"umap_projection.csv\"), index_col=0)\n",
    "atac_umap_df"
   ]
  },
  {
   "cell_type": "code",
   "execution_count": 17,
   "id": "f0e816b9-cd40-4a05-8a76-48e2892dbf61",
   "metadata": {},
   "outputs": [],
   "source": [
    "is_rna = feature_ids[\"feature_type\"] == \"Gene Expression\"\n",
    "is_atac = ~is_rna"
   ]
  },
  {
   "cell_type": "code",
   "execution_count": 18,
   "id": "aff676f9-fc76-4fee-a61d-d22a76a2f81f",
   "metadata": {},
   "outputs": [],
   "source": [
    "rna_obs_df = barcodes\n",
    "atac_obs_df = barcodes\n",
    "\n",
    "rna_var_df = feature_ids.loc[is_rna].set_index(\"gene_name\")\n",
    "atac_var_df = feature_ids.loc[is_atac].set_index(\"gene_name\")\n",
    "\n",
    "rna_obsm = { \"X_umap\": rna_umap_df.values }\n",
    "atac_obsm = { \"X_umap\": atac_umap_df.values }"
   ]
  },
  {
   "cell_type": "code",
   "execution_count": 19,
   "id": "6944c427-7fb1-48a9-9642-8477ac20c3ac",
   "metadata": {},
   "outputs": [
    {
     "name": "stderr",
     "output_type": "stream",
     "text": [
      "/var/folders/j7/z73pwc713473sxx39wdbgb5h0000gn/T/ipykernel_43635/3525357571.py:1: FutureWarning: X.dtype being converted to np.float32 from int64. In the next version of anndata (0.9) conversion will not be automatic. Pass dtype explicitly to avoid this warning. Pass `AnnData(X, dtype=X.dtype, ...)` to get the future behavour.\n",
      "  rna = AnnData(X=mat_dense[:, is_rna], obs=rna_obs_df, obsm=rna_obsm, var=rna_var_df)\n",
      "/Users/mkeller/anaconda3/envs/vitessce-tutorial-env/lib/python3.8/site-packages/anndata/_core/anndata.py:1830: UserWarning: Variable names are not unique. To make them unique, call `.var_names_make_unique`.\n",
      "  utils.warn_names_duplicates(\"var\")\n"
     ]
    },
    {
     "data": {
      "text/plain": [
       "AnnData object with n_obs × n_vars = 3233 × 36601\n",
       "    var: 'feature_id', 'feature_type', 'chr', 'chr_start', 'chr_end'\n",
       "    obsm: 'X_umap'"
      ]
     },
     "execution_count": 19,
     "metadata": {},
     "output_type": "execute_result"
    }
   ],
   "source": [
    "rna = AnnData(X=mat_dense[:, is_rna], obs=rna_obs_df, obsm=rna_obsm, var=rna_var_df)\n",
    "rna"
   ]
  },
  {
   "cell_type": "code",
   "execution_count": 20,
   "id": "9c327a38-57b0-4e69-aaec-e24df078229d",
   "metadata": {},
   "outputs": [
    {
     "name": "stderr",
     "output_type": "stream",
     "text": [
      "/var/folders/j7/z73pwc713473sxx39wdbgb5h0000gn/T/ipykernel_43635/243714424.py:1: FutureWarning: X.dtype being converted to np.float32 from int64. In the next version of anndata (0.9) conversion will not be automatic. Pass dtype explicitly to avoid this warning. Pass `AnnData(X, dtype=X.dtype, ...)` to get the future behavour.\n",
      "  atac = AnnData(X=mat_dense[:, is_atac], obs=atac_obs_df, obsm=atac_obsm, var=atac_var_df)\n"
     ]
    },
    {
     "data": {
      "text/plain": [
       "AnnData object with n_obs × n_vars = 3233 × 134030\n",
       "    var: 'feature_id', 'feature_type', 'chr', 'chr_start', 'chr_end'\n",
       "    obsm: 'X_umap'"
      ]
     },
     "execution_count": 20,
     "metadata": {},
     "output_type": "execute_result"
    }
   ],
   "source": [
    "atac = AnnData(X=mat_dense[:, is_atac], obs=atac_obs_df, obsm=atac_obsm, var=atac_var_df)\n",
    "atac"
   ]
  },
  {
   "cell_type": "code",
   "execution_count": 21,
   "id": "ea937d57-f143-4e58-9560-2dab61a3aef2",
   "metadata": {},
   "outputs": [],
   "source": [
    "rna_zarr = join(\"data\", \"multiome_example.rna.h5ad.zarr\")\n",
    "atac_zarr = join(\"data\", \"multiome_example.atac.h5ad.zarr\")"
   ]
  },
  {
   "cell_type": "code",
   "execution_count": 22,
   "id": "7e7d627a-80a5-48e6-ba15-6d35588f287c",
   "metadata": {},
   "outputs": [],
   "source": [
    "rna.write_zarr(rna_zarr, chunks=(rna.shape[0], VAR_CHUNK_SIZE))\n",
    "atac.write_zarr(atac_zarr, chunks=(atac.shape[0], VAR_CHUNK_SIZE))"
   ]
  },
  {
   "cell_type": "code",
   "execution_count": 23,
   "id": "5c3cb703-552d-4f4f-b5d4-21135f2b0a72",
   "metadata": {},
   "outputs": [],
   "source": [
    "from vitessce import (\n",
    "    VitessceConfig,\n",
    "    ViewType as vt,\n",
    "    CoordinationType as ct,\n",
    "    FileType as ft,\n",
    "    AnnDataWrapper,\n",
    "    OmeTiffWrapper,\n",
    ")"
   ]
  },
  {
   "cell_type": "code",
   "execution_count": 24,
   "id": "afd12cfb-ca00-4167-b4e7-bcd2d3110a22",
   "metadata": {},
   "outputs": [],
   "source": [
    "vc = VitessceConfig(schema_version=\"1.0.15\", name='Multiome data', description='RNA+ATAC')"
   ]
  },
  {
   "cell_type": "code",
   "execution_count": 25,
   "id": "6c47d5bd-956b-4b37-8d9d-2c58ded9dda3",
   "metadata": {},
   "outputs": [],
   "source": [
    "dataset = vc.add_dataset(name='RNA+ATAC').add_object(AnnDataWrapper(\n",
    "    # We run add_object with adata_path=rna_zarr first to add the cell-by-gene matrix and associated metadata.\n",
    "    adata_path=rna_zarr,\n",
    "    obs_embedding_paths=[\"obsm/X_umap\"],\n",
    "    obs_embedding_names=[\"UMAP\"],\n",
    "    #obs_set_paths=[\"obs/seurat_clusters\"],\n",
    "    #obs_set_names=[\"Seurat Clusters\"],\n",
    "    obs_feature_matrix_path=\"X\",\n",
    "    # To be explicit that the features represent genes and gene expression, we specify that here.\n",
    "    coordination_values={\n",
    "        \"featureType\": \"gene\",\n",
    "        \"featureValueType\": \"expression\"\n",
    "    }\n",
    ")).add_object(AnnDataWrapper(\n",
    "    # We next run add_object with adata_path=adt_zarr to add the cell-by-ADT matrix and associated metadata.\n",
    "    adata_path=atac_zarr,\n",
    "    obs_embedding_paths=[\"obsm/X_umap\"],\n",
    "    obs_embedding_names=[\"UMAP\"],\n",
    "    #obs_set_paths=[\"obs/seurat_clusters\"],\n",
    "    #obs_set_names=[\"Seurat Clusters\"],\n",
    "    obs_feature_matrix_path=\"X\",\n",
    "    # If the features do not represent genes and gene expression, we specify alternate values here.\n",
    "    coordination_values={\n",
    "        \"featureType\": \"peak\",\n",
    "        \"featureValueType\": \"count\"\n",
    "    }\n",
    "))"
   ]
  },
  {
   "cell_type": "code",
   "execution_count": 26,
   "id": "26683d33-7c2c-43ff-a518-a87a8b31d300",
   "metadata": {},
   "outputs": [],
   "source": [
    "umap_scatterplot_by_rna = vc.add_view(vt.SCATTERPLOT, dataset=dataset, mapping=\"UMAP\")\n",
    "umap_scatterplot_by_atac = vc.add_view(vt.SCATTERPLOT, dataset=dataset, mapping=\"UMAP\")\n",
    "\n",
    "gene_list = vc.add_view(vt.FEATURE_LIST, dataset=dataset)\n",
    "peak_list = vc.add_view(vt.FEATURE_LIST, dataset=dataset)\n",
    "\n",
    "rna_heatmap = vc.add_view(vt.HEATMAP, dataset=dataset).set_props(transpose=True)\n",
    "atac_heatmap = vc.add_view(vt.HEATMAP, dataset=dataset).set_props(transpose=True)"
   ]
  },
  {
   "cell_type": "code",
   "execution_count": 27,
   "id": "42fdde8f-ba02-45b9-9e80-266ce82f69b1",
   "metadata": {},
   "outputs": [
    {
     "data": {
      "text/plain": [
       "<vitessce.config.VitessceConfig at 0x7ffc383ed790>"
      ]
     },
     "execution_count": 27,
     "metadata": {},
     "output_type": "execute_result"
    }
   ],
   "source": [
    "# We need to specify which of the two features (i.e., genes or tags) the different plots correspond to.\n",
    "# We also need to make sure the selection of genes and tags are scoped to only the corresponding plots,\n",
    "# and we want to make sure the color mappings are independent for each modality.\n",
    "coordination_types = [ct.FEATURE_TYPE, ct.FEATURE_VALUE_TYPE, ct.FEATURE_SELECTION, ct.OBS_COLOR_ENCODING, ct.FEATURE_VALUE_COLORMAP_RANGE]\n",
    "vc.link_views([umap_scatterplot_by_rna, gene_list, rna_heatmap], coordination_types, [\"gene\", \"expression\", None, 'cellSetSelection', [0.0, 0.3]])\n",
    "vc.link_views([umap_scatterplot_by_atac, peak_list, atac_heatmap], coordination_types, [\"peak\", \"count\", None, 'cellSetSelection', [0.0, 1.0]])\n",
    "\n",
    "# We can link the two scatterplots on their zoom level and (X,Y) center point so that zooming/panning is coordinated.\n",
    "vc.link_views([umap_scatterplot_by_rna, umap_scatterplot_by_atac], [ct.EMBEDDING_ZOOM, ct.EMBEDDING_TARGET_X, ct.EMBEDDING_TARGET_Y], [3, 0, 0])"
   ]
  },
  {
   "cell_type": "code",
   "execution_count": 28,
   "id": "f1a721a3-28de-403f-a954-dfe4ee56ae2f",
   "metadata": {},
   "outputs": [],
   "source": [
    "# We define a layout for the plots using two rows.\n",
    "# In the first row, we add the three gene-related visualizations,\n",
    "# and in the second row, we add the three ADT-related visualizations.\n",
    "vc.layout(\n",
    "    (rna_heatmap | (umap_scatterplot_by_rna | gene_list))\n",
    "    / (atac_heatmap | (umap_scatterplot_by_atac | peak_list))\n",
    ");"
   ]
  },
  {
   "cell_type": "code",
   "execution_count": 29,
   "id": "c1f0bc50-40be-4a99-8c50-903136700c38",
   "metadata": {},
   "outputs": [
    {
     "data": {
      "application/vnd.jupyter.widget-view+json": {
       "model_id": "2d78b84d25424f5c87a1e3546b2e85ee",
       "version_major": 2,
       "version_minor": 0
      },
      "text/plain": [
       "VitessceWidget(config={'version': '1.0.15', 'name': 'Multiome data', 'description': 'RNA+ATAC', 'datasets': [{…"
      ]
     },
     "execution_count": 29,
     "metadata": {},
     "output_type": "execute_result"
    }
   ],
   "source": [
    "vw = vc.widget()\n",
    "vw"
   ]
  },
  {
   "cell_type": "code",
   "execution_count": null,
   "id": "d3f82754-4ee1-40a2-9298-727c765850d2",
   "metadata": {},
   "outputs": [],
   "source": []
  },
  {
   "cell_type": "code",
   "execution_count": null,
   "id": "aeab7120-c663-405a-9e73-c924f6f0aa14",
   "metadata": {},
   "outputs": [],
   "source": []
  }
 ],
 "metadata": {
  "kernelspec": {
   "display_name": "Python 3 (ipykernel)",
   "language": "python",
   "name": "python3"
  },
  "language_info": {
   "codemirror_mode": {
    "name": "ipython",
    "version": 3
   },
   "file_extension": ".py",
   "mimetype": "text/x-python",
   "name": "python",
   "nbconvert_exporter": "python",
   "pygments_lexer": "ipython3",
   "version": "3.8.0"
  }
 },
 "nbformat": 4,
 "nbformat_minor": 5
}
