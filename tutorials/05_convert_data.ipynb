{
 "cells": [
  {
   "cell_type": "code",
   "execution_count": 8,
   "id": "0336c0db-211e-419d-91c1-893ee4b22220",
   "metadata": {},
   "outputs": [],
   "source": [
    "from tifffile import imread\n",
    "from os.path import join\n",
    "import zarr\n",
    "from ome_zarr.writer import write_image"
   ]
  },
  {
   "cell_type": "markdown",
   "id": "b3b56c39-cce9-4199-bcfe-b703f134a3c1",
   "metadata": {
    "tags": []
   },
   "source": [
    "## Load the original TIFF (non-OME) using tifffile"
   ]
  },
  {
   "cell_type": "code",
   "execution_count": 9,
   "id": "500e9370-f854-406b-bde3-b9c63b617912",
   "metadata": {},
   "outputs": [
    {
     "data": {
      "text/plain": [
       "(500, 750, 4)"
      ]
     },
     "execution_count": 9,
     "metadata": {},
     "output_type": "execute_result"
    }
   ],
   "source": [
    "img_arr = imread(join('raw_data', 'dog.tiff'))\n",
    "img_arr.shape"
   ]
  },
  {
   "cell_type": "markdown",
   "id": "4f709bf4-4338-4bd3-aece-e6a67b1c0476",
   "metadata": {},
   "source": [
    "## Transpose and select channels of interest using NumPy"
   ]
  },
  {
   "cell_type": "code",
   "execution_count": 10,
   "id": "8e3476a6-2535-4e87-a4e0-ac8137685f47",
   "metadata": {},
   "outputs": [
    {
     "data": {
      "text/plain": [
       "(4, 500, 750)"
      ]
     },
     "execution_count": 10,
     "metadata": {},
     "output_type": "execute_result"
    }
   ],
   "source": [
    "# Transpose so that the channel axis is first\n",
    "img_arr = img_arr.transpose((2, 0, 1))\n",
    "img_arr.shape"
   ]
  },
  {
   "cell_type": "code",
   "execution_count": 11,
   "id": "8c29a6b4-65e7-4075-a7ec-4031f4659662",
   "metadata": {},
   "outputs": [
    {
     "data": {
      "text/plain": [
       "(3, 500, 750)"
      ]
     },
     "execution_count": 11,
     "metadata": {},
     "output_type": "execute_result"
    }
   ],
   "source": [
    "# Discard the alpha channel (i.e., the A in RGBA)\n",
    "img_arr = img_arr[0:3, :, :]\n",
    "img_arr.shape"
   ]
  },
  {
   "cell_type": "code",
   "execution_count": 12,
   "id": "a943f1db-66e7-4e2f-aa99-1111c1d629fb",
   "metadata": {},
   "outputs": [],
   "source": [
    "z_root = zarr.open_group(join('processed_data', 'dog.ome.zarr'), mode = \"w\")\n",
    "\n",
    "default_window = {\n",
    "  \"start\": 0,\n",
    "  \"min\": 0,\n",
    "  \"max\": 255,\n",
    "  \"end\": 255\n",
    "}\n",
    "\n",
    "write_image(\n",
    "  image = img_arr,\n",
    "  group = z_root,\n",
    "  axes = \"cyx\",\n",
    "  omero = {\n",
    "    \"name\": \"Dog\",\n",
    "    \"version\": \"0.3\",\n",
    "    \"rdefs\": {},\n",
    "    \"channels\": [\n",
    "      {\n",
    "        \"label\": \"R\",\n",
    "        \"color\": \"FF0000\",\n",
    "        \"window\": default_window\n",
    "      },\n",
    "      {\n",
    "        \"label\": \"G\",\n",
    "        \"color\": \"00FF00\",\n",
    "        \"window\": default_window\n",
    "      },\n",
    "      {\n",
    "        \"label\": \"B\",\n",
    "        \"color\": \"0000FF\",\n",
    "        \"window\": default_window\n",
    "      }\n",
    "    ]\n",
    "  }\n",
    ")"
   ]
  },
  {
   "cell_type": "code",
   "execution_count": null,
   "id": "2ab07fc3-6df3-4402-a182-cc3d7f2c7343",
   "metadata": {},
   "outputs": [],
   "source": []
  },
  {
   "cell_type": "code",
   "execution_count": null,
   "id": "aaeca4d9-1215-4d37-8784-1276e5b9811d",
   "metadata": {},
   "outputs": [],
   "source": []
  }
 ],
 "metadata": {
  "kernelspec": {
   "display_name": "Python 3 (ipykernel)",
   "language": "python",
   "name": "python3"
  },
  "language_info": {
   "codemirror_mode": {
    "name": "ipython",
    "version": 3
   },
   "file_extension": ".py",
   "mimetype": "text/x-python",
   "name": "python",
   "nbconvert_exporter": "python",
   "pygments_lexer": "ipython3",
   "version": "3.8.0"
  }
 },
 "nbformat": 4,
 "nbformat_minor": 5
}
