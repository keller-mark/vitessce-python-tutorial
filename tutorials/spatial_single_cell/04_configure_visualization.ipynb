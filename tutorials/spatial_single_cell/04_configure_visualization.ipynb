{
 "cells": [
  {
   "cell_type": "markdown",
   "id": "99842569-df1d-4621-baf9-29be2700a3a7",
   "metadata": {},
   "source": [
    "# Configure visualization with bitmask segmentations"
   ]
  },
  {
   "cell_type": "code",
   "execution_count": 91,
   "id": "89b4c5b8-bce9-4dfb-b9c4-f227fa0ae231",
   "metadata": {},
   "outputs": [],
   "source": [
    "from vitessce import (\n",
    "    VitessceConfig,\n",
    "    Component as cm,\n",
    "    CoordinationType as ct,\n",
    "    FileType as ft,\n",
    "    AnnDataWrapper,\n",
    "    OmeTiffWrapper,\n",
    "    MultiImageWrapper,\n",
    ")\n",
    "from os.path import join"
   ]
  },
  {
   "cell_type": "code",
   "execution_count": 92,
   "id": "a74759d4-4b10-4178-9ca3-8b7dd366e3cd",
   "metadata": {},
   "outputs": [],
   "source": [
    "vc = VitessceConfig(schema_version=\"1.0.15\", name='10x genomics', description='Visium')"
   ]
  },
  {
   "cell_type": "code",
   "execution_count": 93,
   "id": "c07cb582-6c3d-45d7-937b-e54bd8fc93d8",
   "metadata": {},
   "outputs": [],
   "source": [
    "dataset = vc.add_dataset(name='Human lymph node').add_object(AnnDataWrapper(\n",
    "    adata_path=join(\"processed_data\", \"alternate.adata.zarr\"),\n",
    "    obs_embedding_paths=[\"obsm/X_umap\", \"obsm/X_pca\"],\n",
    "    obs_embedding_names=[\"UMAP\", \"PCA\"],\n",
    "    obs_locations_path=\"obsm/spatial\",\n",
    "    obs_set_paths=[\"obs/clusters\"],\n",
    "    obs_set_names=[\"Leiden Cluster\"],\n",
    "    obs_feature_matrix_path=\"obsm/X_hvg\",\n",
    "    feature_filter_path=\"var/highly_variable\",\n",
    ")).add_object(MultiImageWrapper([\n",
    "    OmeTiffWrapper(\n",
    "        img_path=join(\"processed_data\", \"alternate.bitmask.ome.tiff\"),\n",
    "        name=\"Spot segmentations\",\n",
    "        is_bitmask=True\n",
    "    ),\n",
    "    OmeTiffWrapper(\n",
    "        img_path=join(\"processed_data\", \"alternate.image.ome.tiff\"),\n",
    "        name=\"H&E Image\",\n",
    "        is_bitmask=False\n",
    "    ),\n",
    "], use_physical_size_scaling=True))"
   ]
  },
  {
   "cell_type": "code",
   "execution_count": 94,
   "id": "0b62f4fe-ad8b-458b-9cfe-a54a647138a1",
   "metadata": {},
   "outputs": [],
   "source": [
    "spatial_colored_by_cluster = vc.add_view(cm.SPATIAL, dataset=dataset)\n",
    "spatial_colored_by_expression = vc.add_view(cm.SPATIAL, dataset=dataset)\n",
    "\n",
    "layer_controller = vc.add_view(cm.LAYER_CONTROLLER, dataset=dataset).set_props(disableChannelsIfRgbDetected=True)\n",
    "spot_set_manager = vc.add_view(cm.OBS_SETS, dataset=dataset)\n",
    "gene_list = vc.add_view(cm.FEATURE_LIST, dataset=dataset)\n",
    "heatmap = vc.add_view(cm.HEATMAP, dataset=dataset).set_props(transpose=True)"
   ]
  },
  {
   "cell_type": "code",
   "execution_count": 95,
   "id": "d88f759e-bce2-4998-abac-095415dab507",
   "metadata": {},
   "outputs": [],
   "source": [
    "vc.layout(\n",
    "    (spatial_colored_by_cluster | spatial_colored_by_expression)\n",
    "    / ((layer_controller | spot_set_manager) | (gene_list | heatmap))\n",
    ");"
   ]
  },
  {
   "cell_type": "code",
   "execution_count": 96,
   "id": "05ca8950-0df2-4ceb-b625-32be7b1b5214",
   "metadata": {},
   "outputs": [
    {
     "data": {
      "text/plain": [
       "<vitessce.config.VitessceConfig at 0x7fad29dfed30>"
      ]
     },
     "execution_count": 96,
     "metadata": {},
     "output_type": "execute_result"
    }
   ],
   "source": [
    "spatial_views = [\n",
    "    spatial_colored_by_cluster,\n",
    "    spatial_colored_by_expression,\n",
    "    layer_controller,\n",
    "]\n",
    "all_views = [\n",
    "    *spatial_views,\n",
    "    spot_set_manager,\n",
    "    gene_list,\n",
    "    heatmap\n",
    "]\n",
    "\n",
    "spatial_segmentation_layer_value = [{\n",
    "    \"type\": \"bitmask\",\n",
    "    \"visible\": True,\n",
    "    \"index\": 0,\n",
    "    \"colormap\": None,\n",
    "    \"transparentColor\": None,\n",
    "    \"opacity\": 1,\n",
    "    \"domainType\": \"Min/Max\",\n",
    "    \"channels\": [\n",
    "        {\n",
    "          \"selection\": { \"c\": 0, \"t\": 0, \"z\": 0 },\n",
    "          \"color\": [255, 0, 0],\n",
    "          \"visible\": True,\n",
    "          \"slider\": [0, 1]\n",
    "        }\n",
    "    ]\n",
    "}]\n",
    "spatial_image_layer_value = [{\n",
    "    \"type\": \"raster\",\n",
    "    \"index\": 0,\n",
    "    \"colormap\": None,\n",
    "    \"transparentColor\": None,\n",
    "    \"opacity\": 1,\n",
    "    \"domainType\": \"Min/Max\",\n",
    "    \"channels\": [\n",
    "        {\n",
    "          \"selection\": { \"c\": 0, \"t\": 0, \"z\": 0 },\n",
    "          \"color\": [255, 0, 0],\n",
    "          \"visible\": True,\n",
    "          \"slider\": [0, 255]\n",
    "        },\n",
    "        {\n",
    "          \"selection\": { \"c\": 1, \"t\": 0, \"z\": 0 },\n",
    "          \"color\": [0, 255, 0],\n",
    "          \"visible\": True,\n",
    "          \"slider\": [0, 255]\n",
    "        },\n",
    "        {\n",
    "          \"selection\": { \"c\": 2, \"t\": 0, \"z\": 0 },\n",
    "          \"color\": [0, 0, 255],\n",
    "          \"visible\": True,\n",
    "          \"slider\": [0, 255]\n",
    "        }\n",
    "    ]\n",
    "}]\n",
    "vc.link_views(\n",
    "    spatial_views,\n",
    "    [ct.SPATIAL_IMAGE_LAYER, ct.SPATIAL_SEGMENTATION_LAYER],\n",
    "    [spatial_image_layer_value, spatial_segmentation_layer_value]\n",
    ")\n",
    "vc.link_views(\n",
    "    spatial_views,\n",
    "    [ct.SPATIAL_ZOOM, ct.SPATIAL_TARGET_X, ct.SPATIAL_TARGET_Y],\n",
    "    [-2.6, 1000, 1000]\n",
    ")\n",
    "vc.link_views(\n",
    "    [spatial_colored_by_cluster, heatmap, spot_set_manager],\n",
    "    [ct.OBS_COLOR_ENCODING],\n",
    "    [\"cellSetSelection\"]\n",
    ")\n",
    "vc.link_views(\n",
    "    [spatial_colored_by_expression, gene_list],\n",
    "    [ct.OBS_COLOR_ENCODING, ct.FEATURE_SELECTION],\n",
    "    [\"cellSetSelection\", [\"CR2\"]]\n",
    ")"
   ]
  },
  {
   "cell_type": "code",
   "execution_count": 97,
   "id": "3cfaa455-ffa5-450c-a788-91fcec0195eb",
   "metadata": {},
   "outputs": [
    {
     "data": {
      "application/vnd.jupyter.widget-view+json": {
       "model_id": "d337201daa214ff8a77d6c091a6dd465",
       "version_major": 2,
       "version_minor": 0
      },
      "text/plain": [
       "VitessceWidget(config={'version': '1.0.15', 'name': '10x genomics', 'description': 'Visium', 'datasets': [{'ui…"
      ]
     },
     "execution_count": 97,
     "metadata": {},
     "output_type": "execute_result"
    }
   ],
   "source": [
    "vw = vc.widget()\n",
    "vw"
   ]
  },
  {
   "cell_type": "code",
   "execution_count": null,
   "id": "3f8d3d89-6533-4e93-a1c1-5ebc8f12984d",
   "metadata": {},
   "outputs": [],
   "source": []
  },
  {
   "cell_type": "code",
   "execution_count": null,
   "id": "6ab211a6-ba9d-4c99-8ffe-2f8e857f1e42",
   "metadata": {},
   "outputs": [],
   "source": []
  }
 ],
 "metadata": {
  "kernelspec": {
   "display_name": "Python 3 (ipykernel)",
   "language": "python",
   "name": "python3"
  },
  "language_info": {
   "codemirror_mode": {
    "name": "ipython",
    "version": 3
   },
   "file_extension": ".py",
   "mimetype": "text/x-python",
   "name": "python",
   "nbconvert_exporter": "python",
   "pygments_lexer": "ipython3",
   "version": "3.8.0"
  }
 },
 "nbformat": 4,
 "nbformat_minor": 5
}
