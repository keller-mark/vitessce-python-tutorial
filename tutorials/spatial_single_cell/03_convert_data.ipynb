{
 "cells": [
  {
   "cell_type": "markdown",
   "id": "fec4a0d8-fd08-45ee-bbe7-656d24570c64",
   "metadata": {},
   "source": [
    "## Convert data to AnnData-Zarr and OME-TIFF (alternative)"
   ]
  },
  {
   "cell_type": "markdown",
   "id": "2059672b-36cb-40c5-b3fa-8ef58e5f4941",
   "metadata": {},
   "source": [
    "Instead of polygons (diamonds) for the pseudo-segmentations for spots on the Visium image, we will generate bitmask (circle) segmentations."
   ]
  },
  {
   "cell_type": "code",
   "execution_count": null,
   "id": "797322b2-f669-456d-8f23-c9ccbb8a5414",
   "metadata": {},
   "outputs": [],
   "source": [
    "import scanpy as sc\n",
    "import numpy as np\n",
    "import scipy.cluster\n",
    "from scipy import sparse\n",
    "from skimage.draw import disk\n",
    "from vitessce.data_utils import (\n",
    "    to_diamond,\n",
    "    multiplex_img_to_ome_tiff,\n",
    "    rgb_img_to_ome_tiff,\n",
    "    optimize_adata,\n",
    "    to_dense,\n",
    "    VAR_CHUNK_SIZE,\n",
    "    sort_var_axis,\n",
    ")\n",
    "from os.path import join"
   ]
  },
  {
   "cell_type": "code",
   "execution_count": null,
   "id": "aae7b7e5-251a-42ce-8306-96baffeefebd",
   "metadata": {},
   "outputs": [],
   "source": [
    "output_img = join(\"processed_data\", \"alternate.image.ome.tiff\")\n",
    "output_segmentations = join(\"processed_data\", \"alternate.bitmask.ome.tiff\")\n",
    "output_adata = join(\"processed_data\", \"alternate.adata.zarr\")"
   ]
  },
  {
   "cell_type": "markdown",
   "id": "b8e5333d-fe91-40d9-ba72-86c39e2911f2",
   "metadata": {},
   "source": [
    "## Load data from ScanPy example dataset\n",
    "\n",
    "ScanPy contains several [example datasets](https://scanpy.readthedocs.io/en/stable/api.html#module-scanpy.datasets), which can be loaded as AnnData objects. In this notebook, we load the [V1_Human_Lymph_Node](https://scanpy.readthedocs.io/en/stable/generated/scanpy.datasets.visium_sge.html#scanpy.datasets.visium_sge) 10x Genomics Visium example."
   ]
  },
  {
   "cell_type": "code",
   "execution_count": null,
   "id": "8d760ad9-ac3f-4962-8a59-0f07b307cdae",
   "metadata": {},
   "outputs": [],
   "source": [
    "adata = sc.datasets.visium_sge(sample_id=\"V1_Human_Lymph_Node\", include_hires_tiff=True)"
   ]
  },
  {
   "cell_type": "markdown",
   "id": "00842280-40b7-477a-aa27-32f28b7d98a9",
   "metadata": {},
   "source": [
    "## Perform QC, filtering, normalization, dimensionality reduction, clustering"
   ]
  },
  {
   "cell_type": "code",
   "execution_count": null,
   "id": "44a3cdb1-1e2b-4fe2-86d0-88ff59dbc4d2",
   "metadata": {},
   "outputs": [],
   "source": [
    "# Reference: https://scanpy-tutorials.readthedocs.io/en/latest/spatial/basic-analysis.html\n",
    "# Calculate QC metrics\n",
    "adata.var_names_make_unique()\n",
    "adata.var[\"mt\"] = adata.var_names.str.startswith(\"MT-\")\n",
    "sc.pp.calculate_qc_metrics(adata, qc_vars=[\"mt\"], inplace=True)\n",
    "\n",
    "# Perform basic filtering\n",
    "sc.pp.filter_cells(adata, min_counts=5000)\n",
    "sc.pp.filter_cells(adata, max_counts=35000)\n",
    "adata = adata[adata.obs[\"pct_counts_mt\"] < 20]\n",
    "sc.pp.filter_genes(adata, min_cells=10)\n",
    "\n",
    "# Perform normalization\n",
    "sc.pp.normalize_total(adata, inplace=True)\n",
    "sc.pp.log1p(adata)\n",
    "# Determine the top 300 highly variable genes.\n",
    "sc.pp.highly_variable_genes(adata, flavor=\"seurat\", n_top_genes=300)\n",
    "\n",
    "# Dimensionality reduction and clustering\n",
    "sc.pp.pca(adata)\n",
    "sc.pp.neighbors(adata)\n",
    "sc.tl.umap(adata)\n",
    "sc.tl.leiden(adata, key_added=\"clusters\")"
   ]
  },
  {
   "cell_type": "markdown",
   "id": "a2e37aa2-2d57-4c86-9a28-979c79f61435",
   "metadata": {},
   "source": [
    "## Reorder the gene axis"
   ]
  },
  {
   "cell_type": "code",
   "execution_count": null,
   "id": "f9ea5f56-fe20-422c-85f0-b63c6157211f",
   "metadata": {},
   "outputs": [],
   "source": [
    "# Hierarchical clustering of genes for optimal gene ordering\n",
    "X_hvg_arr = adata[:, adata.var['highly_variable']].X.toarray()\n",
    "X_hvg_index = adata[:, adata.var['highly_variable']].var.copy().index\n",
    "\n",
    "Z = scipy.cluster.hierarchy.linkage(X_hvg_arr.T, method=\"average\", optimal_ordering=True)\n",
    "\n",
    "# Get the hierarchy-based ordering of genes.\n",
    "num_cells = adata.obs.shape[0]\n",
    "highly_var_index_ordering = scipy.cluster.hierarchy.leaves_list(Z)\n",
    "highly_var_genes = X_hvg_index.values[highly_var_index_ordering].tolist()\n",
    "\n",
    "all_genes = adata.var.index.values.tolist()\n",
    "not_var_genes = adata.var.loc[~adata.var['highly_variable']].index.values.tolist()\n",
    "\n",
    "def get_orig_index(gene_id):\n",
    "    return all_genes.index(gene_id)\n",
    "\n",
    "var_index_ordering = list(map(get_orig_index, highly_var_genes)) + list(map(get_orig_index, not_var_genes))\n",
    "\n",
    "# Create a new *ordered* gene expression dataframe.\n",
    "adata = adata[:, var_index_ordering].copy()\n",
    "adata.obsm[\"X_hvg\"] = adata[:, adata.var['highly_variable']].X.copy()"
   ]
  },
  {
   "cell_type": "markdown",
   "id": "84a61db3-dc57-4349-9bce-23b5dcc3ab64",
   "metadata": {},
   "source": [
    "## Process the spatial data"
   ]
  },
  {
   "cell_type": "markdown",
   "id": "c2b30959-39af-4118-b975-5b6ac84ab573",
   "metadata": {},
   "source": [
    "### Save the image to OME-TIFF"
   ]
  },
  {
   "cell_type": "code",
   "execution_count": null,
   "id": "76bc669f-114e-4dfd-baa6-f78519045c32",
   "metadata": {},
   "outputs": [],
   "source": [
    "# Write img_arr to OME-Zarr.\n",
    "# Need to convert images from interleaved to non-interleaved (color axis should be first).\n",
    "img_hires = adata.uns['spatial']['V1_Human_Lymph_Node']['images']['hires']\n",
    "img_arr = np.transpose(img_hires, (2, 0, 1))\n",
    "# Convert values from [0, 1] to [0, 255].\n",
    "img_arr *= 255.0\n",
    "\n",
    "rgb_img_to_ome_tiff(img_arr, output_img, axes=\"CYX\", img_name=\"H & E Image\")"
   ]
  },
  {
   "cell_type": "markdown",
   "id": "297e01e4-b0a3-46cb-9fca-0a4c381ca729",
   "metadata": {},
   "source": [
    "### Generate pseudo-segmentations"
   ]
  },
  {
   "cell_type": "code",
   "execution_count": null,
   "id": "a6fc35a5-a73f-4944-8940-e9cb16d70e92",
   "metadata": {},
   "outputs": [],
   "source": [
    "# Unclear what the exact scale factor is required to align\n",
    "# the spots to the image. Through trial and error / manual binary search\n",
    "# of values I arrived at:\n",
    "scale_factor = 1 / 5.87\n",
    "adata.obsm['spatial'] = (adata.obsm['spatial'] * scale_factor)"
   ]
  },
  {
   "cell_type": "code",
   "execution_count": null,
   "id": "16cd2c14-7a78-460c-89eb-74ccb03fd7c3",
   "metadata": {},
   "outputs": [],
   "source": [
    "img_arr.shape # (c, y, x)"
   ]
  },
  {
   "cell_type": "markdown",
   "id": "9e3084d9-23f9-4d4f-aaad-9030c0fdc1ca",
   "metadata": {},
   "source": [
    "### Create a bitmask array"
   ]
  },
  {
   "cell_type": "code",
   "execution_count": null,
   "id": "3f2f7366-4802-4e86-b261-a7e0ebc7f034",
   "metadata": {},
   "outputs": [],
   "source": [
    "bitmask_arr = np.zeros((img_arr.shape[2], img_arr.shape[1]), dtype=np.uint16)\n",
    "bitmask_arr.shape # (x, y)"
   ]
  },
  {
   "cell_type": "markdown",
   "id": "04776a57-4997-4d7c-9407-81be33f43bc9",
   "metadata": {},
   "source": [
    "Use the [disk](https://scikit-image.org/docs/stable/api/skimage.morphology.html#skimage.morphology.disk) function to create a circle with a given radius at each spatial coordinate."
   ]
  },
  {
   "cell_type": "code",
   "execution_count": null,
   "id": "8d8165ee-e0ce-46bb-97d7-27a90601bee1",
   "metadata": {},
   "outputs": [],
   "source": [
    "radius = 10\n",
    "for i in range(num_cells):\n",
    "    x = adata.obsm['spatial'][i, 0]\n",
    "    y = adata.obsm['spatial'][i, 1]\n",
    "    bitmask_arr[disk((x, y), radius)] = i+1 # add one (0 is reserved for the background)\n",
    "\n",
    "# Update the array axes so they are in CYX order to enable conversion to OME-TIFF.\n",
    "bitmask_arr = bitmask_arr.transpose((1, 0)) # (y, x)\n",
    "bitmask_arr = bitmask_arr[np.newaxis, :] # (c, y, x)\n",
    "bitmask_arr.shape"
   ]
  },
  {
   "cell_type": "markdown",
   "id": "0edb418b-8a23-4960-ad7d-4e9a6c43b91f",
   "metadata": {},
   "source": [
    "### Save the bitmask to OME-TIFF"
   ]
  },
  {
   "cell_type": "code",
   "execution_count": null,
   "id": "f2c0d608-7082-436a-88c9-3d91fac1c6c4",
   "metadata": {},
   "outputs": [],
   "source": [
    "multiplex_img_to_ome_tiff(bitmask_arr, [\"Spots\"], output_segmentations, axes=\"CYX\")"
   ]
  },
  {
   "cell_type": "markdown",
   "id": "1a35c49e-7b11-4c44-b8b4-2264bab2665a",
   "metadata": {},
   "source": [
    "## Save the AnnData object to AnnData-Zarr format"
   ]
  },
  {
   "cell_type": "code",
   "execution_count": null,
   "id": "69af6aa9-b2e8-4555-a6df-58a6bab05d25",
   "metadata": {},
   "outputs": [],
   "source": [
    "# Store the current observation index in a new column called \"spot_id\"\n",
    "adata.obs = adata.obs.reset_index().rename(columns={\"index\": \"spot_id\"})\n",
    "# Create an integer index starting at 1 (0 is reserved for the background)\n",
    "adata.obs.index = list(range(1, num_cells+1))\n",
    "adata.obs"
   ]
  },
  {
   "cell_type": "code",
   "execution_count": null,
   "id": "bea1680a-d3e7-4f6f-a839-4471b7b76be2",
   "metadata": {},
   "outputs": [],
   "source": [
    "adata = optimize_adata(\n",
    "    adata,\n",
    "    obs_cols=[\"spot_id\", \"clusters\"],\n",
    "    var_cols=[\"highly_variable\"],\n",
    "    obsm_keys=[\"X_hvg\", \"spatial\", \"X_umap\", \"X_pca\"],\n",
    "    optimize_X=True,\n",
    "    # Vitessce plays nicely with dense matrices saved with chunking\n",
    "    # and this one is small enough that dense is not a huge overhead.\n",
    "    to_dense_X=True,\n",
    ")\n",
    "adata.write_zarr(output_adata, chunks=[adata.shape[0], VAR_CHUNK_SIZE])"
   ]
  }
 ],
 "metadata": {
  "kernelspec": {
   "display_name": "Python 3 (ipykernel)",
   "language": "python",
   "name": "python3"
  },
  "language_info": {
   "codemirror_mode": {
    "name": "ipython",
    "version": 3
   },
   "file_extension": ".py",
   "mimetype": "text/x-python",
   "name": "python",
   "nbconvert_exporter": "python",
   "pygments_lexer": "ipython3",
   "version": "3.8.0"
  }
 },
 "nbformat": 4,
 "nbformat_minor": 5
}
