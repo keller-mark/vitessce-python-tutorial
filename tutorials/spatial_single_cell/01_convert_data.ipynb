{
 "cells": [
  {
   "cell_type": "code",
   "execution_count": 7,
   "id": "797322b2-f669-456d-8f23-c9ccbb8a5414",
   "metadata": {},
   "outputs": [],
   "source": [
    "import scanpy as sc\n",
    "import numpy as np\n",
    "import scipy.cluster\n",
    "from scipy import sparse\n",
    "from vitessce.data_utils import (\n",
    "    to_diamond,\n",
    "    rgb_img_to_ome_zarr,\n",
    "    optimize_adata,\n",
    "    to_dense,\n",
    "    VAR_CHUNK_SIZE,\n",
    ")\n",
    "from os.path import join"
   ]
  },
  {
   "cell_type": "code",
   "execution_count": 5,
   "id": "aae7b7e5-251a-42ce-8306-96baffeefebd",
   "metadata": {},
   "outputs": [],
   "source": [
    "output_img = join(\"processed_data\", \"human_lymph_node.ome.zarr\")\n",
    "output_adata = join(\"processed_data\", \"human_lymph_node.adata.zarr\")"
   ]
  },
  {
   "cell_type": "code",
   "execution_count": 8,
   "id": "8d760ad9-ac3f-4962-8a59-0f07b307cdae",
   "metadata": {},
   "outputs": [
    {
     "name": "stderr",
     "output_type": "stream",
     "text": [
      "/Users/mkeller/anaconda3/envs/vitessce-tutorial-env/lib/python3.8/site-packages/anndata/_core/anndata.py:1830: UserWarning: Variable names are not unique. To make them unique, call `.var_names_make_unique`.\n",
      "  utils.warn_names_duplicates(\"var\")\n",
      "/Users/mkeller/anaconda3/envs/vitessce-tutorial-env/lib/python3.8/site-packages/scanpy/preprocessing/_simple.py:251: ImplicitModificationWarning: Trying to modify attribute `.var` of view, initializing view as actual.\n",
      "  adata.var['n_cells'] = number\n"
     ]
    }
   ],
   "source": [
    "adata = sc.datasets.visium_sge(sample_id=\"V1_Human_Lymph_Node\", include_hires_tiff=True)\n",
    "\n",
    "# Reference: https://scanpy-tutorials.readthedocs.io/en/latest/spatial/basic-analysis.html\n",
    "# Calculate QC metrics\n",
    "adata.var_names_make_unique()\n",
    "adata.var[\"mt\"] = adata.var_names.str.startswith(\"MT-\")\n",
    "sc.pp.calculate_qc_metrics(adata, qc_vars=[\"mt\"], inplace=True)\n",
    "\n",
    "# Perform basic filtering\n",
    "sc.pp.filter_cells(adata, min_counts=5000)\n",
    "sc.pp.filter_cells(adata, max_counts=35000)\n",
    "adata = adata[adata.obs[\"pct_counts_mt\"] < 20]\n",
    "sc.pp.filter_genes(adata, min_cells=10)\n",
    "\n",
    "# Perform normalization\n",
    "sc.pp.normalize_total(adata, inplace=True)\n",
    "sc.pp.log1p(adata)\n",
    "# Determine the top 300 highly variable genes.\n",
    "sc.pp.highly_variable_genes(adata, flavor=\"seurat\", n_top_genes=300)\n",
    "\n",
    "# Dimensionality reduction and clustering\n",
    "sc.pp.pca(adata)\n",
    "sc.pp.neighbors(adata)\n",
    "sc.tl.umap(adata)\n",
    "sc.tl.leiden(adata, key_added=\"clusters\")\n",
    "\n",
    "# Hierarchical clustering of genes for optimal gene ordering\n",
    "X_hvg_arr = adata[:, adata.var['highly_variable']].X.toarray()\n",
    "X_hvg_index = adata[:, adata.var['highly_variable']].var.copy().index\n",
    "\n",
    "Z = scipy.cluster.hierarchy.linkage(X_hvg_arr.T, method=\"average\", optimal_ordering=True)\n",
    "\n",
    "# Get the hierarchy-based ordering of genes.\n",
    "num_cells = adata.obs.shape[0]\n",
    "highly_var_index_ordering = scipy.cluster.hierarchy.leaves_list(Z)\n",
    "highly_var_genes = X_hvg_index.values[highly_var_index_ordering].tolist()\n",
    "\n",
    "all_genes = adata.var.index.values.tolist()\n",
    "not_var_genes = adata.var.loc[~adata.var['highly_variable']].index.values.tolist()\n",
    "\n",
    "def get_orig_index(gene_id):\n",
    "    return all_genes.index(gene_id)\n",
    "\n",
    "var_index_ordering = list(map(get_orig_index, highly_var_genes)) + list(map(get_orig_index, not_var_genes))\n",
    "\n",
    "# Create a new *ordered* gene expression dataframe.\n",
    "adata = adata[:, var_index_ordering].copy()\n",
    "adata.obsm[\"X_hvg\"] = adata[:, adata.var['highly_variable']].X.copy()\n",
    "\n",
    "# Unclear what the exact scale factor is required to align\n",
    "# the spots to the image. Through trial and error / manual binary search\n",
    "# of values I arrived at:\n",
    "scale_factor = 1 / 5.87\n",
    "adata.obsm['spatial'] = (adata.obsm['spatial'] * scale_factor)\n",
    "\n",
    "adata.obsm['segmentations'] = np.zeros((num_cells, 4, 2))\n",
    "radius = 10\n",
    "for i in range(num_cells):\n",
    "    adata.obsm['segmentations'][i, :, :] = to_diamond(adata.obsm['spatial'][i, 0], adata.obsm['spatial'][i, 1], radius)\n",
    "\n",
    "# Write img_arr to OME-Zarr.\n",
    "# Need to convert images from interleaved to non-interleaved (color axis should be first).\n",
    "img_hires = adata.uns['spatial']['V1_Human_Lymph_Node']['images']['hires']\n",
    "img_arr = np.transpose(img_hires, (2, 0, 1))\n",
    "# Convert values from [0, 1] to [0, 255].\n",
    "img_arr *= 255.0\n",
    "\n",
    "rgb_img_to_ome_zarr(img_arr, output_img, axes=\"cyx\", chunks=(1, 256, 256), img_name=\"H & E Image\")\n",
    "adata = optimize_adata(\n",
    "    adata,\n",
    "    obs_cols=[\"clusters\"],\n",
    "    var_cols=[\"highly_variable\"],\n",
    "    obsm_keys=[\"X_hvg\", \"spatial\", \"segmentations\", \"X_umap\", \"X_pca\"],\n",
    "    optimize_X=True,\n",
    "    # Vitessce plays nicely with dense matrices saved with chunking\n",
    "    # and this one is small enough that dense is not a huge overhead.\n",
    "    to_dense_X=True,\n",
    ")\n",
    "adata.write_zarr(output_adata, chunks=[adata.shape[0], VAR_CHUNK_SIZE])"
   ]
  },
  {
   "cell_type": "code",
   "execution_count": null,
   "id": "859cd57e-e41e-4367-8af3-ea768e1b29ed",
   "metadata": {},
   "outputs": [],
   "source": []
  }
 ],
 "metadata": {
  "kernelspec": {
   "display_name": "Python 3 (ipykernel)",
   "language": "python",
   "name": "python3"
  },
  "language_info": {
   "codemirror_mode": {
    "name": "ipython",
    "version": 3
   },
   "file_extension": ".py",
   "mimetype": "text/x-python",
   "name": "python",
   "nbconvert_exporter": "python",
   "pygments_lexer": "ipython3",
   "version": "3.8.0"
  }
 },
 "nbformat": 4,
 "nbformat_minor": 5
}
