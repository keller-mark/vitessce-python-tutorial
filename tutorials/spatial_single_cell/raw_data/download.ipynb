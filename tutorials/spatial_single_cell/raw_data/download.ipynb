{
 "cells": [
  {
   "cell_type": "code",
   "execution_count": 7,
   "id": "c2096599-a74b-4b0d-ad8e-16aed7a77e42",
   "metadata": {},
   "outputs": [],
   "source": [
    "import scanpy as sc\n",
    "import numpy as np\n",
    "import scipy.cluster\n",
    "from scipy import sparse\n",
    "from skimage.draw import disk\n",
    "from tifffile import TiffWriter\n",
    "from vitessce.data_utils import (\n",
    "    to_diamond,\n",
    "    multiplex_img_to_ome_tiff,\n",
    "    rgb_img_to_ome_tiff,\n",
    "    optimize_adata,\n",
    "    to_dense,\n",
    "    VAR_CHUNK_SIZE,\n",
    "    sort_var_axis,\n",
    ")\n",
    "from os.path import join"
   ]
  },
  {
   "cell_type": "code",
   "execution_count": 2,
   "id": "894aa098-972d-4134-a4de-18680607a08a",
   "metadata": {},
   "outputs": [
    {
     "data": {
      "application/vnd.jupyter.widget-view+json": {
       "model_id": "651328ff5ca34253a1ba5f4a7af9c374",
       "version_major": 2,
       "version_minor": 0
      },
      "text/plain": [
       "  0%|          | 0.00/7.86M [00:00<?, ?B/s]"
      ]
     },
     "metadata": {},
     "output_type": "display_data"
    },
    {
     "data": {
      "application/vnd.jupyter.widget-view+json": {
       "model_id": "1627e585f9964e0db92506b34213d00a",
       "version_major": 2,
       "version_minor": 0
      },
      "text/plain": [
       "  0%|          | 0.00/29.3M [00:00<?, ?B/s]"
      ]
     },
     "metadata": {},
     "output_type": "display_data"
    },
    {
     "data": {
      "application/vnd.jupyter.widget-view+json": {
       "model_id": "d159adc19527450bb1af3c2ce75425ba",
       "version_major": 2,
       "version_minor": 0
      },
      "text/plain": [
       "  0%|          | 0.00/380M [00:00<?, ?B/s]"
      ]
     },
     "metadata": {},
     "output_type": "display_data"
    },
    {
     "name": "stderr",
     "output_type": "stream",
     "text": [
      "/Users/mkeller/anaconda3/envs/vitessce-tutorial-env/lib/python3.8/site-packages/anndata/_core/anndata.py:1830: UserWarning: Variable names are not unique. To make them unique, call `.var_names_make_unique`.\n",
      "  utils.warn_names_duplicates(\"var\")\n"
     ]
    }
   ],
   "source": [
    "adata = sc.datasets.visium_sge(sample_id=\"V1_Human_Lymph_Node\", include_hires_tiff=True)"
   ]
  },
  {
   "cell_type": "code",
   "execution_count": 3,
   "id": "b29f9bbc-c362-4bce-812f-433c773becc6",
   "metadata": {},
   "outputs": [
    {
     "name": "stderr",
     "output_type": "stream",
     "text": [
      "/Users/mkeller/anaconda3/envs/vitessce-tutorial-env/lib/python3.8/site-packages/scanpy/preprocessing/_simple.py:251: ImplicitModificationWarning: Trying to modify attribute `.var` of view, initializing view as actual.\n",
      "  adata.var['n_cells'] = number\n"
     ]
    }
   ],
   "source": [
    "# Reference: https://scanpy-tutorials.readthedocs.io/en/latest/spatial/basic-analysis.html\n",
    "# Calculate QC metrics\n",
    "adata.var_names_make_unique()\n",
    "adata.var[\"mt\"] = adata.var_names.str.startswith(\"MT-\")\n",
    "sc.pp.calculate_qc_metrics(adata, qc_vars=[\"mt\"], inplace=True)\n",
    "\n",
    "# Perform basic filtering\n",
    "sc.pp.filter_cells(adata, min_counts=5000)\n",
    "sc.pp.filter_cells(adata, max_counts=35000)\n",
    "adata = adata[adata.obs[\"pct_counts_mt\"] < 20]\n",
    "sc.pp.filter_genes(adata, min_cells=10)\n",
    "\n",
    "# Perform normalization\n",
    "sc.pp.normalize_total(adata, inplace=True)\n",
    "sc.pp.log1p(adata)\n",
    "# Determine the top 300 highly variable genes.\n",
    "sc.pp.highly_variable_genes(adata, flavor=\"seurat\", n_top_genes=300)\n",
    "\n",
    "# Dimensionality reduction and clustering\n",
    "sc.pp.pca(adata)\n",
    "sc.pp.neighbors(adata)\n",
    "sc.tl.umap(adata)\n",
    "sc.tl.leiden(adata, key_added=\"clusters\")\n"
   ]
  },
  {
   "cell_type": "code",
   "execution_count": 4,
   "id": "5e3fb884-bcd3-411e-b1bd-1eb032a28d12",
   "metadata": {},
   "outputs": [],
   "source": [
    "# Hierarchical clustering of genes for optimal gene ordering\n",
    "X_hvg_arr = adata[:, adata.var['highly_variable']].X.toarray()\n",
    "X_hvg_index = adata[:, adata.var['highly_variable']].var.copy().index\n",
    "\n",
    "Z = scipy.cluster.hierarchy.linkage(X_hvg_arr.T, method=\"average\", optimal_ordering=True)\n",
    "\n",
    "# Get the hierarchy-based ordering of genes.\n",
    "num_cells = adata.obs.shape[0]\n",
    "highly_var_index_ordering = scipy.cluster.hierarchy.leaves_list(Z)\n",
    "highly_var_genes = X_hvg_index.values[highly_var_index_ordering].tolist()\n",
    "\n",
    "all_genes = adata.var.index.values.tolist()\n",
    "not_var_genes = adata.var.loc[~adata.var['highly_variable']].index.values.tolist()\n",
    "\n",
    "def get_orig_index(gene_id):\n",
    "    return all_genes.index(gene_id)\n",
    "\n",
    "var_index_ordering = list(map(get_orig_index, highly_var_genes)) + list(map(get_orig_index, not_var_genes))\n",
    "\n",
    "# Create a new *ordered* gene expression dataframe.\n",
    "adata = adata[:, var_index_ordering].copy()\n",
    "adata.obsm[\"X_hvg\"] = adata[:, adata.var['highly_variable']].X.copy()"
   ]
  },
  {
   "cell_type": "code",
   "execution_count": 5,
   "id": "6d65e715-5fef-48f2-ae44-aea358485a0b",
   "metadata": {},
   "outputs": [],
   "source": [
    "adata.write_h5ad('human_lymph_node.h5ad')"
   ]
  },
  {
   "cell_type": "code",
   "execution_count": 10,
   "id": "b79094dc-6ead-4fd1-9dc6-ddee17070055",
   "metadata": {},
   "outputs": [],
   "source": [
    "img_arr = adata.uns['spatial']['V1_Human_Lymph_Node']['images']['hires']\n",
    "img_arr *= 255.0\n",
    "img_arr = img_arr.astype(np.dtype('uint8'))"
   ]
  },
  {
   "cell_type": "code",
   "execution_count": 11,
   "id": "28e39b6d-6fb2-4cfe-8ae2-89a390c8c1d8",
   "metadata": {},
   "outputs": [],
   "source": [
    "tiff_writer = TiffWriter('human_lymph_node.tiff')\n",
    "tiff_writer.write(\n",
    "    img_arr,\n",
    ")\n",
    "tiff_writer.close()"
   ]
  },
  {
   "cell_type": "code",
   "execution_count": null,
   "id": "767b2793-d868-4383-8fd1-d557ca4c10b0",
   "metadata": {},
   "outputs": [],
   "source": []
  }
 ],
 "metadata": {
  "kernelspec": {
   "display_name": "Python 3 (ipykernel)",
   "language": "python",
   "name": "python3"
  },
  "language_info": {
   "codemirror_mode": {
    "name": "ipython",
    "version": 3
   },
   "file_extension": ".py",
   "mimetype": "text/x-python",
   "name": "python",
   "nbconvert_exporter": "python",
   "pygments_lexer": "ipython3",
   "version": "3.8.0"
  }
 },
 "nbformat": 4,
 "nbformat_minor": 5
}
