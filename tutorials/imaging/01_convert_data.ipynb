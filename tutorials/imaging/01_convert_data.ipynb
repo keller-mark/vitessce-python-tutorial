{
 "cells": [
  {
   "cell_type": "code",
   "execution_count": 16,
   "id": "47c36ee0-0819-4964-8a09-a2dd3cabe4b6",
   "metadata": {},
   "outputs": [],
   "source": [
    "from tifffile import imread, TiffWriter\n",
    "from os.path import join"
   ]
  },
  {
   "cell_type": "markdown",
   "id": "1d62d030-f2bb-4e48-9bcf-d24dc306488b",
   "metadata": {
    "tags": []
   },
   "source": [
    "## Load the original TIFF (non-OME) using tifffile"
   ]
  },
  {
   "cell_type": "code",
   "execution_count": 17,
   "id": "642d5044-7bcc-45c2-a221-3bdcf2579471",
   "metadata": {},
   "outputs": [
    {
     "data": {
      "text/plain": [
       "(500, 750, 4)"
      ]
     },
     "execution_count": 17,
     "metadata": {},
     "output_type": "execute_result"
    }
   ],
   "source": [
    "img_arr = imread(join('raw_data', 'dog.tiff'))\n",
    "img_arr.shape"
   ]
  },
  {
   "cell_type": "markdown",
   "id": "10f35328-37e8-472e-ac71-b992e3f82b9a",
   "metadata": {},
   "source": [
    "## Transpose and select channels of interest using NumPy"
   ]
  },
  {
   "cell_type": "code",
   "execution_count": 18,
   "id": "fbb48f55-1d21-4409-9aec-3a1f8e2ae6e1",
   "metadata": {},
   "outputs": [
    {
     "data": {
      "text/plain": [
       "(4, 500, 750)"
      ]
     },
     "execution_count": 18,
     "metadata": {},
     "output_type": "execute_result"
    }
   ],
   "source": [
    "# Transpose so that the channel axis is first\n",
    "img_arr = img_arr.transpose((2, 0, 1))\n",
    "img_arr.shape"
   ]
  },
  {
   "cell_type": "code",
   "execution_count": 19,
   "id": "408fb0fa-38d4-4fc8-9a60-ae17e88ed544",
   "metadata": {},
   "outputs": [
    {
     "data": {
      "text/plain": [
       "(3, 500, 750)"
      ]
     },
     "execution_count": 19,
     "metadata": {},
     "output_type": "execute_result"
    }
   ],
   "source": [
    "# Discard the alpha channel (i.e., the A in RGBA)\n",
    "img_arr = img_arr[0:3, :, :]\n",
    "img_arr.shape"
   ]
  },
  {
   "cell_type": "markdown",
   "id": "2d211aaa-6b75-4507-94f9-004d491c2566",
   "metadata": {},
   "source": [
    "## Save as an OME-TIFF using tifffile"
   ]
  },
  {
   "cell_type": "code",
   "execution_count": 20,
   "id": "72ae6b3f-671c-49df-9cd8-f7931ccfe603",
   "metadata": {},
   "outputs": [],
   "source": [
    "tiff_writer = TiffWriter(join('processed_data', 'dog.ome.tif'), ome=True)\n",
    "tiff_writer.write(\n",
    "    img_arr,\n",
    "    metadata={\n",
    "        'axes': 'CYX',\n",
    "        'Channel': {'Name': ['R', 'G', 'B']},\n",
    "    }\n",
    ")\n",
    "tiff_writer.close()"
   ]
  },
  {
   "cell_type": "markdown",
   "id": "796a0b98-71de-4944-8235-2b9c428bd3d0",
   "metadata": {},
   "source": [
    "## Convert to a pyramidal OME-TIFF using bfconvert"
   ]
  },
  {
   "cell_type": "code",
   "execution_count": 21,
   "id": "9e5ac27c-8a57-42bd-af2d-4f3b848add8d",
   "metadata": {},
   "outputs": [
    {
     "name": "stdout",
     "output_type": "stream",
     "text": [
      "./processed_data/dog.ome.tif\n",
      "OMETiffReader initializing ./processed_data/dog.ome.tif\n",
      "Reading IFDs\n",
      "Populating metadata\n",
      "[OME-TIFF] -> ./processed_data/dog.pyramid.ome.tif [OME-TIFF]\n",
      "Tile size = 128 x 128\n",
      "\tConverted 3/3 planes (100%)\n",
      "Tile size = 128 x 128\n",
      "\tConverted 3/3 planes (100%)\n",
      "[done]\n",
      "1.194s elapsed (1.8333334+90.666664ms per plane, 610ms overhead)\n"
     ]
    }
   ],
   "source": [
    "!~/software/bftools/bfconvert -overwrite -tilex 128 -tiley 128 -pyramid-resolutions 2 -pyramid-scale 2 -compression LZW ./processed_data/dog.ome.tif ./processed_data/dog.pyramid.ome.tif\n",
    "# For larger images:\n",
    "# !~/software/bftools/bfconvert -tilex 512 -tiley 512 -pyramid-resolutions 6 -pyramid-scale 2 -compression LZW ./processed_data/dog.ome.tif ./processed_data/dog.pyramid.ome.tif"
   ]
  },
  {
   "cell_type": "code",
   "execution_count": null,
   "id": "fffa713e-b299-44f6-933e-330dc7aa72f6",
   "metadata": {},
   "outputs": [],
   "source": []
  },
  {
   "cell_type": "code",
   "execution_count": null,
   "id": "c80d060d",
   "metadata": {},
   "outputs": [],
   "source": []
  },
  {
   "cell_type": "code",
   "execution_count": null,
   "id": "7fa83b8f",
   "metadata": {},
   "outputs": [],
   "source": []
  }
 ],
 "metadata": {
  "kernelspec": {
   "display_name": "Python 3 (ipykernel)",
   "language": "python",
   "name": "python3"
  },
  "language_info": {
   "codemirror_mode": {
    "name": "ipython",
    "version": 3
   },
   "file_extension": ".py",
   "mimetype": "text/x-python",
   "name": "python",
   "nbconvert_exporter": "python",
   "pygments_lexer": "ipython3",
   "version": "3.8.0"
  }
 },
 "nbformat": 4,
 "nbformat_minor": 5
}
