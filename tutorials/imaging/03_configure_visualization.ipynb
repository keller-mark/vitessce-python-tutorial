{
 "cells": [
  {
   "cell_type": "markdown",
   "id": "428698a0-4842-481a-851d-abb531889497",
   "metadata": {},
   "source": [
    "# Configure visualization with OME-TIFF"
   ]
  },
  {
   "cell_type": "markdown",
   "id": "f8e206a6-2ccf-48f2-9a0a-d682dad459d4",
   "metadata": {},
   "source": [
    "In this notebook, we configure Vitessce to load the pyramidal OME-TIFF that we created in the previous notebook."
   ]
  },
  {
   "cell_type": "code",
   "execution_count": 18,
   "id": "61d8be7a-8a7b-4369-8be7-84dc1d48837f",
   "metadata": {},
   "outputs": [],
   "source": [
    "from vitessce import (\n",
    "    VitessceConfig,\n",
    "    ViewType as vt,\n",
    "    CoordinationType as ct,\n",
    "    FileType as ft,\n",
    "    MultiImageWrapper,\n",
    "    OmeTiffWrapper,\n",
    ")\n",
    "from os.path import join"
   ]
  },
  {
   "cell_type": "code",
   "execution_count": 19,
   "id": "b2d4440d-5829-481d-85f4-7b6d81ca6daf",
   "metadata": {},
   "outputs": [],
   "source": [
    "vc = VitessceConfig(schema_version=\"1.0.15\", name='Dog')"
   ]
  },
  {
   "cell_type": "markdown",
   "id": "8e973285-0346-4e2b-ba83-729f66c2095e",
   "metadata": {},
   "source": [
    "## Add data"
   ]
  },
  {
   "cell_type": "markdown",
   "id": "98c1cbb4-76da-4746-9367-cf8d3009101d",
   "metadata": {},
   "source": [
    "In the following code, we use the `OmeTiffWrapper` class to add a data object that represents a local OME-TIFF image file. We can provide a `name` for the image, which will be used as a label for the image in the layer controller view."
   ]
  },
  {
   "cell_type": "code",
   "execution_count": 20,
   "id": "78c895ca-ab51-461d-b4da-c0d3390cc82d",
   "metadata": {},
   "outputs": [],
   "source": [
    "dataset = vc.add_dataset(name='Brain').add_object(\n",
    "    OmeTiffWrapper(img_path=join('processed_data', 'dog.pyramid.ome.tif'), name='Dog')\n",
    ")"
   ]
  },
  {
   "cell_type": "markdown",
   "id": "461d522f-9f9f-4661-a249-af7c237a3feb",
   "metadata": {},
   "source": [
    "Typically, when visualizing an image using Vitessce, you will want to add the `SPATIAL` and `LAYER_CONTROLLER` views."
   ]
  },
  {
   "cell_type": "code",
   "execution_count": 21,
   "id": "5875ec24-7f2e-4276-ae4b-1ef1780707d0",
   "metadata": {},
   "outputs": [],
   "source": [
    "spatial = vc.add_view(vt.SPATIAL, dataset=dataset)\n",
    "status = vc.add_view(vt.STATUS, dataset=dataset)\n",
    "# Try changing the prop below to False\n",
    "lc = vc.add_view(vt.LAYER_CONTROLLER, dataset=dataset).set_props(disableChannelsIfRgbDetected=True)\n",
    "vc.layout(spatial | (lc / status));"
   ]
  },
  {
   "cell_type": "code",
   "execution_count": 22,
   "id": "9c217618-0659-499a-9c9a-a0d9574dded1",
   "metadata": {},
   "outputs": [
    {
     "data": {
      "application/vnd.jupyter.widget-view+json": {
       "model_id": "9276f413ad6b4cd5a6e634f52ca64aba",
       "version_major": 2,
       "version_minor": 0
      },
      "text/plain": [
       "VitessceWidget(config={'version': '1.0.15', 'name': 'Dog', 'description': '', 'datasets': [{'uid': 'A', 'name'…"
      ]
     },
     "execution_count": 22,
     "metadata": {},
     "output_type": "execute_result"
    }
   ],
   "source": [
    "vw = vc.widget()\n",
    "vw"
   ]
  },
  {
   "cell_type": "code",
   "execution_count": null,
   "id": "dba9075e-753f-47d2-98d1-57bc24b81333",
   "metadata": {},
   "outputs": [],
   "source": []
  }
 ],
 "metadata": {
  "kernelspec": {
   "display_name": "Python 3 (ipykernel)",
   "language": "python",
   "name": "python3"
  },
  "language_info": {
   "codemirror_mode": {
    "name": "ipython",
    "version": 3
   },
   "file_extension": ".py",
   "mimetype": "text/x-python",
   "name": "python",
   "nbconvert_exporter": "python",
   "pygments_lexer": "ipython3",
   "version": "3.8.0"
  }
 },
 "nbformat": 4,
 "nbformat_minor": 5
}
