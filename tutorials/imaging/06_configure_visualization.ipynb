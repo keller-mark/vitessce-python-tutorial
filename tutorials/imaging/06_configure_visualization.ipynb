{
 "cells": [
  {
   "cell_type": "markdown",
   "id": "b17b89c2-b996-4a9e-bce7-61f90d00b756",
   "metadata": {},
   "source": [
    "# Configure visualization with OME-NGFF"
   ]
  },
  {
   "cell_type": "markdown",
   "id": "7ed621d4-9f43-4663-9391-0944755a1b15",
   "metadata": {},
   "source": [
    "This notebook only differs from the previous `03_configure_visualization.ipynb` notebook in its import statements and __Add data__ section."
   ]
  },
  {
   "cell_type": "code",
   "execution_count": 20,
   "id": "61d8be7a-8a7b-4369-8be7-84dc1d48837f",
   "metadata": {},
   "outputs": [],
   "source": [
    "from vitessce import (\n",
    "    VitessceConfig,\n",
    "    ViewType as vt,\n",
    "    CoordinationType as ct,\n",
    "    FileType as ft,\n",
    "    OmeZarrWrapper,\n",
    ")\n",
    "from os.path import join"
   ]
  },
  {
   "cell_type": "code",
   "execution_count": 21,
   "id": "b2d4440d-5829-481d-85f4-7b6d81ca6daf",
   "metadata": {},
   "outputs": [],
   "source": [
    "vc = VitessceConfig(schema_version=\"1.0.15\", name='Dog')"
   ]
  },
  {
   "cell_type": "markdown",
   "id": "5e61bf7a-2ded-48ea-ab05-b4097eba8854",
   "metadata": {},
   "source": [
    "## Add data"
   ]
  },
  {
   "cell_type": "markdown",
   "id": "4cb4ebb2-4582-4e4a-85dd-bac43fadc841",
   "metadata": {},
   "source": [
    "In the following code, we use the `OmeZarrWrapper` class (rather than `OmeTiffWrapper`) to point to a local OME-NGFF image saved to a Zarr store. This is the file that was generated in the previous notebook."
   ]
  },
  {
   "cell_type": "code",
   "execution_count": 22,
   "id": "78c895ca-ab51-461d-b4da-c0d3390cc82d",
   "metadata": {},
   "outputs": [],
   "source": [
    "dataset = vc.add_dataset(name='Brain').add_object(\n",
    "    OmeZarrWrapper(img_path=join('processed_data', 'dog.ome.zarr'))\n",
    ")"
   ]
  },
  {
   "cell_type": "code",
   "execution_count": 23,
   "id": "5875ec24-7f2e-4276-ae4b-1ef1780707d0",
   "metadata": {},
   "outputs": [],
   "source": [
    "spatial = vc.add_view(vt.SPATIAL, dataset=dataset)\n",
    "status = vc.add_view(vt.STATUS, dataset=dataset)\n",
    "# Try changing the prop below to False\n",
    "lc = vc.add_view(vt.LAYER_CONTROLLER, dataset=dataset).set_props(disableChannelsIfRgbDetected=True)\n",
    "vc.layout(spatial | (lc / status));"
   ]
  },
  {
   "cell_type": "code",
   "execution_count": 24,
   "id": "9c217618-0659-499a-9c9a-a0d9574dded1",
   "metadata": {},
   "outputs": [
    {
     "data": {
      "application/vnd.jupyter.widget-view+json": {
       "model_id": "1a1301738a114e93a1a05196c13d78ec",
       "version_major": 2,
       "version_minor": 0
      },
      "text/plain": [
       "VitessceWidget(config={'version': '1.0.15', 'name': 'Dog', 'description': '', 'datasets': [{'uid': 'A', 'name'…"
      ]
     },
     "execution_count": 24,
     "metadata": {},
     "output_type": "execute_result"
    }
   ],
   "source": [
    "vw = vc.widget()\n",
    "vw"
   ]
  },
  {
   "cell_type": "code",
   "execution_count": null,
   "id": "dba9075e-753f-47d2-98d1-57bc24b81333",
   "metadata": {},
   "outputs": [],
   "source": []
  },
  {
   "cell_type": "code",
   "execution_count": null,
   "id": "52c5fdae-bf0c-441b-8386-72b3a36b1a60",
   "metadata": {},
   "outputs": [],
   "source": []
  }
 ],
 "metadata": {
  "kernelspec": {
   "display_name": "Python 3 (ipykernel)",
   "language": "python",
   "name": "python3"
  },
  "language_info": {
   "codemirror_mode": {
    "name": "ipython",
    "version": 3
   },
   "file_extension": ".py",
   "mimetype": "text/x-python",
   "name": "python",
   "nbconvert_exporter": "python",
   "pygments_lexer": "ipython3",
   "version": "3.8.0"
  }
 },
 "nbformat": 4,
 "nbformat_minor": 5
}
