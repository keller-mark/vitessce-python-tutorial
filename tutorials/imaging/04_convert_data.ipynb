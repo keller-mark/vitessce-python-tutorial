{
 "cells": [
  {
   "cell_type": "markdown",
   "id": "5e62cae3-e243-473e-98a4-4feaf65c5fed",
   "metadata": {},
   "source": [
    "# Convert TIFF to OME-NGFF"
   ]
  },
  {
   "cell_type": "code",
   "execution_count": 4,
   "id": "0336c0db-211e-419d-91c1-893ee4b22220",
   "metadata": {},
   "outputs": [],
   "source": [
    "from tifffile import imread\n",
    "from os.path import join\n",
    "from vitessce.data_utils import rgb_img_to_ome_zarr"
   ]
  },
  {
   "cell_type": "markdown",
   "id": "b3b56c39-cce9-4199-bcfe-b703f134a3c1",
   "metadata": {
    "tags": []
   },
   "source": [
    "## Load the original TIFF"
   ]
  },
  {
   "cell_type": "code",
   "execution_count": 5,
   "id": "500e9370-f854-406b-bde3-b9c63b617912",
   "metadata": {},
   "outputs": [
    {
     "data": {
      "text/plain": [
       "(500, 750, 4)"
      ]
     },
     "execution_count": 5,
     "metadata": {},
     "output_type": "execute_result"
    }
   ],
   "source": [
    "img_arr = imread(join('raw_data', 'dog.tiff'))\n",
    "img_arr.shape"
   ]
  },
  {
   "cell_type": "markdown",
   "id": "4f709bf4-4338-4bd3-aece-e6a67b1c0476",
   "metadata": {},
   "source": [
    "## Transpose and select channels of interest"
   ]
  },
  {
   "cell_type": "code",
   "execution_count": 6,
   "id": "8e3476a6-2535-4e87-a4e0-ac8137685f47",
   "metadata": {},
   "outputs": [
    {
     "data": {
      "text/plain": [
       "(4, 500, 750)"
      ]
     },
     "execution_count": 6,
     "metadata": {},
     "output_type": "execute_result"
    }
   ],
   "source": [
    "# Transpose so that the channel axis is first\n",
    "img_arr = img_arr.transpose((2, 0, 1))\n",
    "img_arr.shape"
   ]
  },
  {
   "cell_type": "code",
   "execution_count": 7,
   "id": "8c29a6b4-65e7-4075-a7ec-4031f4659662",
   "metadata": {},
   "outputs": [
    {
     "data": {
      "text/plain": [
       "(3, 500, 750)"
      ]
     },
     "execution_count": 7,
     "metadata": {},
     "output_type": "execute_result"
    }
   ],
   "source": [
    "# Discard the alpha channel (i.e., the A in RGBA)\n",
    "img_arr = img_arr[0:3, :, :]\n",
    "img_arr.shape"
   ]
  },
  {
   "cell_type": "markdown",
   "id": "5ad9c1cc-0615-4e9f-8d79-e9caaff6477c",
   "metadata": {},
   "source": [
    "## Save as an OME-NGFF"
   ]
  },
  {
   "cell_type": "markdown",
   "id": "49c1dcf1-6249-4da6-b214-79a6e497a4ac",
   "metadata": {},
   "source": [
    "In this case, the image is RGB so we use `rgb_img_to_ome_zarr`. For multiplexed images, see [multiplex_img_to_ome_zarr](https://vitessce.github.io/vitessce-python/api_data.html#vitessce.data_utils.ome.multiplex_img_to_ome_zarr)."
   ]
  },
  {
   "cell_type": "code",
   "execution_count": 8,
   "id": "c0f91820-6104-41dd-a8d2-b8ae4d6acb4b",
   "metadata": {},
   "outputs": [],
   "source": [
    "rgb_img_to_ome_zarr(\n",
    "    img_arr,\n",
    "    output_path=join('processed_data', 'dog.ome.zarr'),\n",
    "    img_name='Dog',\n",
    "    axes=\"cyx\",\n",
    ")"
   ]
  },
  {
   "cell_type": "code",
   "execution_count": null,
   "id": "2ab07fc3-6df3-4402-a182-cc3d7f2c7343",
   "metadata": {},
   "outputs": [],
   "source": []
  }
 ],
 "metadata": {
  "kernelspec": {
   "display_name": "Python 3 (ipykernel)",
   "language": "python",
   "name": "python3"
  },
  "language_info": {
   "codemirror_mode": {
    "name": "ipython",
    "version": 3
   },
   "file_extension": ".py",
   "mimetype": "text/x-python",
   "name": "python",
   "nbconvert_exporter": "python",
   "pygments_lexer": "ipython3",
   "version": "3.8.0"
  }
 },
 "nbformat": 4,
 "nbformat_minor": 5
}
